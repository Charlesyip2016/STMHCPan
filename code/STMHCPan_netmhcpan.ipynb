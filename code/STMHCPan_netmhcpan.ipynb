{
 "cells": [
  {
   "cell_type": "code",
   "execution_count": 1,
   "id": "8caaa373",
   "metadata": {},
   "outputs": [],
   "source": [
    "import math\n",
    "from sklearn import metrics\n",
    "from sklearn import preprocessing\n",
    "import matplotlib.pyplot as plt\n",
    "import numpy as np\n",
    "import pandas as pd\n",
    "import re\n",
    "import time\n",
    "import datetime\n",
    "import random\n",
    "random.seed(1234)\n",
    "\n",
    "from scipy import interp\n",
    "import warnings\n",
    "warnings.filterwarnings(\"ignore\")\n",
    "\n",
    "from collections import Counter\n",
    "from functools import reduce\n",
    "from tqdm import tqdm, trange\n",
    "from copy import deepcopy\n",
    "\n",
    "from sklearn.metrics import confusion_matrix\n",
    "from sklearn.metrics import roc_auc_score, auc\n",
    "from sklearn.metrics import precision_recall_fscore_support\n",
    "from sklearn.metrics import precision_recall_curve\n",
    "from sklearn.metrics import classification_report\n",
    "from sklearn.utils import class_weight\n",
    "\n",
    "import os\n",
    "import torch\n",
    "import torch.nn as nn\n",
    "from torch.nn import functional as F\n",
    "import torch.optim as optim\n",
    "import torch.utils.data as Data\n",
    "os.environ['CUDA_VISIBLE_DEVICES'] = '0'"
   ]
  },
  {
   "cell_type": "code",
   "execution_count": 2,
   "id": "1c48e407",
   "metadata": {},
   "outputs": [],
   "source": [
    "seed = 2022\n",
    "random.seed(seed)\n",
    "np.random.seed(seed)\n",
    "torch.manual_seed(seed)\n",
    "torch.cuda.manual_seed(seed)\n",
    "torch.cuda.manual_seed_all(seed)\n",
    "torch.backends.cudnn.benchmark = False\n",
    "torch.backends.cudnn.deterministic = True"
   ]
  },
  {
   "cell_type": "code",
   "execution_count": 3,
   "id": "5a85d98f",
   "metadata": {},
   "outputs": [],
   "source": [
    "hla_sequence = pd.read_csv('../data/other/HLAI_pseudosequences_34mer.csv')"
   ]
  },
  {
   "cell_type": "code",
   "execution_count": 79,
   "id": "d2cd8437",
   "metadata": {},
   "outputs": [],
   "source": [
    "def make_data(data):\n",
    "    pep_inputs, hla_inputs, labels = [], [], []\n",
    "    pep_lens = []\n",
    "    for pep, hla, label in zip(data.peptide, data.HLA_sequence, data.label):\n",
    "#         pep_lens.append(len(pep)+34)\n",
    "        pep_lens.append(49)\n",
    "        pep, hla = pep.ljust(pep_max_len, '-'), hla.ljust(hla_max_len, '-')\n",
    "        pep_input = [[vocab[n] for n in pep]] # [[1, 2, 3, 4, 0], [1, 2, 3, 5, 0]]\n",
    "        hla_input = [[vocab[n] for n in hla]]\n",
    "        pep_inputs.extend(pep_input)\n",
    "        hla_inputs.extend(hla_input)\n",
    "        labels.append(label)\n",
    "    return torch.LongTensor(pep_inputs), torch.LongTensor(hla_inputs), torch.LongTensor(labels), torch.LongTensor(pep_lens)\n",
    "\n",
    "class MyDataSet(Data.Dataset):\n",
    "    def __init__(self, pep_inputs, hla_inputs, labels, pep_lens):\n",
    "        super(MyDataSet, self).__init__()\n",
    "        self.pep_inputs = pep_inputs\n",
    "        self.hla_inputs = hla_inputs\n",
    "        self.labels = labels\n",
    "        self.pep_lens = pep_lens\n",
    "\n",
    "    def __len__(self): # 样本数\n",
    "        return self.pep_inputs.shape[0] # 改成hla_inputs也可以哦！\n",
    "\n",
    "    def __getitem__(self, idx):\n",
    "#         return self.pep_inputs[idx], self.hla_inputs[idx], self.labels[idx],self.pep_lens[idx]\n",
    "        return torch.cat((self.hla_inputs[idx],self.pep_inputs[idx]), dim=0), self.labels[idx], self.pep_lens[idx]\n",
    "\n",
    "def seq_len_to_mask(seq_len, max_len=49): #50\n",
    "    r\"\"\"\n",
    "    将一个表示sequence length的一维数组转换为二维的mask，不包含的位置为0。\n",
    "    转变 1-d seq_len到2-d mask.\n",
    "    .. code-block::\n",
    "    \n",
    "        >>> seq_len = torch.arange(2, 16)\n",
    "        >>> mask = seq_len_to_mask(seq_len)\n",
    "        >>> print(mask.size())\n",
    "        torch.Size([14, 15])\n",
    "        >>> seq_len = np.arange(2, 16)\n",
    "        >>> mask = seq_len_to_mask(seq_len)\n",
    "        >>> print(mask.shape)\n",
    "        (14, 15)\n",
    "        >>> seq_len = torch.arange(2, 16)\n",
    "        >>> mask = seq_len_to_mask(seq_len, max_len=100)\n",
    "        >>>print(mask.size())\n",
    "        torch.Size([14, 100])\n",
    "    :param np.ndarray,torch.LongTensor seq_len: shape将是(B,)\n",
    "    :param int max_len: 将长度pad到这个长度。默认(None)使用的是seq_len中最长的长度。但在nn.DataParallel的场景下可能不同卡的seq_len会有\n",
    "        区别，所以需要传入一个max_len使得mask的长度是pad到该长度。\n",
    "    :return: np.ndarray, torch.Tensor 。shape将是(B, max_length)， 元素类似为bool或torch.uint8\n",
    "    \"\"\"\n",
    "    if isinstance(seq_len, np.ndarray):\n",
    "        assert len(np.shape(seq_len)) == 1, f\"seq_len can only have one dimension, got {len(np.shape(seq_len))}.\"\n",
    "        max_len = int(max_len) if max_len else int(seq_len.max())\n",
    "        broad_cast_seq_len = np.tile(np.arange(max_len), (len(seq_len), 1))\n",
    "        mask = broad_cast_seq_len < seq_len.reshape(-1, 1)\n",
    "\n",
    "    elif isinstance(seq_len, torch.Tensor):\n",
    "        assert seq_len.dim() == 1, f\"seq_len can only have one dimension, got {seq_len.dim() == 1}.\"\n",
    "        batch_size = seq_len.size(0)\n",
    "        max_len = int(max_len) if max_len else seq_len.max().long()\n",
    "        broad_cast_seq_len = torch.arange(max_len).expand(batch_size, -1).to(seq_len)\n",
    "        mask = broad_cast_seq_len.lt(seq_len.unsqueeze(1))\n",
    "    else:\n",
    "        raise TypeError(\"Only support 1-d numpy.ndarray or 1-d torch.Tensor.\")\n",
    "\n",
    "    return mask\n",
    "\n",
    "def get_embeddings(init_embed, padding_idx=None):\n",
    "    r\"\"\"\n",
    "    根据输入的init_embed返回Embedding对象。如果输入是tuple, 则随机初始化一个nn.Embedding; 如果输入是numpy.ndarray, 则按照ndarray\n",
    "    的值将nn.Embedding初始化; 如果输入是torch.Tensor, 则按该值初始化nn.Embedding; 如果输入是fastNLP中的embedding将不做处理\n",
    "    返回原对象。\n",
    "    :param init_embed: 可以是 tuple:(num_embedings, embedding_dim), 即embedding的大小和每个词的维度;也可以传入\n",
    "        nn.Embedding 对象, 此时就以传入的对象作为embedding; 传入np.ndarray也行，将使用传入的ndarray作为作为Embedding初始化;\n",
    "        传入torch.Tensor, 将使用传入的值作为Embedding初始化。\n",
    "    :param padding_idx: 当传入tuple时，padding_idx有效\n",
    "    :return nn.Embedding:  embeddings\n",
    "    \"\"\"\n",
    "    if isinstance(init_embed, tuple):\n",
    "        res = nn.Embedding(num_embeddings=init_embed[0], embedding_dim=init_embed[1], padding_idx=padding_idx)\n",
    "#         nn.init.uniform_(res.weight.data, a=-np.sqrt(3 / res.weight.data.size(1)),\n",
    "#                          b=np.sqrt(3 / res.weight.data.size(1)))\n",
    "    elif isinstance(init_embed, nn.Module):\n",
    "        res = init_embed\n",
    "    elif isinstance(init_embed, torch.Tensor):\n",
    "        res = nn.Embedding.from_pretrained(init_embed, freeze=False)\n",
    "    elif isinstance(init_embed, np.ndarray):\n",
    "        init_embed = torch.tensor(init_embed, dtype=torch.float32)\n",
    "        res = nn.Embedding.from_pretrained(init_embed, freeze=False)\n",
    "    else:\n",
    "        raise TypeError(\n",
    "            'invalid init_embed type: {}'.format((type(init_embed))))\n",
    "    return res"
   ]
  },
  {
   "cell_type": "code",
   "execution_count": 139,
   "id": "b50f59ff",
   "metadata": {},
   "outputs": [],
   "source": [
    "\n",
    "class StarTransformer(nn.Module):\n",
    "    r\"\"\"\n",
    "    Star-Transformer 的encoder部分。 输入3d的文本输入, 返回相同长度的文本编码\n",
    "    paper: https://arxiv.org/abs/1902.09113\n",
    "    \"\"\"\n",
    "\n",
    "    def __init__(self, hidden_size, num_layers, num_head, head_dim, dropout=0.1, max_len=None):\n",
    "        r\"\"\"\n",
    "        \n",
    "        :param int hidden_size: 输入维度的大小。同时也是输出维度的大小。\n",
    "        :param int num_layers: star-transformer的层数\n",
    "        :param int num_head: head的数量。\n",
    "        :param int head_dim: 每个head的维度大小。\n",
    "        :param float dropout: dropout 概率. Default: 0.1\n",
    "        :param int max_len: int or None, 如果为int，输入序列的最大长度，\n",
    "            模型会为输入序列加上position embedding。\n",
    "            若为`None`，忽略加上position embedding的步骤. Default: `None`\n",
    "        \"\"\"\n",
    "        super(StarTransformer, self).__init__()\n",
    "        self.iters = num_layers\n",
    "\n",
    "        self.norm = nn.ModuleList([nn.LayerNorm(hidden_size, eps=1e-6) for _ in range(self.iters)])\n",
    "        # self.emb_fc = nn.Conv2d(hidden_size, hidden_size, 1)\n",
    "        self.emb_drop = nn.Dropout(dropout)\n",
    "        self.ring_att = nn.ModuleList(\n",
    "            [_MSA1(hidden_size, nhead=num_head, head_dim=head_dim, dropout=0.0)\n",
    "             for _ in range(self.iters)])\n",
    "        self.star_att = nn.ModuleList(\n",
    "            [_MSA2(hidden_size, nhead=num_head, head_dim=head_dim, dropout=0.0)\n",
    "             for _ in range(self.iters)])\n",
    "\n",
    "        if max_len is not None:\n",
    "            self.pos_emb = nn.Embedding(max_len, hidden_size)\n",
    "        else:\n",
    "            self.pos_emb = None\n",
    "\n",
    "    def forward(self, data, mask):\n",
    "        r\"\"\"\n",
    "        :param FloatTensor data: [batch, length, hidden] 输入的序列\n",
    "        :param ByteTensor mask: [batch, length] 输入序列的padding mask, 在没有内容(padding 部分) 为 0,\n",
    "            否则为 1\n",
    "        :return: [batch, length, hidden] 编码后的输出序列\n",
    "                [batch, hidden] 全局 relay 节点, 详见论文\n",
    "        \"\"\"\n",
    "\n",
    "        def norm_func(f, x):\n",
    "            # B, H, L, 1\n",
    "            return f(x.permute(0, 2, 3, 1)).permute(0, 3, 1, 2)\n",
    "\n",
    "        B, L, H = data.size()\n",
    "        mask = (mask.eq(False))  # flip the mask for masked_fill_\n",
    "        smask = torch.cat([torch.zeros(B, 1, ).byte().to(mask), mask], 1)\n",
    "\n",
    "        embs = data.permute(0, 2, 1)[:, :, :, None]  # B H L 1\n",
    "        if self.pos_emb:\n",
    "            P = self.pos_emb(torch.arange(L, dtype=torch.long, device=embs.device) \\\n",
    "                             .view(1, L)).permute(0, 2, 1).contiguous()[:, :, :, None]  # 1 H L 1\n",
    "            embs = embs + P\n",
    "        embs = norm_func(self.emb_drop, embs)\n",
    "        nodes = embs\n",
    "        relay = embs.mean(2, keepdim=True)\n",
    "        ex_mask = mask[:, None, :, None].expand(B, H, L, 1)\n",
    "        r_embs = embs.view(B, H, 1, L)\n",
    "#         nodes_attns = []\n",
    "#         relays_attns = []\n",
    "        for i in range(self.iters):\n",
    "            ax = torch.cat([r_embs, relay.expand(B, H, 1, L)], 2)\n",
    "            nodes = F.leaky_relu(self.ring_att[i](norm_func(self.norm[i], nodes), ax=ax))\n",
    "            # nodes = F.leaky_relu(self.ring_att[i](nodes, ax=ax))\n",
    "#             nodes_attns.append(nodes_att)\n",
    "            relay = F.leaky_relu(self.star_att[i](relay, torch.cat([relay, nodes], 2), smask))\n",
    "#             relays_attns.append(relay_att)\n",
    "            nodes = nodes.masked_fill_(ex_mask, 0)\n",
    "\n",
    "        nodes = nodes.view(B, H, L).permute(0, 2, 1)\n",
    "\n",
    "        return nodes, relay.view(B, H)#, nodes_attns, relays_attns\n",
    "\n",
    "\n",
    "class _MSA1(nn.Module):\n",
    "    def __init__(self, nhid, nhead=10, head_dim=10, dropout=0.1):\n",
    "        super(_MSA1, self).__init__()\n",
    "        # Multi-head Self Attention Case 1, doing self-attention for small regions\n",
    "        # Due to the architecture of GPU, using hadamard production and summation are faster than dot production when unfold_size is very small\n",
    "        self.WQ = nn.Conv2d(nhid, nhead * head_dim, 1)\n",
    "        self.WK = nn.Conv2d(nhid, nhead * head_dim, 1)\n",
    "        self.WV = nn.Conv2d(nhid, nhead * head_dim, 1)\n",
    "        self.WO = nn.Conv2d(nhead * head_dim, nhid, 1)\n",
    "\n",
    "        self.drop = nn.Dropout(dropout)\n",
    "\n",
    "        self.nhid, self.nhead, self.head_dim, self.unfold_size = nhid, nhead, head_dim, 3\n",
    "\n",
    "    def forward(self, x, ax=None):\n",
    "        # x: B, H, L, 1, ax : B, H, X, L append features\n",
    "        nhid, nhead, head_dim, unfold_size = self.nhid, self.nhead, self.head_dim, self.unfold_size\n",
    "        B, H, L, _ = x.shape\n",
    "\n",
    "        q, k, v = self.WQ(x), self.WK(x), self.WV(x)  # x: (B,H,L,1)\n",
    "\n",
    "        if ax is not None:\n",
    "            aL = ax.shape[2]\n",
    "            ak = self.WK(ax).view(B, nhead, head_dim, aL, L)\n",
    "            av = self.WV(ax).view(B, nhead, head_dim, aL, L)\n",
    "        q = q.view(B, nhead, head_dim, 1, L)\n",
    "        k = F.unfold(k.view(B, nhead * head_dim, L, 1), (unfold_size, 1), padding=(unfold_size // 2, 0)) \\\n",
    "            .view(B, nhead, head_dim, unfold_size, L)\n",
    "        v = F.unfold(v.view(B, nhead * head_dim, L, 1), (unfold_size, 1), padding=(unfold_size // 2, 0)) \\\n",
    "            .view(B, nhead, head_dim, unfold_size, L)\n",
    "        if ax is not None:\n",
    "            k = torch.cat([k, ak], 3)\n",
    "            v = torch.cat([v, av], 3)\n",
    "\n",
    "        alphas = self.drop(F.softmax((q * k).sum(2, keepdim=True) / np.sqrt(head_dim), 3))  # B N L 1 U\n",
    "        att = (alphas * v).sum(3).view(B, nhead * head_dim, L, 1)\n",
    "\n",
    "        ret = self.WO(att)\n",
    "\n",
    "        return ret #,alphas\n",
    "\n",
    "\n",
    "class _MSA2(nn.Module):\n",
    "    def __init__(self, nhid, nhead=10, head_dim=10, dropout=0.1):\n",
    "        # Multi-head Self Attention Case 2, a broadcastable query for a sequence key and value\n",
    "        super(_MSA2, self).__init__()\n",
    "        self.WQ = nn.Conv2d(nhid, nhead * head_dim, 1)\n",
    "        self.WK = nn.Conv2d(nhid, nhead * head_dim, 1)\n",
    "        self.WV = nn.Conv2d(nhid, nhead * head_dim, 1)\n",
    "        self.WO = nn.Conv2d(nhead * head_dim, nhid, 1)\n",
    "\n",
    "        self.drop = nn.Dropout(dropout)\n",
    "\n",
    "        self.nhid, self.nhead, self.head_dim, self.unfold_size = nhid, nhead, head_dim, 3\n",
    "    def forward(self, x, y, mask=None):\n",
    "        # x: B, H, 1, 1, 1 y: B H L 1\n",
    "        nhid, nhead, head_dim, unfold_size = self.nhid, self.nhead, self.head_dim, self.unfold_size\n",
    "        B, H, L, _ = y.shape\n",
    "\n",
    "        q, k, v = self.WQ(x), self.WK(y), self.WV(y)\n",
    "\n",
    "        q = q.view(B, nhead, 1, head_dim)  # B, H, 1, 1 -> B, N, 1, h\n",
    "        k = k.view(B, nhead, head_dim, L)  # B, H, L, 1 -> B, N, h, L\n",
    "        v = v.view(B, nhead, head_dim, L).permute(0, 1, 3, 2)  # B, H, L, 1 -> B, N, L, h\n",
    "        pre_a = torch.matmul(q, k) / np.sqrt(head_dim)\n",
    "        if mask is not None:\n",
    "            pre_a = pre_a.masked_fill(mask[:, None, None, :], -float('inf'))\n",
    "        alphas = self.drop(F.softmax(pre_a, 3))  # B, N, 1, L\n",
    "        att = torch.matmul(alphas, v).view(B, -1, 1, 1)  # B, N, 1, h -> B, N*h, 1, 1\n",
    "        return self.WO(att) #,alphas\n",
    "    \n",
    "class StarTransEnc(nn.Module):\n",
    "    r\"\"\"\n",
    "    带word embedding的Star-Transformer Encoder\n",
    "    \"\"\"\n",
    "\n",
    "    def __init__(self, embed,\n",
    "                 hidden_size,\n",
    "                 num_layers,\n",
    "                 num_head,\n",
    "                 head_dim,\n",
    "                 max_len,\n",
    "                 emb_dropout,\n",
    "                 dropout):\n",
    "        r\"\"\"\n",
    "        \n",
    "        :param embed: 单词词典, 可以是 tuple, 包括(num_embedings, embedding_dim), 即\n",
    "            embedding的大小和每个词的维度. 也可以传入 nn.Embedding 对象,此时就以传入的对象作为embedding\n",
    "        :param hidden_size: 模型中特征维度.\n",
    "        :param num_layers: 模型层数.\n",
    "        :param num_head: 模型中multi-head的head个数.\n",
    "        :param head_dim: 模型中multi-head中每个head特征维度.\n",
    "        :param max_len: 模型能接受的最大输入长度.\n",
    "        :param emb_dropout: 词嵌入的dropout概率.\n",
    "        :param dropout: 模型除词嵌入外的dropout概率.\n",
    "        \"\"\"\n",
    "        super(StarTransEnc, self).__init__()\n",
    "        self.embedding = get_embeddings(embed,padding_idx=0)\n",
    "        emb_dim = self.embedding.embedding_dim\n",
    "        self.emb_fc = nn.Linear(emb_dim, hidden_size)\n",
    "        # self.emb_drop = nn.Dropout(emb_dropout)\n",
    "        self.encoder = StarTransformer(hidden_size=hidden_size,\n",
    "                                       num_layers=num_layers,\n",
    "                                       num_head=num_head,\n",
    "                                       head_dim=head_dim,\n",
    "                                       dropout=dropout,\n",
    "                                       max_len=max_len)\n",
    "        \n",
    "#         conv_block_klass = ConvBlock\n",
    "# #         Embedding Layer\n",
    "#         self.stem = nn.Sequential(\n",
    "#         #             Rearrange('b n d -> b d n'),\n",
    "# #             Dynamic_conv1d(49, 49, 3,padding = 1),\n",
    "#             Residual(conv_block_klass(49)),\n",
    "# #             AttentionPool(49, pool_size = 2)\n",
    "            \n",
    "#         )\n",
    "#         self.stem2 = nn.Sequential(\n",
    "#         #             Rearrange('b n d -> b d n'),\n",
    "#             nn.Conv1d(34, 34, 3,padding = 1),\n",
    "#             Residual(conv_block_klass(34)),\n",
    "#             AttentionPool(34, pool_size = 2)\n",
    "#         )\n",
    "\n",
    "    def forward(self, x, mask):\n",
    "        r\"\"\"\n",
    "        :param FloatTensor x: [batch, length, hidden] 输入的序列\n",
    "        :param ByteTensor mask: [batch, length] 输入序列的padding mask, 在没有内容(padding 部分) 为 0,\n",
    "            否则为 1\n",
    "        :return: [batch, length, hidden] 编码后的输出序列\n",
    "                [batch, hidden] 全局 relay 节点, 详见论文\n",
    "        \"\"\"\n",
    "        x = self.embedding(x)\n",
    "        x = self.emb_fc(x)\n",
    "#         x = self.stem(x)\n",
    "        #nodes, relay, nodes_attns, relays_attns = self.encoder(x3, mask3)\n",
    "        nodes, relay = self.encoder(x, mask)\n",
    "        return nodes, relay, #nodes_attns, relays_attns\n",
    "\n",
    "\n",
    "class _Cls(nn.Module):\n",
    "    def __init__(self, in_dim, num_cls, hid_dim, dropout=0.1):\n",
    "        super(_Cls, self).__init__()\n",
    "        self.fc = nn.Sequential(\n",
    "            nn.Linear(in_dim, hid_dim),\n",
    "            nn.LeakyReLU(),\n",
    "            nn.Dropout(dropout),\n",
    "            nn.Linear(hid_dim, num_cls),\n",
    "        )\n",
    "\n",
    "    def forward(self, x):\n",
    "        h = self.fc(x)\n",
    "        return h\n",
    "\n",
    "class STSeqCls(nn.Module):\n",
    "    r\"\"\"\n",
    "    用于分类任务的Star-Transformer\n",
    "    \"\"\"\n",
    "\n",
    "    def __init__(self, embed, num_cls=2,\n",
    "                 hidden_size=300,\n",
    "                 num_layers=1,\n",
    "                 num_head=9,\n",
    "                 head_dim=32,\n",
    "                 max_len=512,\n",
    "                 cls_hidden_size=600,\n",
    "                 emb_dropout=0.1,\n",
    "                 dropout=0.1):\n",
    "        r\"\"\"\n",
    "        \n",
    "        :param embed: 单词词典, 可以是 tuple, 包括(num_embedings, embedding_dim), 即\n",
    "            embedding的大小和每个词的维度. 也可以传入 nn.Embedding 对象, 此时就以传入的对象作为embedding\n",
    "        :param num_cls: 输出类别个数\n",
    "        :param hidden_size: 模型中特征维度. Default: 300\n",
    "        :param num_layers: 模型层数. Default: 4\n",
    "        :param num_head: 模型中multi-head的head个数. Default: 8\n",
    "        :param head_dim: 模型中multi-head中每个head特征维度. Default: 32\n",
    "        :param max_len: 模型能接受的最大输入长度. Default: 512\n",
    "        :param cls_hidden_size: 分类器隐层维度. Default: 600\n",
    "        :param emb_dropout: 词嵌入的dropout概率. Default: 0.1\n",
    "        :param dropout: 模型除词嵌入外的dropout概率. Default: 0.1\n",
    "        \"\"\"\n",
    "        super(STSeqCls, self).__init__()\n",
    "        self.enc = StarTransEnc(embed=embed,\n",
    "                                hidden_size=hidden_size,\n",
    "                                num_layers=num_layers,\n",
    "                                num_head=num_head,\n",
    "                                head_dim=head_dim,\n",
    "                                max_len=max_len,\n",
    "                                emb_dropout=emb_dropout,\n",
    "                                dropout=dropout)\n",
    "        self.cls = _Cls(hidden_size, num_cls, cls_hidden_size, dropout=dropout)\n",
    "\n",
    "\n",
    "    def forward(self, words, seq_len):\n",
    "        r\"\"\"\n",
    "        :param words: [batch, seq_len] 输入序列\n",
    "        :param seq_len: [batch,] 输入序列的长度\n",
    "        :return output: [batch, num_cls] 输出序列的分类的概率\n",
    "        \"\"\"\n",
    "        mask = seq_len_to_mask(seq_len,max_len=49).to(torch.device('cuda' if torch.cuda.is_available() else 'cpu'))\n",
    "#         mask2 = seq_len_to_mask(torch.tensor([34]*len(seq_len))).to(torch.device('cuda' if torch.cuda.is_available() else 'cpu'))\n",
    "        nodes, relay = self.enc(words, mask)\n",
    "        y = 0.5 * (relay + nodes.max(1)[0])\n",
    "#         y = torch.cat([relay, torch.sort(nodes,dim=1)[0][:,-1,:], torch.sort(nodes,dim=1)[0][:,-2,:]],1)\n",
    "        \n",
    "        output = self.cls(y)  # [bsz, n_cls]\n",
    "        return output#, nodes_attns, relays_attns"
   ]
  },
  {
   "cell_type": "code",
   "execution_count": 106,
   "id": "199a2373",
   "metadata": {},
   "outputs": [],
   "source": [
    "def performances(y_true, y_pred, y_prob, print_ = True):\n",
    "    \n",
    "    tn, fp, fn, tp = confusion_matrix(y_true, y_pred, labels = [0, 1]).ravel().tolist()\n",
    "    accuracy = (tp+tn)/(tn+fp+fn+tp)\n",
    "    try:\n",
    "        mcc = ((tp*tn) - (fn*fp)) / np.sqrt(np.float((tp+fn)*(tn+fp)*(tp+fp)*(tn+fn)))\n",
    "    except:\n",
    "        print('MCC Error: ', (tp+fn)*(tn+fp)*(tp+fp)*(tn+fn))\n",
    "        mcc = np.nan\n",
    "    sensitivity = tp/(tp+fn)\n",
    "    specificity = tn/(tn+fp)\n",
    "    \n",
    "    try:\n",
    "        recall = tp / (tp+fn)\n",
    "    except:\n",
    "        recall = np.nan\n",
    "        \n",
    "    try:\n",
    "        precision = tp / (tp+fp)\n",
    "    except:\n",
    "        precision = np.nan\n",
    "        \n",
    "    try: \n",
    "        f1 = 2*precision*recall / (precision+recall)\n",
    "    except:\n",
    "        f1 = np.nan\n",
    "        \n",
    "    roc_auc = roc_auc_score(y_true, y_prob)\n",
    "    prec, reca, _ = precision_recall_curve(y_true, y_prob)\n",
    "    aupr = auc(reca, prec)\n",
    "    \n",
    "    if print_:\n",
    "        print('tn = {}, fp = {}, fn = {}, tp = {}'.format(tn, fp, fn, tp))\n",
    "        print('y_pred: 0 = {} | 1 = {}'.format(Counter(y_pred)[0], Counter(y_pred)[1]))\n",
    "        print('y_true: 0 = {} | 1 = {}'.format(Counter(y_true)[0], Counter(y_true)[1]))\n",
    "        print('auc={:.4f}|sensitivity={:.4f}|specificity={:.4f}|acc={:.4f}|mcc={:.4f}'.format(roc_auc, sensitivity, specificity, accuracy, mcc))\n",
    "        print('precision={:.4f}|recall={:.4f}|f1={:.4f}|aupr={:.4f}'.format(precision, recall, f1, aupr))\n",
    "    \n",
    "    return (roc_auc, accuracy, mcc, f1, sensitivity, specificity, precision, recall, aupr)\n",
    "\n",
    "\n",
    "# In[25]:\n",
    "\n",
    "\n",
    "def transfer(y_prob, threshold = 0.5):\n",
    "    return np.array([[0, 1][x > threshold] for x in y_prob])\n",
    "\n",
    "\n",
    "# In[26]:\n",
    "\n",
    "\n",
    "f_mean = lambda l: sum(l)/len(l)\n",
    "\n",
    "\n",
    "# In[28]:\n",
    "\n",
    "\n",
    "def performances_to_pd(performances_list):\n",
    "    metrics_name = ['roc_auc', 'accuracy', 'mcc', 'f1', 'sensitivity', 'specificity', 'precision', 'recall', 'aupr']\n",
    "\n",
    "    performances_pd = pd.DataFrame(performances_list, columns = metrics_name)\n",
    "    performances_pd.loc['mean'] = performances_pd.mean(axis = 0)\n",
    "    performances_pd.loc['std'] = performances_pd.std(axis = 0)\n",
    "    \n",
    "    return performances_pd"
   ]
  },
  {
   "cell_type": "code",
   "execution_count": 107,
   "id": "235b31a6",
   "metadata": {},
   "outputs": [],
   "source": [
    "def train_step(model, train_loader, fold, epoch, epochs, use_cuda = True):\n",
    "    device = torch.device(\"cuda\" if use_cuda else \"cpu\")\n",
    "    \n",
    "    time_train_ep = 0\n",
    "    model.train()\n",
    "    y_true_train_list, y_prob_train_list = [], []\n",
    "    loss_train_list = []\n",
    "    for train_pep_inputs, train_pep_lens, train_labels in tqdm(train_loader):\n",
    "        '''\n",
    "        pep_inputs: [batch_size, pep_len]\n",
    "        hla_inputs: [batch_size, hla_len]\n",
    "        train_outputs: [batch_size, 2]\n",
    "        '''\n",
    "        train_pep_inputs, train_labels = train_pep_inputs.to(device), train_labels.to(device)\n",
    "        train_pep_lens = train_pep_lens.to(device)\n",
    "        t1 = time.time()\n",
    "        train_outputs = model(train_pep_inputs, train_pep_lens)\n",
    "        train_loss = criterion(train_outputs, train_labels)\n",
    "        time_train_ep += time.time() - t1\n",
    "\n",
    "        optimizer.zero_grad()\n",
    "        train_loss.backward()\n",
    "        optimizer.step()\n",
    "\n",
    "        y_true_train = train_labels.cpu().numpy()\n",
    "        y_prob_train = nn.Softmax(dim = 1)(train_outputs)[:, 1].cpu().detach().numpy()\n",
    "        \n",
    "        y_true_train_list.extend(y_true_train)\n",
    "        y_prob_train_list.extend(y_prob_train)\n",
    "        loss_train_list.append(train_loss.item())\n",
    "#         relays_attns_list.append(relays_attns)\n",
    "#         nodes_attns_list.append(nodes_attns)\n",
    "        \n",
    "    y_pred_train_list = transfer(y_prob_train_list, threshold)\n",
    "    ys_train = (y_true_train_list, y_pred_train_list, y_prob_train_list)\n",
    "    \n",
    "    print('Fold-{}****Train (Ep avg): Epoch-{}/{} | Loss = {:.4f} | Time = {:.4f} sec'.format(fold, epoch, epochs, f_mean(loss_train_list), time_train_ep))\n",
    "    metrics_train = performances(y_true_train_list, y_pred_train_list, y_prob_train_list, print_ = True)\n",
    "    \n",
    "    return ys_train, loss_train_list, metrics_train, time_train_ep#, relays_attns_list, nodes_attns_list\n",
    "\n",
    "\n",
    "# In[30]:\n",
    "\n",
    "\n",
    "def eval_step(model, val_loader, fold, epoch, epochs, use_cuda = True):\n",
    "    device = torch.device(\"cuda\" if use_cuda else \"cpu\")\n",
    "    \n",
    "    model.eval()\n",
    "    torch.manual_seed(2022)\n",
    "    torch.cuda.manual_seed(2022)\n",
    "    with torch.no_grad():\n",
    "        loss_val_list = []\n",
    "        y_true_val_list, y_prob_val_list = [], []\n",
    "        for val_pep_inputs, val_pep_lens, val_labels in tqdm(val_loader):\n",
    "            val_pep_inputs, val_labels = val_pep_inputs.to(device), val_labels.to(device)\n",
    "            val_pep_lens = val_pep_lens.to(device)\n",
    "            val_outputs = model(val_pep_inputs, val_pep_lens)\n",
    "            val_loss = criterion(val_outputs, val_labels)\n",
    "\n",
    "            y_true_val = val_labels.cpu().numpy()\n",
    "            y_prob_val = nn.Softmax(dim = 1)(val_outputs)[:, 1].cpu().detach().numpy()\n",
    "\n",
    "            y_true_val_list.extend(y_true_val)\n",
    "            y_prob_val_list.extend(y_prob_val)\n",
    "            loss_val_list.append(val_loss.item())\n",
    "\n",
    "            \n",
    "        y_pred_val_list = transfer(y_prob_val_list, threshold)\n",
    "        ys_val = (y_true_val_list, y_pred_val_list, y_prob_val_list)\n",
    "        \n",
    "        print('Fold-{} ****Test  Epoch-{}/{}: Loss = {:.6f}'.format(fold, epoch, epochs, f_mean(loss_val_list)))\n",
    "        metrics_val = performances(y_true_val_list, y_pred_val_list, y_prob_val_list, print_ = True)\n",
    "    return ys_val, loss_val_list, metrics_val\n"
   ]
  },
  {
   "cell_type": "code",
   "execution_count": 108,
   "id": "f6f63a67",
   "metadata": {},
   "outputs": [],
   "source": [
    "pep_max_len = 15 # peptide; enc_input max sequence length\n",
    "hla_max_len = 34 # hla; dec_input(=dec_output) max sequence length\n",
    "tgt_len = pep_max_len + hla_max_len\n",
    "pep_max_len, hla_max_len\n",
    "\n",
    "# vocab = np.load('./vocab_dict.npy', allow_pickle = True).item()\n",
    "vocab = {'-': 0,\n",
    " 'Y': 1,\n",
    " 'A': 2,\n",
    " 'T': 3,\n",
    " 'V': 4,\n",
    " 'L': 5,\n",
    " 'D': 6,\n",
    " 'E': 7,\n",
    " 'G': 8,\n",
    " 'R': 9,\n",
    " 'H': 10,\n",
    " 'I': 11,\n",
    " 'W': 12,\n",
    " 'Q': 13,\n",
    " 'K': 14,\n",
    " 'M': 15,\n",
    " 'F': 16,\n",
    " 'N': 17,\n",
    " 'S': 18,\n",
    " 'P': 19,\n",
    " 'C': 20}\n",
    "vocab_size = len(vocab)\n",
    "\n",
    "\n",
    "n_layers = 1  # number of Encoder of Decoder Layer\n",
    "n_heads = 8\n",
    "\n",
    "batch_size = 1024\n",
    "epochs = 25\n",
    "threshold = 0.5\n",
    "\n",
    "use_cuda = torch.cuda.is_available()\n",
    "device = torch.device(\"cuda\" if use_cuda else \"cpu\")"
   ]
  },
  {
   "cell_type": "code",
   "execution_count": 109,
   "id": "be68bc27",
   "metadata": {},
   "outputs": [],
   "source": [
    "#G:TransPHLA-AOMP/Dataset/\n",
    "def data_with_loader(type_ = 'train',fold = None,  batch_size = 128):\n",
    "    if type_ != 'train' and type_ != 'val':\n",
    "        data = pd.read_csv('../data/test_set/{}_set.csv'.format(type_), index_col = 0)\n",
    "    elif type_ == 'train':\n",
    "        data = pd.read_csv('../data/train_set/NetMHCpan4.1/train_data_fold{}.csv'.format(fold)) #, index_col = 0\n",
    "    elif type_ == 'val':\n",
    "        data = pd.read_csv('../data/train_set/NetMHCpan4.1/val_data_fold{}.csv'.format(fold)) #, index_col = 0\n",
    "        \n",
    "    pep_inputs, hla_inputs, labels, pep_lens = make_data(data)\n",
    "    loader = Data.DataLoader(MyDataSet(pep_inputs, hla_inputs, pep_lens, labels), batch_size, shuffle = False, num_workers = 0)\n",
    "    \n",
    "    return data, pep_inputs, hla_inputs, pep_lens, labels, loader"
   ]
  },
  {
   "cell_type": "code",
   "execution_count": 110,
   "id": "93516fde",
   "metadata": {},
   "outputs": [],
   "source": [
    "independent_data, independent_pep_inputs, independent_hla_inputs, independent_pep_lens, independent_labels, independent_loader = data_with_loader(type_ = 'independent',fold = None,  batch_size = batch_size)\n",
    "external_data, external_pep_inputs, external_hla_inputs, external_pep_lens, external_labels, external_loader = data_with_loader(type_ = 'external',fold = None,  batch_size = batch_size)"
   ]
  },
  {
   "cell_type": "code",
   "execution_count": 111,
   "id": "629b3a1f",
   "metadata": {},
   "outputs": [
    {
     "name": "stdout",
     "output_type": "stream",
     "text": [
      "=====Fold-0=====\n",
      "-----Generate data loader-----\n",
      "Fold-0 Label info: Train = Counter({1: 277903, 0: 277552}) | Val = Counter({0: 69607, 1: 69256})\n",
      "-----Compile model-----\n",
      "STSeqCls(\n",
      "  (enc): StarTransEnc(\n",
      "    (embedding): Embedding(21, 100, padding_idx=0)\n",
      "    (emb_fc): Linear(in_features=100, out_features=300, bias=True)\n",
      "    (encoder): StarTransformer(\n",
      "      (norm): ModuleList(\n",
      "        (0): LayerNorm((300,), eps=1e-06, elementwise_affine=True)\n",
      "      )\n",
      "      (emb_drop): Dropout(p=0.1, inplace=False)\n",
      "      (ring_att): ModuleList(\n",
      "        (0): _MSA1(\n",
      "          (WQ): Conv2d(300, 256, kernel_size=(1, 1), stride=(1, 1))\n",
      "          (WK): Conv2d(300, 256, kernel_size=(1, 1), stride=(1, 1))\n",
      "          (WV): Conv2d(300, 256, kernel_size=(1, 1), stride=(1, 1))\n",
      "          (WO): Conv2d(256, 300, kernel_size=(1, 1), stride=(1, 1))\n",
      "          (drop): Dropout(p=0.0, inplace=False)\n",
      "        )\n",
      "      )\n",
      "      (star_att): ModuleList(\n",
      "        (0): _MSA2(\n",
      "          (WQ): Conv2d(300, 256, kernel_size=(1, 1), stride=(1, 1))\n",
      "          (WK): Conv2d(300, 256, kernel_size=(1, 1), stride=(1, 1))\n",
      "          (WV): Conv2d(300, 256, kernel_size=(1, 1), stride=(1, 1))\n",
      "          (WO): Conv2d(256, 300, kernel_size=(1, 1), stride=(1, 1))\n",
      "          (drop): Dropout(p=0.0, inplace=False)\n",
      "        )\n",
      "      )\n",
      "      (pos_emb): Embedding(49, 300)\n",
      "    )\n",
      "  )\n",
      "  (cls): _Cls(\n",
      "    (fc): Sequential(\n",
      "      (0): Linear(in_features=300, out_features=600, bias=True)\n",
      "      (1): LeakyReLU(negative_slope=0.01)\n",
      "      (2): Dropout(p=0.1, inplace=False)\n",
      "      (3): Linear(in_features=600, out_features=2, bias=True)\n",
      "    )\n",
      "  )\n",
      ")\n",
      "-----Train-----\n",
      "dir_saver:  G:TransPHLA-AOMP/model/STformer/\n",
      "path_saver:  G:TransPHLA-AOMP/model/STformer/netmhcpan/st_layer1_multihead8_fold0_netmhcpan.pkl\n"
     ]
    },
    {
     "name": "stderr",
     "output_type": "stream",
     "text": [
      "100%|████████████████████████████████████████████████████████████████████████████████| 543/543 [00:53<00:00, 10.13it/s]\n"
     ]
    },
    {
     "name": "stdout",
     "output_type": "stream",
     "text": [
      "Fold-0****Train (Ep avg): Epoch-1/25 | Loss = 0.2670 | Time = 5.5459 sec\n",
      "tn = 247570, fp = 29982, fn = 32362, tp = 245541\n",
      "y_pred: 0 = 279932 | 1 = 275523\n",
      "y_true: 0 = 277552 | 1 = 277903\n",
      "auc=0.9563|sensitivity=0.8835|specificity=0.8920|acc=0.8878|mcc=0.7756\n",
      "precision=0.8912|recall=0.8835|f1=0.8873|aupr=0.9582\n"
     ]
    },
    {
     "name": "stderr",
     "output_type": "stream",
     "text": [
      "100%|████████████████████████████████████████████████████████████████████████████████| 136/136 [00:06<00:00, 19.92it/s]\n"
     ]
    },
    {
     "name": "stdout",
     "output_type": "stream",
     "text": [
      "Fold-0 ****Test  Epoch-1/25: Loss = 0.180448\n",
      "tn = 66866, fp = 2741, fn = 6586, tp = 62670\n",
      "y_pred: 0 = 73452 | 1 = 65411\n",
      "y_true: 0 = 69607 | 1 = 69256\n",
      "auc=0.9804|sensitivity=0.9049|specificity=0.9606|acc=0.9328|mcc=0.8670\n",
      "precision=0.9581|recall=0.9049|f1=0.9307|aupr=0.9819\n",
      "****Saving model: Best epoch = 1 | 5metrics_Best_avg = 0.9277\n",
      "*****Path saver:  G:TransPHLA-AOMP/model/STformer/netmhcpan/st_layer1_multihead8_fold0_netmhcpan.pkl\n"
     ]
    },
    {
     "name": "stderr",
     "output_type": "stream",
     "text": [
      "100%|████████████████████████████████████████████████████████████████████████████████| 543/543 [00:55<00:00,  9.80it/s]\n"
     ]
    },
    {
     "name": "stdout",
     "output_type": "stream",
     "text": [
      "Fold-0****Train (Ep avg): Epoch-2/25 | Loss = 0.1679 | Time = 5.5942 sec\n",
      "tn = 262559, fp = 14993, fn = 19681, tp = 258222\n",
      "y_pred: 0 = 282240 | 1 = 273215\n",
      "y_true: 0 = 277552 | 1 = 277903\n",
      "auc=0.9817|sensitivity=0.9292|specificity=0.9460|acc=0.9376|mcc=0.8753\n",
      "precision=0.9451|recall=0.9292|f1=0.9371|aupr=0.9831\n"
     ]
    },
    {
     "name": "stderr",
     "output_type": "stream",
     "text": [
      "100%|████████████████████████████████████████████████████████████████████████████████| 136/136 [00:07<00:00, 18.87it/s]\n"
     ]
    },
    {
     "name": "stdout",
     "output_type": "stream",
     "text": [
      "Fold-0 ****Test  Epoch-2/25: Loss = 0.158444\n",
      "tn = 67079, fp = 2528, fn = 5632, tp = 63624\n",
      "y_pred: 0 = 72711 | 1 = 66152\n",
      "y_true: 0 = 69607 | 1 = 69256\n",
      "auc=0.9843|sensitivity=0.9187|specificity=0.9637|acc=0.9412|mcc=0.8833\n",
      "precision=0.9618|recall=0.9187|f1=0.9397|aupr=0.9855\n",
      "****Saving model: Best epoch = 2 | 5metrics_Best_avg = 0.9372\n",
      "*****Path saver:  G:TransPHLA-AOMP/model/STformer/netmhcpan/st_layer1_multihead8_fold0_netmhcpan.pkl\n"
     ]
    },
    {
     "name": "stderr",
     "output_type": "stream",
     "text": [
      "100%|████████████████████████████████████████████████████████████████████████████████| 543/543 [00:57<00:00,  9.46it/s]\n"
     ]
    },
    {
     "name": "stdout",
     "output_type": "stream",
     "text": [
      "Fold-0****Train (Ep avg): Epoch-3/25 | Loss = 0.1508 | Time = 5.6924 sec\n",
      "tn = 264445, fp = 13107, fn = 17852, tp = 260051\n",
      "y_pred: 0 = 282297 | 1 = 273158\n",
      "y_true: 0 = 277552 | 1 = 277903\n",
      "auc=0.9851|sensitivity=0.9358|specificity=0.9528|acc=0.9443|mcc=0.8887\n",
      "precision=0.9520|recall=0.9358|f1=0.9438|aupr=0.9863\n"
     ]
    },
    {
     "name": "stderr",
     "output_type": "stream",
     "text": [
      "100%|████████████████████████████████████████████████████████████████████████████████| 136/136 [00:07<00:00, 19.41it/s]\n"
     ]
    },
    {
     "name": "stdout",
     "output_type": "stream",
     "text": [
      "Fold-0 ****Test  Epoch-3/25: Loss = 0.146688\n",
      "tn = 66683, fp = 2924, fn = 4572, tp = 64684\n",
      "y_pred: 0 = 71255 | 1 = 67608\n",
      "y_true: 0 = 69607 | 1 = 69256\n",
      "auc=0.9858|sensitivity=0.9340|specificity=0.9580|acc=0.9460|mcc=0.8923\n",
      "precision=0.9568|recall=0.9340|f1=0.9452|aupr=0.9870\n",
      "****Saving model: Best epoch = 3 | 5metrics_Best_avg = 0.9423\n",
      "*****Path saver:  G:TransPHLA-AOMP/model/STformer/netmhcpan/st_layer1_multihead8_fold0_netmhcpan.pkl\n"
     ]
    },
    {
     "name": "stderr",
     "output_type": "stream",
     "text": [
      "100%|████████████████████████████████████████████████████████████████████████████████| 543/543 [00:57<00:00,  9.46it/s]\n"
     ]
    },
    {
     "name": "stdout",
     "output_type": "stream",
     "text": [
      "Fold-0****Train (Ep avg): Epoch-4/25 | Loss = 0.1417 | Time = 5.7554 sec\n",
      "tn = 265287, fp = 12265, fn = 16797, tp = 261106\n",
      "y_pred: 0 = 282084 | 1 = 273371\n",
      "y_true: 0 = 277552 | 1 = 277903\n",
      "auc=0.9868|sensitivity=0.9396|specificity=0.9558|acc=0.9477|mcc=0.8955\n",
      "precision=0.9551|recall=0.9396|f1=0.9473|aupr=0.9879\n"
     ]
    },
    {
     "name": "stderr",
     "output_type": "stream",
     "text": [
      "100%|████████████████████████████████████████████████████████████████████████████████| 136/136 [00:07<00:00, 18.40it/s]\n"
     ]
    },
    {
     "name": "stdout",
     "output_type": "stream",
     "text": [
      "Fold-0 ****Test  Epoch-4/25: Loss = 0.142897\n",
      "tn = 66144, fp = 3463, fn = 3838, tp = 65418\n",
      "y_pred: 0 = 69982 | 1 = 68881\n",
      "y_true: 0 = 69607 | 1 = 69256\n",
      "auc=0.9867|sensitivity=0.9446|specificity=0.9502|acc=0.9474|mcc=0.8949\n",
      "precision=0.9497|recall=0.9446|f1=0.9471|aupr=0.9877\n",
      "****Saving model: Best epoch = 4 | 5metrics_Best_avg = 0.9440\n",
      "*****Path saver:  G:TransPHLA-AOMP/model/STformer/netmhcpan/st_layer1_multihead8_fold0_netmhcpan.pkl\n"
     ]
    },
    {
     "name": "stderr",
     "output_type": "stream",
     "text": [
      "100%|████████████████████████████████████████████████████████████████████████████████| 543/543 [00:57<00:00,  9.48it/s]\n"
     ]
    },
    {
     "name": "stdout",
     "output_type": "stream",
     "text": [
      "Fold-0****Train (Ep avg): Epoch-5/25 | Loss = 0.1342 | Time = 5.6583 sec\n",
      "tn = 266011, fp = 11541, fn = 15956, tp = 261947\n",
      "y_pred: 0 = 281967 | 1 = 273488\n",
      "y_true: 0 = 277552 | 1 = 277903\n",
      "auc=0.9881|sensitivity=0.9426|specificity=0.9584|acc=0.9505|mcc=0.9011\n",
      "precision=0.9578|recall=0.9426|f1=0.9501|aupr=0.9891\n"
     ]
    },
    {
     "name": "stderr",
     "output_type": "stream",
     "text": [
      "100%|████████████████████████████████████████████████████████████████████████████████| 136/136 [00:07<00:00, 18.68it/s]\n"
     ]
    },
    {
     "name": "stdout",
     "output_type": "stream",
     "text": [
      "Fold-0 ****Test  Epoch-5/25: Loss = 0.145129\n",
      "tn = 66167, fp = 3440, fn = 4038, tp = 65218\n",
      "y_pred: 0 = 70205 | 1 = 68658\n",
      "y_true: 0 = 69607 | 1 = 69256\n",
      "auc=0.9864|sensitivity=0.9417|specificity=0.9506|acc=0.9461|mcc=0.8923\n",
      "precision=0.9499|recall=0.9417|f1=0.9458|aupr=0.9874\n"
     ]
    },
    {
     "name": "stderr",
     "output_type": "stream",
     "text": [
      "100%|████████████████████████████████████████████████████████████████████████████████| 543/543 [00:57<00:00,  9.47it/s]\n"
     ]
    },
    {
     "name": "stdout",
     "output_type": "stream",
     "text": [
      "Fold-0****Train (Ep avg): Epoch-6/25 | Loss = 0.1300 | Time = 5.6970 sec\n",
      "tn = 266427, fp = 11125, fn = 15497, tp = 262406\n",
      "y_pred: 0 = 281924 | 1 = 273531\n",
      "y_true: 0 = 277552 | 1 = 277903\n",
      "auc=0.9889|sensitivity=0.9442|specificity=0.9599|acc=0.9521|mcc=0.9043\n",
      "precision=0.9593|recall=0.9442|f1=0.9517|aupr=0.9898\n"
     ]
    },
    {
     "name": "stderr",
     "output_type": "stream",
     "text": [
      "100%|████████████████████████████████████████████████████████████████████████████████| 136/136 [00:07<00:00, 18.83it/s]\n"
     ]
    },
    {
     "name": "stdout",
     "output_type": "stream",
     "text": [
      "Fold-0 ****Test  Epoch-6/25: Loss = 0.141861\n",
      "tn = 66732, fp = 2875, fn = 4358, tp = 64898\n",
      "y_pred: 0 = 71090 | 1 = 67773\n",
      "y_true: 0 = 69607 | 1 = 69256\n",
      "auc=0.9869|sensitivity=0.9371|specificity=0.9587|acc=0.9479|mcc=0.8960\n",
      "precision=0.9576|recall=0.9371|f1=0.9472|aupr=0.9879\n",
      "****Saving model: Best epoch = 6 | 5metrics_Best_avg = 0.9445\n",
      "*****Path saver:  G:TransPHLA-AOMP/model/STformer/netmhcpan/st_layer1_multihead8_fold0_netmhcpan.pkl\n"
     ]
    },
    {
     "name": "stderr",
     "output_type": "stream",
     "text": [
      "100%|████████████████████████████████████████████████████████████████████████████████| 543/543 [00:57<00:00,  9.49it/s]\n"
     ]
    },
    {
     "name": "stdout",
     "output_type": "stream",
     "text": [
      "Fold-0****Train (Ep avg): Epoch-7/25 | Loss = 0.1253 | Time = 5.6758 sec\n",
      "tn = 266748, fp = 10804, fn = 14950, tp = 262953\n",
      "y_pred: 0 = 281698 | 1 = 273757\n",
      "y_true: 0 = 277552 | 1 = 277903\n",
      "auc=0.9896|sensitivity=0.9462|specificity=0.9611|acc=0.9536|mcc=0.9074\n",
      "precision=0.9605|recall=0.9462|f1=0.9533|aupr=0.9905\n"
     ]
    },
    {
     "name": "stderr",
     "output_type": "stream",
     "text": [
      "100%|████████████████████████████████████████████████████████████████████████████████| 136/136 [00:07<00:00, 19.43it/s]\n"
     ]
    },
    {
     "name": "stdout",
     "output_type": "stream",
     "text": [
      "Fold-0 ****Test  Epoch-7/25: Loss = 0.140283\n",
      "tn = 66795, fp = 2812, fn = 4286, tp = 64970\n",
      "y_pred: 0 = 71081 | 1 = 67782\n",
      "y_true: 0 = 69607 | 1 = 69256\n",
      "auc=0.9872|sensitivity=0.9381|specificity=0.9596|acc=0.9489|mcc=0.8980\n",
      "precision=0.9585|recall=0.9381|f1=0.9482|aupr=0.9881\n",
      "****Saving model: Best epoch = 7 | 5metrics_Best_avg = 0.9456\n",
      "*****Path saver:  G:TransPHLA-AOMP/model/STformer/netmhcpan/st_layer1_multihead8_fold0_netmhcpan.pkl\n"
     ]
    },
    {
     "name": "stderr",
     "output_type": "stream",
     "text": [
      "100%|████████████████████████████████████████████████████████████████████████████████| 543/543 [00:57<00:00,  9.52it/s]\n"
     ]
    },
    {
     "name": "stdout",
     "output_type": "stream",
     "text": [
      "Fold-0****Train (Ep avg): Epoch-8/25 | Loss = 0.1221 | Time = 5.7208 sec\n",
      "tn = 267076, fp = 10476, fn = 14619, tp = 263284\n",
      "y_pred: 0 = 281695 | 1 = 273760\n",
      "y_true: 0 = 277552 | 1 = 277903\n",
      "auc=0.9902|sensitivity=0.9474|specificity=0.9623|acc=0.9548|mcc=0.9097\n",
      "precision=0.9617|recall=0.9474|f1=0.9545|aupr=0.9910\n"
     ]
    },
    {
     "name": "stderr",
     "output_type": "stream",
     "text": [
      "100%|████████████████████████████████████████████████████████████████████████████████| 136/136 [00:07<00:00, 18.69it/s]\n"
     ]
    },
    {
     "name": "stdout",
     "output_type": "stream",
     "text": [
      "Fold-0 ****Test  Epoch-8/25: Loss = 0.136898\n",
      "tn = 66494, fp = 3113, fn = 3787, tp = 65469\n",
      "y_pred: 0 = 70281 | 1 = 68582\n",
      "y_true: 0 = 69607 | 1 = 69256\n",
      "auc=0.9878|sensitivity=0.9453|specificity=0.9553|acc=0.9503|mcc=0.9007\n",
      "precision=0.9546|recall=0.9453|f1=0.9499|aupr=0.9886\n",
      "****Saving model: Best epoch = 8 | 5metrics_Best_avg = 0.9472\n",
      "*****Path saver:  G:TransPHLA-AOMP/model/STformer/netmhcpan/st_layer1_multihead8_fold0_netmhcpan.pkl\n"
     ]
    },
    {
     "name": "stderr",
     "output_type": "stream",
     "text": [
      "100%|████████████████████████████████████████████████████████████████████████████████| 543/543 [00:57<00:00,  9.46it/s]\n"
     ]
    },
    {
     "name": "stdout",
     "output_type": "stream",
     "text": [
      "Fold-0****Train (Ep avg): Epoch-9/25 | Loss = 0.1185 | Time = 5.6671 sec\n",
      "tn = 267306, fp = 10246, fn = 14170, tp = 263733\n",
      "y_pred: 0 = 281476 | 1 = 273979\n",
      "y_true: 0 = 277552 | 1 = 277903\n",
      "auc=0.9908|sensitivity=0.9490|specificity=0.9631|acc=0.9560|mcc=0.9122\n",
      "precision=0.9626|recall=0.9490|f1=0.9558|aupr=0.9915\n"
     ]
    },
    {
     "name": "stderr",
     "output_type": "stream",
     "text": [
      "100%|████████████████████████████████████████████████████████████████████████████████| 136/136 [00:07<00:00, 18.85it/s]\n"
     ]
    },
    {
     "name": "stdout",
     "output_type": "stream",
     "text": [
      "Fold-0 ****Test  Epoch-9/25: Loss = 0.139460\n",
      "tn = 66875, fp = 2732, fn = 4165, tp = 65091\n",
      "y_pred: 0 = 71040 | 1 = 67823\n",
      "y_true: 0 = 69607 | 1 = 69256\n",
      "auc=0.9877|sensitivity=0.9399|specificity=0.9608|acc=0.9503|mcc=0.9009\n",
      "precision=0.9597|recall=0.9399|f1=0.9497|aupr=0.9886\n"
     ]
    },
    {
     "name": "stderr",
     "output_type": "stream",
     "text": [
      "100%|████████████████████████████████████████████████████████████████████████████████| 543/543 [00:56<00:00,  9.59it/s]\n"
     ]
    },
    {
     "name": "stdout",
     "output_type": "stream",
     "text": [
      "Fold-0****Train (Ep avg): Epoch-10/25 | Loss = 0.1153 | Time = 5.6505 sec\n",
      "tn = 267537, fp = 10015, fn = 13781, tp = 264122\n",
      "y_pred: 0 = 281318 | 1 = 274137\n",
      "y_true: 0 = 277552 | 1 = 277903\n",
      "auc=0.9913|sensitivity=0.9504|specificity=0.9639|acc=0.9572|mcc=0.9144\n",
      "precision=0.9635|recall=0.9504|f1=0.9569|aupr=0.9920\n"
     ]
    },
    {
     "name": "stderr",
     "output_type": "stream",
     "text": [
      "100%|████████████████████████████████████████████████████████████████████████████████| 136/136 [00:06<00:00, 19.99it/s]\n"
     ]
    },
    {
     "name": "stdout",
     "output_type": "stream",
     "text": [
      "Fold-0 ****Test  Epoch-10/25: Loss = 0.143469\n",
      "tn = 66997, fp = 2610, fn = 4394, tp = 64862\n",
      "y_pred: 0 = 71391 | 1 = 67472\n",
      "y_true: 0 = 69607 | 1 = 69256\n",
      "auc=0.9875|sensitivity=0.9366|specificity=0.9625|acc=0.9496|mcc=0.8994\n",
      "precision=0.9613|recall=0.9366|f1=0.9488|aupr=0.9883\n"
     ]
    },
    {
     "name": "stderr",
     "output_type": "stream",
     "text": [
      "100%|████████████████████████████████████████████████████████████████████████████████| 543/543 [00:53<00:00, 10.06it/s]\n"
     ]
    },
    {
     "name": "stdout",
     "output_type": "stream",
     "text": [
      "Fold-0****Train (Ep avg): Epoch-11/25 | Loss = 0.1109 | Time = 5.5015 sec\n",
      "tn = 267879, fp = 9673, fn = 13263, tp = 264640\n",
      "y_pred: 0 = 281142 | 1 = 274313\n",
      "y_true: 0 = 277552 | 1 = 277903\n",
      "auc=0.9919|sensitivity=0.9523|specificity=0.9651|acc=0.9587|mcc=0.9175\n",
      "precision=0.9647|recall=0.9523|f1=0.9585|aupr=0.9926\n"
     ]
    },
    {
     "name": "stderr",
     "output_type": "stream",
     "text": [
      "100%|████████████████████████████████████████████████████████████████████████████████| 136/136 [00:06<00:00, 20.54it/s]\n"
     ]
    },
    {
     "name": "stdout",
     "output_type": "stream",
     "text": [
      "Fold-0 ****Test  Epoch-11/25: Loss = 0.142255\n",
      "tn = 67040, fp = 2567, fn = 4350, tp = 64906\n",
      "y_pred: 0 = 71390 | 1 = 67473\n",
      "y_true: 0 = 69607 | 1 = 69256\n",
      "auc=0.9877|sensitivity=0.9372|specificity=0.9631|acc=0.9502|mcc=0.9007\n",
      "precision=0.9620|recall=0.9372|f1=0.9494|aupr=0.9884\n"
     ]
    },
    {
     "name": "stderr",
     "output_type": "stream",
     "text": [
      "100%|████████████████████████████████████████████████████████████████████████████████| 543/543 [00:53<00:00, 10.06it/s]\n"
     ]
    },
    {
     "name": "stdout",
     "output_type": "stream",
     "text": [
      "Fold-0****Train (Ep avg): Epoch-12/25 | Loss = 0.1083 | Time = 5.5350 sec\n",
      "tn = 268028, fp = 9524, fn = 12980, tp = 264923\n",
      "y_pred: 0 = 281008 | 1 = 274447\n",
      "y_true: 0 = 277552 | 1 = 277903\n",
      "auc=0.9923|sensitivity=0.9533|specificity=0.9657|acc=0.9595|mcc=0.9190\n",
      "precision=0.9653|recall=0.9533|f1=0.9593|aupr=0.9929\n"
     ]
    },
    {
     "name": "stderr",
     "output_type": "stream",
     "text": [
      "100%|████████████████████████████████████████████████████████████████████████████████| 136/136 [00:06<00:00, 19.88it/s]\n"
     ]
    },
    {
     "name": "stdout",
     "output_type": "stream",
     "text": [
      "Fold-0 ****Test  Epoch-12/25: Loss = 0.144316\n",
      "tn = 66721, fp = 2886, fn = 4058, tp = 65198\n",
      "y_pred: 0 = 70779 | 1 = 68084\n",
      "y_true: 0 = 69607 | 1 = 69256\n",
      "auc=0.9875|sensitivity=0.9414|specificity=0.9585|acc=0.9500|mcc=0.9001\n",
      "precision=0.9576|recall=0.9414|f1=0.9494|aupr=0.9882\n"
     ]
    },
    {
     "name": "stderr",
     "output_type": "stream",
     "text": [
      "100%|████████████████████████████████████████████████████████████████████████████████| 543/543 [00:54<00:00, 10.00it/s]\n"
     ]
    },
    {
     "name": "stdout",
     "output_type": "stream",
     "text": [
      "Fold-0****Train (Ep avg): Epoch-13/25 | Loss = 0.1057 | Time = 5.5714 sec\n",
      "tn = 268234, fp = 9318, fn = 12660, tp = 265243\n",
      "y_pred: 0 = 280894 | 1 = 274561\n",
      "y_true: 0 = 277552 | 1 = 277903\n",
      "auc=0.9927|sensitivity=0.9544|specificity=0.9664|acc=0.9604|mcc=0.9209\n",
      "precision=0.9661|recall=0.9544|f1=0.9602|aupr=0.9933\n"
     ]
    },
    {
     "name": "stderr",
     "output_type": "stream",
     "text": [
      "100%|████████████████████████████████████████████████████████████████████████████████| 136/136 [00:06<00:00, 19.87it/s]\n"
     ]
    },
    {
     "name": "stdout",
     "output_type": "stream",
     "text": [
      "Fold-0 ****Test  Epoch-13/25: Loss = 0.147516\n",
      "tn = 66550, fp = 3057, fn = 3952, tp = 65304\n",
      "y_pred: 0 = 70502 | 1 = 68361\n",
      "y_true: 0 = 69607 | 1 = 69256\n",
      "auc=0.9874|sensitivity=0.9429|specificity=0.9561|acc=0.9495|mcc=0.8991\n",
      "precision=0.9553|recall=0.9429|f1=0.9491|aupr=0.9881\n"
     ]
    },
    {
     "name": "stderr",
     "output_type": "stream",
     "text": [
      "100%|████████████████████████████████████████████████████████████████████████████████| 543/543 [00:54<00:00, 10.03it/s]\n"
     ]
    },
    {
     "name": "stdout",
     "output_type": "stream",
     "text": [
      "Fold-0****Train (Ep avg): Epoch-14/25 | Loss = 0.1034 | Time = 5.5838 sec\n",
      "tn = 268349, fp = 9203, fn = 12456, tp = 265447\n",
      "y_pred: 0 = 280805 | 1 = 274650\n",
      "y_true: 0 = 277552 | 1 = 277903\n",
      "auc=0.9930|sensitivity=0.9552|specificity=0.9668|acc=0.9610|mcc=0.9221\n",
      "precision=0.9665|recall=0.9552|f1=0.9608|aupr=0.9935\n"
     ]
    },
    {
     "name": "stderr",
     "output_type": "stream",
     "text": [
      "100%|████████████████████████████████████████████████████████████████████████████████| 136/136 [00:06<00:00, 19.79it/s]\n"
     ]
    },
    {
     "name": "stdout",
     "output_type": "stream",
     "text": [
      "Fold-0 ****Test  Epoch-14/25: Loss = 0.148162\n",
      "tn = 66010, fp = 3597, fn = 3340, tp = 65916\n",
      "y_pred: 0 = 69350 | 1 = 69513\n",
      "y_true: 0 = 69607 | 1 = 69256\n",
      "auc=0.9876|sensitivity=0.9518|specificity=0.9483|acc=0.9500|mcc=0.9001\n",
      "precision=0.9483|recall=0.9518|f1=0.9500|aupr=0.9883\n"
     ]
    },
    {
     "name": "stderr",
     "output_type": "stream",
     "text": [
      "  4%|███▍                                                                             | 23/543 [00:02<00:52,  9.92it/s]\n"
     ]
    },
    {
     "ename": "KeyboardInterrupt",
     "evalue": "",
     "output_type": "error",
     "traceback": [
      "\u001b[1;31m---------------------------------------------------------------------------\u001b[0m",
      "\u001b[1;31mKeyboardInterrupt\u001b[0m                         Traceback (most recent call last)",
      "\u001b[1;32m<ipython-input-111-488a7aca21bc>\u001b[0m in \u001b[0;36m<module>\u001b[1;34m\u001b[0m\n\u001b[0;32m     29\u001b[0m     \u001b[1;32mfor\u001b[0m \u001b[0mepoch\u001b[0m \u001b[1;32min\u001b[0m \u001b[0mrange\u001b[0m\u001b[1;33m(\u001b[0m\u001b[1;36m1\u001b[0m\u001b[1;33m,\u001b[0m \u001b[0mepochs\u001b[0m \u001b[1;33m+\u001b[0m \u001b[1;36m1\u001b[0m\u001b[1;33m)\u001b[0m\u001b[1;33m:\u001b[0m\u001b[1;33m\u001b[0m\u001b[1;33m\u001b[0m\u001b[0m\n\u001b[0;32m     30\u001b[0m \u001b[1;33m\u001b[0m\u001b[0m\n\u001b[1;32m---> 31\u001b[1;33m         \u001b[0mys_train\u001b[0m\u001b[1;33m,\u001b[0m \u001b[0mloss_train_list\u001b[0m\u001b[1;33m,\u001b[0m \u001b[0mmetrics_train\u001b[0m\u001b[1;33m,\u001b[0m \u001b[0mtime_train_ep\u001b[0m \u001b[1;33m=\u001b[0m \u001b[0mtrain_step\u001b[0m\u001b[1;33m(\u001b[0m\u001b[0mmodel\u001b[0m\u001b[1;33m,\u001b[0m \u001b[0mtrain_loader\u001b[0m\u001b[1;33m,\u001b[0m \u001b[0mfold\u001b[0m\u001b[1;33m,\u001b[0m \u001b[0mepoch\u001b[0m\u001b[1;33m,\u001b[0m \u001b[0mepochs\u001b[0m\u001b[1;33m,\u001b[0m \u001b[0muse_cuda\u001b[0m\u001b[1;33m)\u001b[0m \u001b[1;31m# , dec_attns_train\u001b[0m\u001b[1;33m\u001b[0m\u001b[1;33m\u001b[0m\u001b[0m\n\u001b[0m\u001b[0;32m     32\u001b[0m         \u001b[0mys_val\u001b[0m\u001b[1;33m,\u001b[0m \u001b[0mloss_val_list\u001b[0m\u001b[1;33m,\u001b[0m \u001b[0mmetrics_val\u001b[0m \u001b[1;33m=\u001b[0m \u001b[0meval_step\u001b[0m\u001b[1;33m(\u001b[0m\u001b[0mmodel\u001b[0m\u001b[1;33m,\u001b[0m \u001b[0mval_loader\u001b[0m\u001b[1;33m,\u001b[0m \u001b[0mfold\u001b[0m\u001b[1;33m,\u001b[0m \u001b[0mepoch\u001b[0m\u001b[1;33m,\u001b[0m \u001b[0mepochs\u001b[0m\u001b[1;33m,\u001b[0m \u001b[0muse_cuda\u001b[0m\u001b[1;33m)\u001b[0m \u001b[1;31m#, dec_attns_val\u001b[0m\u001b[1;33m\u001b[0m\u001b[1;33m\u001b[0m\u001b[0m\n\u001b[0;32m     33\u001b[0m \u001b[1;33m\u001b[0m\u001b[0m\n",
      "\u001b[1;32m<ipython-input-107-19299b785baf>\u001b[0m in \u001b[0;36mtrain_step\u001b[1;34m(model, train_loader, fold, epoch, epochs, use_cuda)\u001b[0m\n\u001b[0;32m      6\u001b[0m     \u001b[0my_true_train_list\u001b[0m\u001b[1;33m,\u001b[0m \u001b[0my_prob_train_list\u001b[0m \u001b[1;33m=\u001b[0m \u001b[1;33m[\u001b[0m\u001b[1;33m]\u001b[0m\u001b[1;33m,\u001b[0m \u001b[1;33m[\u001b[0m\u001b[1;33m]\u001b[0m\u001b[1;33m\u001b[0m\u001b[1;33m\u001b[0m\u001b[0m\n\u001b[0;32m      7\u001b[0m     \u001b[0mloss_train_list\u001b[0m \u001b[1;33m=\u001b[0m \u001b[1;33m[\u001b[0m\u001b[1;33m]\u001b[0m\u001b[1;33m\u001b[0m\u001b[1;33m\u001b[0m\u001b[0m\n\u001b[1;32m----> 8\u001b[1;33m     \u001b[1;32mfor\u001b[0m \u001b[0mtrain_pep_inputs\u001b[0m\u001b[1;33m,\u001b[0m \u001b[0mtrain_pep_lens\u001b[0m\u001b[1;33m,\u001b[0m \u001b[0mtrain_labels\u001b[0m \u001b[1;32min\u001b[0m \u001b[0mtqdm\u001b[0m\u001b[1;33m(\u001b[0m\u001b[0mtrain_loader\u001b[0m\u001b[1;33m)\u001b[0m\u001b[1;33m:\u001b[0m\u001b[1;33m\u001b[0m\u001b[1;33m\u001b[0m\u001b[0m\n\u001b[0m\u001b[0;32m      9\u001b[0m         '''\n\u001b[0;32m     10\u001b[0m         \u001b[0mpep_inputs\u001b[0m\u001b[1;33m:\u001b[0m \u001b[1;33m[\u001b[0m\u001b[0mbatch_size\u001b[0m\u001b[1;33m,\u001b[0m \u001b[0mpep_len\u001b[0m\u001b[1;33m]\u001b[0m\u001b[1;33m\u001b[0m\u001b[1;33m\u001b[0m\u001b[0m\n",
      "\u001b[1;32mE:\\anaconda3\\lib\\site-packages\\tqdm\\std.py\u001b[0m in \u001b[0;36m__iter__\u001b[1;34m(self)\u001b[0m\n\u001b[0;32m   1193\u001b[0m                     \u001b[0mdt\u001b[0m \u001b[1;33m=\u001b[0m \u001b[0mcur_t\u001b[0m \u001b[1;33m-\u001b[0m \u001b[0mlast_print_t\u001b[0m\u001b[1;33m\u001b[0m\u001b[1;33m\u001b[0m\u001b[0m\n\u001b[0;32m   1194\u001b[0m                     \u001b[1;32mif\u001b[0m \u001b[0mdt\u001b[0m \u001b[1;33m>=\u001b[0m \u001b[0mmininterval\u001b[0m \u001b[1;32mand\u001b[0m \u001b[0mcur_t\u001b[0m \u001b[1;33m>=\u001b[0m \u001b[0mmin_start_t\u001b[0m\u001b[1;33m:\u001b[0m\u001b[1;33m\u001b[0m\u001b[1;33m\u001b[0m\u001b[0m\n\u001b[1;32m-> 1195\u001b[1;33m                         \u001b[0mself\u001b[0m\u001b[1;33m.\u001b[0m\u001b[0mupdate\u001b[0m\u001b[1;33m(\u001b[0m\u001b[0mn\u001b[0m \u001b[1;33m-\u001b[0m \u001b[0mlast_print_n\u001b[0m\u001b[1;33m)\u001b[0m\u001b[1;33m\u001b[0m\u001b[1;33m\u001b[0m\u001b[0m\n\u001b[0m\u001b[0;32m   1196\u001b[0m                         \u001b[0mlast_print_n\u001b[0m \u001b[1;33m=\u001b[0m \u001b[0mself\u001b[0m\u001b[1;33m.\u001b[0m\u001b[0mlast_print_n\u001b[0m\u001b[1;33m\u001b[0m\u001b[1;33m\u001b[0m\u001b[0m\n\u001b[0;32m   1197\u001b[0m                         \u001b[0mlast_print_t\u001b[0m \u001b[1;33m=\u001b[0m \u001b[0mself\u001b[0m\u001b[1;33m.\u001b[0m\u001b[0mlast_print_t\u001b[0m\u001b[1;33m\u001b[0m\u001b[1;33m\u001b[0m\u001b[0m\n",
      "\u001b[1;32mE:\\anaconda3\\lib\\site-packages\\tqdm\\std.py\u001b[0m in \u001b[0;36mupdate\u001b[1;34m(self, n)\u001b[0m\n\u001b[0;32m   1244\u001b[0m                     \u001b[0mself\u001b[0m\u001b[1;33m.\u001b[0m\u001b[0m_ema_dn\u001b[0m\u001b[1;33m(\u001b[0m\u001b[0mdn\u001b[0m\u001b[1;33m)\u001b[0m\u001b[1;33m\u001b[0m\u001b[1;33m\u001b[0m\u001b[0m\n\u001b[0;32m   1245\u001b[0m                     \u001b[0mself\u001b[0m\u001b[1;33m.\u001b[0m\u001b[0m_ema_dt\u001b[0m\u001b[1;33m(\u001b[0m\u001b[0mdt\u001b[0m\u001b[1;33m)\u001b[0m\u001b[1;33m\u001b[0m\u001b[1;33m\u001b[0m\u001b[0m\n\u001b[1;32m-> 1246\u001b[1;33m                 \u001b[0mself\u001b[0m\u001b[1;33m.\u001b[0m\u001b[0mrefresh\u001b[0m\u001b[1;33m(\u001b[0m\u001b[0mlock_args\u001b[0m\u001b[1;33m=\u001b[0m\u001b[0mself\u001b[0m\u001b[1;33m.\u001b[0m\u001b[0mlock_args\u001b[0m\u001b[1;33m)\u001b[0m\u001b[1;33m\u001b[0m\u001b[1;33m\u001b[0m\u001b[0m\n\u001b[0m\u001b[0;32m   1247\u001b[0m                 \u001b[1;32mif\u001b[0m \u001b[0mself\u001b[0m\u001b[1;33m.\u001b[0m\u001b[0mdynamic_miniters\u001b[0m\u001b[1;33m:\u001b[0m\u001b[1;33m\u001b[0m\u001b[1;33m\u001b[0m\u001b[0m\n\u001b[0;32m   1248\u001b[0m                     \u001b[1;31m# If no `miniters` was specified, adjust automatically to the\u001b[0m\u001b[1;33m\u001b[0m\u001b[1;33m\u001b[0m\u001b[1;33m\u001b[0m\u001b[0m\n",
      "\u001b[1;32mE:\\anaconda3\\lib\\site-packages\\tqdm\\std.py\u001b[0m in \u001b[0;36mrefresh\u001b[1;34m(self, nolock, lock_args)\u001b[0m\n\u001b[0;32m   1349\u001b[0m             \u001b[1;32melse\u001b[0m\u001b[1;33m:\u001b[0m\u001b[1;33m\u001b[0m\u001b[1;33m\u001b[0m\u001b[0m\n\u001b[0;32m   1350\u001b[0m                 \u001b[0mself\u001b[0m\u001b[1;33m.\u001b[0m\u001b[0m_lock\u001b[0m\u001b[1;33m.\u001b[0m\u001b[0macquire\u001b[0m\u001b[1;33m(\u001b[0m\u001b[1;33m)\u001b[0m\u001b[1;33m\u001b[0m\u001b[1;33m\u001b[0m\u001b[0m\n\u001b[1;32m-> 1351\u001b[1;33m         \u001b[0mself\u001b[0m\u001b[1;33m.\u001b[0m\u001b[0mdisplay\u001b[0m\u001b[1;33m(\u001b[0m\u001b[1;33m)\u001b[0m\u001b[1;33m\u001b[0m\u001b[1;33m\u001b[0m\u001b[0m\n\u001b[0m\u001b[0;32m   1352\u001b[0m         \u001b[1;32mif\u001b[0m \u001b[1;32mnot\u001b[0m \u001b[0mnolock\u001b[0m\u001b[1;33m:\u001b[0m\u001b[1;33m\u001b[0m\u001b[1;33m\u001b[0m\u001b[0m\n\u001b[0;32m   1353\u001b[0m             \u001b[0mself\u001b[0m\u001b[1;33m.\u001b[0m\u001b[0m_lock\u001b[0m\u001b[1;33m.\u001b[0m\u001b[0mrelease\u001b[0m\u001b[1;33m(\u001b[0m\u001b[1;33m)\u001b[0m\u001b[1;33m\u001b[0m\u001b[1;33m\u001b[0m\u001b[0m\n",
      "\u001b[1;32mE:\\anaconda3\\lib\\site-packages\\tqdm\\std.py\u001b[0m in \u001b[0;36mdisplay\u001b[1;34m(self, msg, pos)\u001b[0m\n\u001b[0;32m   1497\u001b[0m         \u001b[1;32mif\u001b[0m \u001b[0mpos\u001b[0m\u001b[1;33m:\u001b[0m\u001b[1;33m\u001b[0m\u001b[1;33m\u001b[0m\u001b[0m\n\u001b[0;32m   1498\u001b[0m             \u001b[0mself\u001b[0m\u001b[1;33m.\u001b[0m\u001b[0mmoveto\u001b[0m\u001b[1;33m(\u001b[0m\u001b[0mpos\u001b[0m\u001b[1;33m)\u001b[0m\u001b[1;33m\u001b[0m\u001b[1;33m\u001b[0m\u001b[0m\n\u001b[1;32m-> 1499\u001b[1;33m         \u001b[0mself\u001b[0m\u001b[1;33m.\u001b[0m\u001b[0msp\u001b[0m\u001b[1;33m(\u001b[0m\u001b[0mself\u001b[0m\u001b[1;33m.\u001b[0m\u001b[0m__str__\u001b[0m\u001b[1;33m(\u001b[0m\u001b[1;33m)\u001b[0m \u001b[1;32mif\u001b[0m \u001b[0mmsg\u001b[0m \u001b[1;32mis\u001b[0m \u001b[1;32mNone\u001b[0m \u001b[1;32melse\u001b[0m \u001b[0mmsg\u001b[0m\u001b[1;33m)\u001b[0m\u001b[1;33m\u001b[0m\u001b[1;33m\u001b[0m\u001b[0m\n\u001b[0m\u001b[0;32m   1500\u001b[0m         \u001b[1;32mif\u001b[0m \u001b[0mpos\u001b[0m\u001b[1;33m:\u001b[0m\u001b[1;33m\u001b[0m\u001b[1;33m\u001b[0m\u001b[0m\n\u001b[0;32m   1501\u001b[0m             \u001b[0mself\u001b[0m\u001b[1;33m.\u001b[0m\u001b[0mmoveto\u001b[0m\u001b[1;33m(\u001b[0m\u001b[1;33m-\u001b[0m\u001b[0mpos\u001b[0m\u001b[1;33m)\u001b[0m\u001b[1;33m\u001b[0m\u001b[1;33m\u001b[0m\u001b[0m\n",
      "\u001b[1;32mE:\\anaconda3\\lib\\site-packages\\tqdm\\std.py\u001b[0m in \u001b[0;36mprint_status\u001b[1;34m(s)\u001b[0m\n\u001b[0;32m    349\u001b[0m         \u001b[1;32mdef\u001b[0m \u001b[0mprint_status\u001b[0m\u001b[1;33m(\u001b[0m\u001b[0ms\u001b[0m\u001b[1;33m)\u001b[0m\u001b[1;33m:\u001b[0m\u001b[1;33m\u001b[0m\u001b[1;33m\u001b[0m\u001b[0m\n\u001b[0;32m    350\u001b[0m             \u001b[0mlen_s\u001b[0m \u001b[1;33m=\u001b[0m \u001b[0mdisp_len\u001b[0m\u001b[1;33m(\u001b[0m\u001b[0ms\u001b[0m\u001b[1;33m)\u001b[0m\u001b[1;33m\u001b[0m\u001b[1;33m\u001b[0m\u001b[0m\n\u001b[1;32m--> 351\u001b[1;33m             \u001b[0mfp_write\u001b[0m\u001b[1;33m(\u001b[0m\u001b[1;34m'\\r'\u001b[0m \u001b[1;33m+\u001b[0m \u001b[0ms\u001b[0m \u001b[1;33m+\u001b[0m \u001b[1;33m(\u001b[0m\u001b[1;34m' '\u001b[0m \u001b[1;33m*\u001b[0m \u001b[0mmax\u001b[0m\u001b[1;33m(\u001b[0m\u001b[0mlast_len\u001b[0m\u001b[1;33m[\u001b[0m\u001b[1;36m0\u001b[0m\u001b[1;33m]\u001b[0m \u001b[1;33m-\u001b[0m \u001b[0mlen_s\u001b[0m\u001b[1;33m,\u001b[0m \u001b[1;36m0\u001b[0m\u001b[1;33m)\u001b[0m\u001b[1;33m)\u001b[0m\u001b[1;33m)\u001b[0m\u001b[1;33m\u001b[0m\u001b[1;33m\u001b[0m\u001b[0m\n\u001b[0m\u001b[0;32m    352\u001b[0m             \u001b[0mlast_len\u001b[0m\u001b[1;33m[\u001b[0m\u001b[1;36m0\u001b[0m\u001b[1;33m]\u001b[0m \u001b[1;33m=\u001b[0m \u001b[0mlen_s\u001b[0m\u001b[1;33m\u001b[0m\u001b[1;33m\u001b[0m\u001b[0m\n\u001b[0;32m    353\u001b[0m \u001b[1;33m\u001b[0m\u001b[0m\n",
      "\u001b[1;32mE:\\anaconda3\\lib\\site-packages\\tqdm\\std.py\u001b[0m in \u001b[0;36mfp_write\u001b[1;34m(s)\u001b[0m\n\u001b[0;32m    343\u001b[0m         \u001b[1;32mdef\u001b[0m \u001b[0mfp_write\u001b[0m\u001b[1;33m(\u001b[0m\u001b[0ms\u001b[0m\u001b[1;33m)\u001b[0m\u001b[1;33m:\u001b[0m\u001b[1;33m\u001b[0m\u001b[1;33m\u001b[0m\u001b[0m\n\u001b[0;32m    344\u001b[0m             \u001b[0mfp\u001b[0m\u001b[1;33m.\u001b[0m\u001b[0mwrite\u001b[0m\u001b[1;33m(\u001b[0m\u001b[0m_unicode\u001b[0m\u001b[1;33m(\u001b[0m\u001b[0ms\u001b[0m\u001b[1;33m)\u001b[0m\u001b[1;33m)\u001b[0m\u001b[1;33m\u001b[0m\u001b[1;33m\u001b[0m\u001b[0m\n\u001b[1;32m--> 345\u001b[1;33m             \u001b[0mfp_flush\u001b[0m\u001b[1;33m(\u001b[0m\u001b[1;33m)\u001b[0m\u001b[1;33m\u001b[0m\u001b[1;33m\u001b[0m\u001b[0m\n\u001b[0m\u001b[0;32m    346\u001b[0m \u001b[1;33m\u001b[0m\u001b[0m\n\u001b[0;32m    347\u001b[0m         \u001b[0mlast_len\u001b[0m \u001b[1;33m=\u001b[0m \u001b[1;33m[\u001b[0m\u001b[1;36m0\u001b[0m\u001b[1;33m]\u001b[0m\u001b[1;33m\u001b[0m\u001b[1;33m\u001b[0m\u001b[0m\n",
      "\u001b[1;32mE:\\anaconda3\\lib\\site-packages\\tqdm\\utils.py\u001b[0m in \u001b[0;36minner\u001b[1;34m(*args, **kwargs)\u001b[0m\n\u001b[0;32m    143\u001b[0m         \u001b[1;32mdef\u001b[0m \u001b[0minner\u001b[0m\u001b[1;33m(\u001b[0m\u001b[1;33m*\u001b[0m\u001b[0margs\u001b[0m\u001b[1;33m,\u001b[0m \u001b[1;33m**\u001b[0m\u001b[0mkwargs\u001b[0m\u001b[1;33m)\u001b[0m\u001b[1;33m:\u001b[0m\u001b[1;33m\u001b[0m\u001b[1;33m\u001b[0m\u001b[0m\n\u001b[0;32m    144\u001b[0m             \u001b[1;32mtry\u001b[0m\u001b[1;33m:\u001b[0m\u001b[1;33m\u001b[0m\u001b[1;33m\u001b[0m\u001b[0m\n\u001b[1;32m--> 145\u001b[1;33m                 \u001b[1;32mreturn\u001b[0m \u001b[0mfunc\u001b[0m\u001b[1;33m(\u001b[0m\u001b[1;33m*\u001b[0m\u001b[0margs\u001b[0m\u001b[1;33m,\u001b[0m \u001b[1;33m**\u001b[0m\u001b[0mkwargs\u001b[0m\u001b[1;33m)\u001b[0m\u001b[1;33m\u001b[0m\u001b[1;33m\u001b[0m\u001b[0m\n\u001b[0m\u001b[0;32m    146\u001b[0m             \u001b[1;32mexcept\u001b[0m \u001b[0mOSError\u001b[0m \u001b[1;32mas\u001b[0m \u001b[0me\u001b[0m\u001b[1;33m:\u001b[0m\u001b[1;33m\u001b[0m\u001b[1;33m\u001b[0m\u001b[0m\n\u001b[0;32m    147\u001b[0m                 \u001b[1;32mif\u001b[0m \u001b[0me\u001b[0m\u001b[1;33m.\u001b[0m\u001b[0merrno\u001b[0m \u001b[1;33m!=\u001b[0m \u001b[1;36m5\u001b[0m\u001b[1;33m:\u001b[0m\u001b[1;33m\u001b[0m\u001b[1;33m\u001b[0m\u001b[0m\n",
      "\u001b[1;32mE:\\anaconda3\\lib\\site-packages\\ipykernel\\iostream.py\u001b[0m in \u001b[0;36mflush\u001b[1;34m(self)\u001b[0m\n\u001b[0;32m    350\u001b[0m                 \u001b[0mself\u001b[0m\u001b[1;33m.\u001b[0m\u001b[0mpub_thread\u001b[0m\u001b[1;33m.\u001b[0m\u001b[0mschedule\u001b[0m\u001b[1;33m(\u001b[0m\u001b[0mevt\u001b[0m\u001b[1;33m.\u001b[0m\u001b[0mset\u001b[0m\u001b[1;33m)\u001b[0m\u001b[1;33m\u001b[0m\u001b[1;33m\u001b[0m\u001b[0m\n\u001b[0;32m    351\u001b[0m                 \u001b[1;31m# and give a timeout to avoid\u001b[0m\u001b[1;33m\u001b[0m\u001b[1;33m\u001b[0m\u001b[1;33m\u001b[0m\u001b[0m\n\u001b[1;32m--> 352\u001b[1;33m                 \u001b[1;32mif\u001b[0m \u001b[1;32mnot\u001b[0m \u001b[0mevt\u001b[0m\u001b[1;33m.\u001b[0m\u001b[0mwait\u001b[0m\u001b[1;33m(\u001b[0m\u001b[0mself\u001b[0m\u001b[1;33m.\u001b[0m\u001b[0mflush_timeout\u001b[0m\u001b[1;33m)\u001b[0m\u001b[1;33m:\u001b[0m\u001b[1;33m\u001b[0m\u001b[1;33m\u001b[0m\u001b[0m\n\u001b[0m\u001b[0;32m    353\u001b[0m                     \u001b[1;31m# write directly to __stderr__ instead of warning because\u001b[0m\u001b[1;33m\u001b[0m\u001b[1;33m\u001b[0m\u001b[1;33m\u001b[0m\u001b[0m\n\u001b[0;32m    354\u001b[0m                     \u001b[1;31m# if this is happening sys.stderr may be the problem.\u001b[0m\u001b[1;33m\u001b[0m\u001b[1;33m\u001b[0m\u001b[1;33m\u001b[0m\u001b[0m\n",
      "\u001b[1;32mE:\\anaconda3\\lib\\threading.py\u001b[0m in \u001b[0;36mwait\u001b[1;34m(self, timeout)\u001b[0m\n\u001b[0;32m    556\u001b[0m             \u001b[0msignaled\u001b[0m \u001b[1;33m=\u001b[0m \u001b[0mself\u001b[0m\u001b[1;33m.\u001b[0m\u001b[0m_flag\u001b[0m\u001b[1;33m\u001b[0m\u001b[1;33m\u001b[0m\u001b[0m\n\u001b[0;32m    557\u001b[0m             \u001b[1;32mif\u001b[0m \u001b[1;32mnot\u001b[0m \u001b[0msignaled\u001b[0m\u001b[1;33m:\u001b[0m\u001b[1;33m\u001b[0m\u001b[1;33m\u001b[0m\u001b[0m\n\u001b[1;32m--> 558\u001b[1;33m                 \u001b[0msignaled\u001b[0m \u001b[1;33m=\u001b[0m \u001b[0mself\u001b[0m\u001b[1;33m.\u001b[0m\u001b[0m_cond\u001b[0m\u001b[1;33m.\u001b[0m\u001b[0mwait\u001b[0m\u001b[1;33m(\u001b[0m\u001b[0mtimeout\u001b[0m\u001b[1;33m)\u001b[0m\u001b[1;33m\u001b[0m\u001b[1;33m\u001b[0m\u001b[0m\n\u001b[0m\u001b[0;32m    559\u001b[0m             \u001b[1;32mreturn\u001b[0m \u001b[0msignaled\u001b[0m\u001b[1;33m\u001b[0m\u001b[1;33m\u001b[0m\u001b[0m\n\u001b[0;32m    560\u001b[0m \u001b[1;33m\u001b[0m\u001b[0m\n",
      "\u001b[1;32mE:\\anaconda3\\lib\\threading.py\u001b[0m in \u001b[0;36mwait\u001b[1;34m(self, timeout)\u001b[0m\n\u001b[0;32m    304\u001b[0m             \u001b[1;32melse\u001b[0m\u001b[1;33m:\u001b[0m\u001b[1;33m\u001b[0m\u001b[1;33m\u001b[0m\u001b[0m\n\u001b[0;32m    305\u001b[0m                 \u001b[1;32mif\u001b[0m \u001b[0mtimeout\u001b[0m \u001b[1;33m>\u001b[0m \u001b[1;36m0\u001b[0m\u001b[1;33m:\u001b[0m\u001b[1;33m\u001b[0m\u001b[1;33m\u001b[0m\u001b[0m\n\u001b[1;32m--> 306\u001b[1;33m                     \u001b[0mgotit\u001b[0m \u001b[1;33m=\u001b[0m \u001b[0mwaiter\u001b[0m\u001b[1;33m.\u001b[0m\u001b[0macquire\u001b[0m\u001b[1;33m(\u001b[0m\u001b[1;32mTrue\u001b[0m\u001b[1;33m,\u001b[0m \u001b[0mtimeout\u001b[0m\u001b[1;33m)\u001b[0m\u001b[1;33m\u001b[0m\u001b[1;33m\u001b[0m\u001b[0m\n\u001b[0m\u001b[0;32m    307\u001b[0m                 \u001b[1;32melse\u001b[0m\u001b[1;33m:\u001b[0m\u001b[1;33m\u001b[0m\u001b[1;33m\u001b[0m\u001b[0m\n\u001b[0;32m    308\u001b[0m                     \u001b[0mgotit\u001b[0m \u001b[1;33m=\u001b[0m \u001b[0mwaiter\u001b[0m\u001b[1;33m.\u001b[0m\u001b[0macquire\u001b[0m\u001b[1;33m(\u001b[0m\u001b[1;32mFalse\u001b[0m\u001b[1;33m)\u001b[0m\u001b[1;33m\u001b[0m\u001b[1;33m\u001b[0m\u001b[0m\n",
      "\u001b[1;31mKeyboardInterrupt\u001b[0m: "
     ]
    }
   ],
   "source": [
    "ys_train_fold_dict, ys_val_fold_dict = {}, {}\n",
    "train_fold_metrics_list, val_fold_metrics_list = [], []\n",
    "independent_fold_metrics_list, external_fold_metrics_list, ys_independent_fold_dict, ys_external_fold_dict = [], [], {}, {}\n",
    "attns_train_fold_dict, attns_val_fold_dict, attns_independent_fold_dict, attns_external_fold_dict = {}, {}, {}, {}\n",
    "loss_train_fold_dict, loss_val_fold_dict, loss_independent_fold_dict, loss_external_fold_dict = {}, {}, {}, {}\n",
    "\n",
    "for fold in range(3,4):\n",
    "    print('=====Fold-{}====='.format(fold))\n",
    "    print('-----Generate data loader-----')\n",
    "    train_data, train_pep_inputs, train_hla_inputs, train_pep_lens, train_labels, train_loader = data_with_loader(type_ = 'train', fold = fold,  batch_size = batch_size)\n",
    "    val_data, val_pep_inputs, val_hla_inputs, val_pep_lens, val_labels, val_loader = data_with_loader(type_ = 'val', fold = fold,  batch_size = batch_size)\n",
    "    print('Fold-{} Label info: Train = {} | Val = {}'.format(fold, Counter(train_data.label), Counter(val_data.label)))\n",
    "\n",
    "    print('-----Compile model-----')\n",
    "    model = STSeqCls((21, 100), num_cls=2, hidden_size=300, num_layers=1, num_head=8, max_len=49,cls_hidden_size=600,dropout=0.1,head_dim=32).to(device)\n",
    "    print(model)\n",
    "    criterion = nn.CrossEntropyLoss()\n",
    "    optimizer = optim.Adam(model.parameters(), lr = 1e-3)#, momentum = 0.99)\n",
    "#     optimizer = ScheduledOptim(optim.Adam(model.parameters(), betas=(0.9, 0.98), eps=1e-09), 2, 64, 10)\n",
    "\n",
    "    print('-----Train-----')\n",
    "    dir_saver = 'G:TransPHLA-AOMP/model/STformer/'\n",
    "    path_saver = 'G:TransPHLA-AOMP/model/STformer/netmhcpan/st_layer{}_multihead{}_fold{}_netmhcpan.pkl'.format(n_layers, n_heads, fold)\n",
    "    print('dir_saver: ', dir_saver)\n",
    "    print('path_saver: ', path_saver)\n",
    "\n",
    "    metric_best, ep_best = 0, -1\n",
    "    time_train = 0\n",
    "    for epoch in range(1, epochs + 1):\n",
    "\n",
    "        ys_train, loss_train_list, metrics_train, time_train_ep = train_step(model, train_loader, fold, epoch, epochs, use_cuda) # , dec_attns_train\n",
    "        ys_val, loss_val_list, metrics_val = eval_step(model, val_loader, fold, epoch, epochs, use_cuda) #, dec_attns_val\n",
    "\n",
    "        metrics_ep_avg = sum(metrics_val[:4])/4\n",
    "        if metrics_ep_avg > metric_best: \n",
    "            metric_best, ep_best = metrics_ep_avg, epoch\n",
    "            if not os.path.exists(dir_saver):\n",
    "                os.makedirs(dir_saver)\n",
    "            print('****Saving model: Best epoch = {} | 5metrics_Best_avg = {:.4f}'.format(ep_best, metric_best))\n",
    "            print('*****Path saver: ', path_saver)\n",
    "            torch.save(model.eval().state_dict(), path_saver)\n",
    "\n",
    "        time_train += time_train_ep\n",
    "\n",
    "    print('-----Optimization Finished!-----')\n",
    "    print('-----Evaluate Results-----')\n",
    "    if ep_best >= 0:\n",
    "        print('*****Path saver: ', path_saver)\n",
    "        model.load_state_dict(torch.load(path_saver))\n",
    "        model_eval = model.eval()\n",
    "\n",
    "        ys_res_train, loss_res_train_list, metrics_res_train = eval_step(model_eval, train_loader, fold, ep_best, epochs, use_cuda) # , train_res_attns\n",
    "        ys_res_val, loss_res_val_list, metrics_res_val = eval_step(model_eval, val_loader, fold, ep_best, epochs, use_cuda) # , val_res_attns\n",
    "        ys_res_independent, loss_res_independent_list, metrics_res_independent = eval_step(model_eval, independent_loader, fold, ep_best, epochs, use_cuda) # , independent_res_attns\n",
    "        ys_res_external, loss_res_external_list, metrics_res_external = eval_step(model_eval, external_loader, fold, ep_best, epochs, use_cuda) # , external_res_attns\n",
    "\n",
    "        train_fold_metrics_list.append(metrics_res_train)\n",
    "        val_fold_metrics_list.append(metrics_res_val)\n",
    "        independent_fold_metrics_list.append(metrics_res_independent)\n",
    "        external_fold_metrics_list.append(metrics_res_external)\n",
    "\n",
    "        ys_train_fold_dict[fold], ys_val_fold_dict[fold], ys_independent_fold_dict[fold], ys_external_fold_dict[fold] = ys_res_train, ys_res_val, ys_res_independent, ys_res_external    \n",
    "        loss_train_fold_dict[fold], loss_val_fold_dict[fold], loss_independent_fold_dict[fold], loss_external_fold_dict[fold] = loss_res_train_list, loss_res_val_list, loss_res_independent_list, loss_res_external_list  \n",
    "\n",
    "    print(\"Total training time: {:6.2f} sec\".format(time_train))"
   ]
  },
  {
   "cell_type": "code",
   "execution_count": 141,
   "id": "689b44c1",
   "metadata": {},
   "outputs": [
    {
     "data": {
      "text/plain": [
       "<All keys matched successfully>"
      ]
     },
     "execution_count": 141,
     "metadata": {},
     "output_type": "execute_result"
    }
   ],
   "source": [
    "path_saver = '../model/st_layer1_multihead8_fold3_netmhcpan.pkl'\n",
    "model = STSeqCls((21, 100), num_cls=2, hidden_size=300, num_layers=1, num_head=8, max_len=49,cls_hidden_size=600,dropout=0.1,head_dim=32).to(device)\n",
    "model.load_state_dict(torch.load(path_saver))"
   ]
  },
  {
   "cell_type": "code",
   "execution_count": 142,
   "id": "eaa3037c",
   "metadata": {},
   "outputs": [
    {
     "name": "stderr",
     "output_type": "stream",
     "text": [
      "100%|████████████████████████████████████████████████████████████████████████████████| 168/168 [00:08<00:00, 19.81it/s]\n"
     ]
    },
    {
     "name": "stdout",
     "output_type": "stream",
     "text": [
      "Fold-3 ****Test  Epoch-7/25: Loss = 0.367765\n",
      "tn = 74424, fp = 11138, fn = 9313, tp = 76563\n",
      "y_pred: 0 = 83737 | 1 = 87701\n",
      "y_true: 0 = 85562 | 1 = 85876\n",
      "auc=0.9444|sensitivity=0.8916|specificity=0.8698|acc=0.8807|mcc=0.7616\n",
      "precision=0.8730|recall=0.8916|f1=0.8822|aupr=0.9448\n"
     ]
    },
    {
     "name": "stderr",
     "output_type": "stream",
     "text": [
      "100%|████████████████████████████████████████████████████████████████████████████████| 102/102 [00:05<00:00, 19.71it/s]\n"
     ]
    },
    {
     "name": "stdout",
     "output_type": "stream",
     "text": [
      "Fold-3 ****Test  Epoch-7/25: Loss = 0.336248\n",
      "tn = 46839, fp = 5042, fn = 7528, tp = 44456\n",
      "y_pred: 0 = 54367 | 1 = 49498\n",
      "y_true: 0 = 51881 | 1 = 51984\n",
      "auc=0.9410|sensitivity=0.8552|specificity=0.9028|acc=0.8790|mcc=0.7588\n",
      "precision=0.8981|recall=0.8552|f1=0.8761|aupr=0.9472\n"
     ]
    }
   ],
   "source": [
    "# model = model_eval\n",
    "criterion = nn.CrossEntropyLoss()\n",
    "fold = 3\n",
    "ep_best = 7\n",
    "\n",
    "model_eval = model.eval()\n",
    "ys_res_independent, loss_res_independent_list, metrics_res_independent = eval_step(model_eval, independent_loader, fold, ep_best, epochs, use_cuda) # , independent_res_attns\n",
    "ys_res_external, loss_res_external_list, metrics_res_external = eval_step(model_eval, external_loader, fold, ep_best, epochs, use_cuda) # , external_res_attns\n"
   ]
  },
  {
   "cell_type": "code",
   "execution_count": null,
   "id": "95e983fc",
   "metadata": {},
   "outputs": [],
   "source": []
  },
  {
   "cell_type": "code",
   "execution_count": 143,
   "id": "507a1061",
   "metadata": {},
   "outputs": [],
   "source": [
    "class StarTransformer(nn.Module):\n",
    "    r\"\"\"\n",
    "    Star-Transformer 的encoder部分。 输入3d的文本输入, 返回相同长度的文本编码\n",
    "    paper: https://arxiv.org/abs/1902.09113\n",
    "    \"\"\"\n",
    "\n",
    "    def __init__(self, hidden_size, num_layers, num_head, head_dim, dropout=0.1, max_len=None):\n",
    "        r\"\"\"\n",
    "        \n",
    "        :param int hidden_size: 输入维度的大小。同时也是输出维度的大小。\n",
    "        :param int num_layers: star-transformer的层数\n",
    "        :param int num_head: head的数量。\n",
    "        :param int head_dim: 每个head的维度大小。\n",
    "        :param float dropout: dropout 概率. Default: 0.1\n",
    "        :param int max_len: int or None, 如果为int，输入序列的最大长度，\n",
    "            模型会为输入序列加上position embedding。\n",
    "            若为`None`，忽略加上position embedding的步骤. Default: `None`\n",
    "        \"\"\"\n",
    "        super(StarTransformer, self).__init__()\n",
    "        self.iters = num_layers\n",
    "\n",
    "        self.norm = nn.ModuleList([nn.LayerNorm(hidden_size, eps=1e-6) for _ in range(self.iters)])\n",
    "        # self.emb_fc = nn.Conv2d(hidden_size, hidden_size, 1)\n",
    "        self.emb_drop = nn.Dropout(dropout)\n",
    "        self.ring_att = nn.ModuleList(\n",
    "            [_MSA1(hidden_size, nhead=num_head, head_dim=head_dim, dropout=0.0)\n",
    "             for _ in range(self.iters)])\n",
    "        self.star_att = nn.ModuleList(\n",
    "            [_MSA2(hidden_size, nhead=num_head, head_dim=head_dim, dropout=0.0)\n",
    "             for _ in range(self.iters)])\n",
    "\n",
    "        if max_len is not None:\n",
    "            self.pos_emb = nn.Embedding(max_len, hidden_size)\n",
    "        else:\n",
    "            self.pos_emb = None\n",
    "\n",
    "    def forward(self, data, mask):\n",
    "        r\"\"\"\n",
    "        :param FloatTensor data: [batch, length, hidden] 输入的序列\n",
    "        :param ByteTensor mask: [batch, length] 输入序列的padding mask, 在没有内容(padding 部分) 为 0,\n",
    "            否则为 1\n",
    "        :return: [batch, length, hidden] 编码后的输出序列\n",
    "                [batch, hidden] 全局 relay 节点, 详见论文\n",
    "        \"\"\"\n",
    "\n",
    "        def norm_func(f, x):\n",
    "            # B, H, L, 1\n",
    "            return f(x.permute(0, 2, 3, 1)).permute(0, 3, 1, 2)\n",
    "\n",
    "        B, L, H = data.size()\n",
    "        mask = (mask.eq(False))  # flip the mask for masked_fill_\n",
    "        smask = torch.cat([torch.zeros(B, 1, ).byte().to(mask), mask], 1)\n",
    "\n",
    "        embs = data.permute(0, 2, 1)[:, :, :, None]  # B H L 1\n",
    "        if self.pos_emb:\n",
    "            P = self.pos_emb(torch.arange(L, dtype=torch.long, device=embs.device) \\\n",
    "                             .view(1, L)).permute(0, 2, 1).contiguous()[:, :, :, None]  # 1 H L 1\n",
    "            embs = embs + P\n",
    "        embs = norm_func(self.emb_drop, embs)\n",
    "        nodes = embs\n",
    "        relay = embs.mean(2, keepdim=True)\n",
    "        ex_mask = mask[:, None, :, None].expand(B, H, L, 1)\n",
    "        r_embs = embs.view(B, H, 1, L)\n",
    "#         nodes_attns = []\n",
    "        relays_attns = []\n",
    "        for i in range(self.iters):\n",
    "            ax = torch.cat([r_embs, relay.expand(B, H, 1, L)], 2)\n",
    "#             nodes, nodes_att = self.ring_att[i](norm_func(self.norm[i], nodes), ax=ax)\n",
    "#             nodes = F.leaky_relu(nodes)\n",
    "            nodes = F.leaky_relu(self.ring_att[i](nodes, ax=ax))\n",
    "            relay, relay_att = self.star_att[i](relay, torch.cat([relay, nodes], 2), smask)\n",
    "            relay = F.leaky_relu(relay)\n",
    "            relays_attns.append(relay_att)\n",
    "#             nodes_attns.append(nodes_att)\n",
    "            nodes = nodes.masked_fill_(ex_mask, 0)\n",
    "\n",
    "        nodes = nodes.view(B, H, L).permute(0, 2, 1)\n",
    "\n",
    "        return nodes, relay.view(B, H), relays_attns\n",
    "\n",
    "\n",
    "class _MSA1(nn.Module):\n",
    "    def __init__(self, nhid, nhead=10, head_dim=10, dropout=0.1):\n",
    "        super(_MSA1, self).__init__()\n",
    "        # Multi-head Self Attention Case 1, doing self-attention for small regions\n",
    "        # Due to the architecture of GPU, using hadamard production and summation are faster than dot production when unfold_size is very small\n",
    "        self.WQ = nn.Conv2d(nhid, nhead * head_dim, 1)\n",
    "        self.WK = nn.Conv2d(nhid, nhead * head_dim, 1)\n",
    "        self.WV = nn.Conv2d(nhid, nhead * head_dim, 1)\n",
    "        self.WO = nn.Conv2d(nhead * head_dim, nhid, 1)\n",
    "\n",
    "        self.drop = nn.Dropout(dropout)\n",
    "\n",
    "        self.nhid, self.nhead, self.head_dim, self.unfold_size = nhid, nhead, head_dim, 3\n",
    "\n",
    "    def forward(self, x, ax=None):\n",
    "        # x: B, H, L, 1, ax : B, H, X, L append features\n",
    "        nhid, nhead, head_dim, unfold_size = self.nhid, self.nhead, self.head_dim, self.unfold_size\n",
    "        B, H, L, _ = x.shape\n",
    "        q, k, v = self.WQ(x), self.WK(x), self.WV(x)  # x: (B,H,L,1)\n",
    "\n",
    "        if ax is not None:\n",
    "            aL = ax.shape[2]\n",
    "            ak = self.WK(ax).view(B, nhead, head_dim, aL, L)\n",
    "            av = self.WV(ax).view(B, nhead, head_dim, aL, L)\n",
    "        q = q.view(B, nhead, head_dim, 1, L)\n",
    "        k = F.unfold(k.view(B, nhead * head_dim, L, 1), (unfold_size, 1), padding=(unfold_size // 2, 0)) \\\n",
    "            .view(B, nhead, head_dim, unfold_size, L)\n",
    "        v = F.unfold(v.view(B, nhead * head_dim, L, 1), (unfold_size, 1), padding=(unfold_size // 2, 0)) \\\n",
    "            .view(B, nhead, head_dim, unfold_size, L)\n",
    "        if ax is not None:\n",
    "            k = torch.cat([k, ak], 3)\n",
    "            v = torch.cat([v, av], 3)\n",
    "        alphas = self.drop(F.softmax((q * k).sum(2, keepdim=True) / np.sqrt(head_dim), 3))  # B N L 1 U\n",
    "        #print('alphas shape',alphas.shape) #[1024, 8, 1, 5, 49]\n",
    "        att = (alphas * v).sum(3).view(B, nhead * head_dim, L, 1)\n",
    "        ret = self.WO(att)\n",
    "\n",
    "        return ret\n",
    "\n",
    "\n",
    "class _MSA2(nn.Module):\n",
    "    def __init__(self, nhid, nhead=10, head_dim=10, dropout=0.1):\n",
    "        # Multi-head Self Attention Case 2, a broadcastable query for a sequence key and value\n",
    "        super(_MSA2, self).__init__()\n",
    "        self.WQ = nn.Conv2d(nhid, nhead * head_dim, 1)\n",
    "        self.WK = nn.Conv2d(nhid, nhead * head_dim, 1)\n",
    "        self.WV = nn.Conv2d(nhid, nhead * head_dim, 1)\n",
    "        self.WO = nn.Conv2d(nhead * head_dim, nhid, 1)\n",
    "\n",
    "        self.drop = nn.Dropout(dropout)\n",
    "\n",
    "        self.nhid, self.nhead, self.head_dim, self.unfold_size = nhid, nhead, head_dim, 3\n",
    "    def forward(self, x, y, mask=None):\n",
    "        # x: B, H, 1, 1, 1 y: B H L 1\n",
    "        nhid, nhead, head_dim, unfold_size = self.nhid, self.nhead, self.head_dim, self.unfold_size\n",
    "        B, H, L, _ = y.shape\n",
    "\n",
    "        q, k, v = self.WQ(x), self.WK(y), self.WV(y)\n",
    "\n",
    "        q = q.view(B, nhead, 1, head_dim)  # B, H, 1, 1 -> B, N, 1, h\n",
    "        k = k.view(B, nhead, head_dim, L)  # B, H, L, 1 -> B, N, h, L\n",
    "        v = v.view(B, nhead, head_dim, L).permute(0, 1, 3, 2)  # B, H, L, 1 -> B, N, L, h\n",
    "        pre_a = torch.matmul(q, k) / np.sqrt(head_dim)\n",
    "        \n",
    "        if mask is not None:\n",
    "            pre_a = pre_a.masked_fill(mask[:, None, None, :], -float('inf'))\n",
    "        alphas = self.drop(F.softmax(pre_a, 3))  # B, N, 1, L\n",
    "        att = torch.matmul(alphas, v).view(B, -1, 1, 1)  # B, N, 1, h -> B, N*h, 1, 1\n",
    "        return self.WO(att) ,alphas\n",
    "    \n",
    "class StarTransEnc(nn.Module):\n",
    "    r\"\"\"\n",
    "    带word embedding的Star-Transformer Encoder\n",
    "    \"\"\"\n",
    "\n",
    "    def __init__(self, embed,\n",
    "                 hidden_size,\n",
    "                 num_layers,\n",
    "                 num_head,\n",
    "                 head_dim,\n",
    "                 max_len,\n",
    "                 emb_dropout,\n",
    "                 dropout):\n",
    "        r\"\"\"\n",
    "        \n",
    "        :param embed: 单词词典, 可以是 tuple, 包括(num_embedings, embedding_dim), 即\n",
    "            embedding的大小和每个词的维度. 也可以传入 nn.Embedding 对象,此时就以传入的对象作为embedding\n",
    "        :param hidden_size: 模型中特征维度.\n",
    "        :param num_layers: 模型层数.\n",
    "        :param num_head: 模型中multi-head的head个数.\n",
    "        :param head_dim: 模型中multi-head中每个head特征维度.\n",
    "        :param max_len: 模型能接受的最大输入长度.\n",
    "        :param emb_dropout: 词嵌入的dropout概率.\n",
    "        :param dropout: 模型除词嵌入外的dropout概率.\n",
    "        \"\"\"\n",
    "        super(StarTransEnc, self).__init__()\n",
    "        self.embedding = get_embeddings(embed,padding_idx=0)\n",
    "        emb_dim = self.embedding.embedding_dim\n",
    "        self.emb_fc = nn.Linear(emb_dim, hidden_size)\n",
    "        # self.emb_drop = nn.Dropout(emb_dropout)\n",
    "        self.encoder = StarTransformer(hidden_size=hidden_size,\n",
    "                                       num_layers=num_layers,\n",
    "                                       num_head=num_head,\n",
    "                                       head_dim=head_dim,\n",
    "                                       dropout=dropout,\n",
    "                                       max_len=max_len)\n",
    "\n",
    "    def forward(self, x, mask):\n",
    "        r\"\"\"\n",
    "        :param FloatTensor x: [batch, length, hidden] 输入的序列\n",
    "        :param ByteTensor mask: [batch, length] 输入序列的padding mask, 在没有内容(padding 部分) 为 0,\n",
    "            否则为 1\n",
    "        :return: [batch, length, hidden] 编码后的输出序列\n",
    "                [batch, hidden] 全局 relay 节点, 详见论文\n",
    "        \"\"\"\n",
    "        x = self.embedding(x)\n",
    "        x = self.emb_fc(x)\n",
    "        nodes, relay, relays_attns = self.encoder(x, mask)\n",
    "        return nodes, relay, relays_attns\n",
    "\n",
    "\n",
    "class _Cls(nn.Module):\n",
    "    def __init__(self, in_dim, num_cls, hid_dim, dropout=0.1):\n",
    "        super(_Cls, self).__init__()\n",
    "        self.fc = nn.Sequential(\n",
    "            nn.Linear(in_dim, hid_dim),\n",
    "            nn.LeakyReLU(),\n",
    "            nn.Dropout(dropout),\n",
    "            nn.Linear(hid_dim, num_cls),\n",
    "        )\n",
    "\n",
    "    def forward(self, x):\n",
    "        h = self.fc(x)\n",
    "        return h\n",
    "    \n",
    "class STSeqCls(nn.Module):\n",
    "    r\"\"\"\n",
    "    用于分类任务的Star-Transformer\n",
    "    \"\"\"\n",
    "\n",
    "    def __init__(self, embed, num_cls=2,\n",
    "                 hidden_size=300,\n",
    "                 num_layers=1,\n",
    "                 num_head=9,\n",
    "                 head_dim=32,\n",
    "                 max_len=512,\n",
    "                 cls_hidden_size=600,\n",
    "                 emb_dropout=0.1,\n",
    "                 dropout=0.1):\n",
    "        r\"\"\"\n",
    "        \n",
    "        :param embed: 单词词典, 可以是 tuple, 包括(num_embedings, embedding_dim), 即\n",
    "            embedding的大小和每个词的维度. 也可以传入 nn.Embedding 对象, 此时就以传入的对象作为embedding\n",
    "        :param num_cls: 输出类别个数\n",
    "        :param hidden_size: 模型中特征维度. Default: 300\n",
    "        :param num_layers: 模型层数. Default: 4\n",
    "        :param num_head: 模型中multi-head的head个数. Default: 8\n",
    "        :param head_dim: 模型中multi-head中每个head特征维度. Default: 32\n",
    "        :param max_len: 模型能接受的最大输入长度. Default: 512\n",
    "        :param cls_hidden_size: 分类器隐层维度. Default: 600\n",
    "        :param emb_dropout: 词嵌入的dropout概率. Default: 0.1\n",
    "        :param dropout: 模型除词嵌入外的dropout概率. Default: 0.1\n",
    "        \"\"\"\n",
    "        super(STSeqCls, self).__init__()\n",
    "        self.enc = StarTransEnc(embed=embed,\n",
    "                                hidden_size=hidden_size,\n",
    "                                num_layers=num_layers,\n",
    "                                num_head=num_head,\n",
    "                                head_dim=head_dim,\n",
    "                                max_len=max_len,\n",
    "                                emb_dropout=emb_dropout,\n",
    "                                dropout=dropout)\n",
    "        self.cls = _Cls(hidden_size, num_cls, cls_hidden_size, dropout=dropout)\n",
    "\n",
    "    def forward(self, words, seq_len):\n",
    "        r\"\"\"\n",
    "        :param words: [batch, seq_len] 输入序列\n",
    "        :param seq_len: [batch,] 输入序列的长度\n",
    "        :return output: [batch, num_cls] 输出序列的分类的概率\n",
    "        \"\"\"\n",
    "        mask = seq_len_to_mask(seq_len,max_len=49).to(torch.device('cuda' if torch.cuda.is_available() else 'cpu'))\n",
    "        nodes, relay, relays_attns = self.enc(words, mask)\n",
    "        y = 0.5 * (relay + nodes.max(1)[0])\n",
    "        output = self.cls(y)  # [bsz, n_cls]\n",
    "        return output, relays_attns#, nodes_attns, relays_attns\n",
    "    \n",
    "\n",
    "                     "
   ]
  },
  {
   "cell_type": "code",
   "execution_count": 144,
   "id": "ef57bbcb",
   "metadata": {},
   "outputs": [
    {
     "data": {
      "text/plain": [
       "<All keys matched successfully>"
      ]
     },
     "execution_count": 144,
     "metadata": {},
     "output_type": "execute_result"
    }
   ],
   "source": [
    "path_saver = '../model/st_layer1_multihead8_fold3_netmhcpan.pkl'\n",
    "model_eval = STSeqCls((21, 100), num_cls=2, hidden_size=300, num_layers=1, num_head=8, max_len=49,cls_hidden_size=600,dropout=0.1,head_dim=32).to(device)\n",
    "model_eval.load_state_dict(torch.load(path_saver))"
   ]
  },
  {
   "cell_type": "code",
   "execution_count": 145,
   "id": "3111190f",
   "metadata": {},
   "outputs": [],
   "source": [
    "threshold = 0.5\n",
    "def transfer(y_prob, threshold = 0.5):\n",
    "    return np.array([[0, 1][x > threshold] for x in y_prob])\n",
    "def eval_step_corrected(model, val_loader, use_cuda = False, save_ = False):\n",
    "    device = torch.device(\"cuda\" if use_cuda else \"cpu\")\n",
    "    \n",
    "    model.eval()\n",
    "#     torch.manual_seed(19961231)\n",
    "#     torch.cuda.manual_seed(19961231)\n",
    "    with torch.no_grad():\n",
    "        y_true_val_list, y_prob_val_list, dec_attns_val_list = [], [], []\n",
    "        for train_pep_inputs, train_pep_lens, train_labels in tqdm(val_loader):\n",
    "            '''\n",
    "            pep_inputs: [batch_size, pep_len]\n",
    "            hla_inputs: [batch_size, hla_len]\n",
    "            train_outputs: [batch_size, 2]\n",
    "            '''\n",
    "            train_pep_inputs, train_labels = train_pep_inputs.to(device), train_labels.to(device)\n",
    "            train_pep_lens = train_pep_lens.to(device)\n",
    "#             t1 = time.time()\n",
    "#             train_outputs = model(train_pep_inputs, train_pep_lens)\n",
    "            val_outputs, val_dec_self_attns = model(train_pep_inputs, train_pep_lens)\n",
    "            val_loss = criterion(val_outputs, train_labels)\n",
    "\n",
    "            y_true_val = train_labels.cpu().numpy()\n",
    "            y_prob_val = nn.Softmax(dim = 1)(val_outputs)[:, 1].cpu().detach().numpy()\n",
    "\n",
    "            y_true_val_list.extend(y_true_val)\n",
    "            y_prob_val_list.extend(y_prob_val)\n",
    "            \n",
    "            if save_:\n",
    "#                 print(len(val_dec_self_attns))\n",
    "#                 print(val_dec_self_attns[0].shape)\n",
    "#                 dec_attns_val_list.extend(val_dec_self_attns[0][:, :, :, 34:]) # 只要（34,15）行HLA，列peptide\n",
    "#                 print(val_dec_self_attns[0].shape)\n",
    "                dec_attns_val_list.extend(val_dec_self_attns[0][:, :, :, 35:]) # 只要（34,15）行HLA，列peptide\n",
    "                \n",
    "#         assert (labels.numpy() == y_true_val_list).all()    \n",
    "        y_pred_val_list = transfer(y_prob_val_list, threshold)\n",
    "        ys_val = (y_true_val_list, y_pred_val_list, y_prob_val_list)\n",
    "#         metrics_val = performances(y_true_val_list, y_pred_val_list, y_prob_val_list, print_ = True)\n",
    "        \n",
    "        if save_: \n",
    "            return ys_val, dec_attns_val_list\n",
    "        else:\n",
    "            return ys_val, None"
   ]
  },
  {
   "cell_type": "code",
   "execution_count": 146,
   "id": "76d345bd",
   "metadata": {},
   "outputs": [],
   "source": [
    "train_data, train_pep_inputs, train_hla_inputs, train_pep_lens, train_labels, train_loader = data_with_loader(type_ = 'train', fold = 3,  batch_size = batch_size)"
   ]
  },
  {
   "cell_type": "code",
   "execution_count": 147,
   "id": "ae58fa01",
   "metadata": {},
   "outputs": [
    {
     "name": "stderr",
     "output_type": "stream",
     "text": [
      "100%|████████████████████████████████████████████████████████████████████████████████| 543/543 [00:26<00:00, 20.15it/s]\n"
     ]
    }
   ],
   "source": [
    "# type_ = 'all_corrected'\n",
    "\n",
    "save_ = True\n",
    "use_cuda = True\n",
    "device = torch.device(\"cuda\" if use_cuda else \"cpu\")\n",
    "\n",
    "attns_dict = {}\n",
    "criterion = nn.CrossEntropyLoss()\n",
    "_, attn_res = eval_step_corrected(model_eval, train_loader, use_cuda, save_)\n"
   ]
  },
  {
   "cell_type": "code",
   "execution_count": 148,
   "id": "feb92d60",
   "metadata": {},
   "outputs": [
    {
     "data": {
      "text/plain": [
       "tensor([[7.3125e-29, 0.0000e+00, 1.5869e-08, 4.8617e-27, 2.4951e-34, 4.4545e-33,\n",
       "         1.0823e-38, 6.7814e-41, 0.0000e+00, 6.7683e-41, 2.3480e-36, 7.1038e-37,\n",
       "         1.3530e-33, 1.0855e-31, 1.3035e-31]], device='cuda:0')"
      ]
     },
     "execution_count": 148,
     "metadata": {},
     "output_type": "execute_result"
    }
   ],
   "source": [
    "attn_res[0][0]"
   ]
  },
  {
   "cell_type": "code",
   "execution_count": 149,
   "id": "7182bfd5",
   "metadata": {},
   "outputs": [],
   "source": [
    "def attn_sumhead_peplength_pepposition(data, attn_data, label = None):\n",
    "    SUM_length_head_dict = {}\n",
    "    for l in range(8, 15):\n",
    "        print('Length = ', str(l))\n",
    "        SUM_length_head_dict[l] = []\n",
    "        \n",
    "        if label == None:\n",
    "            length_index = np.array(data[data.length == l].index)\n",
    "        elif label == 1:\n",
    "            length_index = np.array(data[data.label == 1][data.length == l].index)\n",
    "        elif label == 0:\n",
    "            length_index = np.array(data[data.label == 0][data.length == l].index)\n",
    "            \n",
    "        length_data_num = len(length_index)\n",
    "        print(length_data_num, length_index)\n",
    "\n",
    "        for head in trange(8):\n",
    "            idx_0 = length_index[0]\n",
    "            temp_length_head = deepcopy(nn.Softmax(dim = -1)(attn_data[idx_0][head][:, :l].float())) # Shape = (34, length), 行是HLA，列是peptide，由行查列\n",
    "\n",
    "            for idx in length_index[1:]:\n",
    "                temp_length_head += nn.Softmax(dim = -1)(attn_data[idx][head][:, :l].float())\n",
    "\n",
    "            temp_length_head = np.array(nn.Softmax(dim = -1)(temp_length_head.sum(axis = 0)).cpu()) # 把这一列的数据相加，shape = （length，）\n",
    "            SUM_length_head_dict[l].append(temp_length_head)\n",
    "            \n",
    "    #############################\n",
    "    SUM_length_head_sum = []\n",
    "    for l in range(8, 15):\n",
    "        print(l)\n",
    "        temp = pd.DataFrame(SUM_length_head_dict[l], columns = range(1, l+1)).round(4)\n",
    "        temp.loc['sum'] = temp.sum(axis = 0)\n",
    "        SUM_length_head_sum.append(list(temp.loc['sum']))\n",
    "        print(l, temp.loc['sum'].sort_values(ascending = False).index)\n",
    "        \n",
    "    return SUM_length_head_dict, SUM_length_head_sum"
   ]
  },
  {
   "cell_type": "code",
   "execution_count": 150,
   "id": "12c05585",
   "metadata": {},
   "outputs": [],
   "source": [
    "df_data = pd.read_csv('../data/train_set/NetMHCpan4.1/train_data_fold3.csv')\n",
    "df_data['length'] = df_data['peptide'].map(lambda x:len(x))"
   ]
  },
  {
   "cell_type": "code",
   "execution_count": 151,
   "id": "c4e6257f",
   "metadata": {},
   "outputs": [
    {
     "data": {
      "text/html": [
       "<div>\n",
       "<style scoped>\n",
       "    .dataframe tbody tr th:only-of-type {\n",
       "        vertical-align: middle;\n",
       "    }\n",
       "\n",
       "    .dataframe tbody tr th {\n",
       "        vertical-align: top;\n",
       "    }\n",
       "\n",
       "    .dataframe thead th {\n",
       "        text-align: right;\n",
       "    }\n",
       "</style>\n",
       "<table border=\"1\" class=\"dataframe\">\n",
       "  <thead>\n",
       "    <tr style=\"text-align: right;\">\n",
       "      <th></th>\n",
       "      <th>peptide</th>\n",
       "      <th>HLA</th>\n",
       "      <th>label</th>\n",
       "      <th>HLA_sequence</th>\n",
       "      <th>length</th>\n",
       "    </tr>\n",
       "  </thead>\n",
       "  <tbody>\n",
       "    <tr>\n",
       "      <th>0</th>\n",
       "      <td>LSDKSLSIL</td>\n",
       "      <td>HLA-C16:01</td>\n",
       "      <td>1</td>\n",
       "      <td>YYAGYREKYRQTDVSNLYLWYDSYTWAAQAYTWY</td>\n",
       "      <td>9</td>\n",
       "    </tr>\n",
       "    <tr>\n",
       "      <th>1</th>\n",
       "      <td>LLPGGPGPSPEAE</td>\n",
       "      <td>HLA-B07:02</td>\n",
       "      <td>0</td>\n",
       "      <td>YYSEYRNIYAQTDESNLYLSYDYYTWAERAYEWY</td>\n",
       "      <td>13</td>\n",
       "    </tr>\n",
       "    <tr>\n",
       "      <th>2</th>\n",
       "      <td>IVTNGLRTTCAS</td>\n",
       "      <td>HLA-B27:09</td>\n",
       "      <td>0</td>\n",
       "      <td>YHTEYREICAKTDEDTLYLNYHHYTWAVLAYEWY</td>\n",
       "      <td>12</td>\n",
       "    </tr>\n",
       "    <tr>\n",
       "      <th>3</th>\n",
       "      <td>HPLGDIVAF</td>\n",
       "      <td>HLA-B35:08</td>\n",
       "      <td>1</td>\n",
       "      <td>YYATYRNIFTNTYESNLYIRYDSYTWAVRAYLWY</td>\n",
       "      <td>9</td>\n",
       "    </tr>\n",
       "    <tr>\n",
       "      <th>4</th>\n",
       "      <td>VPVEPVLTV</td>\n",
       "      <td>HLA-B51:01</td>\n",
       "      <td>1</td>\n",
       "      <td>YYATYRNIFTNTYENIAYWTYNYYTWAELAYLWH</td>\n",
       "      <td>9</td>\n",
       "    </tr>\n",
       "    <tr>\n",
       "      <th>...</th>\n",
       "      <td>...</td>\n",
       "      <td>...</td>\n",
       "      <td>...</td>\n",
       "      <td>...</td>\n",
       "      <td>...</td>\n",
       "    </tr>\n",
       "    <tr>\n",
       "      <th>555450</th>\n",
       "      <td>GKALPFGQNDLRQF</td>\n",
       "      <td>HLA-B18:01</td>\n",
       "      <td>0</td>\n",
       "      <td>YHSTYRNISTNTYESNLYLRYDSYTWAVLAYTWH</td>\n",
       "      <td>14</td>\n",
       "    </tr>\n",
       "    <tr>\n",
       "      <th>555451</th>\n",
       "      <td>QEQADSLERSL</td>\n",
       "      <td>HLA-B44:02</td>\n",
       "      <td>1</td>\n",
       "      <td>YYTKYREISTNTYENTAYIRYDDYTWAVDAYLSY</td>\n",
       "      <td>11</td>\n",
       "    </tr>\n",
       "    <tr>\n",
       "      <th>555452</th>\n",
       "      <td>MPKMDQDSL</td>\n",
       "      <td>HLA-B07:02</td>\n",
       "      <td>1</td>\n",
       "      <td>YYSEYRNIYAQTDESNLYLSYDYYTWAERAYEWY</td>\n",
       "      <td>9</td>\n",
       "    </tr>\n",
       "    <tr>\n",
       "      <th>555453</th>\n",
       "      <td>RVGDVYIPR</td>\n",
       "      <td>HLA-A03:01</td>\n",
       "      <td>1</td>\n",
       "      <td>YFAMYQENVAQTDVDTLYIIYRDYTWAELAYTWY</td>\n",
       "      <td>9</td>\n",
       "    </tr>\n",
       "    <tr>\n",
       "      <th>555454</th>\n",
       "      <td>AIRNKKGTELLLGV</td>\n",
       "      <td>H-2-Kb</td>\n",
       "      <td>0</td>\n",
       "      <td>YVEYYREKAGNSFVDTLYIVSQYYTWAELAYTWY</td>\n",
       "      <td>14</td>\n",
       "    </tr>\n",
       "  </tbody>\n",
       "</table>\n",
       "<p>555455 rows × 5 columns</p>\n",
       "</div>"
      ],
      "text/plain": [
       "               peptide         HLA  label                        HLA_sequence  \\\n",
       "0            LSDKSLSIL  HLA-C16:01      1  YYAGYREKYRQTDVSNLYLWYDSYTWAAQAYTWY   \n",
       "1        LLPGGPGPSPEAE  HLA-B07:02      0  YYSEYRNIYAQTDESNLYLSYDYYTWAERAYEWY   \n",
       "2         IVTNGLRTTCAS  HLA-B27:09      0  YHTEYREICAKTDEDTLYLNYHHYTWAVLAYEWY   \n",
       "3            HPLGDIVAF  HLA-B35:08      1  YYATYRNIFTNTYESNLYIRYDSYTWAVRAYLWY   \n",
       "4            VPVEPVLTV  HLA-B51:01      1  YYATYRNIFTNTYENIAYWTYNYYTWAELAYLWH   \n",
       "...                ...         ...    ...                                 ...   \n",
       "555450  GKALPFGQNDLRQF  HLA-B18:01      0  YHSTYRNISTNTYESNLYLRYDSYTWAVLAYTWH   \n",
       "555451     QEQADSLERSL  HLA-B44:02      1  YYTKYREISTNTYENTAYIRYDDYTWAVDAYLSY   \n",
       "555452       MPKMDQDSL  HLA-B07:02      1  YYSEYRNIYAQTDESNLYLSYDYYTWAERAYEWY   \n",
       "555453       RVGDVYIPR  HLA-A03:01      1  YFAMYQENVAQTDVDTLYIIYRDYTWAELAYTWY   \n",
       "555454  AIRNKKGTELLLGV      H-2-Kb      0  YVEYYREKAGNSFVDTLYIVSQYYTWAELAYTWY   \n",
       "\n",
       "        length  \n",
       "0            9  \n",
       "1           13  \n",
       "2           12  \n",
       "3            9  \n",
       "4            9  \n",
       "...        ...  \n",
       "555450      14  \n",
       "555451      11  \n",
       "555452       9  \n",
       "555453       9  \n",
       "555454      14  \n",
       "\n",
       "[555455 rows x 5 columns]"
      ]
     },
     "execution_count": 151,
     "metadata": {},
     "output_type": "execute_result"
    }
   ],
   "source": [
    "df_data"
   ]
  },
  {
   "cell_type": "code",
   "execution_count": 152,
   "id": "1400edcd",
   "metadata": {},
   "outputs": [
    {
     "data": {
      "text/plain": [
       "torch.Size([8, 1, 15])"
      ]
     },
     "execution_count": 152,
     "metadata": {},
     "output_type": "execute_result"
    }
   ],
   "source": [
    "attn_res[100].shape"
   ]
  },
  {
   "cell_type": "code",
   "execution_count": 153,
   "id": "a47f0f60",
   "metadata": {},
   "outputs": [
    {
     "name": "stdout",
     "output_type": "stream",
     "text": [
      "Length =  8\n",
      "19350 [    60     73    166 ... 555435 555441 555447]\n"
     ]
    },
    {
     "name": "stderr",
     "output_type": "stream",
     "text": [
      "100%|████████████████████████████████████████████████████████████████████████████████████| 8/8 [00:06<00:00,  1.15it/s]\n"
     ]
    },
    {
     "name": "stdout",
     "output_type": "stream",
     "text": [
      "Length =  9\n",
      "154097 [     0      3      4 ... 555448 555452 555453]\n"
     ]
    },
    {
     "name": "stderr",
     "output_type": "stream",
     "text": [
      "100%|████████████████████████████████████████████████████████████████████████████████████| 8/8 [00:55<00:00,  6.92s/it]\n"
     ]
    },
    {
     "name": "stdout",
     "output_type": "stream",
     "text": [
      "Length =  10\n",
      "50074 [     7     10     39 ... 555395 555404 555427]\n"
     ]
    },
    {
     "name": "stderr",
     "output_type": "stream",
     "text": [
      "100%|████████████████████████████████████████████████████████████████████████████████████| 8/8 [00:18<00:00,  2.26s/it]\n"
     ]
    },
    {
     "name": "stdout",
     "output_type": "stream",
     "text": [
      "Length =  11\n",
      "32804 [    43     45     61 ... 555386 555418 555451]\n"
     ]
    },
    {
     "name": "stderr",
     "output_type": "stream",
     "text": [
      "100%|████████████████████████████████████████████████████████████████████████████████████| 8/8 [00:11<00:00,  1.47s/it]\n"
     ]
    },
    {
     "name": "stdout",
     "output_type": "stream",
     "text": [
      "Length =  12\n",
      "11308 [    20     51     70 ... 555311 555349 555367]\n"
     ]
    },
    {
     "name": "stderr",
     "output_type": "stream",
     "text": [
      "100%|████████████████████████████████████████████████████████████████████████████████████| 8/8 [00:04<00:00,  1.89it/s]\n"
     ]
    },
    {
     "name": "stdout",
     "output_type": "stream",
     "text": [
      "Length =  13\n",
      "6308 [   244    448    592 ... 554741 554907 555333]\n"
     ]
    },
    {
     "name": "stderr",
     "output_type": "stream",
     "text": [
      "100%|████████████████████████████████████████████████████████████████████████████████████| 8/8 [00:02<00:00,  3.53it/s]\n"
     ]
    },
    {
     "name": "stdout",
     "output_type": "stream",
     "text": [
      "Length =  14\n",
      "3765 [    52    133    144 ... 554513 554678 555223]\n"
     ]
    },
    {
     "name": "stderr",
     "output_type": "stream",
     "text": [
      "100%|████████████████████████████████████████████████████████████████████████████████████| 8/8 [00:01<00:00,  5.81it/s]\n"
     ]
    },
    {
     "name": "stdout",
     "output_type": "stream",
     "text": [
      "8\n",
      "8 Int64Index([8, 4, 3, 2, 1, 6, 7, 5], dtype='int64')\n",
      "9\n",
      "9 Int64Index([9, 1, 2, 3, 4, 5, 6, 7, 8], dtype='int64')\n",
      "10\n",
      "10 Int64Index([10, 9, 7, 2, 3, 4, 1, 6, 5, 8], dtype='int64')\n",
      "11\n",
      "11 Int64Index([11, 2, 4, 7, 3, 1, 9, 10, 6, 5, 8], dtype='int64')\n",
      "12\n",
      "12 Int64Index([12, 2, 7, 3, 4, 1, 11, 9, 6, 10, 8, 5], dtype='int64')\n",
      "13\n",
      "13 Int64Index([13, 2, 3, 4, 7, 1, 11, 9, 12, 6, 10, 5, 8], dtype='int64')\n",
      "14\n",
      "14 Int64Index([14, 7, 4, 2, 3, 10, 1, 13, 11, 12, 9, 6, 5, 8], dtype='int64')\n",
      "Length =  8\n",
      "42840 [    19     28     42 ... 555431 555442 555445]\n"
     ]
    },
    {
     "name": "stderr",
     "output_type": "stream",
     "text": [
      "100%|████████████████████████████████████████████████████████████████████████████████████| 8/8 [00:15<00:00,  1.94s/it]\n"
     ]
    },
    {
     "name": "stdout",
     "output_type": "stream",
     "text": [
      "Length =  9\n",
      "42583 [    31     40     57 ... 555433 555438 555439]\n"
     ]
    },
    {
     "name": "stderr",
     "output_type": "stream",
     "text": [
      "100%|████████████████████████████████████████████████████████████████████████████████████| 8/8 [00:15<00:00,  1.92s/it]\n"
     ]
    },
    {
     "name": "stdout",
     "output_type": "stream",
     "text": [
      "Length =  10\n",
      "42676 [    38     44     46 ... 555422 555426 555428]\n"
     ]
    },
    {
     "name": "stderr",
     "output_type": "stream",
     "text": [
      "100%|████████████████████████████████████████████████████████████████████████████████████| 8/8 [00:15<00:00,  1.93s/it]\n"
     ]
    },
    {
     "name": "stdout",
     "output_type": "stream",
     "text": [
      "Length =  11\n",
      "42381 [    16     25     29 ... 555378 555394 555408]\n"
     ]
    },
    {
     "name": "stderr",
     "output_type": "stream",
     "text": [
      "100%|████████████████████████████████████████████████████████████████████████████████████| 8/8 [00:15<00:00,  1.90s/it]\n"
     ]
    },
    {
     "name": "stdout",
     "output_type": "stream",
     "text": [
      "Length =  12\n",
      "36832 [     2      6     11 ... 555423 555424 555425]\n"
     ]
    },
    {
     "name": "stderr",
     "output_type": "stream",
     "text": [
      "100%|████████████████████████████████████████████████████████████████████████████████████| 8/8 [00:13<00:00,  1.68s/it]\n"
     ]
    },
    {
     "name": "stdout",
     "output_type": "stream",
     "text": [
      "Length =  13\n",
      "36437 [     1     26     34 ... 555393 555412 555449]\n"
     ]
    },
    {
     "name": "stderr",
     "output_type": "stream",
     "text": [
      "100%|████████████████████████████████████████████████████████████████████████████████████| 8/8 [00:13<00:00,  1.63s/it]\n"
     ]
    },
    {
     "name": "stdout",
     "output_type": "stream",
     "text": [
      "Length =  14\n",
      "33098 [     5     15     21 ... 555436 555450 555454]\n"
     ]
    },
    {
     "name": "stderr",
     "output_type": "stream",
     "text": [
      "100%|████████████████████████████████████████████████████████████████████████████████████| 8/8 [00:12<00:00,  1.50s/it]\n"
     ]
    },
    {
     "name": "stdout",
     "output_type": "stream",
     "text": [
      "8\n",
      "8 Int64Index([8, 2, 3, 4, 7, 1, 5, 6], dtype='int64')\n",
      "9\n",
      "9 Int64Index([9, 2, 3, 4, 7, 1, 8, 5, 6], dtype='int64')\n",
      "10\n",
      "10 Int64Index([10, 1, 2, 3, 4, 7, 5, 6, 8, 9], dtype='int64')\n",
      "11\n",
      "11 Int64Index([11, 2, 7, 3, 4, 1, 9, 6, 5, 10, 8], dtype='int64')\n",
      "12\n",
      "12 Int64Index([12, 2, 3, 4, 7, 1, 11, 9, 10, 5, 6, 8], dtype='int64')\n",
      "13\n",
      "13 Int64Index([13, 4, 2, 3, 7, 1, 11, 12, 6, 9, 5, 8, 10], dtype='int64')\n",
      "14\n",
      "14 Int64Index([14, 12, 3, 4, 2, 7, 1, 13, 11, 9, 10, 6, 5, 8], dtype='int64')\n",
      "Length =  8\n",
      "62190 [    19     28     42 ... 555442 555445 555447]\n"
     ]
    },
    {
     "name": "stderr",
     "output_type": "stream",
     "text": [
      "100%|████████████████████████████████████████████████████████████████████████████████████| 8/8 [00:22<00:00,  2.82s/it]\n"
     ]
    },
    {
     "name": "stdout",
     "output_type": "stream",
     "text": [
      "Length =  9\n",
      "196680 [     0      3      4 ... 555448 555452 555453]\n"
     ]
    },
    {
     "name": "stderr",
     "output_type": "stream",
     "text": [
      "100%|████████████████████████████████████████████████████████████████████████████████████| 8/8 [01:10<00:00,  8.84s/it]\n"
     ]
    },
    {
     "name": "stdout",
     "output_type": "stream",
     "text": [
      "Length =  10\n",
      "92750 [     7     10     38 ... 555426 555427 555428]\n"
     ]
    },
    {
     "name": "stderr",
     "output_type": "stream",
     "text": [
      "100%|████████████████████████████████████████████████████████████████████████████████████| 8/8 [00:33<00:00,  4.21s/it]\n"
     ]
    },
    {
     "name": "stdout",
     "output_type": "stream",
     "text": [
      "Length =  11\n",
      "75185 [    16     25     29 ... 555408 555418 555451]\n"
     ]
    },
    {
     "name": "stderr",
     "output_type": "stream",
     "text": [
      "100%|████████████████████████████████████████████████████████████████████████████████████| 8/8 [00:27<00:00,  3.40s/it]\n"
     ]
    },
    {
     "name": "stdout",
     "output_type": "stream",
     "text": [
      "Length =  12\n",
      "48140 [     2      6     11 ... 555423 555424 555425]\n"
     ]
    },
    {
     "name": "stderr",
     "output_type": "stream",
     "text": [
      "100%|████████████████████████████████████████████████████████████████████████████████████| 8/8 [00:17<00:00,  2.19s/it]\n"
     ]
    },
    {
     "name": "stdout",
     "output_type": "stream",
     "text": [
      "Length =  13\n",
      "42745 [     1     26     34 ... 555393 555412 555449]\n"
     ]
    },
    {
     "name": "stderr",
     "output_type": "stream",
     "text": [
      "100%|████████████████████████████████████████████████████████████████████████████████████| 8/8 [00:15<00:00,  1.93s/it]\n"
     ]
    },
    {
     "name": "stdout",
     "output_type": "stream",
     "text": [
      "Length =  14\n",
      "36863 [     5     15     21 ... 555436 555450 555454]\n"
     ]
    },
    {
     "name": "stderr",
     "output_type": "stream",
     "text": [
      "100%|████████████████████████████████████████████████████████████████████████████████████| 8/8 [00:13<00:00,  1.65s/it]"
     ]
    },
    {
     "name": "stdout",
     "output_type": "stream",
     "text": [
      "8\n",
      "8 Int64Index([8, 1, 2, 3, 4, 7, 5, 6], dtype='int64')\n",
      "9\n",
      "9 Int64Index([9, 1, 2, 3, 4, 5, 6, 7, 8], dtype='int64')\n",
      "10\n",
      "10 Int64Index([10, 1, 2, 3, 4, 7, 5, 6, 8, 9], dtype='int64')\n",
      "11\n",
      "11 Int64Index([11, 1, 2, 3, 4, 7, 5, 6, 8, 9, 10], dtype='int64')\n",
      "12\n",
      "12 Int64Index([12, 2, 3, 4, 7, 1, 11, 5, 6, 8, 9, 10], dtype='int64')\n",
      "13\n",
      "13 Int64Index([13, 2, 3, 4, 7, 1, 11, 5, 6, 8, 9, 10, 12], dtype='int64')\n",
      "14\n",
      "14 Int64Index([14, 12, 2, 3, 4, 7, 1, 13, 11, 5, 6, 8, 9, 10], dtype='int64')\n"
     ]
    },
    {
     "name": "stderr",
     "output_type": "stream",
     "text": [
      "\n"
     ]
    },
    {
     "data": {
      "text/plain": [
       "[[1.0, 1.0, 1.0, 1.0, 0.0, 0.0, 1.0, 3.0],\n",
       " [1.0, 1.0, 1.0, 1.0, 0.0, 0.0, 0.0, 0.0, 4.0],\n",
       " [1.0, 1.0, 1.0, 1.0, 0.0, 0.0, 1.0, 0.0, 0.0, 3.0],\n",
       " [1.0, 1.0, 1.0, 1.0, 0.0, 0.0, 1.0, 0.0, 0.0, 0.0, 3.0],\n",
       " [0.9998, 1.0, 1.0, 1.0, 0.0, 0.0, 1.0, 0.0, 0.0, 0.0, 0.0001, 3.0],\n",
       " [0.9982,\n",
       "  1.0001,\n",
       "  1.0001,\n",
       "  1.0001,\n",
       "  0.0001,\n",
       "  0.0001,\n",
       "  1.0001,\n",
       "  0.0001,\n",
       "  0.0001,\n",
       "  0.0001,\n",
       "  0.0003,\n",
       "  0.0001,\n",
       "  3.0004999999999997],\n",
       " [0.9957,\n",
       "  1.0002,\n",
       "  1.0002,\n",
       "  1.0002,\n",
       "  0.0002,\n",
       "  0.0002,\n",
       "  1.0002,\n",
       "  0.0002,\n",
       "  0.0002,\n",
       "  0.0002,\n",
       "  0.0006,\n",
       "  1.0003,\n",
       "  0.0012,\n",
       "  2.0004]]"
      ]
     },
     "execution_count": 153,
     "metadata": {},
     "output_type": "execute_result"
    }
   ],
   "source": [
    "# 正样本\n",
    "positive_sum_peplength_pepposition, positive_sum_peplength_pepposition_headsum = attn_sumhead_peplength_pepposition(df_data, attn_res, label = 1)\n",
    "positive_sum_peplength_pepposition_headsum\n",
    "# 负样本\n",
    "negative_sum_peplength_pepposition, negative_sum_peplength_pepposition_headsum = attn_sumhead_peplength_pepposition(df_data, attn_res, label = 0)\n",
    "negative_sum_peplength_pepposition_headsum\n",
    "# 全部样本\n",
    "sum_peplength_pepposition, sum_peplength_pepposition_headsum = attn_sumhead_peplength_pepposition(df_data, attn_res)\n",
    "sum_peplength_pepposition_headsum"
   ]
  },
  {
   "cell_type": "code",
   "execution_count": 124,
   "id": "e3e6102f",
   "metadata": {},
   "outputs": [],
   "source": [
    "from plotly.subplots import make_subplots\n",
    "import plotly.graph_objects as go"
   ]
  },
  {
   "cell_type": "code",
   "execution_count": 154,
   "id": "969ce57c",
   "metadata": {},
   "outputs": [
    {
     "data": {
      "application/vnd.plotly.v1+json": {
       "config": {
        "plotlyServerURL": "https://plot.ly"
       },
       "data": [
        {
         "coloraxis": "coloraxis",
         "colorscale": [
          [
           0,
           "rgb(209, 238, 234)"
          ],
          [
           0.16666666666666666,
           "rgb(168, 219, 217)"
          ],
          [
           0.3333333333333333,
           "rgb(133, 196, 201)"
          ],
          [
           0.5,
           "rgb(104, 171, 184)"
          ],
          [
           0.6666666666666666,
           "rgb(79, 144, 166)"
          ],
          [
           0.8333333333333334,
           "rgb(59, 115, 143)"
          ],
          [
           1,
           "rgb(42, 86, 116)"
          ]
         ],
         "hoverongaps": false,
         "type": "heatmap",
         "x": [
          "1",
          "2",
          "3",
          "4",
          "5",
          "6",
          "7",
          "8",
          "9",
          "10",
          "11",
          "12",
          "13",
          "14"
         ],
         "xaxis": "x",
         "y": [
          "8",
          "9",
          "10",
          "11",
          "12",
          "13",
          "14"
         ],
         "yaxis": "y",
         "z": [
          [
           1,
           1,
           1,
           1,
           0,
           0,
           1,
           3,
           null,
           null,
           null,
           null,
           null,
           null
          ],
          [
           1,
           1,
           1,
           1,
           0,
           0,
           0,
           0,
           4,
           null,
           null,
           null,
           null,
           null
          ],
          [
           1,
           1,
           1,
           1,
           0,
           0,
           1,
           0,
           0,
           3,
           null,
           null,
           null,
           null
          ],
          [
           1,
           1,
           1,
           1,
           0,
           0,
           1,
           0,
           0,
           0,
           3,
           null,
           null,
           null
          ],
          [
           0.9998,
           1,
           1,
           1,
           0,
           0,
           1,
           0,
           0,
           0,
           0.0001,
           3,
           null,
           null
          ],
          [
           0.9982,
           1.0001,
           1.0001,
           1.0001,
           0.0001,
           0.0001,
           1.0001,
           0.0001,
           0.0001,
           0.0001,
           0.0003,
           0.0001,
           3.0004999999999997,
           null
          ],
          [
           0.9957,
           1.0002,
           1.0002,
           1.0002,
           0.0002,
           0.0002,
           1.0002,
           0.0002,
           0.0002,
           0.0002,
           0.0006,
           1.0003,
           0.0012,
           2.0004
          ]
         ]
        },
        {
         "coloraxis": "coloraxis",
         "colorscale": [
          [
           0,
           "rgb(209, 238, 234)"
          ],
          [
           0.16666666666666666,
           "rgb(168, 219, 217)"
          ],
          [
           0.3333333333333333,
           "rgb(133, 196, 201)"
          ],
          [
           0.5,
           "rgb(104, 171, 184)"
          ],
          [
           0.6666666666666666,
           "rgb(79, 144, 166)"
          ],
          [
           0.8333333333333334,
           "rgb(59, 115, 143)"
          ],
          [
           1,
           "rgb(42, 86, 116)"
          ]
         ],
         "hoverongaps": false,
         "type": "heatmap",
         "x": [
          "1",
          "2",
          "3",
          "4",
          "5",
          "6",
          "7",
          "8",
          "9",
          "10",
          "11",
          "12",
          "13",
          "14"
         ],
         "xaxis": "x2",
         "y": [
          "8",
          "9",
          "10",
          "11",
          "12",
          "13",
          "14"
         ],
         "yaxis": "y2",
         "z": [
          [
           0.4751,
           1.0709,
           1.0711,
           1.0852,
           0.0735,
           0.0807,
           0.07529999999999999,
           4.068,
           null,
           null,
           null,
           null,
           null,
           null
          ],
          [
           1,
           1,
           1,
           1,
           0,
           0,
           0,
           0,
           4,
           null,
           null,
           null,
           null,
           null
          ],
          [
           0.9856,
           1.0012,
           1.0011,
           1.0011,
           0.0012,
           0.0021,
           1.0013,
           0.0011,
           1.0042,
           2.0011,
           null,
           null,
           null,
           null
          ],
          [
           0.9807,
           1.0014,
           1.0013,
           1.0014,
           0.0015,
           0.0017,
           1.0014,
           0.0014,
           0.006,
           0.002,
           3.0013,
           null,
           null,
           null
          ],
          [
           0.7215,
           1.0237,
           1.0234,
           1.0234,
           0.0234,
           0.0253,
           1.0237,
           0.0235,
           0.0276,
           0.0247,
           0.0363,
           3.0234,
           null,
           null
          ],
          [
           0.3364,
           1.0488,
           1.0483,
           1.0483,
           0.0486,
           0.0498,
           1.0483,
           0.0484,
           0.0564,
           0.049,
           0.0686,
           0.05,
           3.0993,
           null
          ],
          [
           0.3966,
           1.043,
           1.043,
           1.0431,
           0.0444,
           0.0448,
           1.0434,
           0.0432,
           0.0459,
           1.043,
           0.0549,
           0.0518,
           0.0562,
           2.0465
          ]
         ]
        },
        {
         "coloraxis": "coloraxis",
         "colorscale": [
          [
           0,
           "rgb(209, 238, 234)"
          ],
          [
           0.16666666666666666,
           "rgb(168, 219, 217)"
          ],
          [
           0.3333333333333333,
           "rgb(133, 196, 201)"
          ],
          [
           0.5,
           "rgb(104, 171, 184)"
          ],
          [
           0.6666666666666666,
           "rgb(79, 144, 166)"
          ],
          [
           0.8333333333333334,
           "rgb(59, 115, 143)"
          ],
          [
           1,
           "rgb(42, 86, 116)"
          ]
         ],
         "hoverongaps": false,
         "type": "heatmap",
         "x": [
          "1",
          "2",
          "3",
          "4",
          "5",
          "6",
          "7",
          "8",
          "9",
          "10",
          "11",
          "12",
          "13",
          "14"
         ],
         "xaxis": "x3",
         "y": [
          "8",
          "9",
          "10",
          "11",
          "12",
          "13",
          "14"
         ],
         "yaxis": "y3",
         "z": [
          [
           0.9999,
           1,
           1,
           1,
           0,
           0,
           1,
           3,
           null,
           null,
           null,
           null,
           null,
           null
          ],
          [
           0.9999,
           1,
           1,
           1,
           0,
           0,
           1,
           0.0001,
           2.9999000000000002,
           null,
           null,
           null,
           null,
           null
          ],
          [
           1,
           1,
           1,
           1,
           0,
           0,
           1,
           0,
           0,
           3,
           null,
           null,
           null,
           null
          ],
          [
           0.9959,
           1.0004,
           1.0003,
           1.0003,
           0.0004,
           0.0005,
           1.0004,
           0.0003,
           0.0007,
           0.0004,
           3.0003,
           null,
           null,
           null
          ],
          [
           0.9936,
           1.0005,
           1.0005,
           1.0005,
           0.0005,
           0.0005,
           1.0005,
           0.0005,
           0.0006,
           0.0006,
           0.0013,
           3.0004999999999997,
           null,
           null
          ],
          [
           0.9903,
           1.0006,
           1.0006,
           1.0007,
           0.0006,
           0.0007,
           1.0006,
           0.0006,
           0.0007,
           0.0006,
           0.0015,
           0.0009,
           3.0017,
           null
          ],
          [
           0.9658,
           1.0017,
           1.0018,
           1.0018,
           0.0017,
           0.0018,
           1.0017,
           0.0017,
           0.002,
           0.002,
           0.0045,
           1.0023,
           0.0083,
           2.003
          ]
         ]
        }
       ],
       "layout": {
        "annotations": [
         {
          "font": {
           "size": 16
          },
          "showarrow": false,
          "text": "All Samples",
          "x": 0.14444444444444446,
          "xanchor": "center",
          "xref": "paper",
          "y": 1,
          "yanchor": "bottom",
          "yref": "paper"
         },
         {
          "font": {
           "size": 16
          },
          "showarrow": false,
          "text": "Positive Samples",
          "x": 0.5,
          "xanchor": "center",
          "xref": "paper",
          "y": 1,
          "yanchor": "bottom",
          "yref": "paper"
         },
         {
          "font": {
           "size": 16
          },
          "showarrow": false,
          "text": "Negative Samples",
          "x": 0.8555555555555556,
          "xanchor": "center",
          "xref": "paper",
          "y": 1,
          "yanchor": "bottom",
          "yref": "paper"
         }
        ],
        "coloraxis": {
         "colorbar": {
          "thickness": 5
         },
         "colorscale": [
          [
           0,
           "rgb(209, 238, 234)"
          ],
          [
           0.16666666666666666,
           "rgb(168, 219, 217)"
          ],
          [
           0.3333333333333333,
           "rgb(133, 196, 201)"
          ],
          [
           0.5,
           "rgb(104, 171, 184)"
          ],
          [
           0.6666666666666666,
           "rgb(79, 144, 166)"
          ],
          [
           0.8333333333333334,
           "rgb(59, 115, 143)"
          ],
          [
           1,
           "rgb(42, 86, 116)"
          ]
         ]
        },
        "font": {
         "family": "black",
         "size": 13
        },
        "height": 350,
        "paper_bgcolor": "rgba(0,0,0,0)",
        "plot_bgcolor": "rgba(0,0,0,0)",
        "template": {
         "data": {
          "bar": [
           {
            "error_x": {
             "color": "#2a3f5f"
            },
            "error_y": {
             "color": "#2a3f5f"
            },
            "marker": {
             "line": {
              "color": "#E5ECF6",
              "width": 0.5
             },
             "pattern": {
              "fillmode": "overlay",
              "size": 10,
              "solidity": 0.2
             }
            },
            "type": "bar"
           }
          ],
          "barpolar": [
           {
            "marker": {
             "line": {
              "color": "#E5ECF6",
              "width": 0.5
             },
             "pattern": {
              "fillmode": "overlay",
              "size": 10,
              "solidity": 0.2
             }
            },
            "type": "barpolar"
           }
          ],
          "carpet": [
           {
            "aaxis": {
             "endlinecolor": "#2a3f5f",
             "gridcolor": "white",
             "linecolor": "white",
             "minorgridcolor": "white",
             "startlinecolor": "#2a3f5f"
            },
            "baxis": {
             "endlinecolor": "#2a3f5f",
             "gridcolor": "white",
             "linecolor": "white",
             "minorgridcolor": "white",
             "startlinecolor": "#2a3f5f"
            },
            "type": "carpet"
           }
          ],
          "choropleth": [
           {
            "colorbar": {
             "outlinewidth": 0,
             "ticks": ""
            },
            "type": "choropleth"
           }
          ],
          "contour": [
           {
            "colorbar": {
             "outlinewidth": 0,
             "ticks": ""
            },
            "colorscale": [
             [
              0,
              "#0d0887"
             ],
             [
              0.1111111111111111,
              "#46039f"
             ],
             [
              0.2222222222222222,
              "#7201a8"
             ],
             [
              0.3333333333333333,
              "#9c179e"
             ],
             [
              0.4444444444444444,
              "#bd3786"
             ],
             [
              0.5555555555555556,
              "#d8576b"
             ],
             [
              0.6666666666666666,
              "#ed7953"
             ],
             [
              0.7777777777777778,
              "#fb9f3a"
             ],
             [
              0.8888888888888888,
              "#fdca26"
             ],
             [
              1,
              "#f0f921"
             ]
            ],
            "type": "contour"
           }
          ],
          "contourcarpet": [
           {
            "colorbar": {
             "outlinewidth": 0,
             "ticks": ""
            },
            "type": "contourcarpet"
           }
          ],
          "heatmap": [
           {
            "colorbar": {
             "outlinewidth": 0,
             "ticks": ""
            },
            "colorscale": [
             [
              0,
              "#0d0887"
             ],
             [
              0.1111111111111111,
              "#46039f"
             ],
             [
              0.2222222222222222,
              "#7201a8"
             ],
             [
              0.3333333333333333,
              "#9c179e"
             ],
             [
              0.4444444444444444,
              "#bd3786"
             ],
             [
              0.5555555555555556,
              "#d8576b"
             ],
             [
              0.6666666666666666,
              "#ed7953"
             ],
             [
              0.7777777777777778,
              "#fb9f3a"
             ],
             [
              0.8888888888888888,
              "#fdca26"
             ],
             [
              1,
              "#f0f921"
             ]
            ],
            "type": "heatmap"
           }
          ],
          "heatmapgl": [
           {
            "colorbar": {
             "outlinewidth": 0,
             "ticks": ""
            },
            "colorscale": [
             [
              0,
              "#0d0887"
             ],
             [
              0.1111111111111111,
              "#46039f"
             ],
             [
              0.2222222222222222,
              "#7201a8"
             ],
             [
              0.3333333333333333,
              "#9c179e"
             ],
             [
              0.4444444444444444,
              "#bd3786"
             ],
             [
              0.5555555555555556,
              "#d8576b"
             ],
             [
              0.6666666666666666,
              "#ed7953"
             ],
             [
              0.7777777777777778,
              "#fb9f3a"
             ],
             [
              0.8888888888888888,
              "#fdca26"
             ],
             [
              1,
              "#f0f921"
             ]
            ],
            "type": "heatmapgl"
           }
          ],
          "histogram": [
           {
            "marker": {
             "pattern": {
              "fillmode": "overlay",
              "size": 10,
              "solidity": 0.2
             }
            },
            "type": "histogram"
           }
          ],
          "histogram2d": [
           {
            "colorbar": {
             "outlinewidth": 0,
             "ticks": ""
            },
            "colorscale": [
             [
              0,
              "#0d0887"
             ],
             [
              0.1111111111111111,
              "#46039f"
             ],
             [
              0.2222222222222222,
              "#7201a8"
             ],
             [
              0.3333333333333333,
              "#9c179e"
             ],
             [
              0.4444444444444444,
              "#bd3786"
             ],
             [
              0.5555555555555556,
              "#d8576b"
             ],
             [
              0.6666666666666666,
              "#ed7953"
             ],
             [
              0.7777777777777778,
              "#fb9f3a"
             ],
             [
              0.8888888888888888,
              "#fdca26"
             ],
             [
              1,
              "#f0f921"
             ]
            ],
            "type": "histogram2d"
           }
          ],
          "histogram2dcontour": [
           {
            "colorbar": {
             "outlinewidth": 0,
             "ticks": ""
            },
            "colorscale": [
             [
              0,
              "#0d0887"
             ],
             [
              0.1111111111111111,
              "#46039f"
             ],
             [
              0.2222222222222222,
              "#7201a8"
             ],
             [
              0.3333333333333333,
              "#9c179e"
             ],
             [
              0.4444444444444444,
              "#bd3786"
             ],
             [
              0.5555555555555556,
              "#d8576b"
             ],
             [
              0.6666666666666666,
              "#ed7953"
             ],
             [
              0.7777777777777778,
              "#fb9f3a"
             ],
             [
              0.8888888888888888,
              "#fdca26"
             ],
             [
              1,
              "#f0f921"
             ]
            ],
            "type": "histogram2dcontour"
           }
          ],
          "mesh3d": [
           {
            "colorbar": {
             "outlinewidth": 0,
             "ticks": ""
            },
            "type": "mesh3d"
           }
          ],
          "parcoords": [
           {
            "line": {
             "colorbar": {
              "outlinewidth": 0,
              "ticks": ""
             }
            },
            "type": "parcoords"
           }
          ],
          "pie": [
           {
            "automargin": true,
            "type": "pie"
           }
          ],
          "scatter": [
           {
            "marker": {
             "colorbar": {
              "outlinewidth": 0,
              "ticks": ""
             }
            },
            "type": "scatter"
           }
          ],
          "scatter3d": [
           {
            "line": {
             "colorbar": {
              "outlinewidth": 0,
              "ticks": ""
             }
            },
            "marker": {
             "colorbar": {
              "outlinewidth": 0,
              "ticks": ""
             }
            },
            "type": "scatter3d"
           }
          ],
          "scattercarpet": [
           {
            "marker": {
             "colorbar": {
              "outlinewidth": 0,
              "ticks": ""
             }
            },
            "type": "scattercarpet"
           }
          ],
          "scattergeo": [
           {
            "marker": {
             "colorbar": {
              "outlinewidth": 0,
              "ticks": ""
             }
            },
            "type": "scattergeo"
           }
          ],
          "scattergl": [
           {
            "marker": {
             "colorbar": {
              "outlinewidth": 0,
              "ticks": ""
             }
            },
            "type": "scattergl"
           }
          ],
          "scattermapbox": [
           {
            "marker": {
             "colorbar": {
              "outlinewidth": 0,
              "ticks": ""
             }
            },
            "type": "scattermapbox"
           }
          ],
          "scatterpolar": [
           {
            "marker": {
             "colorbar": {
              "outlinewidth": 0,
              "ticks": ""
             }
            },
            "type": "scatterpolar"
           }
          ],
          "scatterpolargl": [
           {
            "marker": {
             "colorbar": {
              "outlinewidth": 0,
              "ticks": ""
             }
            },
            "type": "scatterpolargl"
           }
          ],
          "scatterternary": [
           {
            "marker": {
             "colorbar": {
              "outlinewidth": 0,
              "ticks": ""
             }
            },
            "type": "scatterternary"
           }
          ],
          "surface": [
           {
            "colorbar": {
             "outlinewidth": 0,
             "ticks": ""
            },
            "colorscale": [
             [
              0,
              "#0d0887"
             ],
             [
              0.1111111111111111,
              "#46039f"
             ],
             [
              0.2222222222222222,
              "#7201a8"
             ],
             [
              0.3333333333333333,
              "#9c179e"
             ],
             [
              0.4444444444444444,
              "#bd3786"
             ],
             [
              0.5555555555555556,
              "#d8576b"
             ],
             [
              0.6666666666666666,
              "#ed7953"
             ],
             [
              0.7777777777777778,
              "#fb9f3a"
             ],
             [
              0.8888888888888888,
              "#fdca26"
             ],
             [
              1,
              "#f0f921"
             ]
            ],
            "type": "surface"
           }
          ],
          "table": [
           {
            "cells": {
             "fill": {
              "color": "#EBF0F8"
             },
             "line": {
              "color": "white"
             }
            },
            "header": {
             "fill": {
              "color": "#C8D4E3"
             },
             "line": {
              "color": "white"
             }
            },
            "type": "table"
           }
          ]
         },
         "layout": {
          "annotationdefaults": {
           "arrowcolor": "#2a3f5f",
           "arrowhead": 0,
           "arrowwidth": 1
          },
          "autotypenumbers": "strict",
          "coloraxis": {
           "colorbar": {
            "outlinewidth": 0,
            "ticks": ""
           }
          },
          "colorscale": {
           "diverging": [
            [
             0,
             "#8e0152"
            ],
            [
             0.1,
             "#c51b7d"
            ],
            [
             0.2,
             "#de77ae"
            ],
            [
             0.3,
             "#f1b6da"
            ],
            [
             0.4,
             "#fde0ef"
            ],
            [
             0.5,
             "#f7f7f7"
            ],
            [
             0.6,
             "#e6f5d0"
            ],
            [
             0.7,
             "#b8e186"
            ],
            [
             0.8,
             "#7fbc41"
            ],
            [
             0.9,
             "#4d9221"
            ],
            [
             1,
             "#276419"
            ]
           ],
           "sequential": [
            [
             0,
             "#0d0887"
            ],
            [
             0.1111111111111111,
             "#46039f"
            ],
            [
             0.2222222222222222,
             "#7201a8"
            ],
            [
             0.3333333333333333,
             "#9c179e"
            ],
            [
             0.4444444444444444,
             "#bd3786"
            ],
            [
             0.5555555555555556,
             "#d8576b"
            ],
            [
             0.6666666666666666,
             "#ed7953"
            ],
            [
             0.7777777777777778,
             "#fb9f3a"
            ],
            [
             0.8888888888888888,
             "#fdca26"
            ],
            [
             1,
             "#f0f921"
            ]
           ],
           "sequentialminus": [
            [
             0,
             "#0d0887"
            ],
            [
             0.1111111111111111,
             "#46039f"
            ],
            [
             0.2222222222222222,
             "#7201a8"
            ],
            [
             0.3333333333333333,
             "#9c179e"
            ],
            [
             0.4444444444444444,
             "#bd3786"
            ],
            [
             0.5555555555555556,
             "#d8576b"
            ],
            [
             0.6666666666666666,
             "#ed7953"
            ],
            [
             0.7777777777777778,
             "#fb9f3a"
            ],
            [
             0.8888888888888888,
             "#fdca26"
            ],
            [
             1,
             "#f0f921"
            ]
           ]
          },
          "colorway": [
           "#636efa",
           "#EF553B",
           "#00cc96",
           "#ab63fa",
           "#FFA15A",
           "#19d3f3",
           "#FF6692",
           "#B6E880",
           "#FF97FF",
           "#FECB52"
          ],
          "font": {
           "color": "#2a3f5f"
          },
          "geo": {
           "bgcolor": "white",
           "lakecolor": "white",
           "landcolor": "#E5ECF6",
           "showlakes": true,
           "showland": true,
           "subunitcolor": "white"
          },
          "hoverlabel": {
           "align": "left"
          },
          "hovermode": "closest",
          "mapbox": {
           "style": "light"
          },
          "paper_bgcolor": "white",
          "plot_bgcolor": "#E5ECF6",
          "polar": {
           "angularaxis": {
            "gridcolor": "white",
            "linecolor": "white",
            "ticks": ""
           },
           "bgcolor": "#E5ECF6",
           "radialaxis": {
            "gridcolor": "white",
            "linecolor": "white",
            "ticks": ""
           }
          },
          "scene": {
           "xaxis": {
            "backgroundcolor": "#E5ECF6",
            "gridcolor": "white",
            "gridwidth": 2,
            "linecolor": "white",
            "showbackground": true,
            "ticks": "",
            "zerolinecolor": "white"
           },
           "yaxis": {
            "backgroundcolor": "#E5ECF6",
            "gridcolor": "white",
            "gridwidth": 2,
            "linecolor": "white",
            "showbackground": true,
            "ticks": "",
            "zerolinecolor": "white"
           },
           "zaxis": {
            "backgroundcolor": "#E5ECF6",
            "gridcolor": "white",
            "gridwidth": 2,
            "linecolor": "white",
            "showbackground": true,
            "ticks": "",
            "zerolinecolor": "white"
           }
          },
          "shapedefaults": {
           "line": {
            "color": "#2a3f5f"
           }
          },
          "ternary": {
           "aaxis": {
            "gridcolor": "white",
            "linecolor": "white",
            "ticks": ""
           },
           "baxis": {
            "gridcolor": "white",
            "linecolor": "white",
            "ticks": ""
           },
           "bgcolor": "#E5ECF6",
           "caxis": {
            "gridcolor": "white",
            "linecolor": "white",
            "ticks": ""
           }
          },
          "title": {
           "x": 0.05
          },
          "xaxis": {
           "automargin": true,
           "gridcolor": "white",
           "linecolor": "white",
           "ticks": "",
           "title": {
            "standoff": 15
           },
           "zerolinecolor": "white",
           "zerolinewidth": 2
          },
          "yaxis": {
           "automargin": true,
           "gridcolor": "white",
           "linecolor": "white",
           "ticks": "",
           "title": {
            "standoff": 15
           },
           "zerolinecolor": "white",
           "zerolinewidth": 2
          }
         }
        },
        "width": 1000,
        "xaxis": {
         "anchor": "y",
         "domain": [
          0,
          0.2888888888888889
         ],
         "tickangle": 0,
         "tickfont": {
          "family": "black",
          "size": 12
         },
         "title": {
          "text": "peptide position"
         }
        },
        "xaxis2": {
         "anchor": "y2",
         "domain": [
          0.35555555555555557,
          0.6444444444444445
         ],
         "tickangle": 0,
         "tickfont": {
          "family": "black",
          "size": 12
         },
         "title": {
          "text": "peptide position"
         }
        },
        "xaxis3": {
         "anchor": "y3",
         "domain": [
          0.7111111111111111,
          1
         ],
         "tickangle": 0,
         "tickfont": {
          "family": "black",
          "size": 12
         },
         "title": {
          "text": "peptide position"
         }
        },
        "yaxis": {
         "anchor": "x",
         "domain": [
          0,
          1
         ],
         "title": {
          "text": "peptide length"
         }
        },
        "yaxis2": {
         "anchor": "x2",
         "domain": [
          0,
          1
         ],
         "matches": "y",
         "showticklabels": false
        },
        "yaxis3": {
         "anchor": "x3",
         "domain": [
          0,
          1
         ],
         "matches": "y",
         "showticklabels": false
        }
       }
      },
      "text/html": [
       "<div>                            <div id=\"0c58cc7f-22a2-4f68-b726-df3ca815a3e9\" class=\"plotly-graph-div\" style=\"height:350px; width:1000px;\"></div>            <script type=\"text/javascript\">                require([\"plotly\"], function(Plotly) {                    window.PLOTLYENV=window.PLOTLYENV || {};                                    if (document.getElementById(\"0c58cc7f-22a2-4f68-b726-df3ca815a3e9\")) {                    Plotly.newPlot(                        \"0c58cc7f-22a2-4f68-b726-df3ca815a3e9\",                        [{\"coloraxis\":\"coloraxis\",\"colorscale\":[[0.0,\"rgb(209, 238, 234)\"],[0.16666666666666666,\"rgb(168, 219, 217)\"],[0.3333333333333333,\"rgb(133, 196, 201)\"],[0.5,\"rgb(104, 171, 184)\"],[0.6666666666666666,\"rgb(79, 144, 166)\"],[0.8333333333333334,\"rgb(59, 115, 143)\"],[1.0,\"rgb(42, 86, 116)\"]],\"hoverongaps\":false,\"type\":\"heatmap\",\"x\":[\"1\",\"2\",\"3\",\"4\",\"5\",\"6\",\"7\",\"8\",\"9\",\"10\",\"11\",\"12\",\"13\",\"14\"],\"xaxis\":\"x\",\"y\":[\"8\",\"9\",\"10\",\"11\",\"12\",\"13\",\"14\"],\"yaxis\":\"y\",\"z\":[[1.0,1.0,1.0,1.0,0.0,0.0,1.0,3.0,null,null,null,null,null,null],[1.0,1.0,1.0,1.0,0.0,0.0,0.0,0.0,4.0,null,null,null,null,null],[1.0,1.0,1.0,1.0,0.0,0.0,1.0,0.0,0.0,3.0,null,null,null,null],[1.0,1.0,1.0,1.0,0.0,0.0,1.0,0.0,0.0,0.0,3.0,null,null,null],[0.9998,1.0,1.0,1.0,0.0,0.0,1.0,0.0,0.0,0.0,0.0001,3.0,null,null],[0.9982,1.0001,1.0001,1.0001,0.0001,0.0001,1.0001,0.0001,0.0001,0.0001,0.0003,0.0001,3.0004999999999997,null],[0.9957,1.0002,1.0002,1.0002,0.0002,0.0002,1.0002,0.0002,0.0002,0.0002,0.0006,1.0003,0.0012,2.0004]]},{\"coloraxis\":\"coloraxis\",\"colorscale\":[[0.0,\"rgb(209, 238, 234)\"],[0.16666666666666666,\"rgb(168, 219, 217)\"],[0.3333333333333333,\"rgb(133, 196, 201)\"],[0.5,\"rgb(104, 171, 184)\"],[0.6666666666666666,\"rgb(79, 144, 166)\"],[0.8333333333333334,\"rgb(59, 115, 143)\"],[1.0,\"rgb(42, 86, 116)\"]],\"hoverongaps\":false,\"type\":\"heatmap\",\"x\":[\"1\",\"2\",\"3\",\"4\",\"5\",\"6\",\"7\",\"8\",\"9\",\"10\",\"11\",\"12\",\"13\",\"14\"],\"xaxis\":\"x2\",\"y\":[\"8\",\"9\",\"10\",\"11\",\"12\",\"13\",\"14\"],\"yaxis\":\"y2\",\"z\":[[0.4751,1.0709,1.0711,1.0852,0.0735,0.0807,0.07529999999999999,4.068,null,null,null,null,null,null],[1.0,1.0,1.0,1.0,0.0,0.0,0.0,0.0,4.0,null,null,null,null,null],[0.9856,1.0012,1.0011,1.0011,0.0012,0.0021,1.0013,0.0011,1.0042,2.0011,null,null,null,null],[0.9807,1.0014,1.0013,1.0014,0.0015,0.0017,1.0014,0.0014,0.006,0.002,3.0013,null,null,null],[0.7215,1.0237,1.0234,1.0234,0.0234,0.0253,1.0237,0.0235,0.0276,0.0247,0.0363,3.0234,null,null],[0.3364,1.0488,1.0483,1.0483,0.0486,0.0498,1.0483,0.0484,0.0564,0.049,0.0686,0.05,3.0993,null],[0.3966,1.043,1.043,1.0431,0.0444,0.0448,1.0434,0.0432,0.0459,1.043,0.0549,0.0518,0.0562,2.0465]]},{\"coloraxis\":\"coloraxis\",\"colorscale\":[[0.0,\"rgb(209, 238, 234)\"],[0.16666666666666666,\"rgb(168, 219, 217)\"],[0.3333333333333333,\"rgb(133, 196, 201)\"],[0.5,\"rgb(104, 171, 184)\"],[0.6666666666666666,\"rgb(79, 144, 166)\"],[0.8333333333333334,\"rgb(59, 115, 143)\"],[1.0,\"rgb(42, 86, 116)\"]],\"hoverongaps\":false,\"type\":\"heatmap\",\"x\":[\"1\",\"2\",\"3\",\"4\",\"5\",\"6\",\"7\",\"8\",\"9\",\"10\",\"11\",\"12\",\"13\",\"14\"],\"xaxis\":\"x3\",\"y\":[\"8\",\"9\",\"10\",\"11\",\"12\",\"13\",\"14\"],\"yaxis\":\"y3\",\"z\":[[0.9999,1.0,1.0,1.0,0.0,0.0,1.0,3.0,null,null,null,null,null,null],[0.9999,1.0,1.0,1.0,0.0,0.0,1.0,0.0001,2.9999000000000002,null,null,null,null,null],[1.0,1.0,1.0,1.0,0.0,0.0,1.0,0.0,0.0,3.0,null,null,null,null],[0.9959,1.0004,1.0003,1.0003,0.0004,0.0005,1.0004,0.0003,0.0007,0.0004,3.0003,null,null,null],[0.9936,1.0005,1.0005,1.0005,0.0005,0.0005,1.0005,0.0005,0.0006,0.0006,0.0013,3.0004999999999997,null,null],[0.9903,1.0006,1.0006,1.0007,0.0006,0.0007,1.0006,0.0006,0.0007,0.0006,0.0015,0.0009,3.0017,null],[0.9658,1.0017,1.0018,1.0018,0.0017,0.0018,1.0017,0.0017,0.002,0.002,0.0045,1.0023,0.0083,2.003]]}],                        {\"annotations\":[{\"font\":{\"size\":16},\"showarrow\":false,\"text\":\"All Samples\",\"x\":0.14444444444444446,\"xanchor\":\"center\",\"xref\":\"paper\",\"y\":1.0,\"yanchor\":\"bottom\",\"yref\":\"paper\"},{\"font\":{\"size\":16},\"showarrow\":false,\"text\":\"Positive Samples\",\"x\":0.5,\"xanchor\":\"center\",\"xref\":\"paper\",\"y\":1.0,\"yanchor\":\"bottom\",\"yref\":\"paper\"},{\"font\":{\"size\":16},\"showarrow\":false,\"text\":\"Negative Samples\",\"x\":0.8555555555555556,\"xanchor\":\"center\",\"xref\":\"paper\",\"y\":1.0,\"yanchor\":\"bottom\",\"yref\":\"paper\"}],\"coloraxis\":{\"colorbar\":{\"thickness\":5},\"colorscale\":[[0.0,\"rgb(209, 238, 234)\"],[0.16666666666666666,\"rgb(168, 219, 217)\"],[0.3333333333333333,\"rgb(133, 196, 201)\"],[0.5,\"rgb(104, 171, 184)\"],[0.6666666666666666,\"rgb(79, 144, 166)\"],[0.8333333333333334,\"rgb(59, 115, 143)\"],[1.0,\"rgb(42, 86, 116)\"]]},\"font\":{\"family\":\"black\",\"size\":13},\"height\":350,\"paper_bgcolor\":\"rgba(0,0,0,0)\",\"plot_bgcolor\":\"rgba(0,0,0,0)\",\"template\":{\"data\":{\"bar\":[{\"error_x\":{\"color\":\"#2a3f5f\"},\"error_y\":{\"color\":\"#2a3f5f\"},\"marker\":{\"line\":{\"color\":\"#E5ECF6\",\"width\":0.5},\"pattern\":{\"fillmode\":\"overlay\",\"size\":10,\"solidity\":0.2}},\"type\":\"bar\"}],\"barpolar\":[{\"marker\":{\"line\":{\"color\":\"#E5ECF6\",\"width\":0.5},\"pattern\":{\"fillmode\":\"overlay\",\"size\":10,\"solidity\":0.2}},\"type\":\"barpolar\"}],\"carpet\":[{\"aaxis\":{\"endlinecolor\":\"#2a3f5f\",\"gridcolor\":\"white\",\"linecolor\":\"white\",\"minorgridcolor\":\"white\",\"startlinecolor\":\"#2a3f5f\"},\"baxis\":{\"endlinecolor\":\"#2a3f5f\",\"gridcolor\":\"white\",\"linecolor\":\"white\",\"minorgridcolor\":\"white\",\"startlinecolor\":\"#2a3f5f\"},\"type\":\"carpet\"}],\"choropleth\":[{\"colorbar\":{\"outlinewidth\":0,\"ticks\":\"\"},\"type\":\"choropleth\"}],\"contour\":[{\"colorbar\":{\"outlinewidth\":0,\"ticks\":\"\"},\"colorscale\":[[0.0,\"#0d0887\"],[0.1111111111111111,\"#46039f\"],[0.2222222222222222,\"#7201a8\"],[0.3333333333333333,\"#9c179e\"],[0.4444444444444444,\"#bd3786\"],[0.5555555555555556,\"#d8576b\"],[0.6666666666666666,\"#ed7953\"],[0.7777777777777778,\"#fb9f3a\"],[0.8888888888888888,\"#fdca26\"],[1.0,\"#f0f921\"]],\"type\":\"contour\"}],\"contourcarpet\":[{\"colorbar\":{\"outlinewidth\":0,\"ticks\":\"\"},\"type\":\"contourcarpet\"}],\"heatmap\":[{\"colorbar\":{\"outlinewidth\":0,\"ticks\":\"\"},\"colorscale\":[[0.0,\"#0d0887\"],[0.1111111111111111,\"#46039f\"],[0.2222222222222222,\"#7201a8\"],[0.3333333333333333,\"#9c179e\"],[0.4444444444444444,\"#bd3786\"],[0.5555555555555556,\"#d8576b\"],[0.6666666666666666,\"#ed7953\"],[0.7777777777777778,\"#fb9f3a\"],[0.8888888888888888,\"#fdca26\"],[1.0,\"#f0f921\"]],\"type\":\"heatmap\"}],\"heatmapgl\":[{\"colorbar\":{\"outlinewidth\":0,\"ticks\":\"\"},\"colorscale\":[[0.0,\"#0d0887\"],[0.1111111111111111,\"#46039f\"],[0.2222222222222222,\"#7201a8\"],[0.3333333333333333,\"#9c179e\"],[0.4444444444444444,\"#bd3786\"],[0.5555555555555556,\"#d8576b\"],[0.6666666666666666,\"#ed7953\"],[0.7777777777777778,\"#fb9f3a\"],[0.8888888888888888,\"#fdca26\"],[1.0,\"#f0f921\"]],\"type\":\"heatmapgl\"}],\"histogram\":[{\"marker\":{\"pattern\":{\"fillmode\":\"overlay\",\"size\":10,\"solidity\":0.2}},\"type\":\"histogram\"}],\"histogram2d\":[{\"colorbar\":{\"outlinewidth\":0,\"ticks\":\"\"},\"colorscale\":[[0.0,\"#0d0887\"],[0.1111111111111111,\"#46039f\"],[0.2222222222222222,\"#7201a8\"],[0.3333333333333333,\"#9c179e\"],[0.4444444444444444,\"#bd3786\"],[0.5555555555555556,\"#d8576b\"],[0.6666666666666666,\"#ed7953\"],[0.7777777777777778,\"#fb9f3a\"],[0.8888888888888888,\"#fdca26\"],[1.0,\"#f0f921\"]],\"type\":\"histogram2d\"}],\"histogram2dcontour\":[{\"colorbar\":{\"outlinewidth\":0,\"ticks\":\"\"},\"colorscale\":[[0.0,\"#0d0887\"],[0.1111111111111111,\"#46039f\"],[0.2222222222222222,\"#7201a8\"],[0.3333333333333333,\"#9c179e\"],[0.4444444444444444,\"#bd3786\"],[0.5555555555555556,\"#d8576b\"],[0.6666666666666666,\"#ed7953\"],[0.7777777777777778,\"#fb9f3a\"],[0.8888888888888888,\"#fdca26\"],[1.0,\"#f0f921\"]],\"type\":\"histogram2dcontour\"}],\"mesh3d\":[{\"colorbar\":{\"outlinewidth\":0,\"ticks\":\"\"},\"type\":\"mesh3d\"}],\"parcoords\":[{\"line\":{\"colorbar\":{\"outlinewidth\":0,\"ticks\":\"\"}},\"type\":\"parcoords\"}],\"pie\":[{\"automargin\":true,\"type\":\"pie\"}],\"scatter\":[{\"marker\":{\"colorbar\":{\"outlinewidth\":0,\"ticks\":\"\"}},\"type\":\"scatter\"}],\"scatter3d\":[{\"line\":{\"colorbar\":{\"outlinewidth\":0,\"ticks\":\"\"}},\"marker\":{\"colorbar\":{\"outlinewidth\":0,\"ticks\":\"\"}},\"type\":\"scatter3d\"}],\"scattercarpet\":[{\"marker\":{\"colorbar\":{\"outlinewidth\":0,\"ticks\":\"\"}},\"type\":\"scattercarpet\"}],\"scattergeo\":[{\"marker\":{\"colorbar\":{\"outlinewidth\":0,\"ticks\":\"\"}},\"type\":\"scattergeo\"}],\"scattergl\":[{\"marker\":{\"colorbar\":{\"outlinewidth\":0,\"ticks\":\"\"}},\"type\":\"scattergl\"}],\"scattermapbox\":[{\"marker\":{\"colorbar\":{\"outlinewidth\":0,\"ticks\":\"\"}},\"type\":\"scattermapbox\"}],\"scatterpolar\":[{\"marker\":{\"colorbar\":{\"outlinewidth\":0,\"ticks\":\"\"}},\"type\":\"scatterpolar\"}],\"scatterpolargl\":[{\"marker\":{\"colorbar\":{\"outlinewidth\":0,\"ticks\":\"\"}},\"type\":\"scatterpolargl\"}],\"scatterternary\":[{\"marker\":{\"colorbar\":{\"outlinewidth\":0,\"ticks\":\"\"}},\"type\":\"scatterternary\"}],\"surface\":[{\"colorbar\":{\"outlinewidth\":0,\"ticks\":\"\"},\"colorscale\":[[0.0,\"#0d0887\"],[0.1111111111111111,\"#46039f\"],[0.2222222222222222,\"#7201a8\"],[0.3333333333333333,\"#9c179e\"],[0.4444444444444444,\"#bd3786\"],[0.5555555555555556,\"#d8576b\"],[0.6666666666666666,\"#ed7953\"],[0.7777777777777778,\"#fb9f3a\"],[0.8888888888888888,\"#fdca26\"],[1.0,\"#f0f921\"]],\"type\":\"surface\"}],\"table\":[{\"cells\":{\"fill\":{\"color\":\"#EBF0F8\"},\"line\":{\"color\":\"white\"}},\"header\":{\"fill\":{\"color\":\"#C8D4E3\"},\"line\":{\"color\":\"white\"}},\"type\":\"table\"}]},\"layout\":{\"annotationdefaults\":{\"arrowcolor\":\"#2a3f5f\",\"arrowhead\":0,\"arrowwidth\":1},\"autotypenumbers\":\"strict\",\"coloraxis\":{\"colorbar\":{\"outlinewidth\":0,\"ticks\":\"\"}},\"colorscale\":{\"diverging\":[[0,\"#8e0152\"],[0.1,\"#c51b7d\"],[0.2,\"#de77ae\"],[0.3,\"#f1b6da\"],[0.4,\"#fde0ef\"],[0.5,\"#f7f7f7\"],[0.6,\"#e6f5d0\"],[0.7,\"#b8e186\"],[0.8,\"#7fbc41\"],[0.9,\"#4d9221\"],[1,\"#276419\"]],\"sequential\":[[0.0,\"#0d0887\"],[0.1111111111111111,\"#46039f\"],[0.2222222222222222,\"#7201a8\"],[0.3333333333333333,\"#9c179e\"],[0.4444444444444444,\"#bd3786\"],[0.5555555555555556,\"#d8576b\"],[0.6666666666666666,\"#ed7953\"],[0.7777777777777778,\"#fb9f3a\"],[0.8888888888888888,\"#fdca26\"],[1.0,\"#f0f921\"]],\"sequentialminus\":[[0.0,\"#0d0887\"],[0.1111111111111111,\"#46039f\"],[0.2222222222222222,\"#7201a8\"],[0.3333333333333333,\"#9c179e\"],[0.4444444444444444,\"#bd3786\"],[0.5555555555555556,\"#d8576b\"],[0.6666666666666666,\"#ed7953\"],[0.7777777777777778,\"#fb9f3a\"],[0.8888888888888888,\"#fdca26\"],[1.0,\"#f0f921\"]]},\"colorway\":[\"#636efa\",\"#EF553B\",\"#00cc96\",\"#ab63fa\",\"#FFA15A\",\"#19d3f3\",\"#FF6692\",\"#B6E880\",\"#FF97FF\",\"#FECB52\"],\"font\":{\"color\":\"#2a3f5f\"},\"geo\":{\"bgcolor\":\"white\",\"lakecolor\":\"white\",\"landcolor\":\"#E5ECF6\",\"showlakes\":true,\"showland\":true,\"subunitcolor\":\"white\"},\"hoverlabel\":{\"align\":\"left\"},\"hovermode\":\"closest\",\"mapbox\":{\"style\":\"light\"},\"paper_bgcolor\":\"white\",\"plot_bgcolor\":\"#E5ECF6\",\"polar\":{\"angularaxis\":{\"gridcolor\":\"white\",\"linecolor\":\"white\",\"ticks\":\"\"},\"bgcolor\":\"#E5ECF6\",\"radialaxis\":{\"gridcolor\":\"white\",\"linecolor\":\"white\",\"ticks\":\"\"}},\"scene\":{\"xaxis\":{\"backgroundcolor\":\"#E5ECF6\",\"gridcolor\":\"white\",\"gridwidth\":2,\"linecolor\":\"white\",\"showbackground\":true,\"ticks\":\"\",\"zerolinecolor\":\"white\"},\"yaxis\":{\"backgroundcolor\":\"#E5ECF6\",\"gridcolor\":\"white\",\"gridwidth\":2,\"linecolor\":\"white\",\"showbackground\":true,\"ticks\":\"\",\"zerolinecolor\":\"white\"},\"zaxis\":{\"backgroundcolor\":\"#E5ECF6\",\"gridcolor\":\"white\",\"gridwidth\":2,\"linecolor\":\"white\",\"showbackground\":true,\"ticks\":\"\",\"zerolinecolor\":\"white\"}},\"shapedefaults\":{\"line\":{\"color\":\"#2a3f5f\"}},\"ternary\":{\"aaxis\":{\"gridcolor\":\"white\",\"linecolor\":\"white\",\"ticks\":\"\"},\"baxis\":{\"gridcolor\":\"white\",\"linecolor\":\"white\",\"ticks\":\"\"},\"bgcolor\":\"#E5ECF6\",\"caxis\":{\"gridcolor\":\"white\",\"linecolor\":\"white\",\"ticks\":\"\"}},\"title\":{\"x\":0.05},\"xaxis\":{\"automargin\":true,\"gridcolor\":\"white\",\"linecolor\":\"white\",\"ticks\":\"\",\"title\":{\"standoff\":15},\"zerolinecolor\":\"white\",\"zerolinewidth\":2},\"yaxis\":{\"automargin\":true,\"gridcolor\":\"white\",\"linecolor\":\"white\",\"ticks\":\"\",\"title\":{\"standoff\":15},\"zerolinecolor\":\"white\",\"zerolinewidth\":2}}},\"width\":1000,\"xaxis\":{\"anchor\":\"y\",\"domain\":[0.0,0.2888888888888889],\"tickangle\":0,\"tickfont\":{\"family\":\"black\",\"size\":12},\"title\":{\"text\":\"peptide position\"}},\"xaxis2\":{\"anchor\":\"y2\",\"domain\":[0.35555555555555557,0.6444444444444445],\"tickangle\":0,\"tickfont\":{\"family\":\"black\",\"size\":12},\"title\":{\"text\":\"peptide position\"}},\"xaxis3\":{\"anchor\":\"y3\",\"domain\":[0.7111111111111111,1.0],\"tickangle\":0,\"tickfont\":{\"family\":\"black\",\"size\":12},\"title\":{\"text\":\"peptide position\"}},\"yaxis\":{\"anchor\":\"x\",\"domain\":[0.0,1.0],\"title\":{\"text\":\"peptide length\"}},\"yaxis2\":{\"anchor\":\"x2\",\"domain\":[0.0,1.0],\"matches\":\"y\",\"showticklabels\":false},\"yaxis3\":{\"anchor\":\"x3\",\"domain\":[0.0,1.0],\"matches\":\"y\",\"showticklabels\":false}},                        {\"responsive\": true}                    ).then(function(){\n",
       "                            \n",
       "var gd = document.getElementById('0c58cc7f-22a2-4f68-b726-df3ca815a3e9');\n",
       "var x = new MutationObserver(function (mutations, observer) {{\n",
       "        var display = window.getComputedStyle(gd).display;\n",
       "        if (!display || display === 'none') {{\n",
       "            console.log([gd, 'removed!']);\n",
       "            Plotly.purge(gd);\n",
       "            observer.disconnect();\n",
       "        }}\n",
       "}});\n",
       "\n",
       "// Listen for the removal of the full notebook cells\n",
       "var notebookContainer = gd.closest('#notebook-container');\n",
       "if (notebookContainer) {{\n",
       "    x.observe(notebookContainer, {childList: true});\n",
       "}}\n",
       "\n",
       "// Listen for the clearing of the current output cell\n",
       "var outputEl = gd.closest('.output');\n",
       "if (outputEl) {{\n",
       "    x.observe(outputEl, {childList: true});\n",
       "}}\n",
       "\n",
       "                        })                };                });            </script>        </div>"
      ]
     },
     "metadata": {},
     "output_type": "display_data"
    }
   ],
   "source": [
    "# 两个基本参数：设置行、列\n",
    "fig = make_subplots(rows=1, cols=3,#start_cell=\"bottom-left\", # 'bottom-left', 'top-left\n",
    "                    subplot_titles=[\"All Samples\",\"Positive Samples\",\"Negative Samples\"],shared_yaxes=True)  # 1行2列\n",
    "\n",
    "# 添加两个数据轨迹，构成两个图形\n",
    "fig.add_trace(\n",
    "    go.Heatmap(z=pd.DataFrame(sum_peplength_pepposition_headsum),colorscale='teal',\n",
    "                   x=['1', '2', '3', '4', '5','6','7','8','9','10','11', '12', '13', '14'],\n",
    "                   y=['8', '9', '10','11', '12', '13','14'],coloraxis='coloraxis',\n",
    "                   hoverongaps = False),\n",
    "    row=1, col=1  # 第一行第一列\n",
    ")\n",
    "\n",
    "fig.add_trace(\n",
    "    go.Heatmap(z=pd.DataFrame(positive_sum_peplength_pepposition_headsum),colorscale='teal',\n",
    "                   x=['1', '2', '3', '4', '5','6','7','8','9','10','11', '12', '13', '14'],\n",
    "                   y=['8', '9', '10','11', '12', '13','14'],coloraxis='coloraxis',\n",
    "                   hoverongaps = False),\n",
    "    row=1, col=2  # 第一行第二列\n",
    ")\n",
    "\n",
    "fig.add_trace(\n",
    "    go.Heatmap(z=pd.DataFrame(negative_sum_peplength_pepposition_headsum),colorscale='teal',\n",
    "                   x=['1', '2', '3', '4', '5','6','7','8','9','10','11', '12', '13', '14'],\n",
    "                   y=['8', '9', '10','11', '12', '13','14'],coloraxis='coloraxis',\n",
    "                   hoverongaps = False),\n",
    "    row=1, col=3  # 第一行第二列\n",
    ")\n",
    "fig.update_layout(width=1000,height=350,\n",
    "                      paper_bgcolor='rgba(0,0,0,0)',\n",
    "    plot_bgcolor='rgba(0,0,0,0)',\n",
    "        font=dict(\n",
    "        family=\"black\",\n",
    "        size=13))\n",
    "fig.update_xaxes(tickangle=0, tickfont=dict(family='black', size=12))\n",
    "fig.update_xaxes(title='peptide position')\n",
    "fig.update_yaxes(title_text=\"peptide length\", row=1, col=1)\n",
    "fig.update_coloraxes(colorbar_thickness=5)\n",
    "fig.update_coloraxes(colorscale='teal')\n",
    "# fig.update_yaxes(title='peptide length')\n",
    "# # 设置图形的宽高和标题\n",
    "# fig.update_layout(height=300, \n",
    "#                   width=800, \n",
    "#                   title_text=\"子图制作\")\n",
    "fig.show()"
   ]
  },
  {
   "cell_type": "code",
   "execution_count": 37,
   "id": "739426ec",
   "metadata": {},
   "outputs": [],
   "source": [
    "from plotly.offline import iplot"
   ]
  },
  {
   "cell_type": "code",
   "execution_count": 74,
   "id": "e1168596",
   "metadata": {},
   "outputs": [
    {
     "data": {
      "application/vnd.plotly.v1+json": {
       "config": {
        "linkText": "Export to plot.ly",
        "plotlyServerURL": "https://plot.ly",
        "showLink": false
       },
       "data": [
        {
         "coloraxis": "coloraxis",
         "colorscale": [
          [
           0,
           "rgb(209, 238, 234)"
          ],
          [
           0.16666666666666666,
           "rgb(168, 219, 217)"
          ],
          [
           0.3333333333333333,
           "rgb(133, 196, 201)"
          ],
          [
           0.5,
           "rgb(104, 171, 184)"
          ],
          [
           0.6666666666666666,
           "rgb(79, 144, 166)"
          ],
          [
           0.8333333333333334,
           "rgb(59, 115, 143)"
          ],
          [
           1,
           "rgb(42, 86, 116)"
          ]
         ],
         "hoverongaps": false,
         "type": "heatmap",
         "x": [
          "1",
          "2",
          "3",
          "4",
          "5",
          "6",
          "7",
          "8",
          "9",
          "10",
          "11",
          "12",
          "13",
          "14"
         ],
         "xaxis": "x",
         "y": [
          "8",
          "9",
          "10",
          "11",
          "12",
          "13",
          "14"
         ],
         "yaxis": "y",
         "z": [
          [
           1,
           1,
           1,
           1,
           0,
           0,
           1,
           3,
           null,
           null,
           null,
           null,
           null,
           null
          ],
          [
           1,
           1,
           1,
           1,
           0,
           0,
           0,
           0,
           4,
           null,
           null,
           null,
           null,
           null
          ],
          [
           1,
           1,
           1,
           1,
           0,
           0,
           1,
           0,
           0,
           3,
           null,
           null,
           null,
           null
          ],
          [
           1,
           1,
           1,
           1,
           0,
           0,
           1,
           0,
           0,
           0,
           3,
           null,
           null,
           null
          ],
          [
           0.9998,
           1,
           1,
           1,
           0,
           0,
           1,
           0,
           0,
           0,
           0.0001,
           3,
           null,
           null
          ],
          [
           0.9982,
           1.0001,
           1.0001,
           1.0001,
           0.0001,
           0.0001,
           1.0001,
           0.0001,
           0.0001,
           0.0001,
           0.0003,
           0.0001,
           3.0004999999999997,
           null
          ],
          [
           0.9957,
           1.0002,
           1.0002,
           1.0002,
           0.0002,
           0.0002,
           1.0002,
           0.0002,
           0.0002,
           0.0002,
           0.0006,
           1.0003,
           0.0012,
           2.0004
          ]
         ]
        },
        {
         "coloraxis": "coloraxis",
         "colorscale": [
          [
           0,
           "rgb(209, 238, 234)"
          ],
          [
           0.16666666666666666,
           "rgb(168, 219, 217)"
          ],
          [
           0.3333333333333333,
           "rgb(133, 196, 201)"
          ],
          [
           0.5,
           "rgb(104, 171, 184)"
          ],
          [
           0.6666666666666666,
           "rgb(79, 144, 166)"
          ],
          [
           0.8333333333333334,
           "rgb(59, 115, 143)"
          ],
          [
           1,
           "rgb(42, 86, 116)"
          ]
         ],
         "hoverongaps": false,
         "type": "heatmap",
         "x": [
          "1",
          "2",
          "3",
          "4",
          "5",
          "6",
          "7",
          "8",
          "9",
          "10",
          "11",
          "12",
          "13",
          "14"
         ],
         "xaxis": "x2",
         "y": [
          "8",
          "9",
          "10",
          "11",
          "12",
          "13",
          "14"
         ],
         "yaxis": "y2",
         "z": [
          [
           0.4751,
           1.0709,
           1.0711,
           1.0852,
           0.0735,
           0.0807,
           0.07529999999999999,
           4.068,
           null,
           null,
           null,
           null,
           null,
           null
          ],
          [
           1,
           1,
           1,
           1,
           0,
           0,
           0,
           0,
           4,
           null,
           null,
           null,
           null,
           null
          ],
          [
           0.9856,
           1.0012,
           1.0011,
           1.0011,
           0.0012,
           0.0021,
           1.0013,
           0.0011,
           1.0042,
           2.0011,
           null,
           null,
           null,
           null
          ],
          [
           0.9807,
           1.0014,
           1.0013,
           1.0014,
           0.0015,
           0.0017,
           1.0014,
           0.0014,
           0.006,
           0.002,
           3.0013,
           null,
           null,
           null
          ],
          [
           0.7215,
           1.0237,
           1.0234,
           1.0234,
           0.0234,
           0.0253,
           1.0237,
           0.0235,
           0.0276,
           0.0247,
           0.0363,
           3.0234,
           null,
           null
          ],
          [
           0.3364,
           1.0488,
           1.0483,
           1.0483,
           0.0486,
           0.0498,
           1.0483,
           0.0484,
           0.0564,
           0.049,
           0.0686,
           0.05,
           3.0993,
           null
          ],
          [
           0.3966,
           1.043,
           1.043,
           1.0431,
           0.0444,
           0.0448,
           1.0434,
           0.0432,
           0.0459,
           1.043,
           0.0549,
           0.0518,
           0.0562,
           2.0465
          ]
         ]
        },
        {
         "coloraxis": "coloraxis",
         "colorscale": [
          [
           0,
           "rgb(209, 238, 234)"
          ],
          [
           0.16666666666666666,
           "rgb(168, 219, 217)"
          ],
          [
           0.3333333333333333,
           "rgb(133, 196, 201)"
          ],
          [
           0.5,
           "rgb(104, 171, 184)"
          ],
          [
           0.6666666666666666,
           "rgb(79, 144, 166)"
          ],
          [
           0.8333333333333334,
           "rgb(59, 115, 143)"
          ],
          [
           1,
           "rgb(42, 86, 116)"
          ]
         ],
         "hoverongaps": false,
         "type": "heatmap",
         "x": [
          "1",
          "2",
          "3",
          "4",
          "5",
          "6",
          "7",
          "8",
          "9",
          "10",
          "11",
          "12",
          "13",
          "14"
         ],
         "xaxis": "x3",
         "y": [
          "8",
          "9",
          "10",
          "11",
          "12",
          "13",
          "14"
         ],
         "yaxis": "y3",
         "z": [
          [
           0.9999,
           1,
           1,
           1,
           0,
           0,
           1,
           3,
           null,
           null,
           null,
           null,
           null,
           null
          ],
          [
           0.9999,
           1,
           1,
           1,
           0,
           0,
           1,
           0.0001,
           2.9999000000000002,
           null,
           null,
           null,
           null,
           null
          ],
          [
           1,
           1,
           1,
           1,
           0,
           0,
           1,
           0,
           0,
           3,
           null,
           null,
           null,
           null
          ],
          [
           0.9959,
           1.0004,
           1.0003,
           1.0003,
           0.0004,
           0.0005,
           1.0004,
           0.0003,
           0.0007,
           0.0004,
           3.0003,
           null,
           null,
           null
          ],
          [
           0.9936,
           1.0005,
           1.0005,
           1.0005,
           0.0005,
           0.0005,
           1.0005,
           0.0005,
           0.0006,
           0.0006,
           0.0013,
           3.0004999999999997,
           null,
           null
          ],
          [
           0.9903,
           1.0006,
           1.0006,
           1.0007,
           0.0006,
           0.0007,
           1.0006,
           0.0006,
           0.0007,
           0.0006,
           0.0015,
           0.0009,
           3.0017,
           null
          ],
          [
           0.9658,
           1.0017,
           1.0018,
           1.0018,
           0.0017,
           0.0018,
           1.0017,
           0.0017,
           0.002,
           0.002,
           0.0045,
           1.0023,
           0.0083,
           2.003
          ]
         ]
        }
       ],
       "layout": {
        "annotations": [
         {
          "font": {
           "size": 16
          },
          "showarrow": false,
          "text": "All Samples",
          "x": 0.14444444444444446,
          "xanchor": "center",
          "xref": "paper",
          "y": 1,
          "yanchor": "bottom",
          "yref": "paper"
         },
         {
          "font": {
           "size": 16
          },
          "showarrow": false,
          "text": "Positive Samples",
          "x": 0.5,
          "xanchor": "center",
          "xref": "paper",
          "y": 1,
          "yanchor": "bottom",
          "yref": "paper"
         },
         {
          "font": {
           "size": 16
          },
          "showarrow": false,
          "text": "Negative Samples",
          "x": 0.8555555555555556,
          "xanchor": "center",
          "xref": "paper",
          "y": 1,
          "yanchor": "bottom",
          "yref": "paper"
         }
        ],
        "coloraxis": {
         "colorbar": {
          "thickness": 5
         },
         "colorscale": [
          [
           0,
           "rgb(209, 238, 234)"
          ],
          [
           0.16666666666666666,
           "rgb(168, 219, 217)"
          ],
          [
           0.3333333333333333,
           "rgb(133, 196, 201)"
          ],
          [
           0.5,
           "rgb(104, 171, 184)"
          ],
          [
           0.6666666666666666,
           "rgb(79, 144, 166)"
          ],
          [
           0.8333333333333334,
           "rgb(59, 115, 143)"
          ],
          [
           1,
           "rgb(42, 86, 116)"
          ]
         ]
        },
        "font": {
         "family": "black",
         "size": 13
        },
        "height": 350,
        "paper_bgcolor": "rgba(0,0,0,0)",
        "plot_bgcolor": "rgba(0,0,0,0)",
        "template": {
         "data": {
          "bar": [
           {
            "error_x": {
             "color": "#2a3f5f"
            },
            "error_y": {
             "color": "#2a3f5f"
            },
            "marker": {
             "line": {
              "color": "#E5ECF6",
              "width": 0.5
             },
             "pattern": {
              "fillmode": "overlay",
              "size": 10,
              "solidity": 0.2
             }
            },
            "type": "bar"
           }
          ],
          "barpolar": [
           {
            "marker": {
             "line": {
              "color": "#E5ECF6",
              "width": 0.5
             },
             "pattern": {
              "fillmode": "overlay",
              "size": 10,
              "solidity": 0.2
             }
            },
            "type": "barpolar"
           }
          ],
          "carpet": [
           {
            "aaxis": {
             "endlinecolor": "#2a3f5f",
             "gridcolor": "white",
             "linecolor": "white",
             "minorgridcolor": "white",
             "startlinecolor": "#2a3f5f"
            },
            "baxis": {
             "endlinecolor": "#2a3f5f",
             "gridcolor": "white",
             "linecolor": "white",
             "minorgridcolor": "white",
             "startlinecolor": "#2a3f5f"
            },
            "type": "carpet"
           }
          ],
          "choropleth": [
           {
            "colorbar": {
             "outlinewidth": 0,
             "ticks": ""
            },
            "type": "choropleth"
           }
          ],
          "contour": [
           {
            "colorbar": {
             "outlinewidth": 0,
             "ticks": ""
            },
            "colorscale": [
             [
              0,
              "#0d0887"
             ],
             [
              0.1111111111111111,
              "#46039f"
             ],
             [
              0.2222222222222222,
              "#7201a8"
             ],
             [
              0.3333333333333333,
              "#9c179e"
             ],
             [
              0.4444444444444444,
              "#bd3786"
             ],
             [
              0.5555555555555556,
              "#d8576b"
             ],
             [
              0.6666666666666666,
              "#ed7953"
             ],
             [
              0.7777777777777778,
              "#fb9f3a"
             ],
             [
              0.8888888888888888,
              "#fdca26"
             ],
             [
              1,
              "#f0f921"
             ]
            ],
            "type": "contour"
           }
          ],
          "contourcarpet": [
           {
            "colorbar": {
             "outlinewidth": 0,
             "ticks": ""
            },
            "type": "contourcarpet"
           }
          ],
          "heatmap": [
           {
            "colorbar": {
             "outlinewidth": 0,
             "ticks": ""
            },
            "colorscale": [
             [
              0,
              "#0d0887"
             ],
             [
              0.1111111111111111,
              "#46039f"
             ],
             [
              0.2222222222222222,
              "#7201a8"
             ],
             [
              0.3333333333333333,
              "#9c179e"
             ],
             [
              0.4444444444444444,
              "#bd3786"
             ],
             [
              0.5555555555555556,
              "#d8576b"
             ],
             [
              0.6666666666666666,
              "#ed7953"
             ],
             [
              0.7777777777777778,
              "#fb9f3a"
             ],
             [
              0.8888888888888888,
              "#fdca26"
             ],
             [
              1,
              "#f0f921"
             ]
            ],
            "type": "heatmap"
           }
          ],
          "heatmapgl": [
           {
            "colorbar": {
             "outlinewidth": 0,
             "ticks": ""
            },
            "colorscale": [
             [
              0,
              "#0d0887"
             ],
             [
              0.1111111111111111,
              "#46039f"
             ],
             [
              0.2222222222222222,
              "#7201a8"
             ],
             [
              0.3333333333333333,
              "#9c179e"
             ],
             [
              0.4444444444444444,
              "#bd3786"
             ],
             [
              0.5555555555555556,
              "#d8576b"
             ],
             [
              0.6666666666666666,
              "#ed7953"
             ],
             [
              0.7777777777777778,
              "#fb9f3a"
             ],
             [
              0.8888888888888888,
              "#fdca26"
             ],
             [
              1,
              "#f0f921"
             ]
            ],
            "type": "heatmapgl"
           }
          ],
          "histogram": [
           {
            "marker": {
             "pattern": {
              "fillmode": "overlay",
              "size": 10,
              "solidity": 0.2
             }
            },
            "type": "histogram"
           }
          ],
          "histogram2d": [
           {
            "colorbar": {
             "outlinewidth": 0,
             "ticks": ""
            },
            "colorscale": [
             [
              0,
              "#0d0887"
             ],
             [
              0.1111111111111111,
              "#46039f"
             ],
             [
              0.2222222222222222,
              "#7201a8"
             ],
             [
              0.3333333333333333,
              "#9c179e"
             ],
             [
              0.4444444444444444,
              "#bd3786"
             ],
             [
              0.5555555555555556,
              "#d8576b"
             ],
             [
              0.6666666666666666,
              "#ed7953"
             ],
             [
              0.7777777777777778,
              "#fb9f3a"
             ],
             [
              0.8888888888888888,
              "#fdca26"
             ],
             [
              1,
              "#f0f921"
             ]
            ],
            "type": "histogram2d"
           }
          ],
          "histogram2dcontour": [
           {
            "colorbar": {
             "outlinewidth": 0,
             "ticks": ""
            },
            "colorscale": [
             [
              0,
              "#0d0887"
             ],
             [
              0.1111111111111111,
              "#46039f"
             ],
             [
              0.2222222222222222,
              "#7201a8"
             ],
             [
              0.3333333333333333,
              "#9c179e"
             ],
             [
              0.4444444444444444,
              "#bd3786"
             ],
             [
              0.5555555555555556,
              "#d8576b"
             ],
             [
              0.6666666666666666,
              "#ed7953"
             ],
             [
              0.7777777777777778,
              "#fb9f3a"
             ],
             [
              0.8888888888888888,
              "#fdca26"
             ],
             [
              1,
              "#f0f921"
             ]
            ],
            "type": "histogram2dcontour"
           }
          ],
          "mesh3d": [
           {
            "colorbar": {
             "outlinewidth": 0,
             "ticks": ""
            },
            "type": "mesh3d"
           }
          ],
          "parcoords": [
           {
            "line": {
             "colorbar": {
              "outlinewidth": 0,
              "ticks": ""
             }
            },
            "type": "parcoords"
           }
          ],
          "pie": [
           {
            "automargin": true,
            "type": "pie"
           }
          ],
          "scatter": [
           {
            "marker": {
             "colorbar": {
              "outlinewidth": 0,
              "ticks": ""
             }
            },
            "type": "scatter"
           }
          ],
          "scatter3d": [
           {
            "line": {
             "colorbar": {
              "outlinewidth": 0,
              "ticks": ""
             }
            },
            "marker": {
             "colorbar": {
              "outlinewidth": 0,
              "ticks": ""
             }
            },
            "type": "scatter3d"
           }
          ],
          "scattercarpet": [
           {
            "marker": {
             "colorbar": {
              "outlinewidth": 0,
              "ticks": ""
             }
            },
            "type": "scattercarpet"
           }
          ],
          "scattergeo": [
           {
            "marker": {
             "colorbar": {
              "outlinewidth": 0,
              "ticks": ""
             }
            },
            "type": "scattergeo"
           }
          ],
          "scattergl": [
           {
            "marker": {
             "colorbar": {
              "outlinewidth": 0,
              "ticks": ""
             }
            },
            "type": "scattergl"
           }
          ],
          "scattermapbox": [
           {
            "marker": {
             "colorbar": {
              "outlinewidth": 0,
              "ticks": ""
             }
            },
            "type": "scattermapbox"
           }
          ],
          "scatterpolar": [
           {
            "marker": {
             "colorbar": {
              "outlinewidth": 0,
              "ticks": ""
             }
            },
            "type": "scatterpolar"
           }
          ],
          "scatterpolargl": [
           {
            "marker": {
             "colorbar": {
              "outlinewidth": 0,
              "ticks": ""
             }
            },
            "type": "scatterpolargl"
           }
          ],
          "scatterternary": [
           {
            "marker": {
             "colorbar": {
              "outlinewidth": 0,
              "ticks": ""
             }
            },
            "type": "scatterternary"
           }
          ],
          "surface": [
           {
            "colorbar": {
             "outlinewidth": 0,
             "ticks": ""
            },
            "colorscale": [
             [
              0,
              "#0d0887"
             ],
             [
              0.1111111111111111,
              "#46039f"
             ],
             [
              0.2222222222222222,
              "#7201a8"
             ],
             [
              0.3333333333333333,
              "#9c179e"
             ],
             [
              0.4444444444444444,
              "#bd3786"
             ],
             [
              0.5555555555555556,
              "#d8576b"
             ],
             [
              0.6666666666666666,
              "#ed7953"
             ],
             [
              0.7777777777777778,
              "#fb9f3a"
             ],
             [
              0.8888888888888888,
              "#fdca26"
             ],
             [
              1,
              "#f0f921"
             ]
            ],
            "type": "surface"
           }
          ],
          "table": [
           {
            "cells": {
             "fill": {
              "color": "#EBF0F8"
             },
             "line": {
              "color": "white"
             }
            },
            "header": {
             "fill": {
              "color": "#C8D4E3"
             },
             "line": {
              "color": "white"
             }
            },
            "type": "table"
           }
          ]
         },
         "layout": {
          "annotationdefaults": {
           "arrowcolor": "#2a3f5f",
           "arrowhead": 0,
           "arrowwidth": 1
          },
          "autotypenumbers": "strict",
          "coloraxis": {
           "colorbar": {
            "outlinewidth": 0,
            "ticks": ""
           }
          },
          "colorscale": {
           "diverging": [
            [
             0,
             "#8e0152"
            ],
            [
             0.1,
             "#c51b7d"
            ],
            [
             0.2,
             "#de77ae"
            ],
            [
             0.3,
             "#f1b6da"
            ],
            [
             0.4,
             "#fde0ef"
            ],
            [
             0.5,
             "#f7f7f7"
            ],
            [
             0.6,
             "#e6f5d0"
            ],
            [
             0.7,
             "#b8e186"
            ],
            [
             0.8,
             "#7fbc41"
            ],
            [
             0.9,
             "#4d9221"
            ],
            [
             1,
             "#276419"
            ]
           ],
           "sequential": [
            [
             0,
             "#0d0887"
            ],
            [
             0.1111111111111111,
             "#46039f"
            ],
            [
             0.2222222222222222,
             "#7201a8"
            ],
            [
             0.3333333333333333,
             "#9c179e"
            ],
            [
             0.4444444444444444,
             "#bd3786"
            ],
            [
             0.5555555555555556,
             "#d8576b"
            ],
            [
             0.6666666666666666,
             "#ed7953"
            ],
            [
             0.7777777777777778,
             "#fb9f3a"
            ],
            [
             0.8888888888888888,
             "#fdca26"
            ],
            [
             1,
             "#f0f921"
            ]
           ],
           "sequentialminus": [
            [
             0,
             "#0d0887"
            ],
            [
             0.1111111111111111,
             "#46039f"
            ],
            [
             0.2222222222222222,
             "#7201a8"
            ],
            [
             0.3333333333333333,
             "#9c179e"
            ],
            [
             0.4444444444444444,
             "#bd3786"
            ],
            [
             0.5555555555555556,
             "#d8576b"
            ],
            [
             0.6666666666666666,
             "#ed7953"
            ],
            [
             0.7777777777777778,
             "#fb9f3a"
            ],
            [
             0.8888888888888888,
             "#fdca26"
            ],
            [
             1,
             "#f0f921"
            ]
           ]
          },
          "colorway": [
           "#636efa",
           "#EF553B",
           "#00cc96",
           "#ab63fa",
           "#FFA15A",
           "#19d3f3",
           "#FF6692",
           "#B6E880",
           "#FF97FF",
           "#FECB52"
          ],
          "font": {
           "color": "#2a3f5f"
          },
          "geo": {
           "bgcolor": "white",
           "lakecolor": "white",
           "landcolor": "#E5ECF6",
           "showlakes": true,
           "showland": true,
           "subunitcolor": "white"
          },
          "hoverlabel": {
           "align": "left"
          },
          "hovermode": "closest",
          "mapbox": {
           "style": "light"
          },
          "paper_bgcolor": "white",
          "plot_bgcolor": "#E5ECF6",
          "polar": {
           "angularaxis": {
            "gridcolor": "white",
            "linecolor": "white",
            "ticks": ""
           },
           "bgcolor": "#E5ECF6",
           "radialaxis": {
            "gridcolor": "white",
            "linecolor": "white",
            "ticks": ""
           }
          },
          "scene": {
           "xaxis": {
            "backgroundcolor": "#E5ECF6",
            "gridcolor": "white",
            "gridwidth": 2,
            "linecolor": "white",
            "showbackground": true,
            "ticks": "",
            "zerolinecolor": "white"
           },
           "yaxis": {
            "backgroundcolor": "#E5ECF6",
            "gridcolor": "white",
            "gridwidth": 2,
            "linecolor": "white",
            "showbackground": true,
            "ticks": "",
            "zerolinecolor": "white"
           },
           "zaxis": {
            "backgroundcolor": "#E5ECF6",
            "gridcolor": "white",
            "gridwidth": 2,
            "linecolor": "white",
            "showbackground": true,
            "ticks": "",
            "zerolinecolor": "white"
           }
          },
          "shapedefaults": {
           "line": {
            "color": "#2a3f5f"
           }
          },
          "ternary": {
           "aaxis": {
            "gridcolor": "white",
            "linecolor": "white",
            "ticks": ""
           },
           "baxis": {
            "gridcolor": "white",
            "linecolor": "white",
            "ticks": ""
           },
           "bgcolor": "#E5ECF6",
           "caxis": {
            "gridcolor": "white",
            "linecolor": "white",
            "ticks": ""
           }
          },
          "title": {
           "x": 0.05
          },
          "xaxis": {
           "automargin": true,
           "gridcolor": "white",
           "linecolor": "white",
           "ticks": "",
           "title": {
            "standoff": 15
           },
           "zerolinecolor": "white",
           "zerolinewidth": 2
          },
          "yaxis": {
           "automargin": true,
           "gridcolor": "white",
           "linecolor": "white",
           "ticks": "",
           "title": {
            "standoff": 15
           },
           "zerolinecolor": "white",
           "zerolinewidth": 2
          }
         }
        },
        "width": 1000,
        "xaxis": {
         "anchor": "y",
         "domain": [
          0,
          0.2888888888888889
         ],
         "tickangle": 0,
         "tickfont": {
          "family": "black",
          "size": 12
         },
         "title": {
          "text": "peptide position"
         }
        },
        "xaxis2": {
         "anchor": "y2",
         "domain": [
          0.35555555555555557,
          0.6444444444444445
         ],
         "tickangle": 0,
         "tickfont": {
          "family": "black",
          "size": 12
         },
         "title": {
          "text": "peptide position"
         }
        },
        "xaxis3": {
         "anchor": "y3",
         "domain": [
          0.7111111111111111,
          1
         ],
         "tickangle": 0,
         "tickfont": {
          "family": "black",
          "size": 12
         },
         "title": {
          "text": "peptide position"
         }
        },
        "yaxis": {
         "anchor": "x",
         "domain": [
          0,
          1
         ],
         "title": {
          "text": "peptide length"
         }
        },
        "yaxis2": {
         "anchor": "x2",
         "domain": [
          0,
          1
         ],
         "matches": "y",
         "showticklabels": false
        },
        "yaxis3": {
         "anchor": "x3",
         "domain": [
          0,
          1
         ],
         "matches": "y",
         "showticklabels": false
        }
       }
      },
      "text/html": [
       "<div>                            <div id=\"f2a981b5-8c70-48da-831c-8f0dbd29fc02\" class=\"plotly-graph-div\" style=\"height:350px; width:1000px;\"></div>            <script type=\"text/javascript\">                require([\"plotly\"], function(Plotly) {                    window.PLOTLYENV=window.PLOTLYENV || {};                                    if (document.getElementById(\"f2a981b5-8c70-48da-831c-8f0dbd29fc02\")) {                    Plotly.newPlot(                        \"f2a981b5-8c70-48da-831c-8f0dbd29fc02\",                        [{\"coloraxis\":\"coloraxis\",\"colorscale\":[[0.0,\"rgb(209, 238, 234)\"],[0.16666666666666666,\"rgb(168, 219, 217)\"],[0.3333333333333333,\"rgb(133, 196, 201)\"],[0.5,\"rgb(104, 171, 184)\"],[0.6666666666666666,\"rgb(79, 144, 166)\"],[0.8333333333333334,\"rgb(59, 115, 143)\"],[1.0,\"rgb(42, 86, 116)\"]],\"hoverongaps\":false,\"type\":\"heatmap\",\"x\":[\"1\",\"2\",\"3\",\"4\",\"5\",\"6\",\"7\",\"8\",\"9\",\"10\",\"11\",\"12\",\"13\",\"14\"],\"xaxis\":\"x\",\"y\":[\"8\",\"9\",\"10\",\"11\",\"12\",\"13\",\"14\"],\"yaxis\":\"y\",\"z\":[[1.0,1.0,1.0,1.0,0.0,0.0,1.0,3.0,null,null,null,null,null,null],[1.0,1.0,1.0,1.0,0.0,0.0,0.0,0.0,4.0,null,null,null,null,null],[1.0,1.0,1.0,1.0,0.0,0.0,1.0,0.0,0.0,3.0,null,null,null,null],[1.0,1.0,1.0,1.0,0.0,0.0,1.0,0.0,0.0,0.0,3.0,null,null,null],[0.9998,1.0,1.0,1.0,0.0,0.0,1.0,0.0,0.0,0.0,0.0001,3.0,null,null],[0.9982,1.0001,1.0001,1.0001,0.0001,0.0001,1.0001,0.0001,0.0001,0.0001,0.0003,0.0001,3.0004999999999997,null],[0.9957,1.0002,1.0002,1.0002,0.0002,0.0002,1.0002,0.0002,0.0002,0.0002,0.0006,1.0003,0.0012,2.0004]]},{\"coloraxis\":\"coloraxis\",\"colorscale\":[[0.0,\"rgb(209, 238, 234)\"],[0.16666666666666666,\"rgb(168, 219, 217)\"],[0.3333333333333333,\"rgb(133, 196, 201)\"],[0.5,\"rgb(104, 171, 184)\"],[0.6666666666666666,\"rgb(79, 144, 166)\"],[0.8333333333333334,\"rgb(59, 115, 143)\"],[1.0,\"rgb(42, 86, 116)\"]],\"hoverongaps\":false,\"type\":\"heatmap\",\"x\":[\"1\",\"2\",\"3\",\"4\",\"5\",\"6\",\"7\",\"8\",\"9\",\"10\",\"11\",\"12\",\"13\",\"14\"],\"xaxis\":\"x2\",\"y\":[\"8\",\"9\",\"10\",\"11\",\"12\",\"13\",\"14\"],\"yaxis\":\"y2\",\"z\":[[0.4751,1.0709,1.0711,1.0852,0.0735,0.0807,0.07529999999999999,4.068,null,null,null,null,null,null],[1.0,1.0,1.0,1.0,0.0,0.0,0.0,0.0,4.0,null,null,null,null,null],[0.9856,1.0012,1.0011,1.0011,0.0012,0.0021,1.0013,0.0011,1.0042,2.0011,null,null,null,null],[0.9807,1.0014,1.0013,1.0014,0.0015,0.0017,1.0014,0.0014,0.006,0.002,3.0013,null,null,null],[0.7215,1.0237,1.0234,1.0234,0.0234,0.0253,1.0237,0.0235,0.0276,0.0247,0.0363,3.0234,null,null],[0.3364,1.0488,1.0483,1.0483,0.0486,0.0498,1.0483,0.0484,0.0564,0.049,0.0686,0.05,3.0993,null],[0.3966,1.043,1.043,1.0431,0.0444,0.0448,1.0434,0.0432,0.0459,1.043,0.0549,0.0518,0.0562,2.0465]]},{\"coloraxis\":\"coloraxis\",\"colorscale\":[[0.0,\"rgb(209, 238, 234)\"],[0.16666666666666666,\"rgb(168, 219, 217)\"],[0.3333333333333333,\"rgb(133, 196, 201)\"],[0.5,\"rgb(104, 171, 184)\"],[0.6666666666666666,\"rgb(79, 144, 166)\"],[0.8333333333333334,\"rgb(59, 115, 143)\"],[1.0,\"rgb(42, 86, 116)\"]],\"hoverongaps\":false,\"type\":\"heatmap\",\"x\":[\"1\",\"2\",\"3\",\"4\",\"5\",\"6\",\"7\",\"8\",\"9\",\"10\",\"11\",\"12\",\"13\",\"14\"],\"xaxis\":\"x3\",\"y\":[\"8\",\"9\",\"10\",\"11\",\"12\",\"13\",\"14\"],\"yaxis\":\"y3\",\"z\":[[0.9999,1.0,1.0,1.0,0.0,0.0,1.0,3.0,null,null,null,null,null,null],[0.9999,1.0,1.0,1.0,0.0,0.0,1.0,0.0001,2.9999000000000002,null,null,null,null,null],[1.0,1.0,1.0,1.0,0.0,0.0,1.0,0.0,0.0,3.0,null,null,null,null],[0.9959,1.0004,1.0003,1.0003,0.0004,0.0005,1.0004,0.0003,0.0007,0.0004,3.0003,null,null,null],[0.9936,1.0005,1.0005,1.0005,0.0005,0.0005,1.0005,0.0005,0.0006,0.0006,0.0013,3.0004999999999997,null,null],[0.9903,1.0006,1.0006,1.0007,0.0006,0.0007,1.0006,0.0006,0.0007,0.0006,0.0015,0.0009,3.0017,null],[0.9658,1.0017,1.0018,1.0018,0.0017,0.0018,1.0017,0.0017,0.002,0.002,0.0045,1.0023,0.0083,2.003]]}],                        {\"annotations\":[{\"font\":{\"size\":16},\"showarrow\":false,\"text\":\"All Samples\",\"x\":0.14444444444444446,\"xanchor\":\"center\",\"xref\":\"paper\",\"y\":1.0,\"yanchor\":\"bottom\",\"yref\":\"paper\"},{\"font\":{\"size\":16},\"showarrow\":false,\"text\":\"Positive Samples\",\"x\":0.5,\"xanchor\":\"center\",\"xref\":\"paper\",\"y\":1.0,\"yanchor\":\"bottom\",\"yref\":\"paper\"},{\"font\":{\"size\":16},\"showarrow\":false,\"text\":\"Negative Samples\",\"x\":0.8555555555555556,\"xanchor\":\"center\",\"xref\":\"paper\",\"y\":1.0,\"yanchor\":\"bottom\",\"yref\":\"paper\"}],\"coloraxis\":{\"colorbar\":{\"thickness\":5},\"colorscale\":[[0.0,\"rgb(209, 238, 234)\"],[0.16666666666666666,\"rgb(168, 219, 217)\"],[0.3333333333333333,\"rgb(133, 196, 201)\"],[0.5,\"rgb(104, 171, 184)\"],[0.6666666666666666,\"rgb(79, 144, 166)\"],[0.8333333333333334,\"rgb(59, 115, 143)\"],[1.0,\"rgb(42, 86, 116)\"]]},\"font\":{\"family\":\"black\",\"size\":13},\"height\":350,\"paper_bgcolor\":\"rgba(0,0,0,0)\",\"plot_bgcolor\":\"rgba(0,0,0,0)\",\"template\":{\"data\":{\"bar\":[{\"error_x\":{\"color\":\"#2a3f5f\"},\"error_y\":{\"color\":\"#2a3f5f\"},\"marker\":{\"line\":{\"color\":\"#E5ECF6\",\"width\":0.5},\"pattern\":{\"fillmode\":\"overlay\",\"size\":10,\"solidity\":0.2}},\"type\":\"bar\"}],\"barpolar\":[{\"marker\":{\"line\":{\"color\":\"#E5ECF6\",\"width\":0.5},\"pattern\":{\"fillmode\":\"overlay\",\"size\":10,\"solidity\":0.2}},\"type\":\"barpolar\"}],\"carpet\":[{\"aaxis\":{\"endlinecolor\":\"#2a3f5f\",\"gridcolor\":\"white\",\"linecolor\":\"white\",\"minorgridcolor\":\"white\",\"startlinecolor\":\"#2a3f5f\"},\"baxis\":{\"endlinecolor\":\"#2a3f5f\",\"gridcolor\":\"white\",\"linecolor\":\"white\",\"minorgridcolor\":\"white\",\"startlinecolor\":\"#2a3f5f\"},\"type\":\"carpet\"}],\"choropleth\":[{\"colorbar\":{\"outlinewidth\":0,\"ticks\":\"\"},\"type\":\"choropleth\"}],\"contour\":[{\"colorbar\":{\"outlinewidth\":0,\"ticks\":\"\"},\"colorscale\":[[0.0,\"#0d0887\"],[0.1111111111111111,\"#46039f\"],[0.2222222222222222,\"#7201a8\"],[0.3333333333333333,\"#9c179e\"],[0.4444444444444444,\"#bd3786\"],[0.5555555555555556,\"#d8576b\"],[0.6666666666666666,\"#ed7953\"],[0.7777777777777778,\"#fb9f3a\"],[0.8888888888888888,\"#fdca26\"],[1.0,\"#f0f921\"]],\"type\":\"contour\"}],\"contourcarpet\":[{\"colorbar\":{\"outlinewidth\":0,\"ticks\":\"\"},\"type\":\"contourcarpet\"}],\"heatmap\":[{\"colorbar\":{\"outlinewidth\":0,\"ticks\":\"\"},\"colorscale\":[[0.0,\"#0d0887\"],[0.1111111111111111,\"#46039f\"],[0.2222222222222222,\"#7201a8\"],[0.3333333333333333,\"#9c179e\"],[0.4444444444444444,\"#bd3786\"],[0.5555555555555556,\"#d8576b\"],[0.6666666666666666,\"#ed7953\"],[0.7777777777777778,\"#fb9f3a\"],[0.8888888888888888,\"#fdca26\"],[1.0,\"#f0f921\"]],\"type\":\"heatmap\"}],\"heatmapgl\":[{\"colorbar\":{\"outlinewidth\":0,\"ticks\":\"\"},\"colorscale\":[[0.0,\"#0d0887\"],[0.1111111111111111,\"#46039f\"],[0.2222222222222222,\"#7201a8\"],[0.3333333333333333,\"#9c179e\"],[0.4444444444444444,\"#bd3786\"],[0.5555555555555556,\"#d8576b\"],[0.6666666666666666,\"#ed7953\"],[0.7777777777777778,\"#fb9f3a\"],[0.8888888888888888,\"#fdca26\"],[1.0,\"#f0f921\"]],\"type\":\"heatmapgl\"}],\"histogram\":[{\"marker\":{\"pattern\":{\"fillmode\":\"overlay\",\"size\":10,\"solidity\":0.2}},\"type\":\"histogram\"}],\"histogram2d\":[{\"colorbar\":{\"outlinewidth\":0,\"ticks\":\"\"},\"colorscale\":[[0.0,\"#0d0887\"],[0.1111111111111111,\"#46039f\"],[0.2222222222222222,\"#7201a8\"],[0.3333333333333333,\"#9c179e\"],[0.4444444444444444,\"#bd3786\"],[0.5555555555555556,\"#d8576b\"],[0.6666666666666666,\"#ed7953\"],[0.7777777777777778,\"#fb9f3a\"],[0.8888888888888888,\"#fdca26\"],[1.0,\"#f0f921\"]],\"type\":\"histogram2d\"}],\"histogram2dcontour\":[{\"colorbar\":{\"outlinewidth\":0,\"ticks\":\"\"},\"colorscale\":[[0.0,\"#0d0887\"],[0.1111111111111111,\"#46039f\"],[0.2222222222222222,\"#7201a8\"],[0.3333333333333333,\"#9c179e\"],[0.4444444444444444,\"#bd3786\"],[0.5555555555555556,\"#d8576b\"],[0.6666666666666666,\"#ed7953\"],[0.7777777777777778,\"#fb9f3a\"],[0.8888888888888888,\"#fdca26\"],[1.0,\"#f0f921\"]],\"type\":\"histogram2dcontour\"}],\"mesh3d\":[{\"colorbar\":{\"outlinewidth\":0,\"ticks\":\"\"},\"type\":\"mesh3d\"}],\"parcoords\":[{\"line\":{\"colorbar\":{\"outlinewidth\":0,\"ticks\":\"\"}},\"type\":\"parcoords\"}],\"pie\":[{\"automargin\":true,\"type\":\"pie\"}],\"scatter\":[{\"marker\":{\"colorbar\":{\"outlinewidth\":0,\"ticks\":\"\"}},\"type\":\"scatter\"}],\"scatter3d\":[{\"line\":{\"colorbar\":{\"outlinewidth\":0,\"ticks\":\"\"}},\"marker\":{\"colorbar\":{\"outlinewidth\":0,\"ticks\":\"\"}},\"type\":\"scatter3d\"}],\"scattercarpet\":[{\"marker\":{\"colorbar\":{\"outlinewidth\":0,\"ticks\":\"\"}},\"type\":\"scattercarpet\"}],\"scattergeo\":[{\"marker\":{\"colorbar\":{\"outlinewidth\":0,\"ticks\":\"\"}},\"type\":\"scattergeo\"}],\"scattergl\":[{\"marker\":{\"colorbar\":{\"outlinewidth\":0,\"ticks\":\"\"}},\"type\":\"scattergl\"}],\"scattermapbox\":[{\"marker\":{\"colorbar\":{\"outlinewidth\":0,\"ticks\":\"\"}},\"type\":\"scattermapbox\"}],\"scatterpolar\":[{\"marker\":{\"colorbar\":{\"outlinewidth\":0,\"ticks\":\"\"}},\"type\":\"scatterpolar\"}],\"scatterpolargl\":[{\"marker\":{\"colorbar\":{\"outlinewidth\":0,\"ticks\":\"\"}},\"type\":\"scatterpolargl\"}],\"scatterternary\":[{\"marker\":{\"colorbar\":{\"outlinewidth\":0,\"ticks\":\"\"}},\"type\":\"scatterternary\"}],\"surface\":[{\"colorbar\":{\"outlinewidth\":0,\"ticks\":\"\"},\"colorscale\":[[0.0,\"#0d0887\"],[0.1111111111111111,\"#46039f\"],[0.2222222222222222,\"#7201a8\"],[0.3333333333333333,\"#9c179e\"],[0.4444444444444444,\"#bd3786\"],[0.5555555555555556,\"#d8576b\"],[0.6666666666666666,\"#ed7953\"],[0.7777777777777778,\"#fb9f3a\"],[0.8888888888888888,\"#fdca26\"],[1.0,\"#f0f921\"]],\"type\":\"surface\"}],\"table\":[{\"cells\":{\"fill\":{\"color\":\"#EBF0F8\"},\"line\":{\"color\":\"white\"}},\"header\":{\"fill\":{\"color\":\"#C8D4E3\"},\"line\":{\"color\":\"white\"}},\"type\":\"table\"}]},\"layout\":{\"annotationdefaults\":{\"arrowcolor\":\"#2a3f5f\",\"arrowhead\":0,\"arrowwidth\":1},\"autotypenumbers\":\"strict\",\"coloraxis\":{\"colorbar\":{\"outlinewidth\":0,\"ticks\":\"\"}},\"colorscale\":{\"diverging\":[[0,\"#8e0152\"],[0.1,\"#c51b7d\"],[0.2,\"#de77ae\"],[0.3,\"#f1b6da\"],[0.4,\"#fde0ef\"],[0.5,\"#f7f7f7\"],[0.6,\"#e6f5d0\"],[0.7,\"#b8e186\"],[0.8,\"#7fbc41\"],[0.9,\"#4d9221\"],[1,\"#276419\"]],\"sequential\":[[0.0,\"#0d0887\"],[0.1111111111111111,\"#46039f\"],[0.2222222222222222,\"#7201a8\"],[0.3333333333333333,\"#9c179e\"],[0.4444444444444444,\"#bd3786\"],[0.5555555555555556,\"#d8576b\"],[0.6666666666666666,\"#ed7953\"],[0.7777777777777778,\"#fb9f3a\"],[0.8888888888888888,\"#fdca26\"],[1.0,\"#f0f921\"]],\"sequentialminus\":[[0.0,\"#0d0887\"],[0.1111111111111111,\"#46039f\"],[0.2222222222222222,\"#7201a8\"],[0.3333333333333333,\"#9c179e\"],[0.4444444444444444,\"#bd3786\"],[0.5555555555555556,\"#d8576b\"],[0.6666666666666666,\"#ed7953\"],[0.7777777777777778,\"#fb9f3a\"],[0.8888888888888888,\"#fdca26\"],[1.0,\"#f0f921\"]]},\"colorway\":[\"#636efa\",\"#EF553B\",\"#00cc96\",\"#ab63fa\",\"#FFA15A\",\"#19d3f3\",\"#FF6692\",\"#B6E880\",\"#FF97FF\",\"#FECB52\"],\"font\":{\"color\":\"#2a3f5f\"},\"geo\":{\"bgcolor\":\"white\",\"lakecolor\":\"white\",\"landcolor\":\"#E5ECF6\",\"showlakes\":true,\"showland\":true,\"subunitcolor\":\"white\"},\"hoverlabel\":{\"align\":\"left\"},\"hovermode\":\"closest\",\"mapbox\":{\"style\":\"light\"},\"paper_bgcolor\":\"white\",\"plot_bgcolor\":\"#E5ECF6\",\"polar\":{\"angularaxis\":{\"gridcolor\":\"white\",\"linecolor\":\"white\",\"ticks\":\"\"},\"bgcolor\":\"#E5ECF6\",\"radialaxis\":{\"gridcolor\":\"white\",\"linecolor\":\"white\",\"ticks\":\"\"}},\"scene\":{\"xaxis\":{\"backgroundcolor\":\"#E5ECF6\",\"gridcolor\":\"white\",\"gridwidth\":2,\"linecolor\":\"white\",\"showbackground\":true,\"ticks\":\"\",\"zerolinecolor\":\"white\"},\"yaxis\":{\"backgroundcolor\":\"#E5ECF6\",\"gridcolor\":\"white\",\"gridwidth\":2,\"linecolor\":\"white\",\"showbackground\":true,\"ticks\":\"\",\"zerolinecolor\":\"white\"},\"zaxis\":{\"backgroundcolor\":\"#E5ECF6\",\"gridcolor\":\"white\",\"gridwidth\":2,\"linecolor\":\"white\",\"showbackground\":true,\"ticks\":\"\",\"zerolinecolor\":\"white\"}},\"shapedefaults\":{\"line\":{\"color\":\"#2a3f5f\"}},\"ternary\":{\"aaxis\":{\"gridcolor\":\"white\",\"linecolor\":\"white\",\"ticks\":\"\"},\"baxis\":{\"gridcolor\":\"white\",\"linecolor\":\"white\",\"ticks\":\"\"},\"bgcolor\":\"#E5ECF6\",\"caxis\":{\"gridcolor\":\"white\",\"linecolor\":\"white\",\"ticks\":\"\"}},\"title\":{\"x\":0.05},\"xaxis\":{\"automargin\":true,\"gridcolor\":\"white\",\"linecolor\":\"white\",\"ticks\":\"\",\"title\":{\"standoff\":15},\"zerolinecolor\":\"white\",\"zerolinewidth\":2},\"yaxis\":{\"automargin\":true,\"gridcolor\":\"white\",\"linecolor\":\"white\",\"ticks\":\"\",\"title\":{\"standoff\":15},\"zerolinecolor\":\"white\",\"zerolinewidth\":2}}},\"width\":1000,\"xaxis\":{\"anchor\":\"y\",\"domain\":[0.0,0.2888888888888889],\"tickangle\":0,\"tickfont\":{\"family\":\"black\",\"size\":12},\"title\":{\"text\":\"peptide position\"}},\"xaxis2\":{\"anchor\":\"y2\",\"domain\":[0.35555555555555557,0.6444444444444445],\"tickangle\":0,\"tickfont\":{\"family\":\"black\",\"size\":12},\"title\":{\"text\":\"peptide position\"}},\"xaxis3\":{\"anchor\":\"y3\",\"domain\":[0.7111111111111111,1.0],\"tickangle\":0,\"tickfont\":{\"family\":\"black\",\"size\":12},\"title\":{\"text\":\"peptide position\"}},\"yaxis\":{\"anchor\":\"x\",\"domain\":[0.0,1.0],\"title\":{\"text\":\"peptide length\"}},\"yaxis2\":{\"anchor\":\"x2\",\"domain\":[0.0,1.0],\"matches\":\"y\",\"showticklabels\":false},\"yaxis3\":{\"anchor\":\"x3\",\"domain\":[0.0,1.0],\"matches\":\"y\",\"showticklabels\":false}},                        {\"responsive\": true}                    ).then(function(){\n",
       "                            \n",
       "var gd = document.getElementById('f2a981b5-8c70-48da-831c-8f0dbd29fc02');\n",
       "var x = new MutationObserver(function (mutations, observer) {{\n",
       "        var display = window.getComputedStyle(gd).display;\n",
       "        if (!display || display === 'none') {{\n",
       "            console.log([gd, 'removed!']);\n",
       "            Plotly.purge(gd);\n",
       "            observer.disconnect();\n",
       "        }}\n",
       "}});\n",
       "\n",
       "// Listen for the removal of the full notebook cells\n",
       "var notebookContainer = gd.closest('#notebook-container');\n",
       "if (notebookContainer) {{\n",
       "    x.observe(notebookContainer, {childList: true});\n",
       "}}\n",
       "\n",
       "// Listen for the clearing of the current output cell\n",
       "var outputEl = gd.closest('.output');\n",
       "if (outputEl) {{\n",
       "    x.observe(outputEl, {childList: true});\n",
       "}}\n",
       "\n",
       "                        }).then(function(){\n",
       "                            function downloadimage(format, height, width, filename) {var p = document.getElementById('f2a981b5-8c70-48da-831c-8f0dbd29fc02');Plotly.downloadImage(p, {format: format, height: height, width: width, filename: filename});};if(document.readyState == 'complete') {downloadimage('svg', 350, 1000, 'fold3_new');}\n",
       "                        })                };                });            </script>        </div>"
      ]
     },
     "metadata": {},
     "output_type": "display_data"
    }
   ],
   "source": [
    "iplot(fig, image='svg', filename='fold3_new', image_width=1000, image_height=350)"
   ]
  },
  {
   "cell_type": "code",
   "execution_count": 75,
   "id": "ed3f0a93",
   "metadata": {},
   "outputs": [],
   "source": [
    "def attn_HLA_length_aatype_position_num(data, attn_data, hla = 'HLA-A*11:01', label = None, length = 9, show_num = False):\n",
    "    aatype_position = dict()\n",
    "    if label == None:\n",
    "        length_index = np.array(data[data.length == length][data.HLA == hla].index)\n",
    "    else:\n",
    "        length_index = np.array(data[data.length == length][data.HLA == hla][data.label == label].index)\n",
    "\n",
    "    length_data_num = len(length_index)\n",
    "    print(length_data_num)\n",
    "\n",
    "    for head in trange(8):\n",
    "        for idx in length_index:\n",
    "            temp_peptide = data.iloc[idx].peptide\n",
    "            temp_length_head = deepcopy(nn.Softmax(dim=-1)(attn_data[idx][head][:, :length].float())) # Shape = (34, 9), 行是HLA，列是peptide，由行查列\n",
    "            temp_length_head = nn.Softmax(dim=-1)(temp_length_head.sum(axis = 0)) # 把这一列的数据相加，shape = （9，）\n",
    "\n",
    "            for i, aa in enumerate(temp_peptide): \n",
    "                aatype_position.setdefault(aa, {})\n",
    "                aatype_position[aa].setdefault(i, 0)\n",
    "                aatype_position[aa][i] += temp_length_head[i] \n",
    "    \n",
    "    if show_num:\n",
    "        aatype_position_num = dict()\n",
    "        for idx in length_index:\n",
    "            temp_peptide = data.iloc[idx].peptide\n",
    "            for i, aa in enumerate(temp_peptide):\n",
    "                aatype_position_num.setdefault(aa, {})\n",
    "                aatype_position_num[aa].setdefault(i, 0)\n",
    "                aatype_position_num[aa][i] += 1\n",
    "             \n",
    "        return aatype_position, aatype_position_num\n",
    "    else:\n",
    "        return aatype_position\n",
    "def attn_HLA_length_aatype_position_pd(HLA_length_aatype_position, length = 9, softmax = True, unsoftmax = True):\n",
    "        \n",
    "    HLA_length_aatype_position_pd = np.zeros((20, length))\n",
    "    \n",
    "    aai, aa_indexs = 0, []\n",
    "    for aa, aa_posi in HLA_length_aatype_position.items():\n",
    "        aa_indexs.append(aa)\n",
    "        for posi, v in aa_posi.items():\n",
    "            HLA_length_aatype_position_pd[aai, posi] = v\n",
    "        aai += 1\n",
    "    \n",
    "    if len(aa_indexs) != 20: \n",
    "        aatype_sorts = list('YATVLDEGRHIWQKMFNSPC')\n",
    "        abscent_aa = list(set(aatype_sorts).difference(set(aa_indexs)))\n",
    "        aa_indexs += abscent_aa\n",
    "    \n",
    "    if softmax and not unsoftmax: \n",
    "        HLA_length_aatype_position_softmax_pd = deepcopy(nn.Softmax(dim = -1)(torch.Tensor(HLA_length_aatype_position_pd)))\n",
    "        HLA_length_aatype_position_softmax_pd = np.array(HLA_length_aatype_position_softmax_pd)\n",
    "        HLA_length_aatype_position_softmax_pd = pd.DataFrame(HLA_length_aatype_position_softmax_pd, \n",
    "                                                             index = aa_indexs, columns = range(1, length + 1))\n",
    "        return HLA_length_aatype_position_softmax_pd\n",
    "    \n",
    "    elif unsoftmax and not softmax:\n",
    "        HLA_length_aatype_position_unsoftmax_pd = pd.DataFrame(HLA_length_aatype_position_pd,\n",
    "                                                               index = aa_indexs, columns = range(1, length + 1))\n",
    "        return HLA_length_aatype_position_unsoftmax_pd\n",
    "    \n",
    "    elif softmax and unsoftmax:\n",
    "        HLA_length_aatype_position_softmax_pd = deepcopy(nn.Softmax(dim = -1)(torch.Tensor(HLA_length_aatype_position_pd)))\n",
    "        HLA_length_aatype_position_softmax_pd = np.array(HLA_length_aatype_position_softmax_pd)\n",
    "        HLA_length_aatype_position_softmax_pd = pd.DataFrame(HLA_length_aatype_position_softmax_pd, \n",
    "                                                             index = aa_indexs, columns = range(1, length + 1))\n",
    "        \n",
    "        HLA_length_aatype_position_unsoftmax_pd = pd.DataFrame(HLA_length_aatype_position_pd,\n",
    "                                                               index = aa_indexs, columns = range(1, length + 1))\n",
    "        return HLA_length_aatype_position_softmax_pd, HLA_length_aatype_position_unsoftmax_pd\n",
    "def draw_hla_length_aatype_position(data, attn_data, hla = 'HLA-B*27:05', label = None, length = 9, \n",
    "                                    show = True, softmax = True, unsoftmax = True):\n",
    "    \n",
    "    HLA_length_aatype_position = attn_HLA_length_aatype_position_num(data, attn_data, hla, label, length, show_num = False)\n",
    "    print(HLA_length_aatype_position)\n",
    "    \n",
    "    if softmax and unsoftmax:\n",
    "        HLA_length_aatype_position_softmax_pd, HLA_length_aatype_position_unsoftmax_pd = attn_HLA_length_aatype_position_pd(\n",
    "                                                                                     HLA_length_aatype_position, \n",
    "                                                                                     length, \n",
    "                                                                                     softmax,\n",
    "                                                                                     unsoftmax)\n",
    "        HLA_length_aatype_position_softmax_pd = sort_aatype(HLA_length_aatype_position_softmax_pd)\n",
    "        HLA_length_aatype_position_unsoftmax_pd = sort_aatype(HLA_length_aatype_position_unsoftmax_pd)\n",
    "        \n",
    "        if show:\n",
    "            fig, axes = plt.subplots(nrows = 1, ncols = 2, figsize = (10, 8))\n",
    "            sns.heatmap(HLA_length_aatype_position_softmax_pd,\n",
    "                        ax = axes[0], cmap = 'YlGn', square = True)\n",
    "\n",
    "            sns.heatmap(HLA_length_aatype_position_unsoftmax_pd,\n",
    "                        ax = axes[1], cmap = 'YlGn', square = True)\n",
    "\n",
    "            axes[0].set_title(hla + ' Softmax Normalization')\n",
    "            axes[1].set_title(hla + ' UnNormalization')\n",
    "            plt.show()\n",
    "\n",
    "        return HLA_length_aatype_position_softmax_pd, HLA_length_aatype_position_unsoftmax_pd\n",
    "    \n",
    "    else:\n",
    "        HLA_length_aatype_position_pd = attn_HLA_length_aatype_position_pd(HLA_length_aatype_position, \n",
    "                                                                           length, \n",
    "                                                                           softmax,\n",
    "                                                                           unsoftmax)\n",
    "        HLA_length_aatype_position_pd = sort_aatype(HLA_length_aatype_position_pd)\n",
    "        return HLA_length_aatype_position_pd\n",
    "def sort_aatype(df):\n",
    "    aatype_sorts = list('YATVLDEGRHIWQKMFNSPC')\n",
    "    df.reset_index(inplace = True)\n",
    "    df['index'] = df['index'].astype('category')\n",
    "    df['index'].cat.reorder_categories(aatype_sorts, inplace=True)\n",
    "    df.sort_values('index', inplace=True)\n",
    "    df.rename(columns = {'index':''}, inplace = True)\n",
    "    df = df.set_index('')\n",
    "    return df\n"
   ]
  },
  {
   "cell_type": "code",
   "execution_count": 76,
   "id": "d5b50ea3",
   "metadata": {},
   "outputs": [
    {
     "name": "stdout",
     "output_type": "stream",
     "text": [
      "2939\n"
     ]
    },
    {
     "name": "stderr",
     "output_type": "stream",
     "text": [
      "100%|████████████████████████████████████████████████████████████████████████████████████| 8/8 [00:09<00:00,  1.13s/it]\n"
     ]
    },
    {
     "name": "stdout",
     "output_type": "stream",
     "text": [
      "{'L': {0: tensor(333.3163, device='cuda:0'), 1: tensor(362.3422, device='cuda:0'), 7: tensor(439.9067, device='cuda:0'), 6: tensor(584.8994, device='cuda:0'), 5: tensor(219.5494, device='cuda:0'), 4: tensor(238.2338, device='cuda:0'), 3: tensor(225.7533, device='cuda:0'), 2: tensor(43.4134, device='cuda:0'), 8: tensor(77.9455, device='cuda:0')}, 'S': {1: tensor(727.3334, device='cuda:0'), 4: tensor(185.3352, device='cuda:0'), 6: tensor(181.6656, device='cuda:0'), 5: tensor(197.5648, device='cuda:0'), 3: tensor(206.3036, device='cuda:0'), 0: tensor(168.1044, device='cuda:0'), 2: tensor(120.5066, device='cuda:0'), 7: tensor(190.1796, device='cuda:0'), 8: tensor(26.7682, device='cuda:0')}, 'E': {2: tensor(603.5454, device='cuda:0'), 7: tensor(172.6453, device='cuda:0'), 5: tensor(88.5871, device='cuda:0'), 0: tensor(131.7071, device='cuda:0'), 1: tensor(24.0152, device='cuda:0'), 6: tensor(230.4143, device='cuda:0'), 4: tensor(180.1410, device='cuda:0'), 3: tensor(223.5154, device='cuda:0'), 8: tensor(11.6295, device='cuda:0')}, 'P': {3: tensor(261.1940, device='cuda:0'), 5: tensor(140.7118, device='cuda:0'), 4: tensor(89.4852, device='cuda:0'), 6: tensor(94.5915, device='cuda:0'), 0: tensor(56.8352, device='cuda:0'), 7: tensor(47.7743, device='cuda:0'), 2: tensor(29.2110, device='cuda:0'), 1: tensor(15.1082, device='cuda:0'), 8: tensor(3.5440, device='cuda:0')}, 'G': {4: tensor(168.5519, device='cuda:0'), 6: tensor(116.7721, device='cuda:0'), 7: tensor(125.5352, device='cuda:0'), 3: tensor(148.9377, device='cuda:0'), 0: tensor(76.1734, device='cuda:0'), 2: tensor(52.2344, device='cuda:0'), 5: tensor(167.6876, device='cuda:0'), 1: tensor(31.1286, device='cuda:0'), 8: tensor(8.0185, device='cuda:0')}, 'D': {5: tensor(86.9768, device='cuda:0'), 2: tensor(1287.1230, device='cuda:0'), 0: tensor(83.1196, device='cuda:0'), 3: tensor(163.5529, device='cuda:0'), 7: tensor(86.1444, device='cuda:0'), 1: tensor(70.0780, device='cuda:0'), 6: tensor(171.6120, device='cuda:0'), 4: tensor(162.9186, device='cuda:0'), 8: tensor(8.0151, device='cuda:0')}, 'A': {8: tensor(15.0587, device='cuda:0'), 2: tensor(132.7372, device='cuda:0'), 7: tensor(111.3403, device='cuda:0'), 6: tensor(112.7560, device='cuda:0'), 0: tensor(165.3622, device='cuda:0'), 5: tensor(159.6090, device='cuda:0'), 3: tensor(158.5291, device='cuda:0'), 4: tensor(139.2632, device='cuda:0'), 1: tensor(127.3272, device='cuda:0')}, 'I': {0: tensor(138.9163, device='cuda:0'), 6: tensor(105.4003, device='cuda:0'), 3: tensor(114.9746, device='cuda:0'), 1: tensor(127.2177, device='cuda:0'), 7: tensor(79.8102, device='cuda:0'), 4: tensor(129.5395, device='cuda:0'), 5: tensor(131.0717, device='cuda:0'), 2: tensor(23.9080, device='cuda:0'), 8: tensor(12.4187, device='cuda:0')}, 'N': {2: tensor(82.3200, device='cuda:0'), 5: tensor(161.2897, device='cuda:0'), 7: tensor(84.0805, device='cuda:0'), 4: tensor(148.9897, device='cuda:0'), 6: tensor(112.6581, device='cuda:0'), 3: tensor(91.3350, device='cuda:0'), 0: tensor(106.2544, device='cuda:0'), 1: tensor(12.4621, device='cuda:0'), 8: tensor(4.4708, device='cuda:0')}, 'T': {4: tensor(148.8519, device='cuda:0'), 1: tensor(782.9620, device='cuda:0'), 5: tensor(231.1377, device='cuda:0'), 3: tensor(131.8885, device='cuda:0'), 7: tensor(131.8818, device='cuda:0'), 0: tensor(164.7161, device='cuda:0'), 6: tensor(117.8914, device='cuda:0'), 2: tensor(44.2855, device='cuda:0'), 8: tensor(12.4104, device='cuda:0')}, 'F': {6: tensor(87.6599, device='cuda:0'), 0: tensor(195.2724, device='cuda:0'), 3: tensor(114.9889, device='cuda:0'), 5: tensor(129.2532, device='cuda:0'), 8: tensor(60.5552, device='cuda:0'), 7: tensor(140.9568, device='cuda:0'), 4: tensor(114.1014, device='cuda:0'), 2: tensor(24.7845, device='cuda:0'), 1: tensor(14.4091, device='cuda:0')}, 'H': {8: tensor(24.2993, device='cuda:0'), 6: tensor(87.9424, device='cuda:0'), 4: tensor(125.1869, device='cuda:0'), 2: tensor(22.1384, device='cuda:0'), 7: tensor(99.9781, device='cuda:0'), 3: tensor(60.1463, device='cuda:0'), 0: tensor(69.8867, device='cuda:0'), 5: tensor(85.9740, device='cuda:0'), 1: tensor(4.4402, device='cuda:0')}, 'M': {0: tensor(76.9281, device='cuda:0'), 4: tensor(66.4469, device='cuda:0'), 2: tensor(22.1341, device='cuda:0'), 3: tensor(47.7879, device='cuda:0'), 5: tensor(62.0605, device='cuda:0'), 1: tensor(80.3616, device='cuda:0'), 6: tensor(74.9425, device='cuda:0'), 7: tensor(62.2831, device='cuda:0'), 8: tensor(16.9977, device='cuda:0')}, 'K': {3: tensor(179.2929, device='cuda:0'), 8: tensor(56.8162, device='cuda:0'), 7: tensor(214.1543, device='cuda:0'), 4: tensor(144.8753, device='cuda:0'), 6: tensor(61.2003, device='cuda:0'), 5: tensor(130.3484, device='cuda:0'), 0: tensor(95.5628, device='cuda:0'), 2: tensor(22.1338, device='cuda:0'), 1: tensor(2.6580, device='cuda:0')}, 'R': {7: tensor(181.4937, device='cuda:0'), 6: tensor(54.0424, device='cuda:0'), 8: tensor(24.3547, device='cuda:0'), 0: tensor(74.3011, device='cuda:0'), 3: tensor(135.3285, device='cuda:0'), 5: tensor(127.5111, device='cuda:0'), 4: tensor(105.3812, device='cuda:0'), 2: tensor(14.1968, device='cuda:0'), 1: tensor(0.8856, device='cuda:0')}, 'Y': {8: tensor(2174.2593, device='cuda:0'), 0: tensor(263.2100, device='cuda:0'), 5: tensor(74.3302, device='cuda:0'), 3: tensor(76.0327, device='cuda:0'), 6: tensor(67.2505, device='cuda:0'), 4: tensor(87.5486, device='cuda:0'), 7: tensor(134.6817, device='cuda:0'), 2: tensor(19.4536, device='cuda:0'), 1: tensor(6.3140, device='cuda:0')}, 'V': {8: tensor(57.6954, device='cuda:0'), 0: tensor(213.4101, device='cuda:0'), 4: tensor(192.2374, device='cuda:0'), 6: tensor(129.6419, device='cuda:0'), 1: tensor(206.7805, device='cuda:0'), 7: tensor(131.9482, device='cuda:0'), 5: tensor(193.0922, device='cuda:0'), 2: tensor(30.1031, device='cuda:0'), 3: tensor(110.6279, device='cuda:0')}, 'Q': {6: tensor(163.8632, device='cuda:0'), 5: tensor(162.2054, device='cuda:0'), 2: tensor(50.4696, device='cuda:0'), 0: tensor(141.6042, device='cuda:0'), 3: tensor(119.9374, device='cuda:0'), 7: tensor(130.0899, device='cuda:0'), 4: tensor(137.5235, device='cuda:0'), 1: tensor(17.7343, device='cuda:0'), 8: tensor(14.2856, device='cuda:0')}, 'C': {2: tensor(8.8759, device='cuda:0'), 5: tensor(33.7453, device='cuda:0'), 7: tensor(26.0629, device='cuda:0'), 6: tensor(24.3056, device='cuda:0'), 1: tensor(12.4355, device='cuda:0'), 4: tensor(18.6658, device='cuda:0'), 3: tensor(18.5598, device='cuda:0'), 0: tensor(14.1820, device='cuda:0'), 8: tensor(1.7722, device='cuda:0')}, 'W': {0: tensor(30.9122, device='cuda:0'), 4: tensor(22.1379, device='cuda:0'), 6: tensor(29.2168, device='cuda:0'), 5: tensor(21.2634, device='cuda:0'), 7: tensor(13.3010, device='cuda:0'), 3: tensor(15.9156, device='cuda:0'), 1: tensor(3.5924, device='cuda:0'), 8: tensor(7.9645, device='cuda:0'), 2: tensor(2.6553, device='cuda:0')}}\n",
      "8750\n"
     ]
    },
    {
     "name": "stderr",
     "output_type": "stream",
     "text": [
      "100%|████████████████████████████████████████████████████████████████████████████████████| 8/8 [00:26<00:00,  3.35s/it]\n"
     ]
    },
    {
     "name": "stdout",
     "output_type": "stream",
     "text": [
      "{'A': {0: tensor(879.4124, device='cuda:0'), 5: tensor(295.3068, device='cuda:0'), 4: tensor(482.5713, device='cuda:0'), 7: tensor(593.9031, device='cuda:0'), 6: tensor(550.7026, device='cuda:0'), 2: tensor(869.0291, device='cuda:0'), 3: tensor(394.5589, device='cuda:0'), 8: tensor(647.1201, device='cuda:0'), 1: tensor(144.8120, device='cuda:0')}, 'L': {1: tensor(5363.2920, device='cuda:0'), 4: tensor(702.3273, device='cuda:0'), 6: tensor(735.6033, device='cuda:0'), 8: tensor(2936.6729, device='cuda:0'), 3: tensor(184.8746, device='cuda:0'), 2: tensor(1192.6862, device='cuda:0'), 0: tensor(605.6728, device='cuda:0'), 5: tensor(1459.5144, device='cuda:0'), 7: tensor(538.1249, device='cuda:0')}, 'S': {2: tensor(571.4554, device='cuda:0'), 5: tensor(429.6005, device='cuda:0'), 4: tensor(476.5929, device='cuda:0'), 0: tensor(899.6631, device='cuda:0'), 6: tensor(342.3687, device='cuda:0'), 7: tensor(803.3450, device='cuda:0'), 3: tensor(655.0251, device='cuda:0'), 1: tensor(69.3470, device='cuda:0'), 8: tensor(27.6891, device='cuda:0')}, 'T': {3: tensor(339.0488, device='cuda:0'), 4: tensor(444.2371, device='cuda:0'), 5: tensor(510.5009, device='cuda:0'), 0: tensor(484.4190, device='cuda:0'), 7: tensor(786.1478, device='cuda:0'), 2: tensor(316.8931, device='cuda:0'), 6: tensor(495.3260, device='cuda:0'), 1: tensor(191.0685, device='cuda:0'), 8: tensor(73.6107, device='cuda:0')}, 'Y': {7: tensor(297.3903, device='cuda:0'), 6: tensor(285.0932, device='cuda:0'), 0: tensor(532.7160, device='cuda:0'), 5: tensor(117.8208, device='cuda:0'), 4: tensor(262.8691, device='cuda:0'), 2: tensor(363.2661, device='cuda:0'), 3: tensor(50.5747, device='cuda:0'), 8: tensor(42.9843, device='cuda:0'), 1: tensor(19.3144, device='cuda:0')}, 'V': {8: tensor(2946.1953, device='cuda:0'), 7: tensor(244.9427, device='cuda:0'), 1: tensor(601.5925, device='cuda:0'), 5: tensor(1117.1193, device='cuda:0'), 4: tensor(623.1570, device='cuda:0'), 3: tensor(132.2984, device='cuda:0'), 0: tensor(542.9360, device='cuda:0'), 6: tensor(867.6523, device='cuda:0'), 2: tensor(326.2504, device='cuda:0')}, 'H': {0: tensor(190.0189, device='cuda:0'), 3: tensor(182.9420, device='cuda:0'), 7: tensor(272.5415, device='cuda:0'), 6: tensor(547.2441, device='cuda:0'), 5: tensor(93.9502, device='cuda:0'), 4: tensor(346.6400, device='cuda:0'), 2: tensor(194.5575, device='cuda:0'), 1: tensor(12.3992, device='cuda:0'), 8: tensor(22.7180, device='cuda:0')}, 'M': {2: tensor(331.6962, device='cuda:0'), 5: tensor(133.7768, device='cuda:0'), 0: tensor(119.3568, device='cuda:0'), 4: tensor(98.2847, device='cuda:0'), 7: tensor(98.8170, device='cuda:0'), 8: tensor(112.1323, device='cuda:0'), 1: tensor(490.5922, device='cuda:0'), 6: tensor(124.9457, device='cuda:0'), 3: tensor(28.4078, device='cuda:0')}, 'F': {7: tensor(240.1609, device='cuda:0'), 2: tensor(420.6623, device='cuda:0'), 0: tensor(667.8634, device='cuda:0'), 6: tensor(360.0665, device='cuda:0'), 5: tensor(210.6215, device='cuda:0'), 4: tensor(328.6598, device='cuda:0'), 8: tensor(28.6998, device='cuda:0'), 3: tensor(83.2080, device='cuda:0'), 1: tensor(18.3822, device='cuda:0')}, 'P': {2: tensor(235.9429, device='cuda:0'), 3: tensor(832.1787, device='cuda:0'), 6: tensor(792.8524, device='cuda:0'), 4: tensor(273.3546, device='cuda:0'), 5: tensor(525.1993, device='cuda:0'), 8: tensor(24.1005, device='cuda:0'), 7: tensor(121.9760, device='cuda:0'), 1: tensor(8.9646, device='cuda:0'), 0: tensor(28.7284, device='cuda:0')}, 'Q': {6: tensor(426.3661, device='cuda:0'), 4: tensor(349.5428, device='cuda:0'), 2: tensor(407.7064, device='cuda:0'), 5: tensor(290.8390, device='cuda:0'), 3: tensor(336.8093, device='cuda:0'), 7: tensor(641.2187, device='cuda:0'), 0: tensor(253.9332, device='cuda:0'), 1: tensor(257.0201, device='cuda:0'), 8: tensor(13.4169, device='cuda:0')}, 'D': {3: tensor(1248.1649, device='cuda:0'), 5: tensor(196.5223, device='cuda:0'), 6: tensor(165.4864, device='cuda:0'), 7: tensor(101.8435, device='cuda:0'), 2: tensor(782.1263, device='cuda:0'), 8: tensor(7.1417, device='cuda:0'), 4: tensor(334.7404, device='cuda:0'), 0: tensor(37.1741, device='cuda:0'), 1: tensor(4.4783, device='cuda:0')}, 'G': {4: tensor(519.0919, device='cuda:0'), 3: tensor(636.2198, device='cuda:0'), 0: tensor(517.9170, device='cuda:0'), 7: tensor(411.5965, device='cuda:0'), 5: tensor(197.3613, device='cuda:0'), 8: tensor(7.2712, device='cuda:0'), 2: tensor(258.2746, device='cuda:0'), 6: tensor(52.2872, device='cuda:0'), 1: tensor(34.9281, device='cuda:0')}, 'I': {2: tensor(598.4347, device='cuda:0'), 5: tensor(1087.8458, device='cuda:0'), 8: tensor(657.8803, device='cuda:0'), 1: tensor(612.4234, device='cuda:0'), 0: tensor(468.3177, device='cuda:0'), 6: tensor(607.8668, device='cuda:0'), 4: tensor(510.3127, device='cuda:0'), 7: tensor(124.9637, device='cuda:0'), 3: tensor(102.0726, device='cuda:0')}, 'K': {2: tensor(144.1043, device='cuda:0'), 4: tensor(629.5191, device='cuda:0'), 3: tensor(403.5493, device='cuda:0'), 0: tensor(775.8594, device='cuda:0'), 7: tensor(649.8397, device='cuda:0'), 8: tensor(152.7701, device='cuda:0'), 6: tensor(242.2540, device='cuda:0'), 5: tensor(174.4089, device='cuda:0'), 1: tensor(1.7752, device='cuda:0')}, 'E': {0: tensor(69.0072, device='cuda:0'), 3: tensor(1614.3466, device='cuda:0'), 2: tensor(154.7437, device='cuda:0'), 7: tensor(915.0231, device='cuda:0'), 6: tensor(582.2298, device='cuda:0'), 4: tensor(598.8887, device='cuda:0'), 5: tensor(368.3542, device='cuda:0'), 8: tensor(16.1862, device='cuda:0'), 1: tensor(33.0706, device='cuda:0')}, 'N': {3: tensor(382.8300, device='cuda:0'), 5: tensor(346.5773, device='cuda:0'), 6: tensor(243.4109, device='cuda:0'), 7: tensor(365.1695, device='cuda:0'), 4: tensor(320.0433, device='cuda:0'), 2: tensor(282.9806, device='cuda:0'), 0: tensor(154.6711, device='cuda:0'), 8: tensor(14.3209, device='cuda:0'), 1: tensor(6.3050, device='cuda:0')}, 'R': {8: tensor(38.6520, device='cuda:0'), 3: tensor(161.3097, device='cuda:0'), 2: tensor(65.5378, device='cuda:0'), 6: tensor(183.0232, device='cuda:0'), 4: tensor(338.8582, device='cuda:0'), 0: tensor(474.9904, device='cuda:0'), 7: tensor(477.6670, device='cuda:0'), 1: tensor(9.7846, device='cuda:0'), 5: tensor(123.9018, device='cuda:0')}, 'W': {6: tensor(107.1623, device='cuda:0'), 2: tensor(212.2362, device='cuda:0'), 4: tensor(68.1657, device='cuda:0'), 3: tensor(31.8672, device='cuda:0'), 7: tensor(19.6398, device='cuda:0'), 5: tensor(23.9210, device='cuda:0'), 0: tensor(22.9682, device='cuda:0'), 1: tensor(1.8351, device='cuda:0'), 8: tensor(8.8605, device='cuda:0')}, 'C': {2: tensor(31.0734, device='cuda:0'), 1: tensor(5.3957, device='cuda:0'), 7: tensor(38.1173, device='cuda:0'), 6: tensor(31.2255, device='cuda:0'), 8: tensor(46.8842, device='cuda:0'), 5: tensor(44.3374, device='cuda:0'), 4: tensor(42.4806, device='cuda:0'), 3: tensor(7.9831, device='cuda:0'), 0: tensor(9.7277, device='cuda:0')}}\n",
      "5609\n"
     ]
    },
    {
     "name": "stderr",
     "output_type": "stream",
     "text": [
      "100%|████████████████████████████████████████████████████████████████████████████████████| 8/8 [00:17<00:00,  2.16s/it]\n"
     ]
    },
    {
     "name": "stdout",
     "output_type": "stream",
     "text": [
      "{'F': {0: tensor(35.3646, device='cuda:0'), 7: tensor(180.4139, device='cuda:0'), 5: tensor(337.2780, device='cuda:0'), 2: tensor(489.8577, device='cuda:0'), 6: tensor(227.8229, device='cuda:0'), 3: tensor(114.4189, device='cuda:0'), 4: tensor(172.5659, device='cuda:0'), 1: tensor(21.6399, device='cuda:0'), 8: tensor(3.5784, device='cuda:0')}, 'I': {1: tensor(615.5153, device='cuda:0'), 6: tensor(523.2121, device='cuda:0'), 0: tensor(207.8266, device='cuda:0'), 5: tensor(459.6172, device='cuda:0'), 4: tensor(233.1544, device='cuda:0'), 2: tensor(128.2034, device='cuda:0'), 7: tensor(91.9593, device='cuda:0'), 3: tensor(110.1196, device='cuda:0'), 8: tensor(4.4222, device='cuda:0')}, 'N': {2: tensor(328.4175, device='cuda:0'), 3: tensor(215.6404, device='cuda:0'), 5: tensor(122.2688, device='cuda:0'), 4: tensor(212.1309, device='cuda:0'), 6: tensor(103.1891, device='cuda:0'), 7: tensor(305.1306, device='cuda:0'), 1: tensor(12.3995, device='cuda:0'), 0: tensor(28.3030, device='cuda:0'), 8: tensor(5.3564, device='cuda:0')}, 'P': {3: tensor(549.7828, device='cuda:0'), 5: tensor(406.9771, device='cuda:0'), 2: tensor(116.6899, device='cuda:0'), 7: tensor(323.3858, device='cuda:0'), 0: tensor(14.2426, device='cuda:0'), 4: tensor(661.4073, device='cuda:0'), 6: tensor(171.7040, device='cuda:0'), 8: tensor(10.6612, device='cuda:0'), 1: tensor(12.3975, device='cuda:0')}, 'K': {4: tensor(466.0207, device='cuda:0'), 8: tensor(3655.8672, device='cuda:0'), 0: tensor(1001.6191, device='cuda:0'), 3: tensor(431.1367, device='cuda:0'), 1: tensor(19.6865, device='cuda:0'), 5: tensor(162.1213, device='cuda:0'), 7: tensor(373.2508, device='cuda:0'), 6: tensor(231.0215, device='cuda:0'), 2: tensor(235.4135, device='cuda:0')}, 'T': {7: tensor(328.9265, device='cuda:0'), 4: tensor(314.5029, device='cuda:0'), 0: tensor(188.5801, device='cuda:0'), 1: tensor(728.8943, device='cuda:0'), 5: tensor(354.9775, device='cuda:0'), 6: tensor(391.9524, device='cuda:0'), 3: tensor(281.6591, device='cuda:0'), 2: tensor(156.7700, device='cuda:0'), 8: tensor(3.5500, device='cuda:0')}, 'Y': {8: tensor(352.1701, device='cuda:0'), 5: tensor(99.1381, device='cuda:0'), 2: tensor(707.1981, device='cuda:0'), 0: tensor(35.3547, device='cuda:0'), 7: tensor(186.6231, device='cuda:0'), 4: tensor(139.8481, device='cuda:0'), 3: tensor(89.8551, device='cuda:0'), 6: tensor(52.2421, device='cuda:0'), 1: tensor(10.8155, device='cuda:0')}, 'V': {1: tensor(991.8304, device='cuda:0'), 2: tensor(100.8334, device='cuda:0'), 5: tensor(555.0112, device='cuda:0'), 0: tensor(300.8483, device='cuda:0'), 4: tensor(400.2962, device='cuda:0'), 7: tensor(225.4556, device='cuda:0'), 3: tensor(191.1731, device='cuda:0'), 6: tensor(425.6984, device='cuda:0'), 8: tensor(19.4996, device='cuda:0')}, 'E': {3: tensor(488.2442, device='cuda:0'), 7: tensor(340.5626, device='cuda:0'), 4: tensor(216.4639, device='cuda:0'), 5: tensor(69.8954, device='cuda:0'), 8: tensor(8.0338, device='cuda:0'), 2: tensor(75.9156, device='cuda:0'), 6: tensor(69.1067, device='cuda:0'), 0: tensor(22.1081, device='cuda:0'), 1: tensor(15.9166, device='cuda:0')}, 'H': {4: tensor(210.4629, device='cuda:0'), 6: tensor(67.5135, device='cuda:0'), 8: tensor(295.7272, device='cuda:0'), 2: tensor(144.2721, device='cuda:0'), 5: tensor(87.6443, device='cuda:0'), 0: tensor(151.2803, device='cuda:0'), 3: tensor(111.9442, device='cuda:0'), 7: tensor(101.6955, device='cuda:0'), 1: tensor(7.0924, device='cuda:0')}, 'M': {7: tensor(101.7771, device='cuda:0'), 6: tensor(158.1102, device='cuda:0'), 2: tensor(111.7359, device='cuda:0'), 5: tensor(126.9989, device='cuda:0'), 1: tensor(193.2673, device='cuda:0'), 0: tensor(53.0730, device='cuda:0'), 3: tensor(37.3802, device='cuda:0'), 4: tensor(38.1361, device='cuda:0'), 8: tensor(3.6029, device='cuda:0')}, 'R': {1: tensor(14.4024, device='cuda:0'), 3: tensor(167.5981, device='cuda:0'), 0: tensor(981.4771, device='cuda:0'), 6: tensor(312.2003, device='cuda:0'), 8: tensor(627.3765, device='cuda:0'), 4: tensor(251.8138, device='cuda:0'), 5: tensor(137.1978, device='cuda:0'), 2: tensor(181.5247, device='cuda:0'), 7: tensor(232.6520, device='cuda:0')}, 'W': {5: tensor(30.1472, device='cuda:0'), 3: tensor(36.3756, device='cuda:0'), 4: tensor(88.8664, device='cuda:0'), 2: tensor(115.9179, device='cuda:0'), 1: tensor(1.8007, device='cuda:0'), 7: tensor(22.1486, device='cuda:0'), 0: tensor(3.5377, device='cuda:0'), 6: tensor(15.9278, device='cuda:0')}, 'S': {6: tensor(407.4301, device='cuda:0'), 2: tensor(468.0571, device='cuda:0'), 4: tensor(389.8986, device='cuda:0'), 7: tensor(450.8509, device='cuda:0'), 5: tensor(356.5342, device='cuda:0'), 3: tensor(577.8398, device='cuda:0'), 0: tensor(547.4159, device='cuda:0'), 8: tensor(9.8383, device='cuda:0'), 1: tensor(324.5568, device='cuda:0')}, 'C': {1: tensor(4.4221, device='cuda:0'), 2: tensor(23.0453, device='cuda:0'), 5: tensor(20.3624, device='cuda:0'), 4: tensor(15.9942, device='cuda:0'), 6: tensor(14.4256, device='cuda:0'), 7: tensor(10.6580, device='cuda:0'), 0: tensor(15.0283, device='cuda:0'), 3: tensor(8.9395, device='cuda:0')}, 'L': {7: tensor(605.6257, device='cuda:0'), 1: tensor(1630.2327, device='cuda:0'), 2: tensor(507.5869, device='cuda:0'), 4: tensor(257.9282, device='cuda:0'), 6: tensor(1186.3239, device='cuda:0'), 0: tensor(189.7092, device='cuda:0'), 5: tensor(713.3588, device='cuda:0'), 3: tensor(232.4281, device='cuda:0'), 8: tensor(12.4274, device='cuda:0')}, 'Q': {3: tensor(286.1203, device='cuda:0'), 5: tensor(247.8689, device='cuda:0'), 7: tensor(430.6464, device='cuda:0'), 4: tensor(197.9958, device='cuda:0'), 2: tensor(88.4357, device='cuda:0'), 0: tensor(145.8214, device='cuda:0'), 1: tensor(159.3127, device='cuda:0'), 8: tensor(14.2435, device='cuda:0'), 6: tensor(144.3708, device='cuda:0')}, 'G': {7: tensor(291.7906, device='cuda:0'), 4: tensor(288.3666, device='cuda:0'), 3: tensor(403.4403, device='cuda:0'), 6: tensor(147.8363, device='cuda:0'), 2: tensor(242.4097, device='cuda:0'), 5: tensor(294.8527, device='cuda:0'), 1: tensor(43.4285, device='cuda:0'), 0: tensor(336.2473, device='cuda:0'), 8: tensor(7.9867, device='cuda:0')}, 'A': {6: tensor(295.6472, device='cuda:0'), 4: tensor(299.6040, device='cuda:0'), 0: tensor(695.1987, device='cuda:0'), 3: tensor(330.5368, device='cuda:0'), 2: tensor(569.5413, device='cuda:0'), 1: tensor(164.8952, device='cuda:0'), 5: tensor(353.3764, device='cuda:0'), 7: tensor(310.2691, device='cuda:0'), 8: tensor(23.0267, device='cuda:0')}, 'D': {3: tensor(349.7865, device='cuda:0'), 4: tensor(118.7738, device='cuda:0'), 2: tensor(175.5844, device='cuda:0'), 5: tensor(31.1091, device='cuda:0'), 6: tensor(32.9471, device='cuda:0'), 7: tensor(46.8950, device='cuda:0'), 0: tensor(13.2621, device='cuda:0'), 8: tensor(0.8909, device='cuda:0'), 1: tensor(12.4009, device='cuda:0')}}\n",
      "6413\n"
     ]
    },
    {
     "name": "stderr",
     "output_type": "stream",
     "text": [
      "100%|████████████████████████████████████████████████████████████████████████████████████| 8/8 [00:19<00:00,  2.47s/it]\n"
     ]
    },
    {
     "name": "stdout",
     "output_type": "stream",
     "text": [
      "{'G': {0: tensor(264.5667, device='cuda:0'), 3: tensor(483.0464, device='cuda:0'), 7: tensor(276.9437, device='cuda:0'), 4: tensor(418.7203, device='cuda:0'), 5: tensor(639.7430, device='cuda:0'), 6: tensor(263.5501, device='cuda:0'), 2: tensor(228.9206, device='cuda:0'), 1: tensor(21.4868, device='cuda:0'), 8: tensor(9.9143, device='cuda:0')}, 'P': {1: tensor(4909.9604, device='cuda:0'), 3: tensor(860.9327, device='cuda:0'), 6: tensor(514.1602, device='cuda:0'), 4: tensor(1016.9318, device='cuda:0'), 5: tensor(489.6921, device='cuda:0'), 0: tensor(39.8013, device='cuda:0'), 7: tensor(272.1208, device='cuda:0'), 8: tensor(81.1988, device='cuda:0'), 2: tensor(113.1826, device='cuda:0')}, 'R': {2: tensor(1235.1449, device='cuda:0'), 5: tensor(742.2578, device='cuda:0'), 4: tensor(508.4388, device='cuda:0'), 6: tensor(300.2628, device='cuda:0'), 0: tensor(842.3100, device='cuda:0'), 3: tensor(233.8139, device='cuda:0'), 7: tensor(172.1710, device='cuda:0'), 8: tensor(20.6929, device='cuda:0'), 1: tensor(8.0795, device='cuda:0')}, 'M': {3: tensor(70.9257, device='cuda:0'), 8: tensor(377.9738, device='cuda:0'), 6: tensor(117.1932, device='cuda:0'), 2: tensor(157.4918, device='cuda:0'), 7: tensor(77.8800, device='cuda:0'), 4: tensor(45.1702, device='cuda:0'), 0: tensor(113.2026, device='cuda:0'), 5: tensor(107.3070, device='cuda:0'), 1: tensor(4.4681, device='cuda:0')}, 'T': {4: tensor(275.0396, device='cuda:0'), 6: tensor(481.5727, device='cuda:0'), 7: tensor(507.0799, device='cuda:0'), 0: tensor(301.5861, device='cuda:0'), 5: tensor(427.9772, device='cuda:0'), 3: tensor(239.8082, device='cuda:0'), 2: tensor(178.6609, device='cuda:0'), 8: tensor(49.8023, device='cuda:0'), 1: tensor(33.1894, device='cuda:0')}, 'V': {5: tensor(325.7238, device='cuda:0'), 7: tensor(510.0113, device='cuda:0'), 0: tensor(325.3804, device='cuda:0'), 4: tensor(446.7333, device='cuda:0'), 6: tensor(403.2015, device='cuda:0'), 1: tensor(299.9257, device='cuda:0'), 8: tensor(429.2829, device='cuda:0'), 2: tensor(209.5820, device='cuda:0'), 3: tensor(227.4549, device='cuda:0')}, 'N': {7: tensor(102.7760, device='cuda:0'), 5: tensor(164.2363, device='cuda:0'), 6: tensor(213.5428, device='cuda:0'), 3: tensor(197.6575, device='cuda:0'), 2: tensor(191.9789, device='cuda:0'), 0: tensor(122.0345, device='cuda:0'), 4: tensor(170.3307, device='cuda:0'), 8: tensor(3.5558, device='cuda:0'), 1: tensor(12.5561, device='cuda:0')}, 'L': {8: tensor(3651.3340, device='cuda:0'), 0: tensor(541.0324, device='cuda:0'), 4: tensor(324.9618, device='cuda:0'), 2: tensor(264.5687, device='cuda:0'), 6: tensor(708.6580, device='cuda:0'), 3: tensor(517.8217, device='cuda:0'), 7: tensor(339.9332, device='cuda:0'), 5: tensor(415.6628, device='cuda:0'), 1: tensor(66.7425, device='cuda:0')}, 'S': {2: tensor(537.8696, device='cuda:0'), 3: tensor(589.7484, device='cuda:0'), 6: tensor(686.6259, device='cuda:0'), 0: tensor(963.3990, device='cuda:0'), 5: tensor(534.8222, device='cuda:0'), 7: tensor(1072.9686, device='cuda:0'), 4: tensor(486.2524, device='cuda:0'), 1: tensor(28.6393, device='cuda:0'), 8: tensor(23.3716, device='cuda:0')}, 'Q': {4: tensor(212.9097, device='cuda:0'), 0: tensor(219.2547, device='cuda:0'), 7: tensor(302.6384, device='cuda:0'), 5: tensor(177.1669, device='cuda:0'), 6: tensor(336.9994, device='cuda:0'), 3: tensor(264.8372, device='cuda:0'), 2: tensor(281.2199, device='cuda:0'), 8: tensor(17.9723, device='cuda:0'), 1: tensor(2.6923, device='cuda:0')}, 'A': {6: tensor(524.4600, device='cuda:0'), 7: tensor(844.2433, device='cuda:0'), 2: tensor(849.2610, device='cuda:0'), 3: tensor(499.6041, device='cuda:0'), 5: tensor(448.2250, device='cuda:0'), 0: tensor(794.5778, device='cuda:0'), 4: tensor(466.1297, device='cuda:0'), 8: tensor(192.5057, device='cuda:0'), 1: tensor(207.9239, device='cuda:0')}, 'F': {8: tensor(451.2005, device='cuda:0'), 5: tensor(194.4060, device='cuda:0'), 3: tensor(130.4262, device='cuda:0'), 4: tensor(130.3293, device='cuda:0'), 0: tensor(117.6204, device='cuda:0'), 2: tensor(125.4996, device='cuda:0'), 6: tensor(54.1630, device='cuda:0'), 7: tensor(79.6954, device='cuda:0'), 1: tensor(20.5758, device='cuda:0')}, 'K': {6: tensor(235.7248, device='cuda:0'), 2: tensor(372.3343, device='cuda:0'), 0: tensor(404.4386, device='cuda:0'), 4: tensor(405.7485, device='cuda:0'), 5: tensor(298.0196, device='cuda:0'), 7: tensor(208.5188, device='cuda:0'), 3: tensor(351.9572, device='cuda:0'), 1: tensor(2.6887, device='cuda:0'), 8: tensor(15.2977, device='cuda:0')}, 'E': {1: tensor(4.4265, device='cuda:0'), 4: tensor(177.8178, device='cuda:0'), 0: tensor(30.0771, device='cuda:0'), 3: tensor(406.8773, device='cuda:0'), 7: tensor(432.4684, device='cuda:0'), 2: tensor(155.0874, device='cuda:0'), 5: tensor(109.2082, device='cuda:0'), 6: tensor(249.0151, device='cuda:0'), 8: tensor(2.6754, device='cuda:0')}, 'H': {3: tensor(114.4510, device='cuda:0'), 4: tensor(185.8172, device='cuda:0'), 5: tensor(151.6521, device='cuda:0'), 0: tensor(150.4094, device='cuda:0'), 7: tensor(96.7600, device='cuda:0'), 2: tensor(195.9150, device='cuda:0'), 6: tensor(138.3854, device='cuda:0'), 8: tensor(22.3138, device='cuda:0'), 1: tensor(6.2983, device='cuda:0')}, 'Y': {2: tensor(126.2765, device='cuda:0'), 5: tensor(71.9882, device='cuda:0'), 4: tensor(85.1605, device='cuda:0'), 0: tensor(145.8533, device='cuda:0'), 6: tensor(47.8396, device='cuda:0'), 8: tensor(14.3229, device='cuda:0'), 3: tensor(99.4416, device='cuda:0'), 7: tensor(74.3381, device='cuda:0'), 1: tensor(13.3185, device='cuda:0')}, 'D': {3: tensor(210.6051, device='cuda:0'), 2: tensor(190.3323, device='cuda:0'), 5: tensor(95.0204, device='cuda:0'), 4: tensor(126.8716, device='cuda:0'), 7: tensor(104.9204, device='cuda:0'), 0: tensor(13.2678, device='cuda:0'), 6: tensor(110.6634, device='cuda:0'), 1: tensor(2.6665, device='cuda:0'), 8: tensor(2.6706, device='cuda:0')}, 'I': {5: tensor(237.8666, device='cuda:0'), 8: tensor(293.1829, device='cuda:0'), 2: tensor(185.5859, device='cuda:0'), 6: tensor(261.9864, device='cuda:0'), 0: tensor(246.6048, device='cuda:0'), 3: tensor(150.7890, device='cuda:0'), 7: tensor(141.8158, device='cuda:0'), 4: tensor(176.3006, device='cuda:0'), 1: tensor(100.5827, device='cuda:0')}, 'W': {5: tensor(45.2153, device='cuda:0'), 2: tensor(57.4647, device='cuda:0'), 7: tensor(15.0569, device='cuda:0'), 4: tensor(43.4452, device='cuda:0'), 3: tensor(46.2760, device='cuda:0'), 1: tensor(4.4758, device='cuda:0'), 6: tensor(18.6002, device='cuda:0'), 0: tensor(22.0956, device='cuda:0'), 8: tensor(16.8479, device='cuda:0')}, 'C': {2: tensor(20.4205, device='cuda:0'), 0: tensor(14.1444, device='cuda:0'), 5: tensor(16.8472, device='cuda:0'), 3: tensor(16.8991, device='cuda:0'), 6: tensor(38.2718, device='cuda:0'), 7: tensor(52.4000, device='cuda:0'), 8: tensor(18.5849, device='cuda:0'), 4: tensor(7.9793, device='cuda:0'), 1: tensor(2.6550, device='cuda:0')}}\n",
      "3909\n"
     ]
    },
    {
     "name": "stderr",
     "output_type": "stream",
     "text": [
      "100%|████████████████████████████████████████████████████████████████████████████████████| 8/8 [00:11<00:00,  1.49s/it]\n"
     ]
    },
    {
     "name": "stdout",
     "output_type": "stream",
     "text": [
      "{'G': {0: tensor(527.3246, device='cuda:0'), 5: tensor(142.3102, device='cuda:0'), 7: tensor(283.7634, device='cuda:0'), 3: tensor(290.6187, device='cuda:0'), 4: tensor(230.5927, device='cuda:0'), 2: tensor(63.6170, device='cuda:0'), 6: tensor(30.2774, device='cuda:0'), 1: tensor(1.7694, device='cuda:0'), 8: tensor(0.9199, device='cuda:0')}, 'R': {1: tensor(3393.9658, device='cuda:0'), 3: tensor(160.0770, device='cuda:0'), 5: tensor(184.3609, device='cuda:0'), 4: tensor(128.7104, device='cuda:0'), 0: tensor(606.1377, device='cuda:0'), 8: tensor(436.1251, device='cuda:0'), 6: tensor(71.7368, device='cuda:0'), 2: tensor(58.5739, device='cuda:0'), 7: tensor(235.5918, device='cuda:0')}, 'V': {2: tensor(239.8559, device='cuda:0'), 6: tensor(382.0424, device='cuda:0'), 8: tensor(197.8715, device='cuda:0'), 4: tensor(357.2553, device='cuda:0'), 5: tensor(367.1438, device='cuda:0'), 7: tensor(185.6136, device='cuda:0'), 0: tensor(90.1147, device='cuda:0'), 3: tensor(130.3526, device='cuda:0'), 1: tensor(2.6557, device='cuda:0')}, 'P': {4: tensor(183.4426, device='cuda:0'), 5: tensor(184.1452, device='cuda:0'), 3: tensor(355.5764, device='cuda:0'), 6: tensor(230.3056, device='cuda:0'), 7: tensor(47.6875, device='cuda:0'), 2: tensor(9.7208, device='cuda:0'), 0: tensor(7.9521, device='cuda:0'), 8: tensor(5.4347, device='cuda:0')}, 'E': {6: tensor(190.2012, device='cuda:0'), 7: tensor(219.4805, device='cuda:0'), 3: tensor(271.2544, device='cuda:0'), 4: tensor(182.2014, device='cuda:0'), 5: tensor(172.0056, device='cuda:0'), 2: tensor(25.2015, device='cuda:0'), 0: tensor(52.9981, device='cuda:0'), 8: tensor(1.8147, device='cuda:0'), 1: tensor(4.4290, device='cuda:0')}, 'T': {7: tensor(293.6198, device='cuda:0'), 3: tensor(109.3321, device='cuda:0'), 6: tensor(215.3228, device='cuda:0'), 0: tensor(108.6282, device='cuda:0'), 5: tensor(192.1567, device='cuda:0'), 2: tensor(201.7203, device='cuda:0'), 4: tensor(160.0988, device='cuda:0'), 8: tensor(7.9980, device='cuda:0'), 1: tensor(3.5389, device='cuda:0')}, 'L': {8: tensor(1117.5470, device='cuda:0'), 2: tensor(522.9258, device='cuda:0'), 0: tensor(99.8512, device='cuda:0'), 3: tensor(322.8774, device='cuda:0'), 7: tensor(357.2007, device='cuda:0'), 6: tensor(556.8740, device='cuda:0'), 4: tensor(497.3511, device='cuda:0'), 5: tensor(406.7498, device='cuda:0'), 1: tensor(14.1604, device='cuda:0')}, 'N': {2: tensor(255.3072, device='cuda:0'), 5: tensor(105.7021, device='cuda:0'), 4: tensor(103.6452, device='cuda:0'), 7: tensor(252.0577, device='cuda:0'), 6: tensor(124.2707, device='cuda:0'), 3: tensor(158.5804, device='cuda:0'), 0: tensor(52.9811, device='cuda:0'), 1: tensor(2.6520, device='cuda:0'), 8: tensor(0.9095, device='cuda:0')}, 'D': {3: tensor(237.6490, device='cuda:0'), 5: tensor(69.1073, device='cuda:0'), 4: tensor(99.8391, device='cuda:0'), 6: tensor(53.1804, device='cuda:0'), 7: tensor(55.3980, device='cuda:0'), 2: tensor(88.2813, device='cuda:0'), 0: tensor(7.0722, device='cuda:0'), 1: tensor(0.8851, device='cuda:0')}, 'I': {4: tensor(318.9417, device='cuda:0'), 6: tensor(302.3212, device='cuda:0'), 5: tensor(356.7831, device='cuda:0'), 8: tensor(154.6463, device='cuda:0'), 2: tensor(278.9739, device='cuda:0'), 3: tensor(116.8335, device='cuda:0'), 0: tensor(131.5926, device='cuda:0'), 7: tensor(47.9157, device='cuda:0'), 1: tensor(2.6770, device='cuda:0')}, 'Q': {7: tensor(253.7013, device='cuda:0'), 0: tensor(205.7554, device='cuda:0'), 6: tensor(174.0203, device='cuda:0'), 4: tensor(196.6954, device='cuda:0'), 1: tensor(51.3523, device='cuda:0'), 2: tensor(104.4105, device='cuda:0'), 3: tensor(200.9773, device='cuda:0'), 5: tensor(257.4542, device='cuda:0'), 8: tensor(2.6978, device='cuda:0')}, 'K': {0: tensor(388.7097, device='cuda:0'), 3: tensor(270.2446, device='cuda:0'), 5: tensor(198.5012, device='cuda:0'), 4: tensor(183.4553, device='cuda:0'), 2: tensor(203.4565, device='cuda:0'), 7: tensor(267.2407, device='cuda:0'), 8: tensor(383.7763, device='cuda:0'), 6: tensor(121.6966, device='cuda:0'), 1: tensor(18.8302, device='cuda:0')}, 'F': {2: tensor(426.7344, device='cuda:0'), 8: tensor(562.3117, device='cuda:0'), 3: tensor(163.1385, device='cuda:0'), 0: tensor(63.6173, device='cuda:0'), 5: tensor(158.7401, device='cuda:0'), 6: tensor(225.7959, device='cuda:0'), 4: tensor(188.4384, device='cuda:0'), 7: tensor(77.9286, device='cuda:0'), 1: tensor(1.8059, device='cuda:0')}, 'W': {6: tensor(78.7189, device='cuda:0'), 2: tensor(92.7669, device='cuda:0'), 5: tensor(21.2846, device='cuda:0'), 4: tensor(36.2364, device='cuda:0'), 3: tensor(31.0557, device='cuda:0'), 8: tensor(21.3054, device='cuda:0'), 0: tensor(7.9563, device='cuda:0'), 7: tensor(11.5017, device='cuda:0')}, 'M': {7: tensor(48.7276, device='cuda:0'), 5: tensor(67.3503, device='cuda:0'), 3: tensor(42.5807, device='cuda:0'), 8: tensor(216.3788, device='cuda:0'), 6: tensor(68.2822, device='cuda:0'), 1: tensor(4.4290, device='cuda:0'), 2: tensor(100.8542, device='cuda:0'), 4: tensor(69.8561, device='cuda:0'), 0: tensor(53.1876, device='cuda:0')}, 'Y': {8: tensor(263.8428, device='cuda:0'), 4: tensor(108.8980, device='cuda:0'), 7: tensor(79.5944, device='cuda:0'), 2: tensor(209.3235, device='cuda:0'), 3: tensor(78.0592, device='cuda:0'), 5: tensor(88.6598, device='cuda:0'), 6: tensor(150.9947, device='cuda:0'), 0: tensor(94.5105, device='cuda:0'), 1: tensor(1.8048, device='cuda:0')}, 'A': {6: tensor(193.9037, device='cuda:0'), 2: tensor(217.4730, device='cuda:0'), 3: tensor(220.7459, device='cuda:0'), 4: tensor(169.1158, device='cuda:0'), 0: tensor(441.6095, device='cuda:0'), 5: tensor(239.4786, device='cuda:0'), 7: tensor(262.1772, device='cuda:0'), 8: tensor(29.5965, device='cuda:0'), 1: tensor(7.0720, device='cuda:0')}, 'S': {0: tensor(387.6419, device='cuda:0'), 7: tensor(344.3048, device='cuda:0'), 4: tensor(168.9131, device='cuda:0'), 2: tensor(184.7645, device='cuda:0'), 6: tensor(160.7243, device='cuda:0'), 3: tensor(257.4294, device='cuda:0'), 5: tensor(188.8332, device='cuda:0'), 8: tensor(10.0237, device='cuda:0'), 1: tensor(2.6526, device='cuda:0')}, 'H': {4: tensor(75.5182, device='cuda:0'), 7: tensor(126.5768, device='cuda:0'), 6: tensor(126.6000, device='cuda:0'), 2: tensor(168.0329, device='cuda:0'), 0: tensor(123.6682, device='cuda:0'), 3: tensor(59.5284, device='cuda:0'), 5: tensor(59.4103, device='cuda:0'), 8: tensor(76.5648, device='cuda:0'), 1: tensor(5.3730, device='cuda:0')}, 'C': {7: tensor(15.1490, device='cuda:0'), 3: tensor(3.5577, device='cuda:0'), 6: tensor(10.7829, device='cuda:0'), 0: tensor(2.6519, device='cuda:0'), 2: tensor(7.0687, device='cuda:0'), 4: tensor(2.6547, device='cuda:0'), 1: tensor(3.5356, device='cuda:0'), 5: tensor(7.1033, device='cuda:0'), 8: tensor(2.6544, device='cuda:0')}}\n",
      "4764\n"
     ]
    },
    {
     "name": "stderr",
     "output_type": "stream",
     "text": [
      "100%|████████████████████████████████████████████████████████████████████████████████████| 8/8 [00:14<00:00,  1.82s/it]"
     ]
    },
    {
     "name": "stdout",
     "output_type": "stream",
     "text": [
      "{'L': {0: tensor(527.4846, device='cuda:0'), 2: tensor(671.2939, device='cuda:0'), 8: tensor(289.6098, device='cuda:0'), 6: tensor(350.6541, device='cuda:0'), 5: tensor(639.7095, device='cuda:0'), 4: tensor(662.9524, device='cuda:0'), 1: tensor(193.2834, device='cuda:0'), 3: tensor(303.2322, device='cuda:0'), 7: tensor(635.4509, device='cuda:0')}, 'S': {1: tensor(1376.2479, device='cuda:0'), 5: tensor(207.1985, device='cuda:0'), 3: tensor(245.6723, device='cuda:0'), 7: tensor(378.4660, device='cuda:0'), 2: tensor(240.9603, device='cuda:0'), 0: tensor(253.8992, device='cuda:0'), 6: tensor(206.5729, device='cuda:0'), 4: tensor(162.1341, device='cuda:0'), 8: tensor(0.8855, device='cuda:0')}, 'F': {2: tensor(310.0356, device='cuda:0'), 3: tensor(112.8059, device='cuda:0'), 8: tensor(1231.5442, device='cuda:0'), 4: tensor(225.3648, device='cuda:0'), 6: tensor(247.9592, device='cuda:0'), 5: tensor(198.2885, device='cuda:0'), 7: tensor(216.7805, device='cuda:0'), 0: tensor(151.8981, device='cuda:0'), 1: tensor(43.8504, device='cuda:0')}, 'M': {4: tensor(80.7305, device='cuda:0'), 8: tensor(67.2634, device='cuda:0'), 6: tensor(66.7847, device='cuda:0'), 0: tensor(123.6753, device='cuda:0'), 1: tensor(39.4131, device='cuda:0'), 7: tensor(97.2161, device='cuda:0'), 3: tensor(48.1483, device='cuda:0'), 2: tensor(121.5070, device='cuda:0'), 5: tensor(75.5784, device='cuda:0')}, 'A': {5: tensor(218.5453, device='cuda:0'), 4: tensor(172.8859, device='cuda:0'), 1: tensor(703.0589, device='cuda:0'), 0: tensor(264.3205, device='cuda:0'), 3: tensor(185.6324, device='cuda:0'), 6: tensor(193.2838, device='cuda:0'), 2: tensor(274.2727, device='cuda:0'), 7: tensor(140.4236, device='cuda:0'), 8: tensor(0.8850, device='cuda:0')}, 'R': {6: tensor(513.9528, device='cuda:0'), 7: tensor(264.7668, device='cuda:0'), 0: tensor(453.7289, device='cuda:0'), 2: tensor(370.8168, device='cuda:0'), 3: tensor(298.6965, device='cuda:0'), 5: tensor(208.0956, device='cuda:0'), 4: tensor(157.9055, device='cuda:0'), 8: tensor(3.5384, device='cuda:0'), 1: tensor(2.6726, device='cuda:0')}, 'V': {7: tensor(253.1229, device='cuda:0'), 1: tensor(383.7949, device='cuda:0'), 4: tensor(430.9647, device='cuda:0'), 5: tensor(409.2997, device='cuda:0'), 3: tensor(232.2188, device='cuda:0'), 2: tensor(277.6284, device='cuda:0'), 6: tensor(284.7903, device='cuda:0'), 0: tensor(353.5226, device='cuda:0'), 8: tensor(15.9255, device='cuda:0')}, 'T': {0: tensor(204.2945, device='cuda:0'), 1: tensor(1165.3868, device='cuda:0'), 7: tensor(440.3695, device='cuda:0'), 6: tensor(198.6213, device='cuda:0'), 4: tensor(240.1190, device='cuda:0'), 2: tensor(135.0309, device='cuda:0'), 5: tensor(197.6683, device='cuda:0'), 3: tensor(201.3245, device='cuda:0'), 8: tensor(7.0782, device='cuda:0')}, 'P': {3: tensor(560.1457, device='cuda:0'), 5: tensor(268.0250, device='cuda:0'), 6: tensor(212.3263, device='cuda:0'), 1: tensor(28.8510, device='cuda:0'), 2: tensor(38.0200, device='cuda:0'), 4: tensor(208.6360, device='cuda:0'), 0: tensor(14.1551, device='cuda:0'), 7: tensor(22.9722, device='cuda:0'), 8: tensor(0.8856, device='cuda:0')}, 'Q': {6: tensor(271.0462, device='cuda:0'), 4: tensor(138.5849, device='cuda:0'), 5: tensor(295.7082, device='cuda:0'), 7: tensor(254.7250, device='cuda:0'), 0: tensor(185.6864, device='cuda:0'), 3: tensor(207.9132, device='cuda:0'), 2: tensor(112.4116, device='cuda:0'), 1: tensor(19.6936, device='cuda:0')}, 'E': {7: tensor(274.0815, device='cuda:0'), 4: tensor(244.0816, device='cuda:0'), 6: tensor(322.7970, device='cuda:0'), 3: tensor(358.4486, device='cuda:0'), 5: tensor(203.7717, device='cuda:0'), 2: tensor(63.6877, device='cuda:0'), 0: tensor(49.5047, device='cuda:0'), 1: tensor(11.6138, device='cuda:0'), 8: tensor(2.6548, device='cuda:0')}, 'K': {0: tensor(794.2968, device='cuda:0'), 6: tensor(286.6115, device='cuda:0'), 2: tensor(505.7090, device='cuda:0'), 3: tensor(480.8267, device='cuda:0'), 7: tensor(346.0924, device='cuda:0'), 5: tensor(214.4523, device='cuda:0'), 4: tensor(225.6865, device='cuda:0'), 8: tensor(6.2022, device='cuda:0'), 1: tensor(2.6915, device='cuda:0')}, 'I': {3: tensor(162.0580, device='cuda:0'), 4: tensor(359.5351, device='cuda:0'), 8: tensor(155.9088, device='cuda:0'), 0: tensor(340.1552, device='cuda:0'), 7: tensor(108.9938, device='cuda:0'), 1: tensor(122.5117, device='cuda:0'), 2: tensor(208.5410, device='cuda:0'), 6: tensor(153.1698, device='cuda:0'), 5: tensor(348.3230, device='cuda:0')}, 'N': {3: tensor(149.2289, device='cuda:0'), 7: tensor(201.6950, device='cuda:0'), 4: tensor(144.5799, device='cuda:0'), 5: tensor(153.3567, device='cuda:0'), 6: tensor(147.6151, device='cuda:0'), 8: tensor(1.7716, device='cuda:0'), 2: tensor(149.4863, device='cuda:0'), 0: tensor(41.5526, device='cuda:0'), 1: tensor(11.7546, device='cuda:0')}, 'H': {5: tensor(154.0310, device='cuda:0'), 7: tensor(172.4685, device='cuda:0'), 2: tensor(125.5775, device='cuda:0'), 4: tensor(153.1476, device='cuda:0'), 3: tensor(94.2662, device='cuda:0'), 0: tensor(178.5853, device='cuda:0'), 6: tensor(248.5183, device='cuda:0'), 1: tensor(6.2510, device='cuda:0'), 8: tensor(1.7716, device='cuda:0')}, 'G': {2: tensor(101.8079, device='cuda:0'), 4: tensor(190.4899, device='cuda:0'), 5: tensor(132.1668, device='cuda:0'), 3: tensor(218.9340, device='cuda:0'), 1: tensor(116.6772, device='cuda:0'), 7: tensor(120.1757, device='cuda:0'), 0: tensor(111.5106, device='cuda:0'), 6: tensor(47.1432, device='cuda:0'), 8: tensor(1.7706, device='cuda:0')}, 'D': {3: tensor(296.0009, device='cuda:0'), 2: tensor(205.6761, device='cuda:0'), 5: tensor(107.3639, device='cuda:0'), 6: tensor(129.5783, device='cuda:0'), 4: tensor(227.7976, device='cuda:0'), 1: tensor(9.8597, device='cuda:0'), 7: tensor(64.6096, device='cuda:0'), 0: tensor(7.0668, device='cuda:0'), 8: tensor(0.8919, device='cuda:0')}, 'W': {2: tensor(106.9959, device='cuda:0'), 8: tensor(2019.5579, device='cuda:0'), 3: tensor(41.7717, device='cuda:0'), 4: tensor(60.2003, device='cuda:0'), 6: tensor(134.5761, device='cuda:0'), 5: tensor(56.6789, device='cuda:0'), 0: tensor(15.0169, device='cuda:0'), 7: tensor(34.5556, device='cuda:0'), 1: tensor(16.0130, device='cuda:0')}, 'Y': {7: tensor(155.7443, device='cuda:0'), 0: tensor(130.7210, device='cuda:0'), 6: tensor(185.0179, device='cuda:0'), 2: tensor(164.3724, device='cuda:0'), 8: tensor(422.8380, device='cuda:0'), 4: tensor(109.7637, device='cuda:0'), 5: tensor(102.6874, device='cuda:0'), 1: tensor(22.3027, device='cuda:0'), 3: tensor(47.9787, device='cuda:0')}, 'C': {1: tensor(25.9884, device='cuda:0'), 2: tensor(39.9806, device='cuda:0'), 7: tensor(36.8510, device='cuda:0'), 4: tensor(25.7581, device='cuda:0'), 5: tensor(29.3529, device='cuda:0'), 0: tensor(10.6606, device='cuda:0'), 6: tensor(25.2243, device='cuda:0'), 3: tensor(8.9324, device='cuda:0'), 8: tensor(1.7655, device='cuda:0')}}\n"
     ]
    },
    {
     "name": "stderr",
     "output_type": "stream",
     "text": [
      "\n"
     ]
    }
   ],
   "source": [
    "A0101_length9_positive_aatype_position_unsoftmax_pd = draw_hla_length_aatype_position(df_data, attn_res, 'HLA-A01:01', label = 1, length = 9, show = False, softmax = False, unsoftmax = True)\n",
    "A0201_length9_positive_aatype_position_unsoftmax_pd = draw_hla_length_aatype_position(df_data, attn_res, 'HLA-A02:01', label = 1, length = 9, show = False, softmax = False, unsoftmax = True)\n",
    "A0301_length9_positive_aatype_position_unsoftmax_pd = draw_hla_length_aatype_position(df_data, attn_res, 'HLA-A03:01', label = 1, length = 9, show = False, softmax = False, unsoftmax = True)\n",
    "B0702_length9_positive_aatype_position_unsoftmax_pd = draw_hla_length_aatype_position(df_data, attn_res, 'HLA-B07:02', label = 1, length = 9, show = False, softmax = False, unsoftmax = True)\n",
    "B2705_length9_positive_aatype_position_unsoftmax_pd = draw_hla_length_aatype_position(df_data, attn_res, 'HLA-B27:05', label = 1, length = 9, show = False, softmax = False, unsoftmax = True)\n",
    "B5701_length9_positive_aatype_position_unsoftmax_pd = draw_hla_length_aatype_position(df_data, attn_res, 'HLA-B57:01', label = 1, length = 9, show = False, softmax = False, unsoftmax = True)"
   ]
  },
  {
   "cell_type": "code",
   "execution_count": 77,
   "id": "d730be05",
   "metadata": {},
   "outputs": [
    {
     "data": {
      "application/vnd.plotly.v1+json": {
       "config": {
        "plotlyServerURL": "https://plot.ly"
       },
       "data": [
        {
         "coloraxis": "coloraxis",
         "colorscale": [
          [
           0,
           "rgb(209, 238, 234)"
          ],
          [
           0.16666666666666666,
           "rgb(168, 219, 217)"
          ],
          [
           0.3333333333333333,
           "rgb(133, 196, 201)"
          ],
          [
           0.5,
           "rgb(104, 171, 184)"
          ],
          [
           0.6666666666666666,
           "rgb(79, 144, 166)"
          ],
          [
           0.8333333333333334,
           "rgb(59, 115, 143)"
          ],
          [
           1,
           "rgb(42, 86, 116)"
          ]
         ],
         "hoverongaps": false,
         "type": "heatmap",
         "x": [
          "1",
          "2",
          "3",
          "4",
          "5",
          "6",
          "7",
          "8",
          "9"
         ],
         "xaxis": "x",
         "y": [
          "Y",
          "A",
          "T",
          "V",
          "L",
          "D",
          "E",
          "G",
          "R",
          "H",
          "I",
          "W",
          "Q",
          "K",
          "M",
          "F",
          "N",
          "S",
          "P",
          "C"
         ],
         "yaxis": "y",
         "z": [
          [
           263.2099609375,
           6.3140435218811035,
           19.453615188598633,
           76.03266906738281,
           87.54857635498047,
           74.33024597167969,
           67.25045013427734,
           134.68165588378906,
           2174.25927734375
          ],
          [
           165.3621826171875,
           127.32723999023438,
           132.7372283935547,
           158.52911376953125,
           139.26324462890625,
           159.60897827148438,
           112.75602722167969,
           111.34026336669922,
           15.058724403381348
          ],
          [
           164.71609497070312,
           782.9619750976562,
           44.28547668457031,
           131.88851928710938,
           148.8518829345703,
           231.13771057128906,
           117.89136505126953,
           131.8817596435547,
           12.410423278808594
          ],
          [
           213.41009521484375,
           206.78053283691406,
           30.103134155273438,
           110.62793731689453,
           192.23739624023438,
           193.09219360351562,
           129.64190673828125,
           131.9482421875,
           57.695430755615234
          ],
          [
           333.3162536621094,
           362.3421936035156,
           43.41337203979492,
           225.7532958984375,
           238.23379516601562,
           219.5493621826172,
           584.8994140625,
           439.90673828125,
           77.94551086425781
          ],
          [
           83.11957550048828,
           70.07797241210938,
           1287.123046875,
           163.5529327392578,
           162.9186248779297,
           86.97676086425781,
           171.61199951171875,
           86.14435577392578,
           8.015144348144531
          ],
          [
           131.70706176757812,
           24.015241622924805,
           603.54541015625,
           223.51544189453125,
           180.14097595214844,
           88.58712005615234,
           230.41432189941406,
           172.64529418945312,
           11.62946605682373
          ],
          [
           76.17339324951172,
           31.128597259521484,
           52.234352111816406,
           148.9376983642578,
           168.5519256591797,
           167.68760681152344,
           116.77213287353516,
           125.53518676757812,
           8.018499374389648
          ],
          [
           74.3011245727539,
           0.8855534791946411,
           14.196800231933594,
           135.32847595214844,
           105.38115692138672,
           127.51113891601562,
           54.04241943359375,
           181.49374389648438,
           24.35468864440918
          ],
          [
           69.88671112060547,
           4.440211772918701,
           22.13835334777832,
           60.14625930786133,
           125.18692016601562,
           85.9739990234375,
           87.9423828125,
           99.97813415527344,
           24.29925537109375
          ],
          [
           138.91632080078125,
           127.21773529052734,
           23.908018112182617,
           114.9746322631836,
           129.53945922851562,
           131.07174682617188,
           105.40032958984375,
           79.81024169921875,
           12.418706893920898
          ],
          [
           30.91222381591797,
           3.592411518096924,
           2.655296564102173,
           15.915555000305176,
           22.137880325317383,
           21.263416290283203,
           29.216838836669922,
           13.300982475280762,
           7.964491367340088
          ],
          [
           141.604248046875,
           17.73428726196289,
           50.46957015991211,
           119.93743896484375,
           137.52352905273438,
           162.2053680419922,
           163.8632049560547,
           130.08993530273438,
           14.285592079162598
          ],
          [
           95.5628433227539,
           2.657982110977173,
           22.13376235961914,
           179.29286193847656,
           144.8753204345703,
           130.34841918945312,
           61.200260162353516,
           214.15431213378906,
           56.81615447998047
          ],
          [
           76.92805480957031,
           80.3615951538086,
           22.13410758972168,
           47.787940979003906,
           66.44692993164062,
           62.06046676635742,
           74.94251251220703,
           62.28307342529297,
           16.997703552246094
          ],
          [
           195.2724151611328,
           14.409067153930664,
           24.78452491760254,
           114.9888916015625,
           114.10137176513672,
           129.25315856933594,
           87.659912109375,
           140.9568328857422,
           60.55522537231445
          ],
          [
           106.2543716430664,
           12.462074279785156,
           82.31995391845703,
           91.33495330810547,
           148.98965454101562,
           161.2897186279297,
           112.65814208984375,
           84.08050537109375,
           4.4707512855529785
          ],
          [
           168.10438537597656,
           727.3333740234375,
           120.50655364990234,
           206.30361938476562,
           185.33522033691406,
           197.56483459472656,
           181.66563415527344,
           190.1796417236328,
           26.768192291259766
          ],
          [
           56.83517837524414,
           15.108242988586426,
           29.211013793945312,
           261.1940002441406,
           89.4852066040039,
           140.7118377685547,
           94.59147644042969,
           47.774322509765625,
           3.5439891815185547
          ],
          [
           14.182016372680664,
           12.435453414916992,
           8.875871658325195,
           18.559791564941406,
           18.66576385498047,
           33.745269775390625,
           24.305580139160156,
           26.06285858154297,
           1.772196650505066
          ]
         ]
        },
        {
         "coloraxis": "coloraxis",
         "colorscale": [
          [
           0,
           "rgb(209, 238, 234)"
          ],
          [
           0.16666666666666666,
           "rgb(168, 219, 217)"
          ],
          [
           0.3333333333333333,
           "rgb(133, 196, 201)"
          ],
          [
           0.5,
           "rgb(104, 171, 184)"
          ],
          [
           0.6666666666666666,
           "rgb(79, 144, 166)"
          ],
          [
           0.8333333333333334,
           "rgb(59, 115, 143)"
          ],
          [
           1,
           "rgb(42, 86, 116)"
          ]
         ],
         "hoverongaps": false,
         "type": "heatmap",
         "x": [
          "1",
          "2",
          "3",
          "4",
          "5",
          "6",
          "7",
          "8",
          "9"
         ],
         "xaxis": "x2",
         "y": [
          "Y",
          "A",
          "T",
          "V",
          "L",
          "D",
          "E",
          "G",
          "R",
          "H",
          "I",
          "W",
          "Q",
          "K",
          "M",
          "F",
          "N",
          "S",
          "P",
          "C"
         ],
         "yaxis": "y2",
         "z": [
          [
           532.7160034179688,
           19.314401626586914,
           363.2660827636719,
           50.574668884277344,
           262.8691101074219,
           117.82080841064453,
           285.09320068359375,
           297.3902587890625,
           42.9842643737793
          ],
          [
           879.4124145507812,
           144.81201171875,
           869.029052734375,
           394.55889892578125,
           482.5712890625,
           295.30682373046875,
           550.70263671875,
           593.903076171875,
           647.1201171875
          ],
          [
           484.41900634765625,
           191.06845092773438,
           316.89312744140625,
           339.0487976074219,
           444.237060546875,
           510.5009460449219,
           495.3259582519531,
           786.1478271484375,
           73.61065673828125
          ],
          [
           542.9359741210938,
           601.592529296875,
           326.2503662109375,
           132.2984161376953,
           623.156982421875,
           1117.1192626953125,
           867.6522827148438,
           244.94268798828125,
           2946.1953125
          ],
          [
           605.6727905273438,
           5363.2919921875,
           1192.6861572265625,
           184.8746337890625,
           702.3272705078125,
           1459.514404296875,
           735.6033325195312,
           538.1249389648438,
           2936.6728515625
          ],
          [
           37.17406463623047,
           4.478263854980469,
           782.1263427734375,
           1248.1649169921875,
           334.7403564453125,
           196.52232360839844,
           165.48641967773438,
           101.84346771240234,
           7.141714096069336
          ],
          [
           69.00717163085938,
           33.07059860229492,
           154.74374389648438,
           1614.3465576171875,
           598.888671875,
           368.3541564941406,
           582.2297973632812,
           915.0230712890625,
           16.186180114746094
          ],
          [
           517.9169921875,
           34.92805480957031,
           258.2745666503906,
           636.2197875976562,
           519.0918579101562,
           197.361328125,
           52.28723907470703,
           411.5964660644531,
           7.271244525909424
          ],
          [
           474.99041748046875,
           9.784579277038574,
           65.53779602050781,
           161.30966186523438,
           338.8582458496094,
           123.90181732177734,
           183.023193359375,
           477.6670227050781,
           38.6519889831543
          ],
          [
           190.01890563964844,
           12.399199485778809,
           194.55752563476562,
           182.94203186035156,
           346.63995361328125,
           93.95024108886719,
           547.2440795898438,
           272.5414733886719,
           22.717987060546875
          ],
          [
           468.3177185058594,
           612.4234008789062,
           598.4346923828125,
           102.0726089477539,
           510.3127136230469,
           1087.8458251953125,
           607.8668212890625,
           124.96365356445312,
           657.8803100585938
          ],
          [
           22.96822166442871,
           1.8350551128387451,
           212.23619079589844,
           31.867158889770508,
           68.16567993164062,
           23.921035766601562,
           107.16232299804688,
           19.639801025390625,
           8.860504150390625
          ],
          [
           253.93321228027344,
           257.0201416015625,
           407.70635986328125,
           336.8092956542969,
           349.5428466796875,
           290.8389892578125,
           426.3660583496094,
           641.2186889648438,
           13.416921615600586
          ],
          [
           775.8594360351562,
           1.7751524448394775,
           144.1043243408203,
           403.54925537109375,
           629.5191040039062,
           174.40892028808594,
           242.25404357910156,
           649.8396606445312,
           152.77008056640625
          ],
          [
           119.35684967041016,
           490.59222412109375,
           331.6961975097656,
           28.40775489807129,
           98.28466796875,
           133.77682495117188,
           124.94574737548828,
           98.81695556640625,
           112.13229370117188
          ],
          [
           667.8634033203125,
           18.38216781616211,
           420.6623229980469,
           83.2079849243164,
           328.6598205566406,
           210.6215057373047,
           360.06646728515625,
           240.16094970703125,
           28.6998233795166
          ],
          [
           154.67108154296875,
           6.30500602722168,
           282.9805603027344,
           382.8299865722656,
           320.04327392578125,
           346.5772705078125,
           243.41087341308594,
           365.16949462890625,
           14.320948600769043
          ],
          [
           899.6630859375,
           69.34700775146484,
           571.4553833007812,
           655.0250854492188,
           476.5928955078125,
           429.6004638671875,
           342.3687438964844,
           803.3450317382812,
           27.689077377319336
          ],
          [
           28.728351593017578,
           8.964554786682129,
           235.94287109375,
           832.1787109375,
           273.3546142578125,
           525.1992797851562,
           792.8523559570312,
           121.97600555419922,
           24.10047149658203
          ],
          [
           9.72770881652832,
           5.395747184753418,
           31.073362350463867,
           7.983116149902344,
           42.480621337890625,
           44.337398529052734,
           31.22553825378418,
           38.117252349853516,
           46.88420486450195
          ]
         ]
        },
        {
         "coloraxis": "coloraxis",
         "colorscale": [
          [
           0,
           "rgb(209, 238, 234)"
          ],
          [
           0.16666666666666666,
           "rgb(168, 219, 217)"
          ],
          [
           0.3333333333333333,
           "rgb(133, 196, 201)"
          ],
          [
           0.5,
           "rgb(104, 171, 184)"
          ],
          [
           0.6666666666666666,
           "rgb(79, 144, 166)"
          ],
          [
           0.8333333333333334,
           "rgb(59, 115, 143)"
          ],
          [
           1,
           "rgb(42, 86, 116)"
          ]
         ],
         "hoverongaps": false,
         "type": "heatmap",
         "x": [
          "1",
          "2",
          "3",
          "4",
          "5",
          "6",
          "7",
          "8",
          "9"
         ],
         "xaxis": "x3",
         "y": [
          "Y",
          "A",
          "T",
          "V",
          "L",
          "D",
          "E",
          "G",
          "R",
          "H",
          "I",
          "W",
          "Q",
          "K",
          "M",
          "F",
          "N",
          "S",
          "P",
          "C"
         ],
         "yaxis": "y3",
         "z": [
          [
           35.354736328125,
           10.815465927124023,
           707.1980590820312,
           89.8551254272461,
           139.84812927246094,
           99.13809967041016,
           52.242122650146484,
           186.62307739257812,
           352.1700744628906
          ],
          [
           695.1986694335938,
           164.89515686035156,
           569.541259765625,
           330.53680419921875,
           299.6040344238281,
           353.3764343261719,
           295.6472473144531,
           310.2691345214844,
           23.026687622070312
          ],
          [
           188.58006286621094,
           728.894287109375,
           156.76998901367188,
           281.6591491699219,
           314.5029296875,
           354.9775085449219,
           391.952392578125,
           328.92645263671875,
           3.5499684810638428
          ],
          [
           300.84832763671875,
           991.8304443359375,
           100.8333740234375,
           191.17311096191406,
           400.29620361328125,
           555.01123046875,
           425.69842529296875,
           225.45555114746094,
           19.499574661254883
          ],
          [
           189.70924377441406,
           1630.232666015625,
           507.58685302734375,
           232.42807006835938,
           257.92822265625,
           713.3587646484375,
           1186.3238525390625,
           605.625732421875,
           12.427366256713867
          ],
          [
           13.262109756469727,
           12.400882720947266,
           175.5843505859375,
           349.7864685058594,
           118.7738265991211,
           31.109085083007812,
           32.947086334228516,
           46.894962310791016,
           0.8909380435943604
          ],
          [
           22.10809326171875,
           15.91664981842041,
           75.9155502319336,
           488.24420166015625,
           216.46389770507812,
           69.89537811279297,
           69.10673522949219,
           340.5626220703125,
           8.033830642700195
          ],
          [
           336.247314453125,
           43.4284782409668,
           242.4097442626953,
           403.4403381347656,
           288.36663818359375,
           294.8526916503906,
           147.8363037109375,
           291.7905578613281,
           7.9867143630981445
          ],
          [
           981.47705078125,
           14.402445793151855,
           181.52467346191406,
           167.59811401367188,
           251.81378173828125,
           137.19776916503906,
           312.20025634765625,
           232.65200805664062,
           627.37646484375
          ],
          [
           151.2803192138672,
           7.092435836791992,
           144.27207946777344,
           111.94422149658203,
           210.4629364013672,
           87.644287109375,
           67.5135269165039,
           101.69554138183594,
           295.72723388671875
          ],
          [
           207.82664489746094,
           615.5153198242188,
           128.20338439941406,
           110.11959075927734,
           233.15440368652344,
           459.6171569824219,
           523.2120971679688,
           91.95927429199219,
           4.42221736907959
          ],
          [
           3.5377490520477295,
           1.800692081451416,
           115.91785430908203,
           36.37559127807617,
           88.86644744873047,
           30.147247314453125,
           15.927802085876465,
           22.148645401000977,
           0
          ],
          [
           145.82144165039062,
           159.31265258789062,
           88.43569946289062,
           286.1202697753906,
           197.9957733154297,
           247.86891174316406,
           144.37078857421875,
           430.6463928222656,
           14.243475914001465
          ],
          [
           1001.619140625,
           19.68651580810547,
           235.4134979248047,
           431.1366882324219,
           466.0207214355469,
           162.1212615966797,
           231.02149963378906,
           373.2507629394531,
           3655.8671875
          ],
          [
           53.073001861572266,
           193.26734924316406,
           111.73585510253906,
           37.38020324707031,
           38.136138916015625,
           126.9988784790039,
           158.11021423339844,
           101.77706146240234,
           3.6029253005981445
          ],
          [
           35.36459732055664,
           21.639915466308594,
           489.85772705078125,
           114.41885375976562,
           172.56591796875,
           337.2779541015625,
           227.8228759765625,
           180.4139404296875,
           3.5784268379211426
          ],
          [
           28.30304718017578,
           12.399460792541504,
           328.41748046875,
           215.64041137695312,
           212.13092041015625,
           122.26875305175781,
           103.18914031982422,
           305.1305847167969,
           5.356395244598389
          ],
          [
           547.4158935546875,
           324.5567626953125,
           468.0570983886719,
           577.83984375,
           389.89862060546875,
           356.5341796875,
           407.4300842285156,
           450.8508605957031,
           9.838288307189941
          ],
          [
           14.242613792419434,
           12.397452354431152,
           116.6899185180664,
           549.7828369140625,
           661.4072875976562,
           406.97711181640625,
           171.70404052734375,
           323.38580322265625,
           10.661246299743652
          ],
          [
           15.028348922729492,
           4.4220781326293945,
           23.045331954956055,
           8.939513206481934,
           15.994166374206543,
           20.362375259399414,
           14.425638198852539,
           10.657960891723633,
           0
          ]
         ]
        },
        {
         "coloraxis": "coloraxis",
         "colorscale": [
          [
           0,
           "rgb(209, 238, 234)"
          ],
          [
           0.16666666666666666,
           "rgb(168, 219, 217)"
          ],
          [
           0.3333333333333333,
           "rgb(133, 196, 201)"
          ],
          [
           0.5,
           "rgb(104, 171, 184)"
          ],
          [
           0.6666666666666666,
           "rgb(79, 144, 166)"
          ],
          [
           0.8333333333333334,
           "rgb(59, 115, 143)"
          ],
          [
           1,
           "rgb(42, 86, 116)"
          ]
         ],
         "hoverongaps": false,
         "type": "heatmap",
         "x": [
          "1",
          "2",
          "3",
          "4",
          "5",
          "6",
          "7",
          "8",
          "9"
         ],
         "xaxis": "x4",
         "y": [
          "Y",
          "A",
          "T",
          "V",
          "L",
          "D",
          "E",
          "G",
          "R",
          "H",
          "I",
          "W",
          "Q",
          "K",
          "M",
          "F",
          "N",
          "S",
          "P",
          "C"
         ],
         "yaxis": "y4",
         "z": [
          [
           145.85330200195312,
           13.318532943725586,
           126.27650451660156,
           99.4416275024414,
           85.16050720214844,
           71.98823547363281,
           47.83955764770508,
           74.33805847167969,
           14.322897911071777
          ],
          [
           794.5778198242188,
           207.92388916015625,
           849.260986328125,
           499.60406494140625,
           466.1297302246094,
           448.22503662109375,
           524.4599609375,
           844.2433471679688,
           192.50570678710938
          ],
          [
           301.58612060546875,
           33.18942642211914,
           178.66085815429688,
           239.80819702148438,
           275.0395812988281,
           427.97723388671875,
           481.5727233886719,
           507.07989501953125,
           49.80234146118164
          ],
          [
           325.3804016113281,
           299.92572021484375,
           209.58200073242188,
           227.4549102783203,
           446.73333740234375,
           325.7237854003906,
           403.20147705078125,
           510.01129150390625,
           429.28289794921875
          ],
          [
           541.0324096679688,
           66.74246215820312,
           264.56866455078125,
           517.8217163085938,
           324.9618225097656,
           415.66278076171875,
           708.657958984375,
           339.9331970214844,
           3651.333984375
          ],
          [
           13.267794609069824,
           2.666508197784424,
           190.3323211669922,
           210.60511779785156,
           126.87162017822266,
           95.02043151855469,
           110.6633529663086,
           104.92035675048828,
           2.67055606842041
          ],
          [
           30.077119827270508,
           4.426450729370117,
           155.0874481201172,
           406.8773193359375,
           177.81781005859375,
           109.2081527709961,
           249.0150604248047,
           432.46844482421875,
           2.6754300594329834
          ],
          [
           264.56671142578125,
           21.486785888671875,
           228.92056274414062,
           483.0464172363281,
           418.72027587890625,
           639.7430419921875,
           263.5501403808594,
           276.94366455078125,
           9.914277076721191
          ],
          [
           842.3099975585938,
           8.079538345336914,
           1235.1448974609375,
           233.8139190673828,
           508.43878173828125,
           742.2577514648438,
           300.2627868652344,
           172.17095947265625,
           20.692907333374023
          ],
          [
           150.40943908691406,
           6.298282623291016,
           195.9149932861328,
           114.4510269165039,
           185.81719970703125,
           151.65206909179688,
           138.38540649414062,
           96.76002502441406,
           22.31375503540039
          ],
          [
           246.6047821044922,
           100.58274841308594,
           185.5858612060547,
           150.78903198242188,
           176.30064392089844,
           237.86663818359375,
           261.98638916015625,
           141.81578063964844,
           293.18292236328125
          ],
          [
           22.095626831054688,
           4.475835800170898,
           57.46467590332031,
           46.27597427368164,
           43.44517135620117,
           45.21528625488281,
           18.600238800048828,
           15.056889533996582,
           16.847923278808594
          ],
          [
           219.25474548339844,
           2.692310333251953,
           281.2199401855469,
           264.83721923828125,
           212.90972900390625,
           177.16690063476562,
           336.9994201660156,
           302.638427734375,
           17.9722900390625
          ],
          [
           404.4385986328125,
           2.6887447834014893,
           372.3342590332031,
           351.9571838378906,
           405.74847412109375,
           298.0195617675781,
           235.72476196289062,
           208.51881408691406,
           15.297704696655273
          ],
          [
           113.20259857177734,
           4.468096733093262,
           157.49183654785156,
           70.92566680908203,
           45.17019271850586,
           107.30695343017578,
           117.19322967529297,
           77.87995910644531,
           377.97381591796875
          ],
          [
           117.62042999267578,
           20.575796127319336,
           125.49959564208984,
           130.42623901367188,
           130.32931518554688,
           194.40603637695312,
           54.16297912597656,
           79.69538879394531,
           451.2004699707031
          ],
          [
           122.0345230102539,
           12.556147575378418,
           191.9789276123047,
           197.65753173828125,
           170.33071899414062,
           164.23626708984375,
           213.54275512695312,
           102.7760009765625,
           3.5558207035064697
          ],
          [
           963.3989868164062,
           28.639278411865234,
           537.86962890625,
           589.7483520507812,
           486.2524108886719,
           534.8222045898438,
           686.6258544921875,
           1072.9686279296875,
           23.371614456176758
          ],
          [
           39.801326751708984,
           4909.96044921875,
           113.18258666992188,
           860.9327392578125,
           1016.9317626953125,
           489.69207763671875,
           514.1602172851562,
           272.120849609375,
           81.19884490966797
          ],
          [
           14.144389152526855,
           2.655048370361328,
           20.42051124572754,
           16.89905548095703,
           7.979306221008301,
           16.847225189208984,
           38.27177047729492,
           52.4000358581543,
           18.584945678710938
          ]
         ]
        },
        {
         "coloraxis": "coloraxis",
         "colorscale": [
          [
           0,
           "rgb(209, 238, 234)"
          ],
          [
           0.16666666666666666,
           "rgb(168, 219, 217)"
          ],
          [
           0.3333333333333333,
           "rgb(133, 196, 201)"
          ],
          [
           0.5,
           "rgb(104, 171, 184)"
          ],
          [
           0.6666666666666666,
           "rgb(79, 144, 166)"
          ],
          [
           0.8333333333333334,
           "rgb(59, 115, 143)"
          ],
          [
           1,
           "rgb(42, 86, 116)"
          ]
         ],
         "hoverongaps": false,
         "type": "heatmap",
         "x": [
          "1",
          "2",
          "3",
          "4",
          "5",
          "6",
          "7",
          "8",
          "9"
         ],
         "xaxis": "x5",
         "y": [
          "Y",
          "A",
          "T",
          "V",
          "L",
          "D",
          "E",
          "G",
          "R",
          "H",
          "I",
          "W",
          "Q",
          "K",
          "M",
          "F",
          "N",
          "S",
          "P",
          "C"
         ],
         "yaxis": "y5",
         "z": [
          [
           94.51052856445312,
           1.8048217296600342,
           209.32351684570312,
           78.05916595458984,
           108.89795684814453,
           88.65982818603516,
           150.9946746826172,
           79.5943832397461,
           263.8427734375
          ],
          [
           441.6095275878906,
           7.072025299072266,
           217.47296142578125,
           220.74594116210938,
           169.1157989501953,
           239.47860717773438,
           193.90367126464844,
           262.17724609375,
           29.596532821655273
          ],
          [
           108.62822723388672,
           3.5388998985290527,
           201.72027587890625,
           109.33214569091797,
           160.0988006591797,
           192.15667724609375,
           215.32278442382812,
           293.6197509765625,
           7.997969150543213
          ],
          [
           90.11470031738281,
           2.6556766033172607,
           239.85592651367188,
           130.35256958007812,
           357.2552795410156,
           367.1438293457031,
           382.0423889160156,
           185.61361694335938,
           197.87149047851562
          ],
          [
           99.85118103027344,
           14.160436630249023,
           522.92578125,
           322.8774108886719,
           497.35113525390625,
           406.7498474121094,
           556.8740234375,
           357.20068359375,
           1117.5469970703125
          ],
          [
           7.072165012359619,
           0.8850907683372498,
           88.28125762939453,
           237.6490020751953,
           99.83905029296875,
           69.10731506347656,
           53.18035125732422,
           55.3979606628418,
           0
          ],
          [
           52.99811553955078,
           4.429008483886719,
           25.201520919799805,
           271.2543640136719,
           182.20140075683594,
           172.00558471679688,
           190.20115661621094,
           219.4805450439453,
           1.8146579265594482
          ],
          [
           527.3246459960938,
           1.7693946361541748,
           63.61699295043945,
           290.6187438964844,
           230.59268188476562,
           142.31015014648438,
           30.277423858642578,
           283.7633972167969,
           0.9199212789535522
          ],
          [
           606.1376953125,
           3393.9658203125,
           58.57392883300781,
           160.07704162597656,
           128.71035766601562,
           184.36085510253906,
           71.73684692382812,
           235.5917510986328,
           436.12506103515625
          ],
          [
           123.6681900024414,
           5.373028755187988,
           168.03286743164062,
           59.52838134765625,
           75.51817321777344,
           59.410335540771484,
           126.59996032714844,
           126.57675170898438,
           76.56478881835938
          ],
          [
           131.59263610839844,
           2.677013397216797,
           278.9739074707031,
           116.83351135253906,
           318.94171142578125,
           356.7830505371094,
           302.3211975097656,
           47.91567611694336,
           154.6463165283203
          ],
          [
           7.956274032592773,
           0,
           92.76689147949219,
           31.055707931518555,
           36.23637008666992,
           21.284561157226562,
           78.71893310546875,
           11.501712799072266,
           21.30535316467285
          ],
          [
           205.75540161132812,
           51.3522834777832,
           104.4105453491211,
           200.977294921875,
           196.69541931152344,
           257.45416259765625,
           174.02032470703125,
           253.70127868652344,
           2.697831153869629
          ],
          [
           388.7097473144531,
           18.83017921447754,
           203.45645141601562,
           270.24462890625,
           183.455322265625,
           198.50115966796875,
           121.69657897949219,
           267.24072265625,
           383.7762756347656
          ],
          [
           53.187618255615234,
           4.429045677185059,
           100.85421752929688,
           42.5806770324707,
           69.85612487792969,
           67.35034942626953,
           68.28218841552734,
           48.72762680053711,
           216.37875366210938
          ],
          [
           63.617332458496094,
           1.8058602809906006,
           426.73443603515625,
           163.13853454589844,
           188.4383544921875,
           158.74005126953125,
           225.79592895507812,
           77.92862701416016,
           562.3117065429688
          ],
          [
           52.98108673095703,
           2.651956081390381,
           255.30718994140625,
           158.58042907714844,
           103.64522552490234,
           105.7021484375,
           124.27069091796875,
           252.0576629638672,
           0.9094813466072083
          ],
          [
           387.64190673828125,
           2.652604579925537,
           184.7645263671875,
           257.4293518066406,
           168.91305541992188,
           188.8331756591797,
           160.72434997558594,
           344.3047790527344,
           10.023679733276367
          ],
          [
           7.952062606811523,
           0,
           9.720812797546387,
           355.5764465332031,
           183.4425811767578,
           184.14520263671875,
           230.30555725097656,
           47.68751525878906,
           5.434710502624512
          ],
          [
           2.651872396469116,
           3.535600423812866,
           7.068675518035889,
           3.5577166080474854,
           2.6547281742095947,
           7.103260517120361,
           10.78293514251709,
           15.148979187011719,
           2.654372453689575
          ]
         ]
        },
        {
         "coloraxis": "coloraxis",
         "colorscale": [
          [
           0,
           "rgb(209, 238, 234)"
          ],
          [
           0.16666666666666666,
           "rgb(168, 219, 217)"
          ],
          [
           0.3333333333333333,
           "rgb(133, 196, 201)"
          ],
          [
           0.5,
           "rgb(104, 171, 184)"
          ],
          [
           0.6666666666666666,
           "rgb(79, 144, 166)"
          ],
          [
           0.8333333333333334,
           "rgb(59, 115, 143)"
          ],
          [
           1,
           "rgb(42, 86, 116)"
          ]
         ],
         "hoverongaps": false,
         "type": "heatmap",
         "x": [
          "1",
          "2",
          "3",
          "4",
          "5",
          "6",
          "7",
          "8",
          "9"
         ],
         "xaxis": "x6",
         "y": [
          "Y",
          "A",
          "T",
          "V",
          "L",
          "D",
          "E",
          "G",
          "R",
          "H",
          "I",
          "W",
          "Q",
          "K",
          "M",
          "F",
          "N",
          "S",
          "P",
          "C"
         ],
         "yaxis": "y6",
         "z": [
          [
           130.72103881835938,
           22.30267906188965,
           164.37237548828125,
           47.97871780395508,
           109.76368713378906,
           102.68743133544922,
           185.0179443359375,
           155.74427795410156,
           422.8379821777344
          ],
          [
           264.32049560546875,
           703.0588989257812,
           274.272705078125,
           185.6323699951172,
           172.8859405517578,
           218.5453338623047,
           193.28382873535156,
           140.42356872558594,
           0.8850067853927612
          ],
          [
           204.29449462890625,
           1165.3868408203125,
           135.03086853027344,
           201.32449340820312,
           240.11895751953125,
           197.66830444335938,
           198.62127685546875,
           440.3695373535156,
           7.078239917755127
          ],
          [
           353.5225524902344,
           383.794921875,
           277.6283874511719,
           232.21875,
           430.9647216796875,
           409.2996520996094,
           284.7903137207031,
           253.12290954589844,
           15.925509452819824
          ],
          [
           527.484619140625,
           193.28341674804688,
           671.2939453125,
           303.23223876953125,
           662.952392578125,
           639.7095336914062,
           350.65411376953125,
           635.450927734375,
           289.60980224609375
          ],
          [
           7.06675910949707,
           9.859651565551758,
           205.67613220214844,
           296.00091552734375,
           227.79762268066406,
           107.3638916015625,
           129.57826232910156,
           64.60955047607422,
           0.8919138312339783
          ],
          [
           49.504669189453125,
           11.61375617980957,
           63.68766403198242,
           358.4486389160156,
           244.08164978027344,
           203.77166748046875,
           322.7970275878906,
           274.0814514160156,
           2.6547632217407227
          ],
          [
           111.51055145263672,
           116.67719268798828,
           101.80789184570312,
           218.93402099609375,
           190.48989868164062,
           132.16676330566406,
           47.1431999206543,
           120.17567443847656,
           1.7705886363983154
          ],
          [
           453.7289123535156,
           2.6725761890411377,
           370.8167724609375,
           298.69647216796875,
           157.90554809570312,
           208.09564208984375,
           513.9527587890625,
           264.7668151855469,
           3.538361072540283
          ],
          [
           178.58529663085938,
           6.251014709472656,
           125.5775375366211,
           94.26618194580078,
           153.14755249023438,
           154.03102111816406,
           248.51829528808594,
           172.46852111816406,
           1.7716269493103027
          ],
          [
           340.1552429199219,
           122.5117416381836,
           208.5409698486328,
           162.05804443359375,
           359.5351257324219,
           348.3230285644531,
           153.16983032226562,
           108.9937515258789,
           155.90884399414062
          ],
          [
           15.016870498657227,
           16.013011932373047,
           106.99588012695312,
           41.77165603637695,
           60.20032501220703,
           56.6789436340332,
           134.57611083984375,
           34.55556869506836,
           2019.557861328125
          ],
          [
           185.68638610839844,
           19.69357681274414,
           112.41159057617188,
           207.91322326660156,
           138.58486938476562,
           295.70819091796875,
           271.0461730957031,
           254.7249755859375,
           0
          ],
          [
           794.2968139648438,
           2.6915271282196045,
           505.70904541015625,
           480.82672119140625,
           225.68649291992188,
           214.45233154296875,
           286.6114501953125,
           346.0923767089844,
           6.2021989822387695
          ],
          [
           123.67532348632812,
           39.41307830810547,
           121.50704193115234,
           48.14826965332031,
           80.7304916381836,
           75.57843017578125,
           66.78470611572266,
           97.21614837646484,
           67.26343536376953
          ],
          [
           151.8981170654297,
           43.85036849975586,
           310.03564453125,
           112.8059310913086,
           225.36476135253906,
           198.2884521484375,
           247.959228515625,
           216.78053283691406,
           1231.544189453125
          ],
          [
           41.552608489990234,
           11.754585266113281,
           149.48629760742188,
           149.22889709472656,
           144.57994079589844,
           153.35671997070312,
           147.61514282226562,
           201.6949920654297,
           1.771624207496643
          ],
          [
           253.89920043945312,
           1376.2479248046875,
           240.9602508544922,
           245.6723175048828,
           162.1341094970703,
           207.19850158691406,
           206.57293701171875,
           378.4659729003906,
           0.8854502439498901
          ],
          [
           14.155054092407227,
           28.850994110107422,
           38.01996994018555,
           560.1456909179688,
           208.63597106933594,
           268.0249938964844,
           212.32627868652344,
           22.97215461730957,
           0.885624885559082
          ],
          [
           10.660558700561523,
           25.98837661743164,
           39.98058319091797,
           8.932353019714355,
           25.758089065551758,
           29.352861404418945,
           25.224275588989258,
           36.851016998291016,
           1.7654955387115479
          ]
         ]
        }
       ],
       "layout": {
        "annotations": [
         {
          "font": {
           "size": 16
          },
          "showarrow": false,
          "text": "HLA-A01:01",
          "x": 0.075,
          "xanchor": "center",
          "xref": "paper",
          "y": 1,
          "yanchor": "bottom",
          "yref": "paper"
         },
         {
          "font": {
           "size": 16
          },
          "showarrow": false,
          "text": "HLA-A02:01",
          "x": 0.24499999999999997,
          "xanchor": "center",
          "xref": "paper",
          "y": 1,
          "yanchor": "bottom",
          "yref": "paper"
         },
         {
          "font": {
           "size": 16
          },
          "showarrow": false,
          "text": "HLA-A03:01",
          "x": 0.415,
          "xanchor": "center",
          "xref": "paper",
          "y": 1,
          "yanchor": "bottom",
          "yref": "paper"
         },
         {
          "font": {
           "size": 16
          },
          "showarrow": false,
          "text": "HLA-B07:02",
          "x": 0.585,
          "xanchor": "center",
          "xref": "paper",
          "y": 1,
          "yanchor": "bottom",
          "yref": "paper"
         },
         {
          "font": {
           "size": 16
          },
          "showarrow": false,
          "text": "HLA-B27:05",
          "x": 0.7549999999999999,
          "xanchor": "center",
          "xref": "paper",
          "y": 1,
          "yanchor": "bottom",
          "yref": "paper"
         },
         {
          "font": {
           "size": 16
          },
          "showarrow": false,
          "text": "HLA-B57:01",
          "x": 0.925,
          "xanchor": "center",
          "xref": "paper",
          "y": 1,
          "yanchor": "bottom",
          "yref": "paper"
         },
         {
          "font": {
           "size": 16
          },
          "showarrow": false,
          "text": "Peptide position",
          "x": 0.5,
          "xanchor": "center",
          "xref": "paper",
          "y": 0,
          "yanchor": "top",
          "yref": "paper",
          "yshift": -30
         }
        ],
        "coloraxis": {
         "colorbar": {
          "thickness": 8
         },
         "colorscale": [
          [
           0,
           "rgb(209, 238, 234)"
          ],
          [
           0.16666666666666666,
           "rgb(168, 219, 217)"
          ],
          [
           0.3333333333333333,
           "rgb(133, 196, 201)"
          ],
          [
           0.5,
           "rgb(104, 171, 184)"
          ],
          [
           0.6666666666666666,
           "rgb(79, 144, 166)"
          ],
          [
           0.8333333333333334,
           "rgb(59, 115, 143)"
          ],
          [
           1,
           "rgb(42, 86, 116)"
          ]
         ]
        },
        "font": {
         "family": "black",
         "size": 13
        },
        "height": 500,
        "paper_bgcolor": "rgba(0,0,0,0)",
        "plot_bgcolor": "rgba(0,0,0,0)",
        "template": {
         "data": {
          "bar": [
           {
            "error_x": {
             "color": "#2a3f5f"
            },
            "error_y": {
             "color": "#2a3f5f"
            },
            "marker": {
             "line": {
              "color": "#E5ECF6",
              "width": 0.5
             },
             "pattern": {
              "fillmode": "overlay",
              "size": 10,
              "solidity": 0.2
             }
            },
            "type": "bar"
           }
          ],
          "barpolar": [
           {
            "marker": {
             "line": {
              "color": "#E5ECF6",
              "width": 0.5
             },
             "pattern": {
              "fillmode": "overlay",
              "size": 10,
              "solidity": 0.2
             }
            },
            "type": "barpolar"
           }
          ],
          "carpet": [
           {
            "aaxis": {
             "endlinecolor": "#2a3f5f",
             "gridcolor": "white",
             "linecolor": "white",
             "minorgridcolor": "white",
             "startlinecolor": "#2a3f5f"
            },
            "baxis": {
             "endlinecolor": "#2a3f5f",
             "gridcolor": "white",
             "linecolor": "white",
             "minorgridcolor": "white",
             "startlinecolor": "#2a3f5f"
            },
            "type": "carpet"
           }
          ],
          "choropleth": [
           {
            "colorbar": {
             "outlinewidth": 0,
             "ticks": ""
            },
            "type": "choropleth"
           }
          ],
          "contour": [
           {
            "colorbar": {
             "outlinewidth": 0,
             "ticks": ""
            },
            "colorscale": [
             [
              0,
              "#0d0887"
             ],
             [
              0.1111111111111111,
              "#46039f"
             ],
             [
              0.2222222222222222,
              "#7201a8"
             ],
             [
              0.3333333333333333,
              "#9c179e"
             ],
             [
              0.4444444444444444,
              "#bd3786"
             ],
             [
              0.5555555555555556,
              "#d8576b"
             ],
             [
              0.6666666666666666,
              "#ed7953"
             ],
             [
              0.7777777777777778,
              "#fb9f3a"
             ],
             [
              0.8888888888888888,
              "#fdca26"
             ],
             [
              1,
              "#f0f921"
             ]
            ],
            "type": "contour"
           }
          ],
          "contourcarpet": [
           {
            "colorbar": {
             "outlinewidth": 0,
             "ticks": ""
            },
            "type": "contourcarpet"
           }
          ],
          "heatmap": [
           {
            "colorbar": {
             "outlinewidth": 0,
             "ticks": ""
            },
            "colorscale": [
             [
              0,
              "#0d0887"
             ],
             [
              0.1111111111111111,
              "#46039f"
             ],
             [
              0.2222222222222222,
              "#7201a8"
             ],
             [
              0.3333333333333333,
              "#9c179e"
             ],
             [
              0.4444444444444444,
              "#bd3786"
             ],
             [
              0.5555555555555556,
              "#d8576b"
             ],
             [
              0.6666666666666666,
              "#ed7953"
             ],
             [
              0.7777777777777778,
              "#fb9f3a"
             ],
             [
              0.8888888888888888,
              "#fdca26"
             ],
             [
              1,
              "#f0f921"
             ]
            ],
            "type": "heatmap"
           }
          ],
          "heatmapgl": [
           {
            "colorbar": {
             "outlinewidth": 0,
             "ticks": ""
            },
            "colorscale": [
             [
              0,
              "#0d0887"
             ],
             [
              0.1111111111111111,
              "#46039f"
             ],
             [
              0.2222222222222222,
              "#7201a8"
             ],
             [
              0.3333333333333333,
              "#9c179e"
             ],
             [
              0.4444444444444444,
              "#bd3786"
             ],
             [
              0.5555555555555556,
              "#d8576b"
             ],
             [
              0.6666666666666666,
              "#ed7953"
             ],
             [
              0.7777777777777778,
              "#fb9f3a"
             ],
             [
              0.8888888888888888,
              "#fdca26"
             ],
             [
              1,
              "#f0f921"
             ]
            ],
            "type": "heatmapgl"
           }
          ],
          "histogram": [
           {
            "marker": {
             "pattern": {
              "fillmode": "overlay",
              "size": 10,
              "solidity": 0.2
             }
            },
            "type": "histogram"
           }
          ],
          "histogram2d": [
           {
            "colorbar": {
             "outlinewidth": 0,
             "ticks": ""
            },
            "colorscale": [
             [
              0,
              "#0d0887"
             ],
             [
              0.1111111111111111,
              "#46039f"
             ],
             [
              0.2222222222222222,
              "#7201a8"
             ],
             [
              0.3333333333333333,
              "#9c179e"
             ],
             [
              0.4444444444444444,
              "#bd3786"
             ],
             [
              0.5555555555555556,
              "#d8576b"
             ],
             [
              0.6666666666666666,
              "#ed7953"
             ],
             [
              0.7777777777777778,
              "#fb9f3a"
             ],
             [
              0.8888888888888888,
              "#fdca26"
             ],
             [
              1,
              "#f0f921"
             ]
            ],
            "type": "histogram2d"
           }
          ],
          "histogram2dcontour": [
           {
            "colorbar": {
             "outlinewidth": 0,
             "ticks": ""
            },
            "colorscale": [
             [
              0,
              "#0d0887"
             ],
             [
              0.1111111111111111,
              "#46039f"
             ],
             [
              0.2222222222222222,
              "#7201a8"
             ],
             [
              0.3333333333333333,
              "#9c179e"
             ],
             [
              0.4444444444444444,
              "#bd3786"
             ],
             [
              0.5555555555555556,
              "#d8576b"
             ],
             [
              0.6666666666666666,
              "#ed7953"
             ],
             [
              0.7777777777777778,
              "#fb9f3a"
             ],
             [
              0.8888888888888888,
              "#fdca26"
             ],
             [
              1,
              "#f0f921"
             ]
            ],
            "type": "histogram2dcontour"
           }
          ],
          "mesh3d": [
           {
            "colorbar": {
             "outlinewidth": 0,
             "ticks": ""
            },
            "type": "mesh3d"
           }
          ],
          "parcoords": [
           {
            "line": {
             "colorbar": {
              "outlinewidth": 0,
              "ticks": ""
             }
            },
            "type": "parcoords"
           }
          ],
          "pie": [
           {
            "automargin": true,
            "type": "pie"
           }
          ],
          "scatter": [
           {
            "marker": {
             "colorbar": {
              "outlinewidth": 0,
              "ticks": ""
             }
            },
            "type": "scatter"
           }
          ],
          "scatter3d": [
           {
            "line": {
             "colorbar": {
              "outlinewidth": 0,
              "ticks": ""
             }
            },
            "marker": {
             "colorbar": {
              "outlinewidth": 0,
              "ticks": ""
             }
            },
            "type": "scatter3d"
           }
          ],
          "scattercarpet": [
           {
            "marker": {
             "colorbar": {
              "outlinewidth": 0,
              "ticks": ""
             }
            },
            "type": "scattercarpet"
           }
          ],
          "scattergeo": [
           {
            "marker": {
             "colorbar": {
              "outlinewidth": 0,
              "ticks": ""
             }
            },
            "type": "scattergeo"
           }
          ],
          "scattergl": [
           {
            "marker": {
             "colorbar": {
              "outlinewidth": 0,
              "ticks": ""
             }
            },
            "type": "scattergl"
           }
          ],
          "scattermapbox": [
           {
            "marker": {
             "colorbar": {
              "outlinewidth": 0,
              "ticks": ""
             }
            },
            "type": "scattermapbox"
           }
          ],
          "scatterpolar": [
           {
            "marker": {
             "colorbar": {
              "outlinewidth": 0,
              "ticks": ""
             }
            },
            "type": "scatterpolar"
           }
          ],
          "scatterpolargl": [
           {
            "marker": {
             "colorbar": {
              "outlinewidth": 0,
              "ticks": ""
             }
            },
            "type": "scatterpolargl"
           }
          ],
          "scatterternary": [
           {
            "marker": {
             "colorbar": {
              "outlinewidth": 0,
              "ticks": ""
             }
            },
            "type": "scatterternary"
           }
          ],
          "surface": [
           {
            "colorbar": {
             "outlinewidth": 0,
             "ticks": ""
            },
            "colorscale": [
             [
              0,
              "#0d0887"
             ],
             [
              0.1111111111111111,
              "#46039f"
             ],
             [
              0.2222222222222222,
              "#7201a8"
             ],
             [
              0.3333333333333333,
              "#9c179e"
             ],
             [
              0.4444444444444444,
              "#bd3786"
             ],
             [
              0.5555555555555556,
              "#d8576b"
             ],
             [
              0.6666666666666666,
              "#ed7953"
             ],
             [
              0.7777777777777778,
              "#fb9f3a"
             ],
             [
              0.8888888888888888,
              "#fdca26"
             ],
             [
              1,
              "#f0f921"
             ]
            ],
            "type": "surface"
           }
          ],
          "table": [
           {
            "cells": {
             "fill": {
              "color": "#EBF0F8"
             },
             "line": {
              "color": "white"
             }
            },
            "header": {
             "fill": {
              "color": "#C8D4E3"
             },
             "line": {
              "color": "white"
             }
            },
            "type": "table"
           }
          ]
         },
         "layout": {
          "annotationdefaults": {
           "arrowcolor": "#2a3f5f",
           "arrowhead": 0,
           "arrowwidth": 1
          },
          "autotypenumbers": "strict",
          "coloraxis": {
           "colorbar": {
            "outlinewidth": 0,
            "ticks": ""
           }
          },
          "colorscale": {
           "diverging": [
            [
             0,
             "#8e0152"
            ],
            [
             0.1,
             "#c51b7d"
            ],
            [
             0.2,
             "#de77ae"
            ],
            [
             0.3,
             "#f1b6da"
            ],
            [
             0.4,
             "#fde0ef"
            ],
            [
             0.5,
             "#f7f7f7"
            ],
            [
             0.6,
             "#e6f5d0"
            ],
            [
             0.7,
             "#b8e186"
            ],
            [
             0.8,
             "#7fbc41"
            ],
            [
             0.9,
             "#4d9221"
            ],
            [
             1,
             "#276419"
            ]
           ],
           "sequential": [
            [
             0,
             "#0d0887"
            ],
            [
             0.1111111111111111,
             "#46039f"
            ],
            [
             0.2222222222222222,
             "#7201a8"
            ],
            [
             0.3333333333333333,
             "#9c179e"
            ],
            [
             0.4444444444444444,
             "#bd3786"
            ],
            [
             0.5555555555555556,
             "#d8576b"
            ],
            [
             0.6666666666666666,
             "#ed7953"
            ],
            [
             0.7777777777777778,
             "#fb9f3a"
            ],
            [
             0.8888888888888888,
             "#fdca26"
            ],
            [
             1,
             "#f0f921"
            ]
           ],
           "sequentialminus": [
            [
             0,
             "#0d0887"
            ],
            [
             0.1111111111111111,
             "#46039f"
            ],
            [
             0.2222222222222222,
             "#7201a8"
            ],
            [
             0.3333333333333333,
             "#9c179e"
            ],
            [
             0.4444444444444444,
             "#bd3786"
            ],
            [
             0.5555555555555556,
             "#d8576b"
            ],
            [
             0.6666666666666666,
             "#ed7953"
            ],
            [
             0.7777777777777778,
             "#fb9f3a"
            ],
            [
             0.8888888888888888,
             "#fdca26"
            ],
            [
             1,
             "#f0f921"
            ]
           ]
          },
          "colorway": [
           "#636efa",
           "#EF553B",
           "#00cc96",
           "#ab63fa",
           "#FFA15A",
           "#19d3f3",
           "#FF6692",
           "#B6E880",
           "#FF97FF",
           "#FECB52"
          ],
          "font": {
           "color": "#2a3f5f"
          },
          "geo": {
           "bgcolor": "white",
           "lakecolor": "white",
           "landcolor": "#E5ECF6",
           "showlakes": true,
           "showland": true,
           "subunitcolor": "white"
          },
          "hoverlabel": {
           "align": "left"
          },
          "hovermode": "closest",
          "mapbox": {
           "style": "light"
          },
          "paper_bgcolor": "white",
          "plot_bgcolor": "#E5ECF6",
          "polar": {
           "angularaxis": {
            "gridcolor": "white",
            "linecolor": "white",
            "ticks": ""
           },
           "bgcolor": "#E5ECF6",
           "radialaxis": {
            "gridcolor": "white",
            "linecolor": "white",
            "ticks": ""
           }
          },
          "scene": {
           "xaxis": {
            "backgroundcolor": "#E5ECF6",
            "gridcolor": "white",
            "gridwidth": 2,
            "linecolor": "white",
            "showbackground": true,
            "ticks": "",
            "zerolinecolor": "white"
           },
           "yaxis": {
            "backgroundcolor": "#E5ECF6",
            "gridcolor": "white",
            "gridwidth": 2,
            "linecolor": "white",
            "showbackground": true,
            "ticks": "",
            "zerolinecolor": "white"
           },
           "zaxis": {
            "backgroundcolor": "#E5ECF6",
            "gridcolor": "white",
            "gridwidth": 2,
            "linecolor": "white",
            "showbackground": true,
            "ticks": "",
            "zerolinecolor": "white"
           }
          },
          "shapedefaults": {
           "line": {
            "color": "#2a3f5f"
           }
          },
          "ternary": {
           "aaxis": {
            "gridcolor": "white",
            "linecolor": "white",
            "ticks": ""
           },
           "baxis": {
            "gridcolor": "white",
            "linecolor": "white",
            "ticks": ""
           },
           "bgcolor": "#E5ECF6",
           "caxis": {
            "gridcolor": "white",
            "linecolor": "white",
            "ticks": ""
           }
          },
          "title": {
           "x": 0.05
          },
          "xaxis": {
           "automargin": true,
           "gridcolor": "white",
           "linecolor": "white",
           "ticks": "",
           "title": {
            "standoff": 15
           },
           "zerolinecolor": "white",
           "zerolinewidth": 2
          },
          "yaxis": {
           "automargin": true,
           "gridcolor": "white",
           "linecolor": "white",
           "ticks": "",
           "title": {
            "standoff": 15
           },
           "zerolinecolor": "white",
           "zerolinewidth": 2
          }
         }
        },
        "width": 1000,
        "xaxis": {
         "anchor": "y",
         "domain": [
          0,
          0.15
         ],
         "tickangle": 0,
         "tickfont": {
          "family": "black",
          "size": 12
         }
        },
        "xaxis2": {
         "anchor": "y2",
         "domain": [
          0.16999999999999998,
          0.31999999999999995
         ],
         "tickangle": 0,
         "tickfont": {
          "family": "black",
          "size": 12
         }
        },
        "xaxis3": {
         "anchor": "y3",
         "domain": [
          0.33999999999999997,
          0.49
         ],
         "tickangle": 0,
         "tickfont": {
          "family": "black",
          "size": 12
         }
        },
        "xaxis4": {
         "anchor": "y4",
         "domain": [
          0.51,
          0.66
         ],
         "tickangle": 0,
         "tickfont": {
          "family": "black",
          "size": 12
         }
        },
        "xaxis5": {
         "anchor": "y5",
         "domain": [
          0.6799999999999999,
          0.83
         ],
         "tickangle": 0,
         "tickfont": {
          "family": "black",
          "size": 12
         }
        },
        "xaxis6": {
         "anchor": "y6",
         "domain": [
          0.85,
          1
         ],
         "tickangle": 0,
         "tickfont": {
          "family": "black",
          "size": 12
         }
        },
        "yaxis": {
         "anchor": "x",
         "domain": [
          0,
          1
         ],
         "title": {
          "text": "Amino acid type"
         }
        },
        "yaxis2": {
         "anchor": "x2",
         "domain": [
          0,
          1
         ],
         "matches": "y",
         "showticklabels": false
        },
        "yaxis3": {
         "anchor": "x3",
         "domain": [
          0,
          1
         ],
         "matches": "y",
         "showticklabels": false
        },
        "yaxis4": {
         "anchor": "x4",
         "domain": [
          0,
          1
         ],
         "matches": "y",
         "showticklabels": false
        },
        "yaxis5": {
         "anchor": "x5",
         "domain": [
          0,
          1
         ],
         "matches": "y",
         "showticklabels": false
        },
        "yaxis6": {
         "anchor": "x6",
         "domain": [
          0,
          1
         ],
         "matches": "y",
         "showticklabels": false
        }
       }
      },
      "text/html": [
       "<div>                            <div id=\"7474cee8-d69a-4646-8673-62c9885e883a\" class=\"plotly-graph-div\" style=\"height:500px; width:1000px;\"></div>            <script type=\"text/javascript\">                require([\"plotly\"], function(Plotly) {                    window.PLOTLYENV=window.PLOTLYENV || {};                                    if (document.getElementById(\"7474cee8-d69a-4646-8673-62c9885e883a\")) {                    Plotly.newPlot(                        \"7474cee8-d69a-4646-8673-62c9885e883a\",                        [{\"coloraxis\":\"coloraxis\",\"colorscale\":[[0.0,\"rgb(209, 238, 234)\"],[0.16666666666666666,\"rgb(168, 219, 217)\"],[0.3333333333333333,\"rgb(133, 196, 201)\"],[0.5,\"rgb(104, 171, 184)\"],[0.6666666666666666,\"rgb(79, 144, 166)\"],[0.8333333333333334,\"rgb(59, 115, 143)\"],[1.0,\"rgb(42, 86, 116)\"]],\"hoverongaps\":false,\"type\":\"heatmap\",\"x\":[\"1\",\"2\",\"3\",\"4\",\"5\",\"6\",\"7\",\"8\",\"9\"],\"xaxis\":\"x\",\"y\":[\"Y\",\"A\",\"T\",\"V\",\"L\",\"D\",\"E\",\"G\",\"R\",\"H\",\"I\",\"W\",\"Q\",\"K\",\"M\",\"F\",\"N\",\"S\",\"P\",\"C\"],\"yaxis\":\"y\",\"z\":[[263.2099609375,6.3140435218811035,19.453615188598633,76.03266906738281,87.54857635498047,74.33024597167969,67.25045013427734,134.68165588378906,2174.25927734375],[165.3621826171875,127.32723999023438,132.7372283935547,158.52911376953125,139.26324462890625,159.60897827148438,112.75602722167969,111.34026336669922,15.058724403381348],[164.71609497070312,782.9619750976562,44.28547668457031,131.88851928710938,148.8518829345703,231.13771057128906,117.89136505126953,131.8817596435547,12.410423278808594],[213.41009521484375,206.78053283691406,30.103134155273438,110.62793731689453,192.23739624023438,193.09219360351562,129.64190673828125,131.9482421875,57.695430755615234],[333.3162536621094,362.3421936035156,43.41337203979492,225.7532958984375,238.23379516601562,219.5493621826172,584.8994140625,439.90673828125,77.94551086425781],[83.11957550048828,70.07797241210938,1287.123046875,163.5529327392578,162.9186248779297,86.97676086425781,171.61199951171875,86.14435577392578,8.015144348144531],[131.70706176757812,24.015241622924805,603.54541015625,223.51544189453125,180.14097595214844,88.58712005615234,230.41432189941406,172.64529418945312,11.62946605682373],[76.17339324951172,31.128597259521484,52.234352111816406,148.9376983642578,168.5519256591797,167.68760681152344,116.77213287353516,125.53518676757812,8.018499374389648],[74.3011245727539,0.8855534791946411,14.196800231933594,135.32847595214844,105.38115692138672,127.51113891601562,54.04241943359375,181.49374389648438,24.35468864440918],[69.88671112060547,4.440211772918701,22.13835334777832,60.14625930786133,125.18692016601562,85.9739990234375,87.9423828125,99.97813415527344,24.29925537109375],[138.91632080078125,127.21773529052734,23.908018112182617,114.9746322631836,129.53945922851562,131.07174682617188,105.40032958984375,79.81024169921875,12.418706893920898],[30.91222381591797,3.592411518096924,2.655296564102173,15.915555000305176,22.137880325317383,21.263416290283203,29.216838836669922,13.300982475280762,7.964491367340088],[141.604248046875,17.73428726196289,50.46957015991211,119.93743896484375,137.52352905273438,162.2053680419922,163.8632049560547,130.08993530273438,14.285592079162598],[95.5628433227539,2.657982110977173,22.13376235961914,179.29286193847656,144.8753204345703,130.34841918945312,61.200260162353516,214.15431213378906,56.81615447998047],[76.92805480957031,80.3615951538086,22.13410758972168,47.787940979003906,66.44692993164062,62.06046676635742,74.94251251220703,62.28307342529297,16.997703552246094],[195.2724151611328,14.409067153930664,24.78452491760254,114.9888916015625,114.10137176513672,129.25315856933594,87.659912109375,140.9568328857422,60.55522537231445],[106.2543716430664,12.462074279785156,82.31995391845703,91.33495330810547,148.98965454101562,161.2897186279297,112.65814208984375,84.08050537109375,4.4707512855529785],[168.10438537597656,727.3333740234375,120.50655364990234,206.30361938476562,185.33522033691406,197.56483459472656,181.66563415527344,190.1796417236328,26.768192291259766],[56.83517837524414,15.108242988586426,29.211013793945312,261.1940002441406,89.4852066040039,140.7118377685547,94.59147644042969,47.774322509765625,3.5439891815185547],[14.182016372680664,12.435453414916992,8.875871658325195,18.559791564941406,18.66576385498047,33.745269775390625,24.305580139160156,26.06285858154297,1.772196650505066]]},{\"coloraxis\":\"coloraxis\",\"colorscale\":[[0.0,\"rgb(209, 238, 234)\"],[0.16666666666666666,\"rgb(168, 219, 217)\"],[0.3333333333333333,\"rgb(133, 196, 201)\"],[0.5,\"rgb(104, 171, 184)\"],[0.6666666666666666,\"rgb(79, 144, 166)\"],[0.8333333333333334,\"rgb(59, 115, 143)\"],[1.0,\"rgb(42, 86, 116)\"]],\"hoverongaps\":false,\"type\":\"heatmap\",\"x\":[\"1\",\"2\",\"3\",\"4\",\"5\",\"6\",\"7\",\"8\",\"9\"],\"xaxis\":\"x2\",\"y\":[\"Y\",\"A\",\"T\",\"V\",\"L\",\"D\",\"E\",\"G\",\"R\",\"H\",\"I\",\"W\",\"Q\",\"K\",\"M\",\"F\",\"N\",\"S\",\"P\",\"C\"],\"yaxis\":\"y2\",\"z\":[[532.7160034179688,19.314401626586914,363.2660827636719,50.574668884277344,262.8691101074219,117.82080841064453,285.09320068359375,297.3902587890625,42.9842643737793],[879.4124145507812,144.81201171875,869.029052734375,394.55889892578125,482.5712890625,295.30682373046875,550.70263671875,593.903076171875,647.1201171875],[484.41900634765625,191.06845092773438,316.89312744140625,339.0487976074219,444.237060546875,510.5009460449219,495.3259582519531,786.1478271484375,73.61065673828125],[542.9359741210938,601.592529296875,326.2503662109375,132.2984161376953,623.156982421875,1117.1192626953125,867.6522827148438,244.94268798828125,2946.1953125],[605.6727905273438,5363.2919921875,1192.6861572265625,184.8746337890625,702.3272705078125,1459.514404296875,735.6033325195312,538.1249389648438,2936.6728515625],[37.17406463623047,4.478263854980469,782.1263427734375,1248.1649169921875,334.7403564453125,196.52232360839844,165.48641967773438,101.84346771240234,7.141714096069336],[69.00717163085938,33.07059860229492,154.74374389648438,1614.3465576171875,598.888671875,368.3541564941406,582.2297973632812,915.0230712890625,16.186180114746094],[517.9169921875,34.92805480957031,258.2745666503906,636.2197875976562,519.0918579101562,197.361328125,52.28723907470703,411.5964660644531,7.271244525909424],[474.99041748046875,9.784579277038574,65.53779602050781,161.30966186523438,338.8582458496094,123.90181732177734,183.023193359375,477.6670227050781,38.6519889831543],[190.01890563964844,12.399199485778809,194.55752563476562,182.94203186035156,346.63995361328125,93.95024108886719,547.2440795898438,272.5414733886719,22.717987060546875],[468.3177185058594,612.4234008789062,598.4346923828125,102.0726089477539,510.3127136230469,1087.8458251953125,607.8668212890625,124.96365356445312,657.8803100585938],[22.96822166442871,1.8350551128387451,212.23619079589844,31.867158889770508,68.16567993164062,23.921035766601562,107.16232299804688,19.639801025390625,8.860504150390625],[253.93321228027344,257.0201416015625,407.70635986328125,336.8092956542969,349.5428466796875,290.8389892578125,426.3660583496094,641.2186889648438,13.416921615600586],[775.8594360351562,1.7751524448394775,144.1043243408203,403.54925537109375,629.5191040039062,174.40892028808594,242.25404357910156,649.8396606445312,152.77008056640625],[119.35684967041016,490.59222412109375,331.6961975097656,28.40775489807129,98.28466796875,133.77682495117188,124.94574737548828,98.81695556640625,112.13229370117188],[667.8634033203125,18.38216781616211,420.6623229980469,83.2079849243164,328.6598205566406,210.6215057373047,360.06646728515625,240.16094970703125,28.6998233795166],[154.67108154296875,6.30500602722168,282.9805603027344,382.8299865722656,320.04327392578125,346.5772705078125,243.41087341308594,365.16949462890625,14.320948600769043],[899.6630859375,69.34700775146484,571.4553833007812,655.0250854492188,476.5928955078125,429.6004638671875,342.3687438964844,803.3450317382812,27.689077377319336],[28.728351593017578,8.964554786682129,235.94287109375,832.1787109375,273.3546142578125,525.1992797851562,792.8523559570312,121.97600555419922,24.10047149658203],[9.72770881652832,5.395747184753418,31.073362350463867,7.983116149902344,42.480621337890625,44.337398529052734,31.22553825378418,38.117252349853516,46.88420486450195]]},{\"coloraxis\":\"coloraxis\",\"colorscale\":[[0.0,\"rgb(209, 238, 234)\"],[0.16666666666666666,\"rgb(168, 219, 217)\"],[0.3333333333333333,\"rgb(133, 196, 201)\"],[0.5,\"rgb(104, 171, 184)\"],[0.6666666666666666,\"rgb(79, 144, 166)\"],[0.8333333333333334,\"rgb(59, 115, 143)\"],[1.0,\"rgb(42, 86, 116)\"]],\"hoverongaps\":false,\"type\":\"heatmap\",\"x\":[\"1\",\"2\",\"3\",\"4\",\"5\",\"6\",\"7\",\"8\",\"9\"],\"xaxis\":\"x3\",\"y\":[\"Y\",\"A\",\"T\",\"V\",\"L\",\"D\",\"E\",\"G\",\"R\",\"H\",\"I\",\"W\",\"Q\",\"K\",\"M\",\"F\",\"N\",\"S\",\"P\",\"C\"],\"yaxis\":\"y3\",\"z\":[[35.354736328125,10.815465927124023,707.1980590820312,89.8551254272461,139.84812927246094,99.13809967041016,52.242122650146484,186.62307739257812,352.1700744628906],[695.1986694335938,164.89515686035156,569.541259765625,330.53680419921875,299.6040344238281,353.3764343261719,295.6472473144531,310.2691345214844,23.026687622070312],[188.58006286621094,728.894287109375,156.76998901367188,281.6591491699219,314.5029296875,354.9775085449219,391.952392578125,328.92645263671875,3.5499684810638428],[300.84832763671875,991.8304443359375,100.8333740234375,191.17311096191406,400.29620361328125,555.01123046875,425.69842529296875,225.45555114746094,19.499574661254883],[189.70924377441406,1630.232666015625,507.58685302734375,232.42807006835938,257.92822265625,713.3587646484375,1186.3238525390625,605.625732421875,12.427366256713867],[13.262109756469727,12.400882720947266,175.5843505859375,349.7864685058594,118.7738265991211,31.109085083007812,32.947086334228516,46.894962310791016,0.8909380435943604],[22.10809326171875,15.91664981842041,75.9155502319336,488.24420166015625,216.46389770507812,69.89537811279297,69.10673522949219,340.5626220703125,8.033830642700195],[336.247314453125,43.4284782409668,242.4097442626953,403.4403381347656,288.36663818359375,294.8526916503906,147.8363037109375,291.7905578613281,7.9867143630981445],[981.47705078125,14.402445793151855,181.52467346191406,167.59811401367188,251.81378173828125,137.19776916503906,312.20025634765625,232.65200805664062,627.37646484375],[151.2803192138672,7.092435836791992,144.27207946777344,111.94422149658203,210.4629364013672,87.644287109375,67.5135269165039,101.69554138183594,295.72723388671875],[207.82664489746094,615.5153198242188,128.20338439941406,110.11959075927734,233.15440368652344,459.6171569824219,523.2120971679688,91.95927429199219,4.42221736907959],[3.5377490520477295,1.800692081451416,115.91785430908203,36.37559127807617,88.86644744873047,30.147247314453125,15.927802085876465,22.148645401000977,0.0],[145.82144165039062,159.31265258789062,88.43569946289062,286.1202697753906,197.9957733154297,247.86891174316406,144.37078857421875,430.6463928222656,14.243475914001465],[1001.619140625,19.68651580810547,235.4134979248047,431.1366882324219,466.0207214355469,162.1212615966797,231.02149963378906,373.2507629394531,3655.8671875],[53.073001861572266,193.26734924316406,111.73585510253906,37.38020324707031,38.136138916015625,126.9988784790039,158.11021423339844,101.77706146240234,3.6029253005981445],[35.36459732055664,21.639915466308594,489.85772705078125,114.41885375976562,172.56591796875,337.2779541015625,227.8228759765625,180.4139404296875,3.5784268379211426],[28.30304718017578,12.399460792541504,328.41748046875,215.64041137695312,212.13092041015625,122.26875305175781,103.18914031982422,305.1305847167969,5.356395244598389],[547.4158935546875,324.5567626953125,468.0570983886719,577.83984375,389.89862060546875,356.5341796875,407.4300842285156,450.8508605957031,9.838288307189941],[14.242613792419434,12.397452354431152,116.6899185180664,549.7828369140625,661.4072875976562,406.97711181640625,171.70404052734375,323.38580322265625,10.661246299743652],[15.028348922729492,4.4220781326293945,23.045331954956055,8.939513206481934,15.994166374206543,20.362375259399414,14.425638198852539,10.657960891723633,0.0]]},{\"coloraxis\":\"coloraxis\",\"colorscale\":[[0.0,\"rgb(209, 238, 234)\"],[0.16666666666666666,\"rgb(168, 219, 217)\"],[0.3333333333333333,\"rgb(133, 196, 201)\"],[0.5,\"rgb(104, 171, 184)\"],[0.6666666666666666,\"rgb(79, 144, 166)\"],[0.8333333333333334,\"rgb(59, 115, 143)\"],[1.0,\"rgb(42, 86, 116)\"]],\"hoverongaps\":false,\"type\":\"heatmap\",\"x\":[\"1\",\"2\",\"3\",\"4\",\"5\",\"6\",\"7\",\"8\",\"9\"],\"xaxis\":\"x4\",\"y\":[\"Y\",\"A\",\"T\",\"V\",\"L\",\"D\",\"E\",\"G\",\"R\",\"H\",\"I\",\"W\",\"Q\",\"K\",\"M\",\"F\",\"N\",\"S\",\"P\",\"C\"],\"yaxis\":\"y4\",\"z\":[[145.85330200195312,13.318532943725586,126.27650451660156,99.4416275024414,85.16050720214844,71.98823547363281,47.83955764770508,74.33805847167969,14.322897911071777],[794.5778198242188,207.92388916015625,849.260986328125,499.60406494140625,466.1297302246094,448.22503662109375,524.4599609375,844.2433471679688,192.50570678710938],[301.58612060546875,33.18942642211914,178.66085815429688,239.80819702148438,275.0395812988281,427.97723388671875,481.5727233886719,507.07989501953125,49.80234146118164],[325.3804016113281,299.92572021484375,209.58200073242188,227.4549102783203,446.73333740234375,325.7237854003906,403.20147705078125,510.01129150390625,429.28289794921875],[541.0324096679688,66.74246215820312,264.56866455078125,517.8217163085938,324.9618225097656,415.66278076171875,708.657958984375,339.9331970214844,3651.333984375],[13.267794609069824,2.666508197784424,190.3323211669922,210.60511779785156,126.87162017822266,95.02043151855469,110.6633529663086,104.92035675048828,2.67055606842041],[30.077119827270508,4.426450729370117,155.0874481201172,406.8773193359375,177.81781005859375,109.2081527709961,249.0150604248047,432.46844482421875,2.6754300594329834],[264.56671142578125,21.486785888671875,228.92056274414062,483.0464172363281,418.72027587890625,639.7430419921875,263.5501403808594,276.94366455078125,9.914277076721191],[842.3099975585938,8.079538345336914,1235.1448974609375,233.8139190673828,508.43878173828125,742.2577514648438,300.2627868652344,172.17095947265625,20.692907333374023],[150.40943908691406,6.298282623291016,195.9149932861328,114.4510269165039,185.81719970703125,151.65206909179688,138.38540649414062,96.76002502441406,22.31375503540039],[246.6047821044922,100.58274841308594,185.5858612060547,150.78903198242188,176.30064392089844,237.86663818359375,261.98638916015625,141.81578063964844,293.18292236328125],[22.095626831054688,4.475835800170898,57.46467590332031,46.27597427368164,43.44517135620117,45.21528625488281,18.600238800048828,15.056889533996582,16.847923278808594],[219.25474548339844,2.692310333251953,281.2199401855469,264.83721923828125,212.90972900390625,177.16690063476562,336.9994201660156,302.638427734375,17.9722900390625],[404.4385986328125,2.6887447834014893,372.3342590332031,351.9571838378906,405.74847412109375,298.0195617675781,235.72476196289062,208.51881408691406,15.297704696655273],[113.20259857177734,4.468096733093262,157.49183654785156,70.92566680908203,45.17019271850586,107.30695343017578,117.19322967529297,77.87995910644531,377.97381591796875],[117.62042999267578,20.575796127319336,125.49959564208984,130.42623901367188,130.32931518554688,194.40603637695312,54.16297912597656,79.69538879394531,451.2004699707031],[122.0345230102539,12.556147575378418,191.9789276123047,197.65753173828125,170.33071899414062,164.23626708984375,213.54275512695312,102.7760009765625,3.5558207035064697],[963.3989868164062,28.639278411865234,537.86962890625,589.7483520507812,486.2524108886719,534.8222045898438,686.6258544921875,1072.9686279296875,23.371614456176758],[39.801326751708984,4909.96044921875,113.18258666992188,860.9327392578125,1016.9317626953125,489.69207763671875,514.1602172851562,272.120849609375,81.19884490966797],[14.144389152526855,2.655048370361328,20.42051124572754,16.89905548095703,7.979306221008301,16.847225189208984,38.27177047729492,52.4000358581543,18.584945678710938]]},{\"coloraxis\":\"coloraxis\",\"colorscale\":[[0.0,\"rgb(209, 238, 234)\"],[0.16666666666666666,\"rgb(168, 219, 217)\"],[0.3333333333333333,\"rgb(133, 196, 201)\"],[0.5,\"rgb(104, 171, 184)\"],[0.6666666666666666,\"rgb(79, 144, 166)\"],[0.8333333333333334,\"rgb(59, 115, 143)\"],[1.0,\"rgb(42, 86, 116)\"]],\"hoverongaps\":false,\"type\":\"heatmap\",\"x\":[\"1\",\"2\",\"3\",\"4\",\"5\",\"6\",\"7\",\"8\",\"9\"],\"xaxis\":\"x5\",\"y\":[\"Y\",\"A\",\"T\",\"V\",\"L\",\"D\",\"E\",\"G\",\"R\",\"H\",\"I\",\"W\",\"Q\",\"K\",\"M\",\"F\",\"N\",\"S\",\"P\",\"C\"],\"yaxis\":\"y5\",\"z\":[[94.51052856445312,1.8048217296600342,209.32351684570312,78.05916595458984,108.89795684814453,88.65982818603516,150.9946746826172,79.5943832397461,263.8427734375],[441.6095275878906,7.072025299072266,217.47296142578125,220.74594116210938,169.1157989501953,239.47860717773438,193.90367126464844,262.17724609375,29.596532821655273],[108.62822723388672,3.5388998985290527,201.72027587890625,109.33214569091797,160.0988006591797,192.15667724609375,215.32278442382812,293.6197509765625,7.997969150543213],[90.11470031738281,2.6556766033172607,239.85592651367188,130.35256958007812,357.2552795410156,367.1438293457031,382.0423889160156,185.61361694335938,197.87149047851562],[99.85118103027344,14.160436630249023,522.92578125,322.8774108886719,497.35113525390625,406.7498474121094,556.8740234375,357.20068359375,1117.5469970703125],[7.072165012359619,0.8850907683372498,88.28125762939453,237.6490020751953,99.83905029296875,69.10731506347656,53.18035125732422,55.3979606628418,0.0],[52.99811553955078,4.429008483886719,25.201520919799805,271.2543640136719,182.20140075683594,172.00558471679688,190.20115661621094,219.4805450439453,1.8146579265594482],[527.3246459960938,1.7693946361541748,63.61699295043945,290.6187438964844,230.59268188476562,142.31015014648438,30.277423858642578,283.7633972167969,0.9199212789535522],[606.1376953125,3393.9658203125,58.57392883300781,160.07704162597656,128.71035766601562,184.36085510253906,71.73684692382812,235.5917510986328,436.12506103515625],[123.6681900024414,5.373028755187988,168.03286743164062,59.52838134765625,75.51817321777344,59.410335540771484,126.59996032714844,126.57675170898438,76.56478881835938],[131.59263610839844,2.677013397216797,278.9739074707031,116.83351135253906,318.94171142578125,356.7830505371094,302.3211975097656,47.91567611694336,154.6463165283203],[7.956274032592773,0.0,92.76689147949219,31.055707931518555,36.23637008666992,21.284561157226562,78.71893310546875,11.501712799072266,21.30535316467285],[205.75540161132812,51.3522834777832,104.4105453491211,200.977294921875,196.69541931152344,257.45416259765625,174.02032470703125,253.70127868652344,2.697831153869629],[388.7097473144531,18.83017921447754,203.45645141601562,270.24462890625,183.455322265625,198.50115966796875,121.69657897949219,267.24072265625,383.7762756347656],[53.187618255615234,4.429045677185059,100.85421752929688,42.5806770324707,69.85612487792969,67.35034942626953,68.28218841552734,48.72762680053711,216.37875366210938],[63.617332458496094,1.8058602809906006,426.73443603515625,163.13853454589844,188.4383544921875,158.74005126953125,225.79592895507812,77.92862701416016,562.3117065429688],[52.98108673095703,2.651956081390381,255.30718994140625,158.58042907714844,103.64522552490234,105.7021484375,124.27069091796875,252.0576629638672,0.9094813466072083],[387.64190673828125,2.652604579925537,184.7645263671875,257.4293518066406,168.91305541992188,188.8331756591797,160.72434997558594,344.3047790527344,10.023679733276367],[7.952062606811523,0.0,9.720812797546387,355.5764465332031,183.4425811767578,184.14520263671875,230.30555725097656,47.68751525878906,5.434710502624512],[2.651872396469116,3.535600423812866,7.068675518035889,3.5577166080474854,2.6547281742095947,7.103260517120361,10.78293514251709,15.148979187011719,2.654372453689575]]},{\"coloraxis\":\"coloraxis\",\"colorscale\":[[0.0,\"rgb(209, 238, 234)\"],[0.16666666666666666,\"rgb(168, 219, 217)\"],[0.3333333333333333,\"rgb(133, 196, 201)\"],[0.5,\"rgb(104, 171, 184)\"],[0.6666666666666666,\"rgb(79, 144, 166)\"],[0.8333333333333334,\"rgb(59, 115, 143)\"],[1.0,\"rgb(42, 86, 116)\"]],\"hoverongaps\":false,\"type\":\"heatmap\",\"x\":[\"1\",\"2\",\"3\",\"4\",\"5\",\"6\",\"7\",\"8\",\"9\"],\"xaxis\":\"x6\",\"y\":[\"Y\",\"A\",\"T\",\"V\",\"L\",\"D\",\"E\",\"G\",\"R\",\"H\",\"I\",\"W\",\"Q\",\"K\",\"M\",\"F\",\"N\",\"S\",\"P\",\"C\"],\"yaxis\":\"y6\",\"z\":[[130.72103881835938,22.30267906188965,164.37237548828125,47.97871780395508,109.76368713378906,102.68743133544922,185.0179443359375,155.74427795410156,422.8379821777344],[264.32049560546875,703.0588989257812,274.272705078125,185.6323699951172,172.8859405517578,218.5453338623047,193.28382873535156,140.42356872558594,0.8850067853927612],[204.29449462890625,1165.3868408203125,135.03086853027344,201.32449340820312,240.11895751953125,197.66830444335938,198.62127685546875,440.3695373535156,7.078239917755127],[353.5225524902344,383.794921875,277.6283874511719,232.21875,430.9647216796875,409.2996520996094,284.7903137207031,253.12290954589844,15.925509452819824],[527.484619140625,193.28341674804688,671.2939453125,303.23223876953125,662.952392578125,639.7095336914062,350.65411376953125,635.450927734375,289.60980224609375],[7.06675910949707,9.859651565551758,205.67613220214844,296.00091552734375,227.79762268066406,107.3638916015625,129.57826232910156,64.60955047607422,0.8919138312339783],[49.504669189453125,11.61375617980957,63.68766403198242,358.4486389160156,244.08164978027344,203.77166748046875,322.7970275878906,274.0814514160156,2.6547632217407227],[111.51055145263672,116.67719268798828,101.80789184570312,218.93402099609375,190.48989868164062,132.16676330566406,47.1431999206543,120.17567443847656,1.7705886363983154],[453.7289123535156,2.6725761890411377,370.8167724609375,298.69647216796875,157.90554809570312,208.09564208984375,513.9527587890625,264.7668151855469,3.538361072540283],[178.58529663085938,6.251014709472656,125.5775375366211,94.26618194580078,153.14755249023438,154.03102111816406,248.51829528808594,172.46852111816406,1.7716269493103027],[340.1552429199219,122.5117416381836,208.5409698486328,162.05804443359375,359.5351257324219,348.3230285644531,153.16983032226562,108.9937515258789,155.90884399414062],[15.016870498657227,16.013011932373047,106.99588012695312,41.77165603637695,60.20032501220703,56.6789436340332,134.57611083984375,34.55556869506836,2019.557861328125],[185.68638610839844,19.69357681274414,112.41159057617188,207.91322326660156,138.58486938476562,295.70819091796875,271.0461730957031,254.7249755859375,0.0],[794.2968139648438,2.6915271282196045,505.70904541015625,480.82672119140625,225.68649291992188,214.45233154296875,286.6114501953125,346.0923767089844,6.2021989822387695],[123.67532348632812,39.41307830810547,121.50704193115234,48.14826965332031,80.7304916381836,75.57843017578125,66.78470611572266,97.21614837646484,67.26343536376953],[151.8981170654297,43.85036849975586,310.03564453125,112.8059310913086,225.36476135253906,198.2884521484375,247.959228515625,216.78053283691406,1231.544189453125],[41.552608489990234,11.754585266113281,149.48629760742188,149.22889709472656,144.57994079589844,153.35671997070312,147.61514282226562,201.6949920654297,1.771624207496643],[253.89920043945312,1376.2479248046875,240.9602508544922,245.6723175048828,162.1341094970703,207.19850158691406,206.57293701171875,378.4659729003906,0.8854502439498901],[14.155054092407227,28.850994110107422,38.01996994018555,560.1456909179688,208.63597106933594,268.0249938964844,212.32627868652344,22.97215461730957,0.885624885559082],[10.660558700561523,25.98837661743164,39.98058319091797,8.932353019714355,25.758089065551758,29.352861404418945,25.224275588989258,36.851016998291016,1.7654955387115479]]}],                        {\"annotations\":[{\"font\":{\"size\":16},\"showarrow\":false,\"text\":\"HLA-A01:01\",\"x\":0.075,\"xanchor\":\"center\",\"xref\":\"paper\",\"y\":1.0,\"yanchor\":\"bottom\",\"yref\":\"paper\"},{\"font\":{\"size\":16},\"showarrow\":false,\"text\":\"HLA-A02:01\",\"x\":0.24499999999999997,\"xanchor\":\"center\",\"xref\":\"paper\",\"y\":1.0,\"yanchor\":\"bottom\",\"yref\":\"paper\"},{\"font\":{\"size\":16},\"showarrow\":false,\"text\":\"HLA-A03:01\",\"x\":0.415,\"xanchor\":\"center\",\"xref\":\"paper\",\"y\":1.0,\"yanchor\":\"bottom\",\"yref\":\"paper\"},{\"font\":{\"size\":16},\"showarrow\":false,\"text\":\"HLA-B07:02\",\"x\":0.585,\"xanchor\":\"center\",\"xref\":\"paper\",\"y\":1.0,\"yanchor\":\"bottom\",\"yref\":\"paper\"},{\"font\":{\"size\":16},\"showarrow\":false,\"text\":\"HLA-B27:05\",\"x\":0.7549999999999999,\"xanchor\":\"center\",\"xref\":\"paper\",\"y\":1.0,\"yanchor\":\"bottom\",\"yref\":\"paper\"},{\"font\":{\"size\":16},\"showarrow\":false,\"text\":\"HLA-B57:01\",\"x\":0.925,\"xanchor\":\"center\",\"xref\":\"paper\",\"y\":1.0,\"yanchor\":\"bottom\",\"yref\":\"paper\"},{\"font\":{\"size\":16},\"showarrow\":false,\"text\":\"Peptide position\",\"x\":0.5,\"xanchor\":\"center\",\"xref\":\"paper\",\"y\":0,\"yanchor\":\"top\",\"yref\":\"paper\",\"yshift\":-30}],\"coloraxis\":{\"colorbar\":{\"thickness\":8},\"colorscale\":[[0.0,\"rgb(209, 238, 234)\"],[0.16666666666666666,\"rgb(168, 219, 217)\"],[0.3333333333333333,\"rgb(133, 196, 201)\"],[0.5,\"rgb(104, 171, 184)\"],[0.6666666666666666,\"rgb(79, 144, 166)\"],[0.8333333333333334,\"rgb(59, 115, 143)\"],[1.0,\"rgb(42, 86, 116)\"]]},\"font\":{\"family\":\"black\",\"size\":13},\"height\":500,\"paper_bgcolor\":\"rgba(0,0,0,0)\",\"plot_bgcolor\":\"rgba(0,0,0,0)\",\"template\":{\"data\":{\"bar\":[{\"error_x\":{\"color\":\"#2a3f5f\"},\"error_y\":{\"color\":\"#2a3f5f\"},\"marker\":{\"line\":{\"color\":\"#E5ECF6\",\"width\":0.5},\"pattern\":{\"fillmode\":\"overlay\",\"size\":10,\"solidity\":0.2}},\"type\":\"bar\"}],\"barpolar\":[{\"marker\":{\"line\":{\"color\":\"#E5ECF6\",\"width\":0.5},\"pattern\":{\"fillmode\":\"overlay\",\"size\":10,\"solidity\":0.2}},\"type\":\"barpolar\"}],\"carpet\":[{\"aaxis\":{\"endlinecolor\":\"#2a3f5f\",\"gridcolor\":\"white\",\"linecolor\":\"white\",\"minorgridcolor\":\"white\",\"startlinecolor\":\"#2a3f5f\"},\"baxis\":{\"endlinecolor\":\"#2a3f5f\",\"gridcolor\":\"white\",\"linecolor\":\"white\",\"minorgridcolor\":\"white\",\"startlinecolor\":\"#2a3f5f\"},\"type\":\"carpet\"}],\"choropleth\":[{\"colorbar\":{\"outlinewidth\":0,\"ticks\":\"\"},\"type\":\"choropleth\"}],\"contour\":[{\"colorbar\":{\"outlinewidth\":0,\"ticks\":\"\"},\"colorscale\":[[0.0,\"#0d0887\"],[0.1111111111111111,\"#46039f\"],[0.2222222222222222,\"#7201a8\"],[0.3333333333333333,\"#9c179e\"],[0.4444444444444444,\"#bd3786\"],[0.5555555555555556,\"#d8576b\"],[0.6666666666666666,\"#ed7953\"],[0.7777777777777778,\"#fb9f3a\"],[0.8888888888888888,\"#fdca26\"],[1.0,\"#f0f921\"]],\"type\":\"contour\"}],\"contourcarpet\":[{\"colorbar\":{\"outlinewidth\":0,\"ticks\":\"\"},\"type\":\"contourcarpet\"}],\"heatmap\":[{\"colorbar\":{\"outlinewidth\":0,\"ticks\":\"\"},\"colorscale\":[[0.0,\"#0d0887\"],[0.1111111111111111,\"#46039f\"],[0.2222222222222222,\"#7201a8\"],[0.3333333333333333,\"#9c179e\"],[0.4444444444444444,\"#bd3786\"],[0.5555555555555556,\"#d8576b\"],[0.6666666666666666,\"#ed7953\"],[0.7777777777777778,\"#fb9f3a\"],[0.8888888888888888,\"#fdca26\"],[1.0,\"#f0f921\"]],\"type\":\"heatmap\"}],\"heatmapgl\":[{\"colorbar\":{\"outlinewidth\":0,\"ticks\":\"\"},\"colorscale\":[[0.0,\"#0d0887\"],[0.1111111111111111,\"#46039f\"],[0.2222222222222222,\"#7201a8\"],[0.3333333333333333,\"#9c179e\"],[0.4444444444444444,\"#bd3786\"],[0.5555555555555556,\"#d8576b\"],[0.6666666666666666,\"#ed7953\"],[0.7777777777777778,\"#fb9f3a\"],[0.8888888888888888,\"#fdca26\"],[1.0,\"#f0f921\"]],\"type\":\"heatmapgl\"}],\"histogram\":[{\"marker\":{\"pattern\":{\"fillmode\":\"overlay\",\"size\":10,\"solidity\":0.2}},\"type\":\"histogram\"}],\"histogram2d\":[{\"colorbar\":{\"outlinewidth\":0,\"ticks\":\"\"},\"colorscale\":[[0.0,\"#0d0887\"],[0.1111111111111111,\"#46039f\"],[0.2222222222222222,\"#7201a8\"],[0.3333333333333333,\"#9c179e\"],[0.4444444444444444,\"#bd3786\"],[0.5555555555555556,\"#d8576b\"],[0.6666666666666666,\"#ed7953\"],[0.7777777777777778,\"#fb9f3a\"],[0.8888888888888888,\"#fdca26\"],[1.0,\"#f0f921\"]],\"type\":\"histogram2d\"}],\"histogram2dcontour\":[{\"colorbar\":{\"outlinewidth\":0,\"ticks\":\"\"},\"colorscale\":[[0.0,\"#0d0887\"],[0.1111111111111111,\"#46039f\"],[0.2222222222222222,\"#7201a8\"],[0.3333333333333333,\"#9c179e\"],[0.4444444444444444,\"#bd3786\"],[0.5555555555555556,\"#d8576b\"],[0.6666666666666666,\"#ed7953\"],[0.7777777777777778,\"#fb9f3a\"],[0.8888888888888888,\"#fdca26\"],[1.0,\"#f0f921\"]],\"type\":\"histogram2dcontour\"}],\"mesh3d\":[{\"colorbar\":{\"outlinewidth\":0,\"ticks\":\"\"},\"type\":\"mesh3d\"}],\"parcoords\":[{\"line\":{\"colorbar\":{\"outlinewidth\":0,\"ticks\":\"\"}},\"type\":\"parcoords\"}],\"pie\":[{\"automargin\":true,\"type\":\"pie\"}],\"scatter\":[{\"marker\":{\"colorbar\":{\"outlinewidth\":0,\"ticks\":\"\"}},\"type\":\"scatter\"}],\"scatter3d\":[{\"line\":{\"colorbar\":{\"outlinewidth\":0,\"ticks\":\"\"}},\"marker\":{\"colorbar\":{\"outlinewidth\":0,\"ticks\":\"\"}},\"type\":\"scatter3d\"}],\"scattercarpet\":[{\"marker\":{\"colorbar\":{\"outlinewidth\":0,\"ticks\":\"\"}},\"type\":\"scattercarpet\"}],\"scattergeo\":[{\"marker\":{\"colorbar\":{\"outlinewidth\":0,\"ticks\":\"\"}},\"type\":\"scattergeo\"}],\"scattergl\":[{\"marker\":{\"colorbar\":{\"outlinewidth\":0,\"ticks\":\"\"}},\"type\":\"scattergl\"}],\"scattermapbox\":[{\"marker\":{\"colorbar\":{\"outlinewidth\":0,\"ticks\":\"\"}},\"type\":\"scattermapbox\"}],\"scatterpolar\":[{\"marker\":{\"colorbar\":{\"outlinewidth\":0,\"ticks\":\"\"}},\"type\":\"scatterpolar\"}],\"scatterpolargl\":[{\"marker\":{\"colorbar\":{\"outlinewidth\":0,\"ticks\":\"\"}},\"type\":\"scatterpolargl\"}],\"scatterternary\":[{\"marker\":{\"colorbar\":{\"outlinewidth\":0,\"ticks\":\"\"}},\"type\":\"scatterternary\"}],\"surface\":[{\"colorbar\":{\"outlinewidth\":0,\"ticks\":\"\"},\"colorscale\":[[0.0,\"#0d0887\"],[0.1111111111111111,\"#46039f\"],[0.2222222222222222,\"#7201a8\"],[0.3333333333333333,\"#9c179e\"],[0.4444444444444444,\"#bd3786\"],[0.5555555555555556,\"#d8576b\"],[0.6666666666666666,\"#ed7953\"],[0.7777777777777778,\"#fb9f3a\"],[0.8888888888888888,\"#fdca26\"],[1.0,\"#f0f921\"]],\"type\":\"surface\"}],\"table\":[{\"cells\":{\"fill\":{\"color\":\"#EBF0F8\"},\"line\":{\"color\":\"white\"}},\"header\":{\"fill\":{\"color\":\"#C8D4E3\"},\"line\":{\"color\":\"white\"}},\"type\":\"table\"}]},\"layout\":{\"annotationdefaults\":{\"arrowcolor\":\"#2a3f5f\",\"arrowhead\":0,\"arrowwidth\":1},\"autotypenumbers\":\"strict\",\"coloraxis\":{\"colorbar\":{\"outlinewidth\":0,\"ticks\":\"\"}},\"colorscale\":{\"diverging\":[[0,\"#8e0152\"],[0.1,\"#c51b7d\"],[0.2,\"#de77ae\"],[0.3,\"#f1b6da\"],[0.4,\"#fde0ef\"],[0.5,\"#f7f7f7\"],[0.6,\"#e6f5d0\"],[0.7,\"#b8e186\"],[0.8,\"#7fbc41\"],[0.9,\"#4d9221\"],[1,\"#276419\"]],\"sequential\":[[0.0,\"#0d0887\"],[0.1111111111111111,\"#46039f\"],[0.2222222222222222,\"#7201a8\"],[0.3333333333333333,\"#9c179e\"],[0.4444444444444444,\"#bd3786\"],[0.5555555555555556,\"#d8576b\"],[0.6666666666666666,\"#ed7953\"],[0.7777777777777778,\"#fb9f3a\"],[0.8888888888888888,\"#fdca26\"],[1.0,\"#f0f921\"]],\"sequentialminus\":[[0.0,\"#0d0887\"],[0.1111111111111111,\"#46039f\"],[0.2222222222222222,\"#7201a8\"],[0.3333333333333333,\"#9c179e\"],[0.4444444444444444,\"#bd3786\"],[0.5555555555555556,\"#d8576b\"],[0.6666666666666666,\"#ed7953\"],[0.7777777777777778,\"#fb9f3a\"],[0.8888888888888888,\"#fdca26\"],[1.0,\"#f0f921\"]]},\"colorway\":[\"#636efa\",\"#EF553B\",\"#00cc96\",\"#ab63fa\",\"#FFA15A\",\"#19d3f3\",\"#FF6692\",\"#B6E880\",\"#FF97FF\",\"#FECB52\"],\"font\":{\"color\":\"#2a3f5f\"},\"geo\":{\"bgcolor\":\"white\",\"lakecolor\":\"white\",\"landcolor\":\"#E5ECF6\",\"showlakes\":true,\"showland\":true,\"subunitcolor\":\"white\"},\"hoverlabel\":{\"align\":\"left\"},\"hovermode\":\"closest\",\"mapbox\":{\"style\":\"light\"},\"paper_bgcolor\":\"white\",\"plot_bgcolor\":\"#E5ECF6\",\"polar\":{\"angularaxis\":{\"gridcolor\":\"white\",\"linecolor\":\"white\",\"ticks\":\"\"},\"bgcolor\":\"#E5ECF6\",\"radialaxis\":{\"gridcolor\":\"white\",\"linecolor\":\"white\",\"ticks\":\"\"}},\"scene\":{\"xaxis\":{\"backgroundcolor\":\"#E5ECF6\",\"gridcolor\":\"white\",\"gridwidth\":2,\"linecolor\":\"white\",\"showbackground\":true,\"ticks\":\"\",\"zerolinecolor\":\"white\"},\"yaxis\":{\"backgroundcolor\":\"#E5ECF6\",\"gridcolor\":\"white\",\"gridwidth\":2,\"linecolor\":\"white\",\"showbackground\":true,\"ticks\":\"\",\"zerolinecolor\":\"white\"},\"zaxis\":{\"backgroundcolor\":\"#E5ECF6\",\"gridcolor\":\"white\",\"gridwidth\":2,\"linecolor\":\"white\",\"showbackground\":true,\"ticks\":\"\",\"zerolinecolor\":\"white\"}},\"shapedefaults\":{\"line\":{\"color\":\"#2a3f5f\"}},\"ternary\":{\"aaxis\":{\"gridcolor\":\"white\",\"linecolor\":\"white\",\"ticks\":\"\"},\"baxis\":{\"gridcolor\":\"white\",\"linecolor\":\"white\",\"ticks\":\"\"},\"bgcolor\":\"#E5ECF6\",\"caxis\":{\"gridcolor\":\"white\",\"linecolor\":\"white\",\"ticks\":\"\"}},\"title\":{\"x\":0.05},\"xaxis\":{\"automargin\":true,\"gridcolor\":\"white\",\"linecolor\":\"white\",\"ticks\":\"\",\"title\":{\"standoff\":15},\"zerolinecolor\":\"white\",\"zerolinewidth\":2},\"yaxis\":{\"automargin\":true,\"gridcolor\":\"white\",\"linecolor\":\"white\",\"ticks\":\"\",\"title\":{\"standoff\":15},\"zerolinecolor\":\"white\",\"zerolinewidth\":2}}},\"width\":1000,\"xaxis\":{\"anchor\":\"y\",\"domain\":[0.0,0.15],\"tickangle\":0,\"tickfont\":{\"family\":\"black\",\"size\":12}},\"xaxis2\":{\"anchor\":\"y2\",\"domain\":[0.16999999999999998,0.31999999999999995],\"tickangle\":0,\"tickfont\":{\"family\":\"black\",\"size\":12}},\"xaxis3\":{\"anchor\":\"y3\",\"domain\":[0.33999999999999997,0.49],\"tickangle\":0,\"tickfont\":{\"family\":\"black\",\"size\":12}},\"xaxis4\":{\"anchor\":\"y4\",\"domain\":[0.51,0.66],\"tickangle\":0,\"tickfont\":{\"family\":\"black\",\"size\":12}},\"xaxis5\":{\"anchor\":\"y5\",\"domain\":[0.6799999999999999,0.83],\"tickangle\":0,\"tickfont\":{\"family\":\"black\",\"size\":12}},\"xaxis6\":{\"anchor\":\"y6\",\"domain\":[0.85,1.0],\"tickangle\":0,\"tickfont\":{\"family\":\"black\",\"size\":12}},\"yaxis\":{\"anchor\":\"x\",\"domain\":[0.0,1.0],\"title\":{\"text\":\"Amino acid type\"}},\"yaxis2\":{\"anchor\":\"x2\",\"domain\":[0.0,1.0],\"matches\":\"y\",\"showticklabels\":false},\"yaxis3\":{\"anchor\":\"x3\",\"domain\":[0.0,1.0],\"matches\":\"y\",\"showticklabels\":false},\"yaxis4\":{\"anchor\":\"x4\",\"domain\":[0.0,1.0],\"matches\":\"y\",\"showticklabels\":false},\"yaxis5\":{\"anchor\":\"x5\",\"domain\":[0.0,1.0],\"matches\":\"y\",\"showticklabels\":false},\"yaxis6\":{\"anchor\":\"x6\",\"domain\":[0.0,1.0],\"matches\":\"y\",\"showticklabels\":false}},                        {\"responsive\": true}                    ).then(function(){\n",
       "                            \n",
       "var gd = document.getElementById('7474cee8-d69a-4646-8673-62c9885e883a');\n",
       "var x = new MutationObserver(function (mutations, observer) {{\n",
       "        var display = window.getComputedStyle(gd).display;\n",
       "        if (!display || display === 'none') {{\n",
       "            console.log([gd, 'removed!']);\n",
       "            Plotly.purge(gd);\n",
       "            observer.disconnect();\n",
       "        }}\n",
       "}});\n",
       "\n",
       "// Listen for the removal of the full notebook cells\n",
       "var notebookContainer = gd.closest('#notebook-container');\n",
       "if (notebookContainer) {{\n",
       "    x.observe(notebookContainer, {childList: true});\n",
       "}}\n",
       "\n",
       "// Listen for the clearing of the current output cell\n",
       "var outputEl = gd.closest('.output');\n",
       "if (outputEl) {{\n",
       "    x.observe(outputEl, {childList: true});\n",
       "}}\n",
       "\n",
       "                        })                };                });            </script>        </div>"
      ]
     },
     "metadata": {},
     "output_type": "display_data"
    }
   ],
   "source": [
    "# 两个基本参数：设置行、列\n",
    "fig = make_subplots(rows=1, cols=6,horizontal_spacing=0.02,x_title='Peptide position',#start_cell=\"bottom-left\", # 'bottom-left', 'top-left\n",
    "                    subplot_titles=[\"HLA-A01:01\",\"HLA-A02:01\",\"HLA-A03:01\",'HLA-B07:02','HLA-B27:05','HLA-B57:01'],shared_yaxes=True,shared_xaxes=True)  # 1行2列\n",
    "\n",
    "# 添加两个数据轨迹，构成两个图形\n",
    "fig.add_trace(\n",
    "    go.Heatmap(z=pd.DataFrame(A0101_length9_positive_aatype_position_unsoftmax_pd),colorscale='teal',\n",
    "                   x=['1', '2', '3', '4', '5','6','7','8','9'],\n",
    "                   y=['Y', 'A', 'T', 'V', 'L','D','E','G','R', 'H','I', 'W', 'Q','K', 'M','F', 'N', 'S','P','C'],coloraxis='coloraxis',\n",
    "                   hoverongaps = False),\n",
    "    row=1, col=1  # 第一行第一列\n",
    ")\n",
    "\n",
    "fig.add_trace(\n",
    "    go.Heatmap(z=pd.DataFrame(A0201_length9_positive_aatype_position_unsoftmax_pd),colorscale='teal',\n",
    "                   x=['1', '2', '3', '4', '5','6','7','8','9'],\n",
    "                   y=['Y', 'A', 'T', 'V', 'L','D','E','G','R', 'H','I', 'W', 'Q','K', 'M','F', 'N', 'S','P','C'],coloraxis='coloraxis',\n",
    "                   hoverongaps = False),\n",
    "    row=1, col=2  # 第一行第二列\n",
    ")\n",
    "\n",
    "fig.add_trace(\n",
    "    go.Heatmap(z=pd.DataFrame(A0301_length9_positive_aatype_position_unsoftmax_pd),colorscale='teal',\n",
    "                    x=['1', '2', '3', '4', '5','6','7','8','9'],\n",
    "                   y=['Y', 'A', 'T', 'V', 'L','D','E','G','R', 'H','I', 'W', 'Q','K', 'M','F', 'N', 'S','P','C'],coloraxis='coloraxis',\n",
    "                   hoverongaps = False),\n",
    "    row=1, col=3  # 第一行第二列\n",
    ")\n",
    "fig.add_trace(\n",
    "    go.Heatmap(z=pd.DataFrame(B0702_length9_positive_aatype_position_unsoftmax_pd),colorscale='teal',\n",
    "                    x=['1', '2', '3', '4', '5','6','7','8','9'],\n",
    "                   y=['Y', 'A', 'T', 'V', 'L','D','E','G','R', 'H','I', 'W', 'Q','K', 'M','F', 'N', 'S','P','C'],coloraxis='coloraxis',\n",
    "                   hoverongaps = False),\n",
    "    row=1, col=4  # 第一行第二列\n",
    ")\n",
    "\n",
    "fig.add_trace(\n",
    "    go.Heatmap(z=pd.DataFrame(B2705_length9_positive_aatype_position_unsoftmax_pd),colorscale='teal',\n",
    "                    x=['1', '2', '3', '4', '5','6','7','8','9'],\n",
    "                   y=['Y', 'A', 'T', 'V', 'L','D','E','G','R', 'H','I', 'W', 'Q','K', 'M','F', 'N', 'S','P','C'],coloraxis='coloraxis',\n",
    "                   hoverongaps = False),\n",
    "    row=1, col=5  # 第一行第二列\n",
    ")\n",
    "\n",
    "fig.add_trace(\n",
    "    go.Heatmap(z=pd.DataFrame(B5701_length9_positive_aatype_position_unsoftmax_pd),colorscale='teal',\n",
    "                    x=['1', '2', '3', '4', '5','6','7','8','9'],\n",
    "                   y=['Y', 'A', 'T', 'V', 'L','D','E','G','R', 'H','I', 'W', 'Q','K', 'M','F', 'N', 'S','P','C'],coloraxis='coloraxis',\n",
    "                   hoverongaps = False),\n",
    "    row=1, col=6  # 第一行第二列\n",
    ")\n",
    "fig.update_layout(width=1000,height=500,\n",
    "                      paper_bgcolor='rgba(0,0,0,0)',\n",
    "    plot_bgcolor='rgba(0,0,0,0)',\n",
    "        font=dict(\n",
    "        family=\"black\",\n",
    "        size=13))\n",
    "fig.update_xaxes(tickangle=0, tickfont=dict(family='black', size=12))\n",
    "# fig.update_xaxes(title='Peptide position', row=1, col=3)\n",
    "fig.update_yaxes(title_text=\"Amino acid type\", row=1, col=1)\n",
    "fig.update_coloraxes(colorbar_thickness=8)\n",
    "fig.update_coloraxes(colorscale='teal')\n",
    "# fig.update_yaxes(title='peptide length')\n",
    "# # 设置图形的宽高和标题\n",
    "# fig.update_layout(height=300, \n",
    "#                   width=800, \n",
    "#                   title_text=\"子图制作\")\n",
    "fig.show()"
   ]
  },
  {
   "cell_type": "code",
   "execution_count": 78,
   "id": "65e3835b",
   "metadata": {},
   "outputs": [
    {
     "data": {
      "application/vnd.plotly.v1+json": {
       "config": {
        "linkText": "Export to plot.ly",
        "plotlyServerURL": "https://plot.ly",
        "showLink": false
       },
       "data": [
        {
         "coloraxis": "coloraxis",
         "colorscale": [
          [
           0,
           "rgb(209, 238, 234)"
          ],
          [
           0.16666666666666666,
           "rgb(168, 219, 217)"
          ],
          [
           0.3333333333333333,
           "rgb(133, 196, 201)"
          ],
          [
           0.5,
           "rgb(104, 171, 184)"
          ],
          [
           0.6666666666666666,
           "rgb(79, 144, 166)"
          ],
          [
           0.8333333333333334,
           "rgb(59, 115, 143)"
          ],
          [
           1,
           "rgb(42, 86, 116)"
          ]
         ],
         "hoverongaps": false,
         "type": "heatmap",
         "x": [
          "1",
          "2",
          "3",
          "4",
          "5",
          "6",
          "7",
          "8",
          "9"
         ],
         "xaxis": "x",
         "y": [
          "Y",
          "A",
          "T",
          "V",
          "L",
          "D",
          "E",
          "G",
          "R",
          "H",
          "I",
          "W",
          "Q",
          "K",
          "M",
          "F",
          "N",
          "S",
          "P",
          "C"
         ],
         "yaxis": "y",
         "z": [
          [
           263.2099609375,
           6.3140435218811035,
           19.453615188598633,
           76.03266906738281,
           87.54857635498047,
           74.33024597167969,
           67.25045013427734,
           134.68165588378906,
           2174.25927734375
          ],
          [
           165.3621826171875,
           127.32723999023438,
           132.7372283935547,
           158.52911376953125,
           139.26324462890625,
           159.60897827148438,
           112.75602722167969,
           111.34026336669922,
           15.058724403381348
          ],
          [
           164.71609497070312,
           782.9619750976562,
           44.28547668457031,
           131.88851928710938,
           148.8518829345703,
           231.13771057128906,
           117.89136505126953,
           131.8817596435547,
           12.410423278808594
          ],
          [
           213.41009521484375,
           206.78053283691406,
           30.103134155273438,
           110.62793731689453,
           192.23739624023438,
           193.09219360351562,
           129.64190673828125,
           131.9482421875,
           57.695430755615234
          ],
          [
           333.3162536621094,
           362.3421936035156,
           43.41337203979492,
           225.7532958984375,
           238.23379516601562,
           219.5493621826172,
           584.8994140625,
           439.90673828125,
           77.94551086425781
          ],
          [
           83.11957550048828,
           70.07797241210938,
           1287.123046875,
           163.5529327392578,
           162.9186248779297,
           86.97676086425781,
           171.61199951171875,
           86.14435577392578,
           8.015144348144531
          ],
          [
           131.70706176757812,
           24.015241622924805,
           603.54541015625,
           223.51544189453125,
           180.14097595214844,
           88.58712005615234,
           230.41432189941406,
           172.64529418945312,
           11.62946605682373
          ],
          [
           76.17339324951172,
           31.128597259521484,
           52.234352111816406,
           148.9376983642578,
           168.5519256591797,
           167.68760681152344,
           116.77213287353516,
           125.53518676757812,
           8.018499374389648
          ],
          [
           74.3011245727539,
           0.8855534791946411,
           14.196800231933594,
           135.32847595214844,
           105.38115692138672,
           127.51113891601562,
           54.04241943359375,
           181.49374389648438,
           24.35468864440918
          ],
          [
           69.88671112060547,
           4.440211772918701,
           22.13835334777832,
           60.14625930786133,
           125.18692016601562,
           85.9739990234375,
           87.9423828125,
           99.97813415527344,
           24.29925537109375
          ],
          [
           138.91632080078125,
           127.21773529052734,
           23.908018112182617,
           114.9746322631836,
           129.53945922851562,
           131.07174682617188,
           105.40032958984375,
           79.81024169921875,
           12.418706893920898
          ],
          [
           30.91222381591797,
           3.592411518096924,
           2.655296564102173,
           15.915555000305176,
           22.137880325317383,
           21.263416290283203,
           29.216838836669922,
           13.300982475280762,
           7.964491367340088
          ],
          [
           141.604248046875,
           17.73428726196289,
           50.46957015991211,
           119.93743896484375,
           137.52352905273438,
           162.2053680419922,
           163.8632049560547,
           130.08993530273438,
           14.285592079162598
          ],
          [
           95.5628433227539,
           2.657982110977173,
           22.13376235961914,
           179.29286193847656,
           144.8753204345703,
           130.34841918945312,
           61.200260162353516,
           214.15431213378906,
           56.81615447998047
          ],
          [
           76.92805480957031,
           80.3615951538086,
           22.13410758972168,
           47.787940979003906,
           66.44692993164062,
           62.06046676635742,
           74.94251251220703,
           62.28307342529297,
           16.997703552246094
          ],
          [
           195.2724151611328,
           14.409067153930664,
           24.78452491760254,
           114.9888916015625,
           114.10137176513672,
           129.25315856933594,
           87.659912109375,
           140.9568328857422,
           60.55522537231445
          ],
          [
           106.2543716430664,
           12.462074279785156,
           82.31995391845703,
           91.33495330810547,
           148.98965454101562,
           161.2897186279297,
           112.65814208984375,
           84.08050537109375,
           4.4707512855529785
          ],
          [
           168.10438537597656,
           727.3333740234375,
           120.50655364990234,
           206.30361938476562,
           185.33522033691406,
           197.56483459472656,
           181.66563415527344,
           190.1796417236328,
           26.768192291259766
          ],
          [
           56.83517837524414,
           15.108242988586426,
           29.211013793945312,
           261.1940002441406,
           89.4852066040039,
           140.7118377685547,
           94.59147644042969,
           47.774322509765625,
           3.5439891815185547
          ],
          [
           14.182016372680664,
           12.435453414916992,
           8.875871658325195,
           18.559791564941406,
           18.66576385498047,
           33.745269775390625,
           24.305580139160156,
           26.06285858154297,
           1.772196650505066
          ]
         ]
        },
        {
         "coloraxis": "coloraxis",
         "colorscale": [
          [
           0,
           "rgb(209, 238, 234)"
          ],
          [
           0.16666666666666666,
           "rgb(168, 219, 217)"
          ],
          [
           0.3333333333333333,
           "rgb(133, 196, 201)"
          ],
          [
           0.5,
           "rgb(104, 171, 184)"
          ],
          [
           0.6666666666666666,
           "rgb(79, 144, 166)"
          ],
          [
           0.8333333333333334,
           "rgb(59, 115, 143)"
          ],
          [
           1,
           "rgb(42, 86, 116)"
          ]
         ],
         "hoverongaps": false,
         "type": "heatmap",
         "x": [
          "1",
          "2",
          "3",
          "4",
          "5",
          "6",
          "7",
          "8",
          "9"
         ],
         "xaxis": "x2",
         "y": [
          "Y",
          "A",
          "T",
          "V",
          "L",
          "D",
          "E",
          "G",
          "R",
          "H",
          "I",
          "W",
          "Q",
          "K",
          "M",
          "F",
          "N",
          "S",
          "P",
          "C"
         ],
         "yaxis": "y2",
         "z": [
          [
           532.7160034179688,
           19.314401626586914,
           363.2660827636719,
           50.574668884277344,
           262.8691101074219,
           117.82080841064453,
           285.09320068359375,
           297.3902587890625,
           42.9842643737793
          ],
          [
           879.4124145507812,
           144.81201171875,
           869.029052734375,
           394.55889892578125,
           482.5712890625,
           295.30682373046875,
           550.70263671875,
           593.903076171875,
           647.1201171875
          ],
          [
           484.41900634765625,
           191.06845092773438,
           316.89312744140625,
           339.0487976074219,
           444.237060546875,
           510.5009460449219,
           495.3259582519531,
           786.1478271484375,
           73.61065673828125
          ],
          [
           542.9359741210938,
           601.592529296875,
           326.2503662109375,
           132.2984161376953,
           623.156982421875,
           1117.1192626953125,
           867.6522827148438,
           244.94268798828125,
           2946.1953125
          ],
          [
           605.6727905273438,
           5363.2919921875,
           1192.6861572265625,
           184.8746337890625,
           702.3272705078125,
           1459.514404296875,
           735.6033325195312,
           538.1249389648438,
           2936.6728515625
          ],
          [
           37.17406463623047,
           4.478263854980469,
           782.1263427734375,
           1248.1649169921875,
           334.7403564453125,
           196.52232360839844,
           165.48641967773438,
           101.84346771240234,
           7.141714096069336
          ],
          [
           69.00717163085938,
           33.07059860229492,
           154.74374389648438,
           1614.3465576171875,
           598.888671875,
           368.3541564941406,
           582.2297973632812,
           915.0230712890625,
           16.186180114746094
          ],
          [
           517.9169921875,
           34.92805480957031,
           258.2745666503906,
           636.2197875976562,
           519.0918579101562,
           197.361328125,
           52.28723907470703,
           411.5964660644531,
           7.271244525909424
          ],
          [
           474.99041748046875,
           9.784579277038574,
           65.53779602050781,
           161.30966186523438,
           338.8582458496094,
           123.90181732177734,
           183.023193359375,
           477.6670227050781,
           38.6519889831543
          ],
          [
           190.01890563964844,
           12.399199485778809,
           194.55752563476562,
           182.94203186035156,
           346.63995361328125,
           93.95024108886719,
           547.2440795898438,
           272.5414733886719,
           22.717987060546875
          ],
          [
           468.3177185058594,
           612.4234008789062,
           598.4346923828125,
           102.0726089477539,
           510.3127136230469,
           1087.8458251953125,
           607.8668212890625,
           124.96365356445312,
           657.8803100585938
          ],
          [
           22.96822166442871,
           1.8350551128387451,
           212.23619079589844,
           31.867158889770508,
           68.16567993164062,
           23.921035766601562,
           107.16232299804688,
           19.639801025390625,
           8.860504150390625
          ],
          [
           253.93321228027344,
           257.0201416015625,
           407.70635986328125,
           336.8092956542969,
           349.5428466796875,
           290.8389892578125,
           426.3660583496094,
           641.2186889648438,
           13.416921615600586
          ],
          [
           775.8594360351562,
           1.7751524448394775,
           144.1043243408203,
           403.54925537109375,
           629.5191040039062,
           174.40892028808594,
           242.25404357910156,
           649.8396606445312,
           152.77008056640625
          ],
          [
           119.35684967041016,
           490.59222412109375,
           331.6961975097656,
           28.40775489807129,
           98.28466796875,
           133.77682495117188,
           124.94574737548828,
           98.81695556640625,
           112.13229370117188
          ],
          [
           667.8634033203125,
           18.38216781616211,
           420.6623229980469,
           83.2079849243164,
           328.6598205566406,
           210.6215057373047,
           360.06646728515625,
           240.16094970703125,
           28.6998233795166
          ],
          [
           154.67108154296875,
           6.30500602722168,
           282.9805603027344,
           382.8299865722656,
           320.04327392578125,
           346.5772705078125,
           243.41087341308594,
           365.16949462890625,
           14.320948600769043
          ],
          [
           899.6630859375,
           69.34700775146484,
           571.4553833007812,
           655.0250854492188,
           476.5928955078125,
           429.6004638671875,
           342.3687438964844,
           803.3450317382812,
           27.689077377319336
          ],
          [
           28.728351593017578,
           8.964554786682129,
           235.94287109375,
           832.1787109375,
           273.3546142578125,
           525.1992797851562,
           792.8523559570312,
           121.97600555419922,
           24.10047149658203
          ],
          [
           9.72770881652832,
           5.395747184753418,
           31.073362350463867,
           7.983116149902344,
           42.480621337890625,
           44.337398529052734,
           31.22553825378418,
           38.117252349853516,
           46.88420486450195
          ]
         ]
        },
        {
         "coloraxis": "coloraxis",
         "colorscale": [
          [
           0,
           "rgb(209, 238, 234)"
          ],
          [
           0.16666666666666666,
           "rgb(168, 219, 217)"
          ],
          [
           0.3333333333333333,
           "rgb(133, 196, 201)"
          ],
          [
           0.5,
           "rgb(104, 171, 184)"
          ],
          [
           0.6666666666666666,
           "rgb(79, 144, 166)"
          ],
          [
           0.8333333333333334,
           "rgb(59, 115, 143)"
          ],
          [
           1,
           "rgb(42, 86, 116)"
          ]
         ],
         "hoverongaps": false,
         "type": "heatmap",
         "x": [
          "1",
          "2",
          "3",
          "4",
          "5",
          "6",
          "7",
          "8",
          "9"
         ],
         "xaxis": "x3",
         "y": [
          "Y",
          "A",
          "T",
          "V",
          "L",
          "D",
          "E",
          "G",
          "R",
          "H",
          "I",
          "W",
          "Q",
          "K",
          "M",
          "F",
          "N",
          "S",
          "P",
          "C"
         ],
         "yaxis": "y3",
         "z": [
          [
           35.354736328125,
           10.815465927124023,
           707.1980590820312,
           89.8551254272461,
           139.84812927246094,
           99.13809967041016,
           52.242122650146484,
           186.62307739257812,
           352.1700744628906
          ],
          [
           695.1986694335938,
           164.89515686035156,
           569.541259765625,
           330.53680419921875,
           299.6040344238281,
           353.3764343261719,
           295.6472473144531,
           310.2691345214844,
           23.026687622070312
          ],
          [
           188.58006286621094,
           728.894287109375,
           156.76998901367188,
           281.6591491699219,
           314.5029296875,
           354.9775085449219,
           391.952392578125,
           328.92645263671875,
           3.5499684810638428
          ],
          [
           300.84832763671875,
           991.8304443359375,
           100.8333740234375,
           191.17311096191406,
           400.29620361328125,
           555.01123046875,
           425.69842529296875,
           225.45555114746094,
           19.499574661254883
          ],
          [
           189.70924377441406,
           1630.232666015625,
           507.58685302734375,
           232.42807006835938,
           257.92822265625,
           713.3587646484375,
           1186.3238525390625,
           605.625732421875,
           12.427366256713867
          ],
          [
           13.262109756469727,
           12.400882720947266,
           175.5843505859375,
           349.7864685058594,
           118.7738265991211,
           31.109085083007812,
           32.947086334228516,
           46.894962310791016,
           0.8909380435943604
          ],
          [
           22.10809326171875,
           15.91664981842041,
           75.9155502319336,
           488.24420166015625,
           216.46389770507812,
           69.89537811279297,
           69.10673522949219,
           340.5626220703125,
           8.033830642700195
          ],
          [
           336.247314453125,
           43.4284782409668,
           242.4097442626953,
           403.4403381347656,
           288.36663818359375,
           294.8526916503906,
           147.8363037109375,
           291.7905578613281,
           7.9867143630981445
          ],
          [
           981.47705078125,
           14.402445793151855,
           181.52467346191406,
           167.59811401367188,
           251.81378173828125,
           137.19776916503906,
           312.20025634765625,
           232.65200805664062,
           627.37646484375
          ],
          [
           151.2803192138672,
           7.092435836791992,
           144.27207946777344,
           111.94422149658203,
           210.4629364013672,
           87.644287109375,
           67.5135269165039,
           101.69554138183594,
           295.72723388671875
          ],
          [
           207.82664489746094,
           615.5153198242188,
           128.20338439941406,
           110.11959075927734,
           233.15440368652344,
           459.6171569824219,
           523.2120971679688,
           91.95927429199219,
           4.42221736907959
          ],
          [
           3.5377490520477295,
           1.800692081451416,
           115.91785430908203,
           36.37559127807617,
           88.86644744873047,
           30.147247314453125,
           15.927802085876465,
           22.148645401000977,
           0
          ],
          [
           145.82144165039062,
           159.31265258789062,
           88.43569946289062,
           286.1202697753906,
           197.9957733154297,
           247.86891174316406,
           144.37078857421875,
           430.6463928222656,
           14.243475914001465
          ],
          [
           1001.619140625,
           19.68651580810547,
           235.4134979248047,
           431.1366882324219,
           466.0207214355469,
           162.1212615966797,
           231.02149963378906,
           373.2507629394531,
           3655.8671875
          ],
          [
           53.073001861572266,
           193.26734924316406,
           111.73585510253906,
           37.38020324707031,
           38.136138916015625,
           126.9988784790039,
           158.11021423339844,
           101.77706146240234,
           3.6029253005981445
          ],
          [
           35.36459732055664,
           21.639915466308594,
           489.85772705078125,
           114.41885375976562,
           172.56591796875,
           337.2779541015625,
           227.8228759765625,
           180.4139404296875,
           3.5784268379211426
          ],
          [
           28.30304718017578,
           12.399460792541504,
           328.41748046875,
           215.64041137695312,
           212.13092041015625,
           122.26875305175781,
           103.18914031982422,
           305.1305847167969,
           5.356395244598389
          ],
          [
           547.4158935546875,
           324.5567626953125,
           468.0570983886719,
           577.83984375,
           389.89862060546875,
           356.5341796875,
           407.4300842285156,
           450.8508605957031,
           9.838288307189941
          ],
          [
           14.242613792419434,
           12.397452354431152,
           116.6899185180664,
           549.7828369140625,
           661.4072875976562,
           406.97711181640625,
           171.70404052734375,
           323.38580322265625,
           10.661246299743652
          ],
          [
           15.028348922729492,
           4.4220781326293945,
           23.045331954956055,
           8.939513206481934,
           15.994166374206543,
           20.362375259399414,
           14.425638198852539,
           10.657960891723633,
           0
          ]
         ]
        },
        {
         "coloraxis": "coloraxis",
         "colorscale": [
          [
           0,
           "rgb(209, 238, 234)"
          ],
          [
           0.16666666666666666,
           "rgb(168, 219, 217)"
          ],
          [
           0.3333333333333333,
           "rgb(133, 196, 201)"
          ],
          [
           0.5,
           "rgb(104, 171, 184)"
          ],
          [
           0.6666666666666666,
           "rgb(79, 144, 166)"
          ],
          [
           0.8333333333333334,
           "rgb(59, 115, 143)"
          ],
          [
           1,
           "rgb(42, 86, 116)"
          ]
         ],
         "hoverongaps": false,
         "type": "heatmap",
         "x": [
          "1",
          "2",
          "3",
          "4",
          "5",
          "6",
          "7",
          "8",
          "9"
         ],
         "xaxis": "x4",
         "y": [
          "Y",
          "A",
          "T",
          "V",
          "L",
          "D",
          "E",
          "G",
          "R",
          "H",
          "I",
          "W",
          "Q",
          "K",
          "M",
          "F",
          "N",
          "S",
          "P",
          "C"
         ],
         "yaxis": "y4",
         "z": [
          [
           145.85330200195312,
           13.318532943725586,
           126.27650451660156,
           99.4416275024414,
           85.16050720214844,
           71.98823547363281,
           47.83955764770508,
           74.33805847167969,
           14.322897911071777
          ],
          [
           794.5778198242188,
           207.92388916015625,
           849.260986328125,
           499.60406494140625,
           466.1297302246094,
           448.22503662109375,
           524.4599609375,
           844.2433471679688,
           192.50570678710938
          ],
          [
           301.58612060546875,
           33.18942642211914,
           178.66085815429688,
           239.80819702148438,
           275.0395812988281,
           427.97723388671875,
           481.5727233886719,
           507.07989501953125,
           49.80234146118164
          ],
          [
           325.3804016113281,
           299.92572021484375,
           209.58200073242188,
           227.4549102783203,
           446.73333740234375,
           325.7237854003906,
           403.20147705078125,
           510.01129150390625,
           429.28289794921875
          ],
          [
           541.0324096679688,
           66.74246215820312,
           264.56866455078125,
           517.8217163085938,
           324.9618225097656,
           415.66278076171875,
           708.657958984375,
           339.9331970214844,
           3651.333984375
          ],
          [
           13.267794609069824,
           2.666508197784424,
           190.3323211669922,
           210.60511779785156,
           126.87162017822266,
           95.02043151855469,
           110.6633529663086,
           104.92035675048828,
           2.67055606842041
          ],
          [
           30.077119827270508,
           4.426450729370117,
           155.0874481201172,
           406.8773193359375,
           177.81781005859375,
           109.2081527709961,
           249.0150604248047,
           432.46844482421875,
           2.6754300594329834
          ],
          [
           264.56671142578125,
           21.486785888671875,
           228.92056274414062,
           483.0464172363281,
           418.72027587890625,
           639.7430419921875,
           263.5501403808594,
           276.94366455078125,
           9.914277076721191
          ],
          [
           842.3099975585938,
           8.079538345336914,
           1235.1448974609375,
           233.8139190673828,
           508.43878173828125,
           742.2577514648438,
           300.2627868652344,
           172.17095947265625,
           20.692907333374023
          ],
          [
           150.40943908691406,
           6.298282623291016,
           195.9149932861328,
           114.4510269165039,
           185.81719970703125,
           151.65206909179688,
           138.38540649414062,
           96.76002502441406,
           22.31375503540039
          ],
          [
           246.6047821044922,
           100.58274841308594,
           185.5858612060547,
           150.78903198242188,
           176.30064392089844,
           237.86663818359375,
           261.98638916015625,
           141.81578063964844,
           293.18292236328125
          ],
          [
           22.095626831054688,
           4.475835800170898,
           57.46467590332031,
           46.27597427368164,
           43.44517135620117,
           45.21528625488281,
           18.600238800048828,
           15.056889533996582,
           16.847923278808594
          ],
          [
           219.25474548339844,
           2.692310333251953,
           281.2199401855469,
           264.83721923828125,
           212.90972900390625,
           177.16690063476562,
           336.9994201660156,
           302.638427734375,
           17.9722900390625
          ],
          [
           404.4385986328125,
           2.6887447834014893,
           372.3342590332031,
           351.9571838378906,
           405.74847412109375,
           298.0195617675781,
           235.72476196289062,
           208.51881408691406,
           15.297704696655273
          ],
          [
           113.20259857177734,
           4.468096733093262,
           157.49183654785156,
           70.92566680908203,
           45.17019271850586,
           107.30695343017578,
           117.19322967529297,
           77.87995910644531,
           377.97381591796875
          ],
          [
           117.62042999267578,
           20.575796127319336,
           125.49959564208984,
           130.42623901367188,
           130.32931518554688,
           194.40603637695312,
           54.16297912597656,
           79.69538879394531,
           451.2004699707031
          ],
          [
           122.0345230102539,
           12.556147575378418,
           191.9789276123047,
           197.65753173828125,
           170.33071899414062,
           164.23626708984375,
           213.54275512695312,
           102.7760009765625,
           3.5558207035064697
          ],
          [
           963.3989868164062,
           28.639278411865234,
           537.86962890625,
           589.7483520507812,
           486.2524108886719,
           534.8222045898438,
           686.6258544921875,
           1072.9686279296875,
           23.371614456176758
          ],
          [
           39.801326751708984,
           4909.96044921875,
           113.18258666992188,
           860.9327392578125,
           1016.9317626953125,
           489.69207763671875,
           514.1602172851562,
           272.120849609375,
           81.19884490966797
          ],
          [
           14.144389152526855,
           2.655048370361328,
           20.42051124572754,
           16.89905548095703,
           7.979306221008301,
           16.847225189208984,
           38.27177047729492,
           52.4000358581543,
           18.584945678710938
          ]
         ]
        },
        {
         "coloraxis": "coloraxis",
         "colorscale": [
          [
           0,
           "rgb(209, 238, 234)"
          ],
          [
           0.16666666666666666,
           "rgb(168, 219, 217)"
          ],
          [
           0.3333333333333333,
           "rgb(133, 196, 201)"
          ],
          [
           0.5,
           "rgb(104, 171, 184)"
          ],
          [
           0.6666666666666666,
           "rgb(79, 144, 166)"
          ],
          [
           0.8333333333333334,
           "rgb(59, 115, 143)"
          ],
          [
           1,
           "rgb(42, 86, 116)"
          ]
         ],
         "hoverongaps": false,
         "type": "heatmap",
         "x": [
          "1",
          "2",
          "3",
          "4",
          "5",
          "6",
          "7",
          "8",
          "9"
         ],
         "xaxis": "x5",
         "y": [
          "Y",
          "A",
          "T",
          "V",
          "L",
          "D",
          "E",
          "G",
          "R",
          "H",
          "I",
          "W",
          "Q",
          "K",
          "M",
          "F",
          "N",
          "S",
          "P",
          "C"
         ],
         "yaxis": "y5",
         "z": [
          [
           94.51052856445312,
           1.8048217296600342,
           209.32351684570312,
           78.05916595458984,
           108.89795684814453,
           88.65982818603516,
           150.9946746826172,
           79.5943832397461,
           263.8427734375
          ],
          [
           441.6095275878906,
           7.072025299072266,
           217.47296142578125,
           220.74594116210938,
           169.1157989501953,
           239.47860717773438,
           193.90367126464844,
           262.17724609375,
           29.596532821655273
          ],
          [
           108.62822723388672,
           3.5388998985290527,
           201.72027587890625,
           109.33214569091797,
           160.0988006591797,
           192.15667724609375,
           215.32278442382812,
           293.6197509765625,
           7.997969150543213
          ],
          [
           90.11470031738281,
           2.6556766033172607,
           239.85592651367188,
           130.35256958007812,
           357.2552795410156,
           367.1438293457031,
           382.0423889160156,
           185.61361694335938,
           197.87149047851562
          ],
          [
           99.85118103027344,
           14.160436630249023,
           522.92578125,
           322.8774108886719,
           497.35113525390625,
           406.7498474121094,
           556.8740234375,
           357.20068359375,
           1117.5469970703125
          ],
          [
           7.072165012359619,
           0.8850907683372498,
           88.28125762939453,
           237.6490020751953,
           99.83905029296875,
           69.10731506347656,
           53.18035125732422,
           55.3979606628418,
           0
          ],
          [
           52.99811553955078,
           4.429008483886719,
           25.201520919799805,
           271.2543640136719,
           182.20140075683594,
           172.00558471679688,
           190.20115661621094,
           219.4805450439453,
           1.8146579265594482
          ],
          [
           527.3246459960938,
           1.7693946361541748,
           63.61699295043945,
           290.6187438964844,
           230.59268188476562,
           142.31015014648438,
           30.277423858642578,
           283.7633972167969,
           0.9199212789535522
          ],
          [
           606.1376953125,
           3393.9658203125,
           58.57392883300781,
           160.07704162597656,
           128.71035766601562,
           184.36085510253906,
           71.73684692382812,
           235.5917510986328,
           436.12506103515625
          ],
          [
           123.6681900024414,
           5.373028755187988,
           168.03286743164062,
           59.52838134765625,
           75.51817321777344,
           59.410335540771484,
           126.59996032714844,
           126.57675170898438,
           76.56478881835938
          ],
          [
           131.59263610839844,
           2.677013397216797,
           278.9739074707031,
           116.83351135253906,
           318.94171142578125,
           356.7830505371094,
           302.3211975097656,
           47.91567611694336,
           154.6463165283203
          ],
          [
           7.956274032592773,
           0,
           92.76689147949219,
           31.055707931518555,
           36.23637008666992,
           21.284561157226562,
           78.71893310546875,
           11.501712799072266,
           21.30535316467285
          ],
          [
           205.75540161132812,
           51.3522834777832,
           104.4105453491211,
           200.977294921875,
           196.69541931152344,
           257.45416259765625,
           174.02032470703125,
           253.70127868652344,
           2.697831153869629
          ],
          [
           388.7097473144531,
           18.83017921447754,
           203.45645141601562,
           270.24462890625,
           183.455322265625,
           198.50115966796875,
           121.69657897949219,
           267.24072265625,
           383.7762756347656
          ],
          [
           53.187618255615234,
           4.429045677185059,
           100.85421752929688,
           42.5806770324707,
           69.85612487792969,
           67.35034942626953,
           68.28218841552734,
           48.72762680053711,
           216.37875366210938
          ],
          [
           63.617332458496094,
           1.8058602809906006,
           426.73443603515625,
           163.13853454589844,
           188.4383544921875,
           158.74005126953125,
           225.79592895507812,
           77.92862701416016,
           562.3117065429688
          ],
          [
           52.98108673095703,
           2.651956081390381,
           255.30718994140625,
           158.58042907714844,
           103.64522552490234,
           105.7021484375,
           124.27069091796875,
           252.0576629638672,
           0.9094813466072083
          ],
          [
           387.64190673828125,
           2.652604579925537,
           184.7645263671875,
           257.4293518066406,
           168.91305541992188,
           188.8331756591797,
           160.72434997558594,
           344.3047790527344,
           10.023679733276367
          ],
          [
           7.952062606811523,
           0,
           9.720812797546387,
           355.5764465332031,
           183.4425811767578,
           184.14520263671875,
           230.30555725097656,
           47.68751525878906,
           5.434710502624512
          ],
          [
           2.651872396469116,
           3.535600423812866,
           7.068675518035889,
           3.5577166080474854,
           2.6547281742095947,
           7.103260517120361,
           10.78293514251709,
           15.148979187011719,
           2.654372453689575
          ]
         ]
        },
        {
         "coloraxis": "coloraxis",
         "colorscale": [
          [
           0,
           "rgb(209, 238, 234)"
          ],
          [
           0.16666666666666666,
           "rgb(168, 219, 217)"
          ],
          [
           0.3333333333333333,
           "rgb(133, 196, 201)"
          ],
          [
           0.5,
           "rgb(104, 171, 184)"
          ],
          [
           0.6666666666666666,
           "rgb(79, 144, 166)"
          ],
          [
           0.8333333333333334,
           "rgb(59, 115, 143)"
          ],
          [
           1,
           "rgb(42, 86, 116)"
          ]
         ],
         "hoverongaps": false,
         "type": "heatmap",
         "x": [
          "1",
          "2",
          "3",
          "4",
          "5",
          "6",
          "7",
          "8",
          "9"
         ],
         "xaxis": "x6",
         "y": [
          "Y",
          "A",
          "T",
          "V",
          "L",
          "D",
          "E",
          "G",
          "R",
          "H",
          "I",
          "W",
          "Q",
          "K",
          "M",
          "F",
          "N",
          "S",
          "P",
          "C"
         ],
         "yaxis": "y6",
         "z": [
          [
           130.72103881835938,
           22.30267906188965,
           164.37237548828125,
           47.97871780395508,
           109.76368713378906,
           102.68743133544922,
           185.0179443359375,
           155.74427795410156,
           422.8379821777344
          ],
          [
           264.32049560546875,
           703.0588989257812,
           274.272705078125,
           185.6323699951172,
           172.8859405517578,
           218.5453338623047,
           193.28382873535156,
           140.42356872558594,
           0.8850067853927612
          ],
          [
           204.29449462890625,
           1165.3868408203125,
           135.03086853027344,
           201.32449340820312,
           240.11895751953125,
           197.66830444335938,
           198.62127685546875,
           440.3695373535156,
           7.078239917755127
          ],
          [
           353.5225524902344,
           383.794921875,
           277.6283874511719,
           232.21875,
           430.9647216796875,
           409.2996520996094,
           284.7903137207031,
           253.12290954589844,
           15.925509452819824
          ],
          [
           527.484619140625,
           193.28341674804688,
           671.2939453125,
           303.23223876953125,
           662.952392578125,
           639.7095336914062,
           350.65411376953125,
           635.450927734375,
           289.60980224609375
          ],
          [
           7.06675910949707,
           9.859651565551758,
           205.67613220214844,
           296.00091552734375,
           227.79762268066406,
           107.3638916015625,
           129.57826232910156,
           64.60955047607422,
           0.8919138312339783
          ],
          [
           49.504669189453125,
           11.61375617980957,
           63.68766403198242,
           358.4486389160156,
           244.08164978027344,
           203.77166748046875,
           322.7970275878906,
           274.0814514160156,
           2.6547632217407227
          ],
          [
           111.51055145263672,
           116.67719268798828,
           101.80789184570312,
           218.93402099609375,
           190.48989868164062,
           132.16676330566406,
           47.1431999206543,
           120.17567443847656,
           1.7705886363983154
          ],
          [
           453.7289123535156,
           2.6725761890411377,
           370.8167724609375,
           298.69647216796875,
           157.90554809570312,
           208.09564208984375,
           513.9527587890625,
           264.7668151855469,
           3.538361072540283
          ],
          [
           178.58529663085938,
           6.251014709472656,
           125.5775375366211,
           94.26618194580078,
           153.14755249023438,
           154.03102111816406,
           248.51829528808594,
           172.46852111816406,
           1.7716269493103027
          ],
          [
           340.1552429199219,
           122.5117416381836,
           208.5409698486328,
           162.05804443359375,
           359.5351257324219,
           348.3230285644531,
           153.16983032226562,
           108.9937515258789,
           155.90884399414062
          ],
          [
           15.016870498657227,
           16.013011932373047,
           106.99588012695312,
           41.77165603637695,
           60.20032501220703,
           56.6789436340332,
           134.57611083984375,
           34.55556869506836,
           2019.557861328125
          ],
          [
           185.68638610839844,
           19.69357681274414,
           112.41159057617188,
           207.91322326660156,
           138.58486938476562,
           295.70819091796875,
           271.0461730957031,
           254.7249755859375,
           0
          ],
          [
           794.2968139648438,
           2.6915271282196045,
           505.70904541015625,
           480.82672119140625,
           225.68649291992188,
           214.45233154296875,
           286.6114501953125,
           346.0923767089844,
           6.2021989822387695
          ],
          [
           123.67532348632812,
           39.41307830810547,
           121.50704193115234,
           48.14826965332031,
           80.7304916381836,
           75.57843017578125,
           66.78470611572266,
           97.21614837646484,
           67.26343536376953
          ],
          [
           151.8981170654297,
           43.85036849975586,
           310.03564453125,
           112.8059310913086,
           225.36476135253906,
           198.2884521484375,
           247.959228515625,
           216.78053283691406,
           1231.544189453125
          ],
          [
           41.552608489990234,
           11.754585266113281,
           149.48629760742188,
           149.22889709472656,
           144.57994079589844,
           153.35671997070312,
           147.61514282226562,
           201.6949920654297,
           1.771624207496643
          ],
          [
           253.89920043945312,
           1376.2479248046875,
           240.9602508544922,
           245.6723175048828,
           162.1341094970703,
           207.19850158691406,
           206.57293701171875,
           378.4659729003906,
           0.8854502439498901
          ],
          [
           14.155054092407227,
           28.850994110107422,
           38.01996994018555,
           560.1456909179688,
           208.63597106933594,
           268.0249938964844,
           212.32627868652344,
           22.97215461730957,
           0.885624885559082
          ],
          [
           10.660558700561523,
           25.98837661743164,
           39.98058319091797,
           8.932353019714355,
           25.758089065551758,
           29.352861404418945,
           25.224275588989258,
           36.851016998291016,
           1.7654955387115479
          ]
         ]
        }
       ],
       "layout": {
        "annotations": [
         {
          "font": {
           "size": 16
          },
          "showarrow": false,
          "text": "HLA-A01:01",
          "x": 0.075,
          "xanchor": "center",
          "xref": "paper",
          "y": 1,
          "yanchor": "bottom",
          "yref": "paper"
         },
         {
          "font": {
           "size": 16
          },
          "showarrow": false,
          "text": "HLA-A02:01",
          "x": 0.24499999999999997,
          "xanchor": "center",
          "xref": "paper",
          "y": 1,
          "yanchor": "bottom",
          "yref": "paper"
         },
         {
          "font": {
           "size": 16
          },
          "showarrow": false,
          "text": "HLA-A03:01",
          "x": 0.415,
          "xanchor": "center",
          "xref": "paper",
          "y": 1,
          "yanchor": "bottom",
          "yref": "paper"
         },
         {
          "font": {
           "size": 16
          },
          "showarrow": false,
          "text": "HLA-B07:02",
          "x": 0.585,
          "xanchor": "center",
          "xref": "paper",
          "y": 1,
          "yanchor": "bottom",
          "yref": "paper"
         },
         {
          "font": {
           "size": 16
          },
          "showarrow": false,
          "text": "HLA-B27:05",
          "x": 0.7549999999999999,
          "xanchor": "center",
          "xref": "paper",
          "y": 1,
          "yanchor": "bottom",
          "yref": "paper"
         },
         {
          "font": {
           "size": 16
          },
          "showarrow": false,
          "text": "HLA-B57:01",
          "x": 0.925,
          "xanchor": "center",
          "xref": "paper",
          "y": 1,
          "yanchor": "bottom",
          "yref": "paper"
         },
         {
          "font": {
           "size": 16
          },
          "showarrow": false,
          "text": "Peptide position",
          "x": 0.5,
          "xanchor": "center",
          "xref": "paper",
          "y": 0,
          "yanchor": "top",
          "yref": "paper",
          "yshift": -30
         }
        ],
        "coloraxis": {
         "colorbar": {
          "thickness": 8
         },
         "colorscale": [
          [
           0,
           "rgb(209, 238, 234)"
          ],
          [
           0.16666666666666666,
           "rgb(168, 219, 217)"
          ],
          [
           0.3333333333333333,
           "rgb(133, 196, 201)"
          ],
          [
           0.5,
           "rgb(104, 171, 184)"
          ],
          [
           0.6666666666666666,
           "rgb(79, 144, 166)"
          ],
          [
           0.8333333333333334,
           "rgb(59, 115, 143)"
          ],
          [
           1,
           "rgb(42, 86, 116)"
          ]
         ]
        },
        "font": {
         "family": "black",
         "size": 13
        },
        "height": 500,
        "paper_bgcolor": "rgba(0,0,0,0)",
        "plot_bgcolor": "rgba(0,0,0,0)",
        "template": {
         "data": {
          "bar": [
           {
            "error_x": {
             "color": "#2a3f5f"
            },
            "error_y": {
             "color": "#2a3f5f"
            },
            "marker": {
             "line": {
              "color": "#E5ECF6",
              "width": 0.5
             },
             "pattern": {
              "fillmode": "overlay",
              "size": 10,
              "solidity": 0.2
             }
            },
            "type": "bar"
           }
          ],
          "barpolar": [
           {
            "marker": {
             "line": {
              "color": "#E5ECF6",
              "width": 0.5
             },
             "pattern": {
              "fillmode": "overlay",
              "size": 10,
              "solidity": 0.2
             }
            },
            "type": "barpolar"
           }
          ],
          "carpet": [
           {
            "aaxis": {
             "endlinecolor": "#2a3f5f",
             "gridcolor": "white",
             "linecolor": "white",
             "minorgridcolor": "white",
             "startlinecolor": "#2a3f5f"
            },
            "baxis": {
             "endlinecolor": "#2a3f5f",
             "gridcolor": "white",
             "linecolor": "white",
             "minorgridcolor": "white",
             "startlinecolor": "#2a3f5f"
            },
            "type": "carpet"
           }
          ],
          "choropleth": [
           {
            "colorbar": {
             "outlinewidth": 0,
             "ticks": ""
            },
            "type": "choropleth"
           }
          ],
          "contour": [
           {
            "colorbar": {
             "outlinewidth": 0,
             "ticks": ""
            },
            "colorscale": [
             [
              0,
              "#0d0887"
             ],
             [
              0.1111111111111111,
              "#46039f"
             ],
             [
              0.2222222222222222,
              "#7201a8"
             ],
             [
              0.3333333333333333,
              "#9c179e"
             ],
             [
              0.4444444444444444,
              "#bd3786"
             ],
             [
              0.5555555555555556,
              "#d8576b"
             ],
             [
              0.6666666666666666,
              "#ed7953"
             ],
             [
              0.7777777777777778,
              "#fb9f3a"
             ],
             [
              0.8888888888888888,
              "#fdca26"
             ],
             [
              1,
              "#f0f921"
             ]
            ],
            "type": "contour"
           }
          ],
          "contourcarpet": [
           {
            "colorbar": {
             "outlinewidth": 0,
             "ticks": ""
            },
            "type": "contourcarpet"
           }
          ],
          "heatmap": [
           {
            "colorbar": {
             "outlinewidth": 0,
             "ticks": ""
            },
            "colorscale": [
             [
              0,
              "#0d0887"
             ],
             [
              0.1111111111111111,
              "#46039f"
             ],
             [
              0.2222222222222222,
              "#7201a8"
             ],
             [
              0.3333333333333333,
              "#9c179e"
             ],
             [
              0.4444444444444444,
              "#bd3786"
             ],
             [
              0.5555555555555556,
              "#d8576b"
             ],
             [
              0.6666666666666666,
              "#ed7953"
             ],
             [
              0.7777777777777778,
              "#fb9f3a"
             ],
             [
              0.8888888888888888,
              "#fdca26"
             ],
             [
              1,
              "#f0f921"
             ]
            ],
            "type": "heatmap"
           }
          ],
          "heatmapgl": [
           {
            "colorbar": {
             "outlinewidth": 0,
             "ticks": ""
            },
            "colorscale": [
             [
              0,
              "#0d0887"
             ],
             [
              0.1111111111111111,
              "#46039f"
             ],
             [
              0.2222222222222222,
              "#7201a8"
             ],
             [
              0.3333333333333333,
              "#9c179e"
             ],
             [
              0.4444444444444444,
              "#bd3786"
             ],
             [
              0.5555555555555556,
              "#d8576b"
             ],
             [
              0.6666666666666666,
              "#ed7953"
             ],
             [
              0.7777777777777778,
              "#fb9f3a"
             ],
             [
              0.8888888888888888,
              "#fdca26"
             ],
             [
              1,
              "#f0f921"
             ]
            ],
            "type": "heatmapgl"
           }
          ],
          "histogram": [
           {
            "marker": {
             "pattern": {
              "fillmode": "overlay",
              "size": 10,
              "solidity": 0.2
             }
            },
            "type": "histogram"
           }
          ],
          "histogram2d": [
           {
            "colorbar": {
             "outlinewidth": 0,
             "ticks": ""
            },
            "colorscale": [
             [
              0,
              "#0d0887"
             ],
             [
              0.1111111111111111,
              "#46039f"
             ],
             [
              0.2222222222222222,
              "#7201a8"
             ],
             [
              0.3333333333333333,
              "#9c179e"
             ],
             [
              0.4444444444444444,
              "#bd3786"
             ],
             [
              0.5555555555555556,
              "#d8576b"
             ],
             [
              0.6666666666666666,
              "#ed7953"
             ],
             [
              0.7777777777777778,
              "#fb9f3a"
             ],
             [
              0.8888888888888888,
              "#fdca26"
             ],
             [
              1,
              "#f0f921"
             ]
            ],
            "type": "histogram2d"
           }
          ],
          "histogram2dcontour": [
           {
            "colorbar": {
             "outlinewidth": 0,
             "ticks": ""
            },
            "colorscale": [
             [
              0,
              "#0d0887"
             ],
             [
              0.1111111111111111,
              "#46039f"
             ],
             [
              0.2222222222222222,
              "#7201a8"
             ],
             [
              0.3333333333333333,
              "#9c179e"
             ],
             [
              0.4444444444444444,
              "#bd3786"
             ],
             [
              0.5555555555555556,
              "#d8576b"
             ],
             [
              0.6666666666666666,
              "#ed7953"
             ],
             [
              0.7777777777777778,
              "#fb9f3a"
             ],
             [
              0.8888888888888888,
              "#fdca26"
             ],
             [
              1,
              "#f0f921"
             ]
            ],
            "type": "histogram2dcontour"
           }
          ],
          "mesh3d": [
           {
            "colorbar": {
             "outlinewidth": 0,
             "ticks": ""
            },
            "type": "mesh3d"
           }
          ],
          "parcoords": [
           {
            "line": {
             "colorbar": {
              "outlinewidth": 0,
              "ticks": ""
             }
            },
            "type": "parcoords"
           }
          ],
          "pie": [
           {
            "automargin": true,
            "type": "pie"
           }
          ],
          "scatter": [
           {
            "marker": {
             "colorbar": {
              "outlinewidth": 0,
              "ticks": ""
             }
            },
            "type": "scatter"
           }
          ],
          "scatter3d": [
           {
            "line": {
             "colorbar": {
              "outlinewidth": 0,
              "ticks": ""
             }
            },
            "marker": {
             "colorbar": {
              "outlinewidth": 0,
              "ticks": ""
             }
            },
            "type": "scatter3d"
           }
          ],
          "scattercarpet": [
           {
            "marker": {
             "colorbar": {
              "outlinewidth": 0,
              "ticks": ""
             }
            },
            "type": "scattercarpet"
           }
          ],
          "scattergeo": [
           {
            "marker": {
             "colorbar": {
              "outlinewidth": 0,
              "ticks": ""
             }
            },
            "type": "scattergeo"
           }
          ],
          "scattergl": [
           {
            "marker": {
             "colorbar": {
              "outlinewidth": 0,
              "ticks": ""
             }
            },
            "type": "scattergl"
           }
          ],
          "scattermapbox": [
           {
            "marker": {
             "colorbar": {
              "outlinewidth": 0,
              "ticks": ""
             }
            },
            "type": "scattermapbox"
           }
          ],
          "scatterpolar": [
           {
            "marker": {
             "colorbar": {
              "outlinewidth": 0,
              "ticks": ""
             }
            },
            "type": "scatterpolar"
           }
          ],
          "scatterpolargl": [
           {
            "marker": {
             "colorbar": {
              "outlinewidth": 0,
              "ticks": ""
             }
            },
            "type": "scatterpolargl"
           }
          ],
          "scatterternary": [
           {
            "marker": {
             "colorbar": {
              "outlinewidth": 0,
              "ticks": ""
             }
            },
            "type": "scatterternary"
           }
          ],
          "surface": [
           {
            "colorbar": {
             "outlinewidth": 0,
             "ticks": ""
            },
            "colorscale": [
             [
              0,
              "#0d0887"
             ],
             [
              0.1111111111111111,
              "#46039f"
             ],
             [
              0.2222222222222222,
              "#7201a8"
             ],
             [
              0.3333333333333333,
              "#9c179e"
             ],
             [
              0.4444444444444444,
              "#bd3786"
             ],
             [
              0.5555555555555556,
              "#d8576b"
             ],
             [
              0.6666666666666666,
              "#ed7953"
             ],
             [
              0.7777777777777778,
              "#fb9f3a"
             ],
             [
              0.8888888888888888,
              "#fdca26"
             ],
             [
              1,
              "#f0f921"
             ]
            ],
            "type": "surface"
           }
          ],
          "table": [
           {
            "cells": {
             "fill": {
              "color": "#EBF0F8"
             },
             "line": {
              "color": "white"
             }
            },
            "header": {
             "fill": {
              "color": "#C8D4E3"
             },
             "line": {
              "color": "white"
             }
            },
            "type": "table"
           }
          ]
         },
         "layout": {
          "annotationdefaults": {
           "arrowcolor": "#2a3f5f",
           "arrowhead": 0,
           "arrowwidth": 1
          },
          "autotypenumbers": "strict",
          "coloraxis": {
           "colorbar": {
            "outlinewidth": 0,
            "ticks": ""
           }
          },
          "colorscale": {
           "diverging": [
            [
             0,
             "#8e0152"
            ],
            [
             0.1,
             "#c51b7d"
            ],
            [
             0.2,
             "#de77ae"
            ],
            [
             0.3,
             "#f1b6da"
            ],
            [
             0.4,
             "#fde0ef"
            ],
            [
             0.5,
             "#f7f7f7"
            ],
            [
             0.6,
             "#e6f5d0"
            ],
            [
             0.7,
             "#b8e186"
            ],
            [
             0.8,
             "#7fbc41"
            ],
            [
             0.9,
             "#4d9221"
            ],
            [
             1,
             "#276419"
            ]
           ],
           "sequential": [
            [
             0,
             "#0d0887"
            ],
            [
             0.1111111111111111,
             "#46039f"
            ],
            [
             0.2222222222222222,
             "#7201a8"
            ],
            [
             0.3333333333333333,
             "#9c179e"
            ],
            [
             0.4444444444444444,
             "#bd3786"
            ],
            [
             0.5555555555555556,
             "#d8576b"
            ],
            [
             0.6666666666666666,
             "#ed7953"
            ],
            [
             0.7777777777777778,
             "#fb9f3a"
            ],
            [
             0.8888888888888888,
             "#fdca26"
            ],
            [
             1,
             "#f0f921"
            ]
           ],
           "sequentialminus": [
            [
             0,
             "#0d0887"
            ],
            [
             0.1111111111111111,
             "#46039f"
            ],
            [
             0.2222222222222222,
             "#7201a8"
            ],
            [
             0.3333333333333333,
             "#9c179e"
            ],
            [
             0.4444444444444444,
             "#bd3786"
            ],
            [
             0.5555555555555556,
             "#d8576b"
            ],
            [
             0.6666666666666666,
             "#ed7953"
            ],
            [
             0.7777777777777778,
             "#fb9f3a"
            ],
            [
             0.8888888888888888,
             "#fdca26"
            ],
            [
             1,
             "#f0f921"
            ]
           ]
          },
          "colorway": [
           "#636efa",
           "#EF553B",
           "#00cc96",
           "#ab63fa",
           "#FFA15A",
           "#19d3f3",
           "#FF6692",
           "#B6E880",
           "#FF97FF",
           "#FECB52"
          ],
          "font": {
           "color": "#2a3f5f"
          },
          "geo": {
           "bgcolor": "white",
           "lakecolor": "white",
           "landcolor": "#E5ECF6",
           "showlakes": true,
           "showland": true,
           "subunitcolor": "white"
          },
          "hoverlabel": {
           "align": "left"
          },
          "hovermode": "closest",
          "mapbox": {
           "style": "light"
          },
          "paper_bgcolor": "white",
          "plot_bgcolor": "#E5ECF6",
          "polar": {
           "angularaxis": {
            "gridcolor": "white",
            "linecolor": "white",
            "ticks": ""
           },
           "bgcolor": "#E5ECF6",
           "radialaxis": {
            "gridcolor": "white",
            "linecolor": "white",
            "ticks": ""
           }
          },
          "scene": {
           "xaxis": {
            "backgroundcolor": "#E5ECF6",
            "gridcolor": "white",
            "gridwidth": 2,
            "linecolor": "white",
            "showbackground": true,
            "ticks": "",
            "zerolinecolor": "white"
           },
           "yaxis": {
            "backgroundcolor": "#E5ECF6",
            "gridcolor": "white",
            "gridwidth": 2,
            "linecolor": "white",
            "showbackground": true,
            "ticks": "",
            "zerolinecolor": "white"
           },
           "zaxis": {
            "backgroundcolor": "#E5ECF6",
            "gridcolor": "white",
            "gridwidth": 2,
            "linecolor": "white",
            "showbackground": true,
            "ticks": "",
            "zerolinecolor": "white"
           }
          },
          "shapedefaults": {
           "line": {
            "color": "#2a3f5f"
           }
          },
          "ternary": {
           "aaxis": {
            "gridcolor": "white",
            "linecolor": "white",
            "ticks": ""
           },
           "baxis": {
            "gridcolor": "white",
            "linecolor": "white",
            "ticks": ""
           },
           "bgcolor": "#E5ECF6",
           "caxis": {
            "gridcolor": "white",
            "linecolor": "white",
            "ticks": ""
           }
          },
          "title": {
           "x": 0.05
          },
          "xaxis": {
           "automargin": true,
           "gridcolor": "white",
           "linecolor": "white",
           "ticks": "",
           "title": {
            "standoff": 15
           },
           "zerolinecolor": "white",
           "zerolinewidth": 2
          },
          "yaxis": {
           "automargin": true,
           "gridcolor": "white",
           "linecolor": "white",
           "ticks": "",
           "title": {
            "standoff": 15
           },
           "zerolinecolor": "white",
           "zerolinewidth": 2
          }
         }
        },
        "width": 1000,
        "xaxis": {
         "anchor": "y",
         "domain": [
          0,
          0.15
         ],
         "tickangle": 0,
         "tickfont": {
          "family": "black",
          "size": 12
         }
        },
        "xaxis2": {
         "anchor": "y2",
         "domain": [
          0.16999999999999998,
          0.31999999999999995
         ],
         "tickangle": 0,
         "tickfont": {
          "family": "black",
          "size": 12
         }
        },
        "xaxis3": {
         "anchor": "y3",
         "domain": [
          0.33999999999999997,
          0.49
         ],
         "tickangle": 0,
         "tickfont": {
          "family": "black",
          "size": 12
         }
        },
        "xaxis4": {
         "anchor": "y4",
         "domain": [
          0.51,
          0.66
         ],
         "tickangle": 0,
         "tickfont": {
          "family": "black",
          "size": 12
         }
        },
        "xaxis5": {
         "anchor": "y5",
         "domain": [
          0.6799999999999999,
          0.83
         ],
         "tickangle": 0,
         "tickfont": {
          "family": "black",
          "size": 12
         }
        },
        "xaxis6": {
         "anchor": "y6",
         "domain": [
          0.85,
          1
         ],
         "tickangle": 0,
         "tickfont": {
          "family": "black",
          "size": 12
         }
        },
        "yaxis": {
         "anchor": "x",
         "domain": [
          0,
          1
         ],
         "title": {
          "text": "Amino acid type"
         }
        },
        "yaxis2": {
         "anchor": "x2",
         "domain": [
          0,
          1
         ],
         "matches": "y",
         "showticklabels": false
        },
        "yaxis3": {
         "anchor": "x3",
         "domain": [
          0,
          1
         ],
         "matches": "y",
         "showticklabels": false
        },
        "yaxis4": {
         "anchor": "x4",
         "domain": [
          0,
          1
         ],
         "matches": "y",
         "showticklabels": false
        },
        "yaxis5": {
         "anchor": "x5",
         "domain": [
          0,
          1
         ],
         "matches": "y",
         "showticklabels": false
        },
        "yaxis6": {
         "anchor": "x6",
         "domain": [
          0,
          1
         ],
         "matches": "y",
         "showticklabels": false
        }
       }
      },
      "text/html": [
       "<div>                            <div id=\"a1fa83bb-2625-4ff7-99a8-7530cb490e3d\" class=\"plotly-graph-div\" style=\"height:500px; width:1000px;\"></div>            <script type=\"text/javascript\">                require([\"plotly\"], function(Plotly) {                    window.PLOTLYENV=window.PLOTLYENV || {};                                    if (document.getElementById(\"a1fa83bb-2625-4ff7-99a8-7530cb490e3d\")) {                    Plotly.newPlot(                        \"a1fa83bb-2625-4ff7-99a8-7530cb490e3d\",                        [{\"coloraxis\":\"coloraxis\",\"colorscale\":[[0.0,\"rgb(209, 238, 234)\"],[0.16666666666666666,\"rgb(168, 219, 217)\"],[0.3333333333333333,\"rgb(133, 196, 201)\"],[0.5,\"rgb(104, 171, 184)\"],[0.6666666666666666,\"rgb(79, 144, 166)\"],[0.8333333333333334,\"rgb(59, 115, 143)\"],[1.0,\"rgb(42, 86, 116)\"]],\"hoverongaps\":false,\"type\":\"heatmap\",\"x\":[\"1\",\"2\",\"3\",\"4\",\"5\",\"6\",\"7\",\"8\",\"9\"],\"xaxis\":\"x\",\"y\":[\"Y\",\"A\",\"T\",\"V\",\"L\",\"D\",\"E\",\"G\",\"R\",\"H\",\"I\",\"W\",\"Q\",\"K\",\"M\",\"F\",\"N\",\"S\",\"P\",\"C\"],\"yaxis\":\"y\",\"z\":[[263.2099609375,6.3140435218811035,19.453615188598633,76.03266906738281,87.54857635498047,74.33024597167969,67.25045013427734,134.68165588378906,2174.25927734375],[165.3621826171875,127.32723999023438,132.7372283935547,158.52911376953125,139.26324462890625,159.60897827148438,112.75602722167969,111.34026336669922,15.058724403381348],[164.71609497070312,782.9619750976562,44.28547668457031,131.88851928710938,148.8518829345703,231.13771057128906,117.89136505126953,131.8817596435547,12.410423278808594],[213.41009521484375,206.78053283691406,30.103134155273438,110.62793731689453,192.23739624023438,193.09219360351562,129.64190673828125,131.9482421875,57.695430755615234],[333.3162536621094,362.3421936035156,43.41337203979492,225.7532958984375,238.23379516601562,219.5493621826172,584.8994140625,439.90673828125,77.94551086425781],[83.11957550048828,70.07797241210938,1287.123046875,163.5529327392578,162.9186248779297,86.97676086425781,171.61199951171875,86.14435577392578,8.015144348144531],[131.70706176757812,24.015241622924805,603.54541015625,223.51544189453125,180.14097595214844,88.58712005615234,230.41432189941406,172.64529418945312,11.62946605682373],[76.17339324951172,31.128597259521484,52.234352111816406,148.9376983642578,168.5519256591797,167.68760681152344,116.77213287353516,125.53518676757812,8.018499374389648],[74.3011245727539,0.8855534791946411,14.196800231933594,135.32847595214844,105.38115692138672,127.51113891601562,54.04241943359375,181.49374389648438,24.35468864440918],[69.88671112060547,4.440211772918701,22.13835334777832,60.14625930786133,125.18692016601562,85.9739990234375,87.9423828125,99.97813415527344,24.29925537109375],[138.91632080078125,127.21773529052734,23.908018112182617,114.9746322631836,129.53945922851562,131.07174682617188,105.40032958984375,79.81024169921875,12.418706893920898],[30.91222381591797,3.592411518096924,2.655296564102173,15.915555000305176,22.137880325317383,21.263416290283203,29.216838836669922,13.300982475280762,7.964491367340088],[141.604248046875,17.73428726196289,50.46957015991211,119.93743896484375,137.52352905273438,162.2053680419922,163.8632049560547,130.08993530273438,14.285592079162598],[95.5628433227539,2.657982110977173,22.13376235961914,179.29286193847656,144.8753204345703,130.34841918945312,61.200260162353516,214.15431213378906,56.81615447998047],[76.92805480957031,80.3615951538086,22.13410758972168,47.787940979003906,66.44692993164062,62.06046676635742,74.94251251220703,62.28307342529297,16.997703552246094],[195.2724151611328,14.409067153930664,24.78452491760254,114.9888916015625,114.10137176513672,129.25315856933594,87.659912109375,140.9568328857422,60.55522537231445],[106.2543716430664,12.462074279785156,82.31995391845703,91.33495330810547,148.98965454101562,161.2897186279297,112.65814208984375,84.08050537109375,4.4707512855529785],[168.10438537597656,727.3333740234375,120.50655364990234,206.30361938476562,185.33522033691406,197.56483459472656,181.66563415527344,190.1796417236328,26.768192291259766],[56.83517837524414,15.108242988586426,29.211013793945312,261.1940002441406,89.4852066040039,140.7118377685547,94.59147644042969,47.774322509765625,3.5439891815185547],[14.182016372680664,12.435453414916992,8.875871658325195,18.559791564941406,18.66576385498047,33.745269775390625,24.305580139160156,26.06285858154297,1.772196650505066]]},{\"coloraxis\":\"coloraxis\",\"colorscale\":[[0.0,\"rgb(209, 238, 234)\"],[0.16666666666666666,\"rgb(168, 219, 217)\"],[0.3333333333333333,\"rgb(133, 196, 201)\"],[0.5,\"rgb(104, 171, 184)\"],[0.6666666666666666,\"rgb(79, 144, 166)\"],[0.8333333333333334,\"rgb(59, 115, 143)\"],[1.0,\"rgb(42, 86, 116)\"]],\"hoverongaps\":false,\"type\":\"heatmap\",\"x\":[\"1\",\"2\",\"3\",\"4\",\"5\",\"6\",\"7\",\"8\",\"9\"],\"xaxis\":\"x2\",\"y\":[\"Y\",\"A\",\"T\",\"V\",\"L\",\"D\",\"E\",\"G\",\"R\",\"H\",\"I\",\"W\",\"Q\",\"K\",\"M\",\"F\",\"N\",\"S\",\"P\",\"C\"],\"yaxis\":\"y2\",\"z\":[[532.7160034179688,19.314401626586914,363.2660827636719,50.574668884277344,262.8691101074219,117.82080841064453,285.09320068359375,297.3902587890625,42.9842643737793],[879.4124145507812,144.81201171875,869.029052734375,394.55889892578125,482.5712890625,295.30682373046875,550.70263671875,593.903076171875,647.1201171875],[484.41900634765625,191.06845092773438,316.89312744140625,339.0487976074219,444.237060546875,510.5009460449219,495.3259582519531,786.1478271484375,73.61065673828125],[542.9359741210938,601.592529296875,326.2503662109375,132.2984161376953,623.156982421875,1117.1192626953125,867.6522827148438,244.94268798828125,2946.1953125],[605.6727905273438,5363.2919921875,1192.6861572265625,184.8746337890625,702.3272705078125,1459.514404296875,735.6033325195312,538.1249389648438,2936.6728515625],[37.17406463623047,4.478263854980469,782.1263427734375,1248.1649169921875,334.7403564453125,196.52232360839844,165.48641967773438,101.84346771240234,7.141714096069336],[69.00717163085938,33.07059860229492,154.74374389648438,1614.3465576171875,598.888671875,368.3541564941406,582.2297973632812,915.0230712890625,16.186180114746094],[517.9169921875,34.92805480957031,258.2745666503906,636.2197875976562,519.0918579101562,197.361328125,52.28723907470703,411.5964660644531,7.271244525909424],[474.99041748046875,9.784579277038574,65.53779602050781,161.30966186523438,338.8582458496094,123.90181732177734,183.023193359375,477.6670227050781,38.6519889831543],[190.01890563964844,12.399199485778809,194.55752563476562,182.94203186035156,346.63995361328125,93.95024108886719,547.2440795898438,272.5414733886719,22.717987060546875],[468.3177185058594,612.4234008789062,598.4346923828125,102.0726089477539,510.3127136230469,1087.8458251953125,607.8668212890625,124.96365356445312,657.8803100585938],[22.96822166442871,1.8350551128387451,212.23619079589844,31.867158889770508,68.16567993164062,23.921035766601562,107.16232299804688,19.639801025390625,8.860504150390625],[253.93321228027344,257.0201416015625,407.70635986328125,336.8092956542969,349.5428466796875,290.8389892578125,426.3660583496094,641.2186889648438,13.416921615600586],[775.8594360351562,1.7751524448394775,144.1043243408203,403.54925537109375,629.5191040039062,174.40892028808594,242.25404357910156,649.8396606445312,152.77008056640625],[119.35684967041016,490.59222412109375,331.6961975097656,28.40775489807129,98.28466796875,133.77682495117188,124.94574737548828,98.81695556640625,112.13229370117188],[667.8634033203125,18.38216781616211,420.6623229980469,83.2079849243164,328.6598205566406,210.6215057373047,360.06646728515625,240.16094970703125,28.6998233795166],[154.67108154296875,6.30500602722168,282.9805603027344,382.8299865722656,320.04327392578125,346.5772705078125,243.41087341308594,365.16949462890625,14.320948600769043],[899.6630859375,69.34700775146484,571.4553833007812,655.0250854492188,476.5928955078125,429.6004638671875,342.3687438964844,803.3450317382812,27.689077377319336],[28.728351593017578,8.964554786682129,235.94287109375,832.1787109375,273.3546142578125,525.1992797851562,792.8523559570312,121.97600555419922,24.10047149658203],[9.72770881652832,5.395747184753418,31.073362350463867,7.983116149902344,42.480621337890625,44.337398529052734,31.22553825378418,38.117252349853516,46.88420486450195]]},{\"coloraxis\":\"coloraxis\",\"colorscale\":[[0.0,\"rgb(209, 238, 234)\"],[0.16666666666666666,\"rgb(168, 219, 217)\"],[0.3333333333333333,\"rgb(133, 196, 201)\"],[0.5,\"rgb(104, 171, 184)\"],[0.6666666666666666,\"rgb(79, 144, 166)\"],[0.8333333333333334,\"rgb(59, 115, 143)\"],[1.0,\"rgb(42, 86, 116)\"]],\"hoverongaps\":false,\"type\":\"heatmap\",\"x\":[\"1\",\"2\",\"3\",\"4\",\"5\",\"6\",\"7\",\"8\",\"9\"],\"xaxis\":\"x3\",\"y\":[\"Y\",\"A\",\"T\",\"V\",\"L\",\"D\",\"E\",\"G\",\"R\",\"H\",\"I\",\"W\",\"Q\",\"K\",\"M\",\"F\",\"N\",\"S\",\"P\",\"C\"],\"yaxis\":\"y3\",\"z\":[[35.354736328125,10.815465927124023,707.1980590820312,89.8551254272461,139.84812927246094,99.13809967041016,52.242122650146484,186.62307739257812,352.1700744628906],[695.1986694335938,164.89515686035156,569.541259765625,330.53680419921875,299.6040344238281,353.3764343261719,295.6472473144531,310.2691345214844,23.026687622070312],[188.58006286621094,728.894287109375,156.76998901367188,281.6591491699219,314.5029296875,354.9775085449219,391.952392578125,328.92645263671875,3.5499684810638428],[300.84832763671875,991.8304443359375,100.8333740234375,191.17311096191406,400.29620361328125,555.01123046875,425.69842529296875,225.45555114746094,19.499574661254883],[189.70924377441406,1630.232666015625,507.58685302734375,232.42807006835938,257.92822265625,713.3587646484375,1186.3238525390625,605.625732421875,12.427366256713867],[13.262109756469727,12.400882720947266,175.5843505859375,349.7864685058594,118.7738265991211,31.109085083007812,32.947086334228516,46.894962310791016,0.8909380435943604],[22.10809326171875,15.91664981842041,75.9155502319336,488.24420166015625,216.46389770507812,69.89537811279297,69.10673522949219,340.5626220703125,8.033830642700195],[336.247314453125,43.4284782409668,242.4097442626953,403.4403381347656,288.36663818359375,294.8526916503906,147.8363037109375,291.7905578613281,7.9867143630981445],[981.47705078125,14.402445793151855,181.52467346191406,167.59811401367188,251.81378173828125,137.19776916503906,312.20025634765625,232.65200805664062,627.37646484375],[151.2803192138672,7.092435836791992,144.27207946777344,111.94422149658203,210.4629364013672,87.644287109375,67.5135269165039,101.69554138183594,295.72723388671875],[207.82664489746094,615.5153198242188,128.20338439941406,110.11959075927734,233.15440368652344,459.6171569824219,523.2120971679688,91.95927429199219,4.42221736907959],[3.5377490520477295,1.800692081451416,115.91785430908203,36.37559127807617,88.86644744873047,30.147247314453125,15.927802085876465,22.148645401000977,0.0],[145.82144165039062,159.31265258789062,88.43569946289062,286.1202697753906,197.9957733154297,247.86891174316406,144.37078857421875,430.6463928222656,14.243475914001465],[1001.619140625,19.68651580810547,235.4134979248047,431.1366882324219,466.0207214355469,162.1212615966797,231.02149963378906,373.2507629394531,3655.8671875],[53.073001861572266,193.26734924316406,111.73585510253906,37.38020324707031,38.136138916015625,126.9988784790039,158.11021423339844,101.77706146240234,3.6029253005981445],[35.36459732055664,21.639915466308594,489.85772705078125,114.41885375976562,172.56591796875,337.2779541015625,227.8228759765625,180.4139404296875,3.5784268379211426],[28.30304718017578,12.399460792541504,328.41748046875,215.64041137695312,212.13092041015625,122.26875305175781,103.18914031982422,305.1305847167969,5.356395244598389],[547.4158935546875,324.5567626953125,468.0570983886719,577.83984375,389.89862060546875,356.5341796875,407.4300842285156,450.8508605957031,9.838288307189941],[14.242613792419434,12.397452354431152,116.6899185180664,549.7828369140625,661.4072875976562,406.97711181640625,171.70404052734375,323.38580322265625,10.661246299743652],[15.028348922729492,4.4220781326293945,23.045331954956055,8.939513206481934,15.994166374206543,20.362375259399414,14.425638198852539,10.657960891723633,0.0]]},{\"coloraxis\":\"coloraxis\",\"colorscale\":[[0.0,\"rgb(209, 238, 234)\"],[0.16666666666666666,\"rgb(168, 219, 217)\"],[0.3333333333333333,\"rgb(133, 196, 201)\"],[0.5,\"rgb(104, 171, 184)\"],[0.6666666666666666,\"rgb(79, 144, 166)\"],[0.8333333333333334,\"rgb(59, 115, 143)\"],[1.0,\"rgb(42, 86, 116)\"]],\"hoverongaps\":false,\"type\":\"heatmap\",\"x\":[\"1\",\"2\",\"3\",\"4\",\"5\",\"6\",\"7\",\"8\",\"9\"],\"xaxis\":\"x4\",\"y\":[\"Y\",\"A\",\"T\",\"V\",\"L\",\"D\",\"E\",\"G\",\"R\",\"H\",\"I\",\"W\",\"Q\",\"K\",\"M\",\"F\",\"N\",\"S\",\"P\",\"C\"],\"yaxis\":\"y4\",\"z\":[[145.85330200195312,13.318532943725586,126.27650451660156,99.4416275024414,85.16050720214844,71.98823547363281,47.83955764770508,74.33805847167969,14.322897911071777],[794.5778198242188,207.92388916015625,849.260986328125,499.60406494140625,466.1297302246094,448.22503662109375,524.4599609375,844.2433471679688,192.50570678710938],[301.58612060546875,33.18942642211914,178.66085815429688,239.80819702148438,275.0395812988281,427.97723388671875,481.5727233886719,507.07989501953125,49.80234146118164],[325.3804016113281,299.92572021484375,209.58200073242188,227.4549102783203,446.73333740234375,325.7237854003906,403.20147705078125,510.01129150390625,429.28289794921875],[541.0324096679688,66.74246215820312,264.56866455078125,517.8217163085938,324.9618225097656,415.66278076171875,708.657958984375,339.9331970214844,3651.333984375],[13.267794609069824,2.666508197784424,190.3323211669922,210.60511779785156,126.87162017822266,95.02043151855469,110.6633529663086,104.92035675048828,2.67055606842041],[30.077119827270508,4.426450729370117,155.0874481201172,406.8773193359375,177.81781005859375,109.2081527709961,249.0150604248047,432.46844482421875,2.6754300594329834],[264.56671142578125,21.486785888671875,228.92056274414062,483.0464172363281,418.72027587890625,639.7430419921875,263.5501403808594,276.94366455078125,9.914277076721191],[842.3099975585938,8.079538345336914,1235.1448974609375,233.8139190673828,508.43878173828125,742.2577514648438,300.2627868652344,172.17095947265625,20.692907333374023],[150.40943908691406,6.298282623291016,195.9149932861328,114.4510269165039,185.81719970703125,151.65206909179688,138.38540649414062,96.76002502441406,22.31375503540039],[246.6047821044922,100.58274841308594,185.5858612060547,150.78903198242188,176.30064392089844,237.86663818359375,261.98638916015625,141.81578063964844,293.18292236328125],[22.095626831054688,4.475835800170898,57.46467590332031,46.27597427368164,43.44517135620117,45.21528625488281,18.600238800048828,15.056889533996582,16.847923278808594],[219.25474548339844,2.692310333251953,281.2199401855469,264.83721923828125,212.90972900390625,177.16690063476562,336.9994201660156,302.638427734375,17.9722900390625],[404.4385986328125,2.6887447834014893,372.3342590332031,351.9571838378906,405.74847412109375,298.0195617675781,235.72476196289062,208.51881408691406,15.297704696655273],[113.20259857177734,4.468096733093262,157.49183654785156,70.92566680908203,45.17019271850586,107.30695343017578,117.19322967529297,77.87995910644531,377.97381591796875],[117.62042999267578,20.575796127319336,125.49959564208984,130.42623901367188,130.32931518554688,194.40603637695312,54.16297912597656,79.69538879394531,451.2004699707031],[122.0345230102539,12.556147575378418,191.9789276123047,197.65753173828125,170.33071899414062,164.23626708984375,213.54275512695312,102.7760009765625,3.5558207035064697],[963.3989868164062,28.639278411865234,537.86962890625,589.7483520507812,486.2524108886719,534.8222045898438,686.6258544921875,1072.9686279296875,23.371614456176758],[39.801326751708984,4909.96044921875,113.18258666992188,860.9327392578125,1016.9317626953125,489.69207763671875,514.1602172851562,272.120849609375,81.19884490966797],[14.144389152526855,2.655048370361328,20.42051124572754,16.89905548095703,7.979306221008301,16.847225189208984,38.27177047729492,52.4000358581543,18.584945678710938]]},{\"coloraxis\":\"coloraxis\",\"colorscale\":[[0.0,\"rgb(209, 238, 234)\"],[0.16666666666666666,\"rgb(168, 219, 217)\"],[0.3333333333333333,\"rgb(133, 196, 201)\"],[0.5,\"rgb(104, 171, 184)\"],[0.6666666666666666,\"rgb(79, 144, 166)\"],[0.8333333333333334,\"rgb(59, 115, 143)\"],[1.0,\"rgb(42, 86, 116)\"]],\"hoverongaps\":false,\"type\":\"heatmap\",\"x\":[\"1\",\"2\",\"3\",\"4\",\"5\",\"6\",\"7\",\"8\",\"9\"],\"xaxis\":\"x5\",\"y\":[\"Y\",\"A\",\"T\",\"V\",\"L\",\"D\",\"E\",\"G\",\"R\",\"H\",\"I\",\"W\",\"Q\",\"K\",\"M\",\"F\",\"N\",\"S\",\"P\",\"C\"],\"yaxis\":\"y5\",\"z\":[[94.51052856445312,1.8048217296600342,209.32351684570312,78.05916595458984,108.89795684814453,88.65982818603516,150.9946746826172,79.5943832397461,263.8427734375],[441.6095275878906,7.072025299072266,217.47296142578125,220.74594116210938,169.1157989501953,239.47860717773438,193.90367126464844,262.17724609375,29.596532821655273],[108.62822723388672,3.5388998985290527,201.72027587890625,109.33214569091797,160.0988006591797,192.15667724609375,215.32278442382812,293.6197509765625,7.997969150543213],[90.11470031738281,2.6556766033172607,239.85592651367188,130.35256958007812,357.2552795410156,367.1438293457031,382.0423889160156,185.61361694335938,197.87149047851562],[99.85118103027344,14.160436630249023,522.92578125,322.8774108886719,497.35113525390625,406.7498474121094,556.8740234375,357.20068359375,1117.5469970703125],[7.072165012359619,0.8850907683372498,88.28125762939453,237.6490020751953,99.83905029296875,69.10731506347656,53.18035125732422,55.3979606628418,0.0],[52.99811553955078,4.429008483886719,25.201520919799805,271.2543640136719,182.20140075683594,172.00558471679688,190.20115661621094,219.4805450439453,1.8146579265594482],[527.3246459960938,1.7693946361541748,63.61699295043945,290.6187438964844,230.59268188476562,142.31015014648438,30.277423858642578,283.7633972167969,0.9199212789535522],[606.1376953125,3393.9658203125,58.57392883300781,160.07704162597656,128.71035766601562,184.36085510253906,71.73684692382812,235.5917510986328,436.12506103515625],[123.6681900024414,5.373028755187988,168.03286743164062,59.52838134765625,75.51817321777344,59.410335540771484,126.59996032714844,126.57675170898438,76.56478881835938],[131.59263610839844,2.677013397216797,278.9739074707031,116.83351135253906,318.94171142578125,356.7830505371094,302.3211975097656,47.91567611694336,154.6463165283203],[7.956274032592773,0.0,92.76689147949219,31.055707931518555,36.23637008666992,21.284561157226562,78.71893310546875,11.501712799072266,21.30535316467285],[205.75540161132812,51.3522834777832,104.4105453491211,200.977294921875,196.69541931152344,257.45416259765625,174.02032470703125,253.70127868652344,2.697831153869629],[388.7097473144531,18.83017921447754,203.45645141601562,270.24462890625,183.455322265625,198.50115966796875,121.69657897949219,267.24072265625,383.7762756347656],[53.187618255615234,4.429045677185059,100.85421752929688,42.5806770324707,69.85612487792969,67.35034942626953,68.28218841552734,48.72762680053711,216.37875366210938],[63.617332458496094,1.8058602809906006,426.73443603515625,163.13853454589844,188.4383544921875,158.74005126953125,225.79592895507812,77.92862701416016,562.3117065429688],[52.98108673095703,2.651956081390381,255.30718994140625,158.58042907714844,103.64522552490234,105.7021484375,124.27069091796875,252.0576629638672,0.9094813466072083],[387.64190673828125,2.652604579925537,184.7645263671875,257.4293518066406,168.91305541992188,188.8331756591797,160.72434997558594,344.3047790527344,10.023679733276367],[7.952062606811523,0.0,9.720812797546387,355.5764465332031,183.4425811767578,184.14520263671875,230.30555725097656,47.68751525878906,5.434710502624512],[2.651872396469116,3.535600423812866,7.068675518035889,3.5577166080474854,2.6547281742095947,7.103260517120361,10.78293514251709,15.148979187011719,2.654372453689575]]},{\"coloraxis\":\"coloraxis\",\"colorscale\":[[0.0,\"rgb(209, 238, 234)\"],[0.16666666666666666,\"rgb(168, 219, 217)\"],[0.3333333333333333,\"rgb(133, 196, 201)\"],[0.5,\"rgb(104, 171, 184)\"],[0.6666666666666666,\"rgb(79, 144, 166)\"],[0.8333333333333334,\"rgb(59, 115, 143)\"],[1.0,\"rgb(42, 86, 116)\"]],\"hoverongaps\":false,\"type\":\"heatmap\",\"x\":[\"1\",\"2\",\"3\",\"4\",\"5\",\"6\",\"7\",\"8\",\"9\"],\"xaxis\":\"x6\",\"y\":[\"Y\",\"A\",\"T\",\"V\",\"L\",\"D\",\"E\",\"G\",\"R\",\"H\",\"I\",\"W\",\"Q\",\"K\",\"M\",\"F\",\"N\",\"S\",\"P\",\"C\"],\"yaxis\":\"y6\",\"z\":[[130.72103881835938,22.30267906188965,164.37237548828125,47.97871780395508,109.76368713378906,102.68743133544922,185.0179443359375,155.74427795410156,422.8379821777344],[264.32049560546875,703.0588989257812,274.272705078125,185.6323699951172,172.8859405517578,218.5453338623047,193.28382873535156,140.42356872558594,0.8850067853927612],[204.29449462890625,1165.3868408203125,135.03086853027344,201.32449340820312,240.11895751953125,197.66830444335938,198.62127685546875,440.3695373535156,7.078239917755127],[353.5225524902344,383.794921875,277.6283874511719,232.21875,430.9647216796875,409.2996520996094,284.7903137207031,253.12290954589844,15.925509452819824],[527.484619140625,193.28341674804688,671.2939453125,303.23223876953125,662.952392578125,639.7095336914062,350.65411376953125,635.450927734375,289.60980224609375],[7.06675910949707,9.859651565551758,205.67613220214844,296.00091552734375,227.79762268066406,107.3638916015625,129.57826232910156,64.60955047607422,0.8919138312339783],[49.504669189453125,11.61375617980957,63.68766403198242,358.4486389160156,244.08164978027344,203.77166748046875,322.7970275878906,274.0814514160156,2.6547632217407227],[111.51055145263672,116.67719268798828,101.80789184570312,218.93402099609375,190.48989868164062,132.16676330566406,47.1431999206543,120.17567443847656,1.7705886363983154],[453.7289123535156,2.6725761890411377,370.8167724609375,298.69647216796875,157.90554809570312,208.09564208984375,513.9527587890625,264.7668151855469,3.538361072540283],[178.58529663085938,6.251014709472656,125.5775375366211,94.26618194580078,153.14755249023438,154.03102111816406,248.51829528808594,172.46852111816406,1.7716269493103027],[340.1552429199219,122.5117416381836,208.5409698486328,162.05804443359375,359.5351257324219,348.3230285644531,153.16983032226562,108.9937515258789,155.90884399414062],[15.016870498657227,16.013011932373047,106.99588012695312,41.77165603637695,60.20032501220703,56.6789436340332,134.57611083984375,34.55556869506836,2019.557861328125],[185.68638610839844,19.69357681274414,112.41159057617188,207.91322326660156,138.58486938476562,295.70819091796875,271.0461730957031,254.7249755859375,0.0],[794.2968139648438,2.6915271282196045,505.70904541015625,480.82672119140625,225.68649291992188,214.45233154296875,286.6114501953125,346.0923767089844,6.2021989822387695],[123.67532348632812,39.41307830810547,121.50704193115234,48.14826965332031,80.7304916381836,75.57843017578125,66.78470611572266,97.21614837646484,67.26343536376953],[151.8981170654297,43.85036849975586,310.03564453125,112.8059310913086,225.36476135253906,198.2884521484375,247.959228515625,216.78053283691406,1231.544189453125],[41.552608489990234,11.754585266113281,149.48629760742188,149.22889709472656,144.57994079589844,153.35671997070312,147.61514282226562,201.6949920654297,1.771624207496643],[253.89920043945312,1376.2479248046875,240.9602508544922,245.6723175048828,162.1341094970703,207.19850158691406,206.57293701171875,378.4659729003906,0.8854502439498901],[14.155054092407227,28.850994110107422,38.01996994018555,560.1456909179688,208.63597106933594,268.0249938964844,212.32627868652344,22.97215461730957,0.885624885559082],[10.660558700561523,25.98837661743164,39.98058319091797,8.932353019714355,25.758089065551758,29.352861404418945,25.224275588989258,36.851016998291016,1.7654955387115479]]}],                        {\"annotations\":[{\"font\":{\"size\":16},\"showarrow\":false,\"text\":\"HLA-A01:01\",\"x\":0.075,\"xanchor\":\"center\",\"xref\":\"paper\",\"y\":1.0,\"yanchor\":\"bottom\",\"yref\":\"paper\"},{\"font\":{\"size\":16},\"showarrow\":false,\"text\":\"HLA-A02:01\",\"x\":0.24499999999999997,\"xanchor\":\"center\",\"xref\":\"paper\",\"y\":1.0,\"yanchor\":\"bottom\",\"yref\":\"paper\"},{\"font\":{\"size\":16},\"showarrow\":false,\"text\":\"HLA-A03:01\",\"x\":0.415,\"xanchor\":\"center\",\"xref\":\"paper\",\"y\":1.0,\"yanchor\":\"bottom\",\"yref\":\"paper\"},{\"font\":{\"size\":16},\"showarrow\":false,\"text\":\"HLA-B07:02\",\"x\":0.585,\"xanchor\":\"center\",\"xref\":\"paper\",\"y\":1.0,\"yanchor\":\"bottom\",\"yref\":\"paper\"},{\"font\":{\"size\":16},\"showarrow\":false,\"text\":\"HLA-B27:05\",\"x\":0.7549999999999999,\"xanchor\":\"center\",\"xref\":\"paper\",\"y\":1.0,\"yanchor\":\"bottom\",\"yref\":\"paper\"},{\"font\":{\"size\":16},\"showarrow\":false,\"text\":\"HLA-B57:01\",\"x\":0.925,\"xanchor\":\"center\",\"xref\":\"paper\",\"y\":1.0,\"yanchor\":\"bottom\",\"yref\":\"paper\"},{\"font\":{\"size\":16},\"showarrow\":false,\"text\":\"Peptide position\",\"x\":0.5,\"xanchor\":\"center\",\"xref\":\"paper\",\"y\":0,\"yanchor\":\"top\",\"yref\":\"paper\",\"yshift\":-30}],\"coloraxis\":{\"colorbar\":{\"thickness\":8},\"colorscale\":[[0.0,\"rgb(209, 238, 234)\"],[0.16666666666666666,\"rgb(168, 219, 217)\"],[0.3333333333333333,\"rgb(133, 196, 201)\"],[0.5,\"rgb(104, 171, 184)\"],[0.6666666666666666,\"rgb(79, 144, 166)\"],[0.8333333333333334,\"rgb(59, 115, 143)\"],[1.0,\"rgb(42, 86, 116)\"]]},\"font\":{\"family\":\"black\",\"size\":13},\"height\":500,\"paper_bgcolor\":\"rgba(0,0,0,0)\",\"plot_bgcolor\":\"rgba(0,0,0,0)\",\"template\":{\"data\":{\"bar\":[{\"error_x\":{\"color\":\"#2a3f5f\"},\"error_y\":{\"color\":\"#2a3f5f\"},\"marker\":{\"line\":{\"color\":\"#E5ECF6\",\"width\":0.5},\"pattern\":{\"fillmode\":\"overlay\",\"size\":10,\"solidity\":0.2}},\"type\":\"bar\"}],\"barpolar\":[{\"marker\":{\"line\":{\"color\":\"#E5ECF6\",\"width\":0.5},\"pattern\":{\"fillmode\":\"overlay\",\"size\":10,\"solidity\":0.2}},\"type\":\"barpolar\"}],\"carpet\":[{\"aaxis\":{\"endlinecolor\":\"#2a3f5f\",\"gridcolor\":\"white\",\"linecolor\":\"white\",\"minorgridcolor\":\"white\",\"startlinecolor\":\"#2a3f5f\"},\"baxis\":{\"endlinecolor\":\"#2a3f5f\",\"gridcolor\":\"white\",\"linecolor\":\"white\",\"minorgridcolor\":\"white\",\"startlinecolor\":\"#2a3f5f\"},\"type\":\"carpet\"}],\"choropleth\":[{\"colorbar\":{\"outlinewidth\":0,\"ticks\":\"\"},\"type\":\"choropleth\"}],\"contour\":[{\"colorbar\":{\"outlinewidth\":0,\"ticks\":\"\"},\"colorscale\":[[0.0,\"#0d0887\"],[0.1111111111111111,\"#46039f\"],[0.2222222222222222,\"#7201a8\"],[0.3333333333333333,\"#9c179e\"],[0.4444444444444444,\"#bd3786\"],[0.5555555555555556,\"#d8576b\"],[0.6666666666666666,\"#ed7953\"],[0.7777777777777778,\"#fb9f3a\"],[0.8888888888888888,\"#fdca26\"],[1.0,\"#f0f921\"]],\"type\":\"contour\"}],\"contourcarpet\":[{\"colorbar\":{\"outlinewidth\":0,\"ticks\":\"\"},\"type\":\"contourcarpet\"}],\"heatmap\":[{\"colorbar\":{\"outlinewidth\":0,\"ticks\":\"\"},\"colorscale\":[[0.0,\"#0d0887\"],[0.1111111111111111,\"#46039f\"],[0.2222222222222222,\"#7201a8\"],[0.3333333333333333,\"#9c179e\"],[0.4444444444444444,\"#bd3786\"],[0.5555555555555556,\"#d8576b\"],[0.6666666666666666,\"#ed7953\"],[0.7777777777777778,\"#fb9f3a\"],[0.8888888888888888,\"#fdca26\"],[1.0,\"#f0f921\"]],\"type\":\"heatmap\"}],\"heatmapgl\":[{\"colorbar\":{\"outlinewidth\":0,\"ticks\":\"\"},\"colorscale\":[[0.0,\"#0d0887\"],[0.1111111111111111,\"#46039f\"],[0.2222222222222222,\"#7201a8\"],[0.3333333333333333,\"#9c179e\"],[0.4444444444444444,\"#bd3786\"],[0.5555555555555556,\"#d8576b\"],[0.6666666666666666,\"#ed7953\"],[0.7777777777777778,\"#fb9f3a\"],[0.8888888888888888,\"#fdca26\"],[1.0,\"#f0f921\"]],\"type\":\"heatmapgl\"}],\"histogram\":[{\"marker\":{\"pattern\":{\"fillmode\":\"overlay\",\"size\":10,\"solidity\":0.2}},\"type\":\"histogram\"}],\"histogram2d\":[{\"colorbar\":{\"outlinewidth\":0,\"ticks\":\"\"},\"colorscale\":[[0.0,\"#0d0887\"],[0.1111111111111111,\"#46039f\"],[0.2222222222222222,\"#7201a8\"],[0.3333333333333333,\"#9c179e\"],[0.4444444444444444,\"#bd3786\"],[0.5555555555555556,\"#d8576b\"],[0.6666666666666666,\"#ed7953\"],[0.7777777777777778,\"#fb9f3a\"],[0.8888888888888888,\"#fdca26\"],[1.0,\"#f0f921\"]],\"type\":\"histogram2d\"}],\"histogram2dcontour\":[{\"colorbar\":{\"outlinewidth\":0,\"ticks\":\"\"},\"colorscale\":[[0.0,\"#0d0887\"],[0.1111111111111111,\"#46039f\"],[0.2222222222222222,\"#7201a8\"],[0.3333333333333333,\"#9c179e\"],[0.4444444444444444,\"#bd3786\"],[0.5555555555555556,\"#d8576b\"],[0.6666666666666666,\"#ed7953\"],[0.7777777777777778,\"#fb9f3a\"],[0.8888888888888888,\"#fdca26\"],[1.0,\"#f0f921\"]],\"type\":\"histogram2dcontour\"}],\"mesh3d\":[{\"colorbar\":{\"outlinewidth\":0,\"ticks\":\"\"},\"type\":\"mesh3d\"}],\"parcoords\":[{\"line\":{\"colorbar\":{\"outlinewidth\":0,\"ticks\":\"\"}},\"type\":\"parcoords\"}],\"pie\":[{\"automargin\":true,\"type\":\"pie\"}],\"scatter\":[{\"marker\":{\"colorbar\":{\"outlinewidth\":0,\"ticks\":\"\"}},\"type\":\"scatter\"}],\"scatter3d\":[{\"line\":{\"colorbar\":{\"outlinewidth\":0,\"ticks\":\"\"}},\"marker\":{\"colorbar\":{\"outlinewidth\":0,\"ticks\":\"\"}},\"type\":\"scatter3d\"}],\"scattercarpet\":[{\"marker\":{\"colorbar\":{\"outlinewidth\":0,\"ticks\":\"\"}},\"type\":\"scattercarpet\"}],\"scattergeo\":[{\"marker\":{\"colorbar\":{\"outlinewidth\":0,\"ticks\":\"\"}},\"type\":\"scattergeo\"}],\"scattergl\":[{\"marker\":{\"colorbar\":{\"outlinewidth\":0,\"ticks\":\"\"}},\"type\":\"scattergl\"}],\"scattermapbox\":[{\"marker\":{\"colorbar\":{\"outlinewidth\":0,\"ticks\":\"\"}},\"type\":\"scattermapbox\"}],\"scatterpolar\":[{\"marker\":{\"colorbar\":{\"outlinewidth\":0,\"ticks\":\"\"}},\"type\":\"scatterpolar\"}],\"scatterpolargl\":[{\"marker\":{\"colorbar\":{\"outlinewidth\":0,\"ticks\":\"\"}},\"type\":\"scatterpolargl\"}],\"scatterternary\":[{\"marker\":{\"colorbar\":{\"outlinewidth\":0,\"ticks\":\"\"}},\"type\":\"scatterternary\"}],\"surface\":[{\"colorbar\":{\"outlinewidth\":0,\"ticks\":\"\"},\"colorscale\":[[0.0,\"#0d0887\"],[0.1111111111111111,\"#46039f\"],[0.2222222222222222,\"#7201a8\"],[0.3333333333333333,\"#9c179e\"],[0.4444444444444444,\"#bd3786\"],[0.5555555555555556,\"#d8576b\"],[0.6666666666666666,\"#ed7953\"],[0.7777777777777778,\"#fb9f3a\"],[0.8888888888888888,\"#fdca26\"],[1.0,\"#f0f921\"]],\"type\":\"surface\"}],\"table\":[{\"cells\":{\"fill\":{\"color\":\"#EBF0F8\"},\"line\":{\"color\":\"white\"}},\"header\":{\"fill\":{\"color\":\"#C8D4E3\"},\"line\":{\"color\":\"white\"}},\"type\":\"table\"}]},\"layout\":{\"annotationdefaults\":{\"arrowcolor\":\"#2a3f5f\",\"arrowhead\":0,\"arrowwidth\":1},\"autotypenumbers\":\"strict\",\"coloraxis\":{\"colorbar\":{\"outlinewidth\":0,\"ticks\":\"\"}},\"colorscale\":{\"diverging\":[[0,\"#8e0152\"],[0.1,\"#c51b7d\"],[0.2,\"#de77ae\"],[0.3,\"#f1b6da\"],[0.4,\"#fde0ef\"],[0.5,\"#f7f7f7\"],[0.6,\"#e6f5d0\"],[0.7,\"#b8e186\"],[0.8,\"#7fbc41\"],[0.9,\"#4d9221\"],[1,\"#276419\"]],\"sequential\":[[0.0,\"#0d0887\"],[0.1111111111111111,\"#46039f\"],[0.2222222222222222,\"#7201a8\"],[0.3333333333333333,\"#9c179e\"],[0.4444444444444444,\"#bd3786\"],[0.5555555555555556,\"#d8576b\"],[0.6666666666666666,\"#ed7953\"],[0.7777777777777778,\"#fb9f3a\"],[0.8888888888888888,\"#fdca26\"],[1.0,\"#f0f921\"]],\"sequentialminus\":[[0.0,\"#0d0887\"],[0.1111111111111111,\"#46039f\"],[0.2222222222222222,\"#7201a8\"],[0.3333333333333333,\"#9c179e\"],[0.4444444444444444,\"#bd3786\"],[0.5555555555555556,\"#d8576b\"],[0.6666666666666666,\"#ed7953\"],[0.7777777777777778,\"#fb9f3a\"],[0.8888888888888888,\"#fdca26\"],[1.0,\"#f0f921\"]]},\"colorway\":[\"#636efa\",\"#EF553B\",\"#00cc96\",\"#ab63fa\",\"#FFA15A\",\"#19d3f3\",\"#FF6692\",\"#B6E880\",\"#FF97FF\",\"#FECB52\"],\"font\":{\"color\":\"#2a3f5f\"},\"geo\":{\"bgcolor\":\"white\",\"lakecolor\":\"white\",\"landcolor\":\"#E5ECF6\",\"showlakes\":true,\"showland\":true,\"subunitcolor\":\"white\"},\"hoverlabel\":{\"align\":\"left\"},\"hovermode\":\"closest\",\"mapbox\":{\"style\":\"light\"},\"paper_bgcolor\":\"white\",\"plot_bgcolor\":\"#E5ECF6\",\"polar\":{\"angularaxis\":{\"gridcolor\":\"white\",\"linecolor\":\"white\",\"ticks\":\"\"},\"bgcolor\":\"#E5ECF6\",\"radialaxis\":{\"gridcolor\":\"white\",\"linecolor\":\"white\",\"ticks\":\"\"}},\"scene\":{\"xaxis\":{\"backgroundcolor\":\"#E5ECF6\",\"gridcolor\":\"white\",\"gridwidth\":2,\"linecolor\":\"white\",\"showbackground\":true,\"ticks\":\"\",\"zerolinecolor\":\"white\"},\"yaxis\":{\"backgroundcolor\":\"#E5ECF6\",\"gridcolor\":\"white\",\"gridwidth\":2,\"linecolor\":\"white\",\"showbackground\":true,\"ticks\":\"\",\"zerolinecolor\":\"white\"},\"zaxis\":{\"backgroundcolor\":\"#E5ECF6\",\"gridcolor\":\"white\",\"gridwidth\":2,\"linecolor\":\"white\",\"showbackground\":true,\"ticks\":\"\",\"zerolinecolor\":\"white\"}},\"shapedefaults\":{\"line\":{\"color\":\"#2a3f5f\"}},\"ternary\":{\"aaxis\":{\"gridcolor\":\"white\",\"linecolor\":\"white\",\"ticks\":\"\"},\"baxis\":{\"gridcolor\":\"white\",\"linecolor\":\"white\",\"ticks\":\"\"},\"bgcolor\":\"#E5ECF6\",\"caxis\":{\"gridcolor\":\"white\",\"linecolor\":\"white\",\"ticks\":\"\"}},\"title\":{\"x\":0.05},\"xaxis\":{\"automargin\":true,\"gridcolor\":\"white\",\"linecolor\":\"white\",\"ticks\":\"\",\"title\":{\"standoff\":15},\"zerolinecolor\":\"white\",\"zerolinewidth\":2},\"yaxis\":{\"automargin\":true,\"gridcolor\":\"white\",\"linecolor\":\"white\",\"ticks\":\"\",\"title\":{\"standoff\":15},\"zerolinecolor\":\"white\",\"zerolinewidth\":2}}},\"width\":1000,\"xaxis\":{\"anchor\":\"y\",\"domain\":[0.0,0.15],\"tickangle\":0,\"tickfont\":{\"family\":\"black\",\"size\":12}},\"xaxis2\":{\"anchor\":\"y2\",\"domain\":[0.16999999999999998,0.31999999999999995],\"tickangle\":0,\"tickfont\":{\"family\":\"black\",\"size\":12}},\"xaxis3\":{\"anchor\":\"y3\",\"domain\":[0.33999999999999997,0.49],\"tickangle\":0,\"tickfont\":{\"family\":\"black\",\"size\":12}},\"xaxis4\":{\"anchor\":\"y4\",\"domain\":[0.51,0.66],\"tickangle\":0,\"tickfont\":{\"family\":\"black\",\"size\":12}},\"xaxis5\":{\"anchor\":\"y5\",\"domain\":[0.6799999999999999,0.83],\"tickangle\":0,\"tickfont\":{\"family\":\"black\",\"size\":12}},\"xaxis6\":{\"anchor\":\"y6\",\"domain\":[0.85,1.0],\"tickangle\":0,\"tickfont\":{\"family\":\"black\",\"size\":12}},\"yaxis\":{\"anchor\":\"x\",\"domain\":[0.0,1.0],\"title\":{\"text\":\"Amino acid type\"}},\"yaxis2\":{\"anchor\":\"x2\",\"domain\":[0.0,1.0],\"matches\":\"y\",\"showticklabels\":false},\"yaxis3\":{\"anchor\":\"x3\",\"domain\":[0.0,1.0],\"matches\":\"y\",\"showticklabels\":false},\"yaxis4\":{\"anchor\":\"x4\",\"domain\":[0.0,1.0],\"matches\":\"y\",\"showticklabels\":false},\"yaxis5\":{\"anchor\":\"x5\",\"domain\":[0.0,1.0],\"matches\":\"y\",\"showticklabels\":false},\"yaxis6\":{\"anchor\":\"x6\",\"domain\":[0.0,1.0],\"matches\":\"y\",\"showticklabels\":false}},                        {\"responsive\": true}                    ).then(function(){\n",
       "                            \n",
       "var gd = document.getElementById('a1fa83bb-2625-4ff7-99a8-7530cb490e3d');\n",
       "var x = new MutationObserver(function (mutations, observer) {{\n",
       "        var display = window.getComputedStyle(gd).display;\n",
       "        if (!display || display === 'none') {{\n",
       "            console.log([gd, 'removed!']);\n",
       "            Plotly.purge(gd);\n",
       "            observer.disconnect();\n",
       "        }}\n",
       "}});\n",
       "\n",
       "// Listen for the removal of the full notebook cells\n",
       "var notebookContainer = gd.closest('#notebook-container');\n",
       "if (notebookContainer) {{\n",
       "    x.observe(notebookContainer, {childList: true});\n",
       "}}\n",
       "\n",
       "// Listen for the clearing of the current output cell\n",
       "var outputEl = gd.closest('.output');\n",
       "if (outputEl) {{\n",
       "    x.observe(outputEl, {childList: true});\n",
       "}}\n",
       "\n",
       "                        }).then(function(){\n",
       "                            function downloadimage(format, height, width, filename) {var p = document.getElementById('a1fa83bb-2625-4ff7-99a8-7530cb490e3d');Plotly.downloadImage(p, {format: format, height: height, width: width, filename: filename});};if(document.readyState == 'complete') {downloadimage('svg', 500, 1000, 'fold3_other_new');}\n",
       "                        })                };                });            </script>        </div>"
      ]
     },
     "metadata": {},
     "output_type": "display_data"
    }
   ],
   "source": [
    "iplot(fig, image='svg', filename='fold3_other_new', image_width=1000, image_height=500)"
   ]
  },
  {
   "cell_type": "code",
   "execution_count": null,
   "id": "440b5285",
   "metadata": {},
   "outputs": [],
   "source": []
  }
 ],
 "metadata": {
  "kernelspec": {
   "display_name": "Python 3",
   "language": "python",
   "name": "python3"
  },
  "language_info": {
   "codemirror_mode": {
    "name": "ipython",
    "version": 3
   },
   "file_extension": ".py",
   "mimetype": "text/x-python",
   "name": "python",
   "nbconvert_exporter": "python",
   "pygments_lexer": "ipython3",
   "version": "3.8.8"
  }
 },
 "nbformat": 4,
 "nbformat_minor": 5
}
